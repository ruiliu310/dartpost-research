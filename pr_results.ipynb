{
 "cells": [
  {
   "cell_type": "code",
   "execution_count": null,
   "metadata": {},
   "outputs": [],
   "source": [
    "import pickle\n",
    "\n",
    "import pandas as pd\n",
    "import numpy as np\n",
    "import networkx as nx\n",
    "from scipy.stats import beta\n",
    "import itertools\n",
    "\n",
    "import matplotlib.pyplot as plt\n",
    "import seaborn as sns\n",
    "\n",
    "from scipy.stats import rankdata, kendalltau, spearmanr\n",
    "\n",
    "import plotly.graph_objects as go\n",
    "from tqdm.notebook import tqdm\n",
    "from pathlib import Path\n",
    "\n",
    "sns.set_theme(\"paper\", \"white\")"
   ]
  },
  {
   "cell_type": "code",
   "execution_count": null,
   "metadata": {},
   "outputs": [],
   "source": [
    "df_users = pd.read_csv(\"./DSock/Active_Users.csv\", index_col=0)\n",
    "display(df_users.head())\n",
    "\n",
    "timeline = pd.date_range(\"2020-09-03-03:59:59\", periods=6, tz=\"utc\")"
   ]
  },
  {
   "cell_type": "code",
   "execution_count": null,
   "metadata": {},
   "outputs": [],
   "source": [
    "topics = list(\"abcdefgh\")\n",
    "nums = list(range(9))\n",
    "num2topic = dict(zip(nums, topics))\n",
    "topic2num = dict(zip(topics, nums))\n",
    "print(f\"{topic_num} {num_topic}\")\n",
    "deltas = [\"10\", \"21\", \"32\", \"43\", \"54\"]"
   ]
  },
  {
   "cell_type": "code",
   "execution_count": null,
   "metadata": {},
   "outputs": [],
   "source": [
    "df_evals = pd.read_csv(\"./DSock/human_eval_analysis/attitude_tracking.csv\")\n",
    "df_evals = pd.merge(df_users, df_evals, how=\"left\", left_on=\"MTurk_ID\", right_on=\"id\").rename({\"id_x\": \"id\"}, axis=1)\n",
    "df_evals.index = [f\"u{u}\" for u in df_evals[\"id\"]]\n",
    "\n",
    "display(df_evals.head())\n",
    "\n",
    "get_change = lambda u, t: df_evals.loc[u][[f\"{t}_delta_{d}\" for d in deltas]].tolist()\n",
    "print(get_change(\"u2337\", num2topic[0]))"
   ]
  },
  {
   "cell_type": "code",
   "execution_count": null,
   "metadata": {},
   "outputs": [],
   "source": [
    "df_posts = pd.read_csv(\"./DSock/direct_influence/posts_with_senti_and_topic.csv\", parse_dates=[\"createdAt\"])\n",
    "df_comts = pd.read_csv(\"./DSock/direct_influence/comments_with_senti_and_topic.csv\", delimiter=\",\", parse_dates=[\"createdAt\"]).dropna(subset=[\"CommenterId\", \"PostId\"])\n",
    "df_views = pd.read_csv(\"./DSock/postViews.csv\", delimiter=\"|\", parse_dates=[\"createdAt\"]).dropna(subset=[\"UserId\", \"PostId\"])\n",
    "df_likes = pd.read_csv(\"./DSock/Likes.csv\", delimiter=\"|\", parse_dates=[\"createdAt\"]).dropna(subset=[\"UserId\", \"PostId\"])\n",
    "df_repts = pd.read_csv(\"./DSock/ReportUsers.csv\", delimiter=\"|\", parse_dates=[\"createdAt\"])\n",
    "\n",
    "print(f\"posts: {df_posts.shape}, comments: {df_comts.shape}, views: {df_views.shape}, likes: {df_likes.shape}, reports: {df_repts.shape}\")\n",
    "\n",
    "df_likes[\"UserId\"] = df_likes[\"UserId\"].astype(int)\n",
    "df_likes[\"PostId\"] = df_likes[\"PostId\"].astype(int)\n",
    "\n",
    "df_comts[\"CommenterId\"] = df_comts[\"CommenterId\"].astype(int)\n",
    "df_comts[\"PostId\"] = df_comts[\"PostId\"].astype(int)\n",
    "\n",
    "df_annot_posts = pd.read_csv(\"./DSock/posts_anno_labels.csv\")\n",
    "df_posts = df_posts.merge(df_annot_posts[[\"post_id\", \"majority_topic_label\", \"majority_sent_label\"]], left_on=\"PostID\", right_on=\"post_id\")\n",
    "\n",
    "df_annot_comts = pd.read_csv(\"./DSock/comments_anno_labels.csv\")\n",
    "df_comts = df_comts.merge(df_annot_comts[[\"comment_id\", \"majority_topic_label\", \"majority_sent_label\"]], left_on=\"id\", right_on=\"comment_id\")"
   ]
  },
  {
   "cell_type": "code",
   "execution_count": null,
   "metadata": {},
   "outputs": [],
   "source": [
    "post_comments = {f\"p{p}\": [] for p in df_posts[\"PostID\"].values}\n",
    "for c, p in df_comts[[\"id\", \"PostId\"]].values:\n",
    "    if f\"p{p}\" in post_comments:\n",
    "        post_comments[f\"p{p}\"].append(f\"c{c}\")\n",
    "G = nx.DiGraph()\n",
    "for u, uname, obsr, sock in df_users[[\"id\", \"username\", \"isObserver\", \"isPuppet\"]].values:\n",
    "    G.add_node(f\"u{u}\", id=u, kind=\"user\", name=uname, observer=(obsr == \"t\"), sock=(sock == \"t\"))\n",
    "    if obsr == \"t\":\n",
    "        G.nodes[f\"u{u}\"][\"color\"] = \"obsr\"\n",
    "    elif sock == \"t\":\n",
    "        G.nodes[f\"u{u}\"][\"color\"] = \"sock\"\n",
    "    else:\n",
    "        G.nodes[f\"u{u}\"][\"color\"] = \"part\"\n",
    "\n",
    "for p, u, t, polar, score, topic in df_posts[[\"PostID\", \"AuthorId\", \"createdAt\", \"majority_sent_label\", \"scores\", \"majority_topic_label\"]].values:\n",
    "    if f\"u{u}\" in G.nodes:\n",
    "        G.add_node(f\"p{p}\", id=p, kind=\"post\", time=t, user=u, polar=polar, score=score, topic=topic)\n",
    "\n",
    "for c, u, p, t, polar, score, topic in df_comts[[\"id\", \"CommenterId\", \"PostId\", \"createdAt\", \"majority_sent_label\", \"scores\", \"majority_topic_label\"]].values:\n",
    "    if f\"u{u}\" in G.nodes and f\"p{p}\" in G.nodes:\n",
    "        G.add_node(f\"c{c}\", id=c, kind=\"comt\", time=t, user=u, polar=polar, score=score, topic=topic)\n",
    "        G.add_edge(f\"c{c}\", f\"p{p}\", kind=\"known\", time=t, weight=1)\n",
    "        # G.add_edge(f\"p{p}\", f\"c{c}\", kind=\"known\", time=t, weight=1)\n",
    "\n",
    "for l, u, p, t in df_likes[[\"id\", \"UserId\", \"PostId\", \"createdAt\"]].values:\n",
    "    if f\"u{u}\" in G.nodes and f\"p{p}\" in G.nodes:\n",
    "        G.add_node(f\"l{l}\", user=f\"u{u}\", post=f\"p{p}\", time=t, id=l, kind=\"like\",\n",
    "                   topic=G.nodes[f\"p{p}\"][\"topic\"], polar=G.nodes[f\"p{p}\"][\"polar\"], score=1)\n",
    "        G.add_edge(f\"u{u}\", f\"l{l}\", time=t, weight=1, kind=\"infer\")\n",
    "        G.add_edge(f\"l{l}\", f\"p{p}\", time=t, weight=1, kind=\"known\")\n",
    "\n",
    "for u, p, t, v, s in df_views[[\"UserId\", \"PostId\", \"createdAt\", \"id\", \"singleView\"]].values:\n",
    "    if f\"u{u}\" in G.nodes and f\"p{p}\" in G.nodes:\n",
    "        G.add_node(f\"v{v}\", user=f\"u{u}\", post=f\"p{p}\", time=t, id=v, kind=\"view\",\n",
    "                   topic=G.nodes[f\"p{p}\"][\"topic\"], polar=G.nodes[f\"p{p}\"][\"polar\"], score=1)\n",
    "        G.add_edge(f\"u{u}\", f\"v{v}\", time=t, weight=1, kind=\"infer\")\n",
    "        G.add_edge(f\"v{v}\", f\"p{p}\", time=t, weight=1, kind=\"infer\")\n",
    "        if s == \"t\":\n",
    "            for c in post_comments[f\"p{p}\"]:\n",
    "                if c in G.nodes:\n",
    "                    G.add_edge(f\"v{v}\", c, time=t, weight=1, kind=\"infer\")\n",
    "user_view = {u: set() for u in G if u[0] == \"u\"}\n",
    "for u, p, t, v, s in df_views[[\"UserId\", \"PostId\", \"createdAt\", \"id\", \"singleView\"]].values:\n",
    "    if f\"u{u}\" in G.nodes and f\"p{p}\" in G.nodes and s != \"t\":\n",
    "        user_view[f\"u{u}\"].add(f\"v{v}\")\n",
    "\n",
    "single_view = {u: set() for u in G if u[0] == \"u\"}\n",
    "for u, p, t, v, s in df_views[[\"UserId\", \"PostId\", \"createdAt\", \"id\", \"singleView\"]].values:\n",
    "    if f\"u{u}\" in G.nodes and f\"p{p}\" in G.nodes and s == \"t\":\n",
    "        single_view[f\"u{u}\"].add(f\"v{v}\")\n",
    "\n",
    "print(f\"user view: {sum([len(user_view[u]) for u in user_view])}\")\n",
    "print(f\"single view: {sum([len(single_view[u]) for u in single_view])}\")\n",
    "\n",
    "for p in tqdm(G):\n",
    "    if p[0] in [\"p\", \"c\"]:\n",
    "        u = f\"u{G.nodes[p]['user']}\"\n",
    "        for v in user_view[u] | single_view[u]:\n",
    "            if G.nodes[v][\"time\"] <= G.nodes[p][\"time\"]:\n",
    "                G.add_edge(p, v, time=G.nodes[v][\"time\"], weight=1, kind=\"infer\")"
   ]
  },
  {
   "cell_type": "code",
   "execution_count": null,
   "metadata": {},
   "outputs": [],
   "source": [
    "with open(\"res/pagerank/0.85-0.5-0.5.pkl\", \"rb\") as fp:\n",
    "    d = pickle.load(fp)"
   ]
  },
  {
   "cell_type": "code",
   "execution_count": null,
   "metadata": {},
   "outputs": [],
   "source": [
    "df_users[df_users[\"id\"] == 2340]"
   ]
  },
  {
   "cell_type": "code",
   "execution_count": null,
   "metadata": {},
   "outputs": [],
   "source": [
    "user_list = df_users[\"id\"].tolist()\n",
    "# user_list = df_users[df_users[\"isObserver\"] == \"f\"][\"id\"].tolist()"
   ]
  },
  {
   "cell_type": "code",
   "execution_count": null,
   "metadata": {},
   "outputs": [],
   "source": [
    "obsr_list = [f\"u{u}\" for u in df_users[df_users[\"isObserver\"] == \"t\"][\"id\"]]\n",
    "pr_alpha = 0.85\n",
    "beta_a = 0.5\n",
    "beta_b = 0.5\n",
    "keyq = [(node_name, t, topic, polar, pr_alpha, beta_a, beta_b)\n",
    "        for node_name in obsr_list for t in range(1,6) for topic in range(8) for polar in [0, 2]\n",
    "       ]\n",
    "\n",
    "keyq = list(filter(lambda x: get_change(x[0], num2topic[x[2]])[x[1]-1]*(1-x[3]) > 0, tqdm(keyq)))"
   ]
  },
  {
   "cell_type": "code",
   "execution_count": null,
   "metadata": {},
   "outputs": [],
   "source": [
    "property_full = {k: d[k][\"full_graph\"] for k in tqdm(keyq)}\n",
    "property_exps = {k: d[k][\"exps_graph\"] for k in tqdm(keyq)}\n",
    "\n",
    "df_full = pd.DataFrame.from_dict(property_full, orient=\"index\")\n",
    "df_exps = pd.DataFrame.from_dict(property_exps, orient=\"index\")"
   ]
  },
  {
   "cell_type": "code",
   "execution_count": null,
   "metadata": {},
   "outputs": [],
   "source": [
    "use_color = sns.color_palette(\"Set1\")\n",
    "use_color"
   ]
  },
  {
   "cell_type": "code",
   "execution_count": null,
   "metadata": {},
   "outputs": [],
   "source": [
    "pd.DataFrame.from_dict({\n",
    "    (\"Full Influence Graph\", \"mean\"): df_full.mean(axis=0),\n",
    "    (\"Full Influence Graph\", \"std\"): df_full.std(axis=0),\n",
    "    (\"Expression only Influence Graph\", \"mean\"): df_exps.mean(axis=0),\n",
    "    (\"Expression only Influence Graph\", \"std\"): df_exps.std(axis=0),\n",
    "}).T"
   ]
  },
  {
   "cell_type": "code",
   "execution_count": null,
   "metadata": {},
   "outputs": [],
   "source": [
    "pab = [(p, a, b)\n",
    "    for p in [0.85, 0.9, 0.7, 0.5, 0.3, 0.1]\n",
    "    for a in [0.5, 0.9, 0.7, 0.3, 0.1]\n",
    "    for b in [0.5, 0.9, 0.7, 0.3, 0.1]\n",
    "]\n",
    "obsr_list = [f\"u{u}\" for u in df_users[df_users[\"isObserver\"] == \"t\"][\"id\"]]"
   ]
  },
  {
   "cell_type": "code",
   "execution_count": null,
   "metadata": {},
   "outputs": [],
   "source": [
    "def pr2rank(pr_value):\n",
    "    ret = {u: 0 for u in user_list}\n",
    "    for n in pr_value:\n",
    "        if n[0] in [\"p\", \"c\"]:\n",
    "            ret[G.nodes[n][\"user\"]] += pr_value[n]\n",
    "    rank_value = [-ret[u] for u in user_list]\n",
    "    rank = rankdata(rank_value, \"max\")\n",
    "    # print(rankdata(rank, \"min\"))\n",
    "    return dict(zip(user_list, rank))\n",
    "\n",
    "def get_params(p, a, b):\n",
    "    fpath = Path(f\"res/pagerank/{p}-{a}-{b}.pkl\")\n",
    "    if not fpath.exists():\n",
    "        return None\n",
    "    with open(fpath, \"rb\") as fp:\n",
    "        d = pickle.load(fp)\n",
    "    keyq = [(node_name, t, topic, polar, p, a, b)\n",
    "            for node_name in obsr_list for t in range(1, 6) for topic in range(8) for polar in [0, 2]\n",
    "            ]\n",
    "    keyq = list(filter(lambda x: get_change(x[0], num2topic[x[2]])[x[1]-1]*(1-x[3]) > 0, keyq))\n",
    "    ranks = [(k, pr2rank(d[k][\"pr\"])) for k in keyq]\n",
    "    return ranks\n",
    "\n",
    "ret = [get_params(*tup) for tup in tqdm(pab)]"
   ]
  },
  {
   "cell_type": "code",
   "execution_count": null,
   "metadata": {},
   "outputs": [],
   "source": [
    "keys = [x[0] for r in ret if r is not None for x in r]\n",
    "values = [x[1] for r in ret if r is not None for x in r]\n",
    "rank_dict = dict(zip(keys, values))\n",
    "\n",
    "df_inf = pd.DataFrame.from_dict(rank_dict, orient=\"index\")\n",
    "display(df_inf.head())"
   ]
  },
  {
   "cell_type": "code",
   "execution_count": null,
   "metadata": {},
   "outputs": [],
   "source": [
    "avg_inf = df_inf.mean(axis=0, level=[1, 4, 5, 6])\n",
    "display(avg_inf.head(10))"
   ]
  },
  {
   "cell_type": "code",
   "execution_count": null,
   "metadata": {},
   "outputs": [],
   "source": [
    "pab_done = set([k[4:] for k in keys])\n",
    "pab_done = [tup for tup in pab if tup in pab_done]"
   ]
  },
  {
   "cell_type": "code",
   "execution_count": null,
   "metadata": {},
   "outputs": [],
   "source": [
    "df_user_express = pd.read_csv(\"./DSock/User_Expressed_Influence_Rank.csv\")\n",
    "display(df_user_express.head())\n",
    "\n",
    "df_active_user_express = pd.read_csv(\"./DSock/Active_User_Expressed_Influence_Rank.csv\")\n",
    "display(df_active_user_express.head())"
   ]
  },
  {
   "cell_type": "code",
   "execution_count": null,
   "metadata": {},
   "outputs": [],
   "source": [
    "def jaccard(col1, col2, num=10):\n",
    "    r1 = set(col1.nlargest(num).index)\n",
    "    r2 = set(col2.nlargest(num).index)\n",
    "    ret = len(r1&r2)/len(r1|r2) if len(r1|r2) > 0 else np.nan\n",
    "    return \n",
    "\n",
    "def rank_metrics(col1, col2):\n",
    "    ret1 = {\n",
    "        \"spearman\": dict(zip([\"correlation\", \"pvalue\"], spearmanr(col1, col2))),\n",
    "        \"kendaltau\": dict(zip([\"correlation\", \"pvalue\"], kendalltau(col1, col2))),\n",
    "    }\n",
    "    \n",
    "    ret2 = {\n",
    "        f\"jaccard-{j}\": {\"correlation\": jaccard(col1, col2, j), \"pvalue\": None}\n",
    "        for j in [10, 20, 30, 40, 50, 100]\n",
    "    }\n",
    "    \n",
    "    return {**ret1, **ret2}\n",
    "\n",
    "# print(jaccard(df_user_express[\"per_rank\"], df_cor[(0.85, 0.5,0.5)].rank(ascending=False, pct=True, method=\"max\")))\n",
    "# print(rank_metrics(-df_user_express[\"per_rank\"], df_cor[(0.85, 0.5, 0.5)]))"
   ]
  },
  {
   "cell_type": "code",
   "execution_count": null,
   "metadata": {},
   "outputs": [],
   "source": [
    "pd.set_option('precision', 3)"
   ]
  },
  {
   "cell_type": "code",
   "execution_count": null,
   "metadata": {},
   "outputs": [],
   "source": [
    "df_cor = {tup: [avg_inf.loc[(t, *tup), n] if (t, *tup) in avg_inf.index else None for n, t in df_user_express[[\"id\", \"survey\"]].values] for tup in tqdm(pab_done)}\n",
    "df_cor = pd.DataFrame.from_dict(df_cor)\n",
    "df_cor = pd.concat([df_cor, df_user_express], axis=1).dropna(axis=0)\n",
    "\n",
    "res_all = {tup: rank_metrics(df_cor[\"per_rank\"], df_cor[tup].rank(ascending=False, pct=True, method=\"max\")) for tup in tqdm(pab_done)}\n",
    "df_res = pd.concat([pd.DataFrame(res_all[tup]) for tup in tqdm(pab_done)], keys=pab_done)\n",
    "\n",
    "print(df_res.loc[(slice(None), slice(None), slice(None), \"correlation\")].max())\n",
    "display(df_res)\n",
    "\n",
    "idxmax = df_res.loc[(slice(None), slice(None), slice(None), \"correlation\")].idxmax()\n",
    "print(idxmax)\n",
    "\n",
    "display(pd.concat([df_res.loc[(*ind, slice(None)), :] for ind in set(idxmax)], axis=0))"
   ]
  },
  {
   "cell_type": "code",
   "execution_count": null,
   "metadata": {},
   "outputs": [],
   "source": [
    "df_cor = {tup: [avg_inf.loc[(t, *tup), n] if (t, *tup) in avg_inf.index else None for n, t in df_active_user_express[[\"id\", \"survey\"]].values] for tup in tqdm(pab_done)}\n",
    "\n",
    "df_cor = pd.DataFrame.from_dict(df_cor)\n",
    "df_cor = pd.concat([df_cor, df_user_express], axis=1).dropna(axis=0)\n",
    "\n",
    "res_all = {tup: rank_metrics(df_cor[\"mentions\"], df_cor[tup].rank(ascending=False, pct=True, method=\"max\")) for tup in tqdm(pab_done)}\n",
    "df_res = pd.concat([pd.DataFrame(res_all[tup]) for tup in tqdm(pab_done)], keys=pab_done)\n",
    "print(df_res.loc[(slice(None), slice(None), slice(None), \"correlation\")].max())\n",
    "display(df_res)\n",
    "\n",
    "idxmax = df_res.loc[(slice(None), slice(None), slice(None), \"correlation\")].idxmax()\n",
    "print(idxmax)\n",
    "\n",
    "display(pd.concat([df_res.loc[(*ind, slice(None)), :] for ind in set(idxmax)], axis=0))"
   ]
  }
 ],
 "metadata": {
  "kernelspec": {
   "display_name": "gcn",
   "language": "python",
   "name": "gcn"
  },
  "language_info": {
   "codemirror_mode": {
    "name": "ipython",
    "version": 3
   },
   "file_extension": ".py",
   "mimetype": "text/x-python",
   "name": "python",
   "nbconvert_exporter": "python",
   "pygments_lexer": "ipython3",
   "version": "3.8.5"
  }
 },
 "nbformat": 4,
 "nbformat_minor": 4
}
