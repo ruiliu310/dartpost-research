{
 "cells": [
  {
   "cell_type": "code",
   "execution_count": 1,
   "metadata": {},
   "outputs": [
    {
     "name": "stderr",
     "output_type": "stream",
     "text": [
      "/home/ruibo/anaconda3/envs/tf_gpu_env/lib/python3.6/site-packages/dask/dataframe/utils.py:14: FutureWarning: pandas.util.testing is deprecated. Use the functions in the public API at pandas.testing instead.\n",
      "  import pandas.util.testing as tm\n"
     ]
    }
   ],
   "source": [
    "import pandas as pd\n",
    "import numpy as np\n",
    "import json\n",
    "import swifter\n",
    "import nltk\n",
    "import string\n",
    "import re\n",
    "import ast\n",
    "import emoji_data_python\n",
    "from nltk import word_tokenize\n",
    "from nltk.corpus import stopwords\n",
    "from sklearn.model_selection import train_test_split\n",
    "import codecs\n",
    "from matplotlib import pyplot as plt\n",
    "import seaborn as sns"
   ]
  },
  {
   "cell_type": "code",
   "execution_count": 2,
   "metadata": {},
   "outputs": [],
   "source": [
    "df_comments = pd.read_csv(\"./rb_data/all_comments.csv\", parse_dates=['createdAt', 'updatedAt'], header=0)\n",
    "df_users = pd.read_csv(\"./rb_data/all_users.csv\", header=0)\n",
    "df_posts = pd.read_csv(\"./rb_data/all_posts.csv\", parse_dates=['createdAt', 'updatedAt'], header=0)\n",
    "df_report_user = pd.read_csv(\"./rb_data/all_report_user.csv\", parse_dates=['createdAt', 'updatedAt'], header=0)"
   ]
  },
  {
   "cell_type": "code",
   "execution_count": 5,
   "metadata": {},
   "outputs": [],
   "source": [
    "df_socks_assigns = pd.read_csv('./assigns/sockpuppet_assigned.csv', header=0)"
   ]
  },
  {
   "cell_type": "code",
   "execution_count": 12,
   "metadata": {},
   "outputs": [],
   "source": [
    "df_posts = df_posts[df_posts['AuthorId'].notna()]  # filter our missing data"
   ]
  },
  {
   "cell_type": "code",
   "execution_count": 6,
   "metadata": {},
   "outputs": [
    {
     "data": {
      "text/plain": [
       "OVERT           81\n",
       "UNRESTRICTED    73\n",
       "COVERT          56\n",
       "Name: strategy, dtype: int64"
      ]
     },
     "execution_count": 6,
     "metadata": {},
     "output_type": "execute_result"
    }
   ],
   "source": [
    "df_socks_assigns['strategy'].value_counts()"
   ]
  },
  {
   "cell_type": "code",
   "execution_count": 8,
   "metadata": {},
   "outputs": [],
   "source": [
    "# store the roles in three lists\n",
    "sockpuppets, participants, observers = [], [], []\n",
    "for idx, row in df_users.iterrows():\n",
    "    if 'dartpost' in row['email']:\n",
    "        participants.append(row['id'])\n",
    "    if 'observer' in row['email']:\n",
    "        observers.append(row['id'])\n",
    "    if 'sockpuppet' in row['email']:\n",
    "        sockpuppets.append(row['id'])"
   ]
  },
  {
   "cell_type": "code",
   "execution_count": 13,
   "metadata": {},
   "outputs": [],
   "source": [
    "# set a new column in posts with actual roles\n",
    "df_posts['AuthorId'] = [int(id) for id in df_posts['AuthorId'].tolist()]\n",
    "def return_role(text):\n",
    "    if text in participants:\n",
    "        return 'participant'\n",
    "    if text in observers:\n",
    "        return 'observer'\n",
    "    else:\n",
    "        return 'sockpuppet'"
   ]
  },
  {
   "cell_type": "code",
   "execution_count": 14,
   "metadata": {},
   "outputs": [
    {
     "data": {
      "application/vnd.jupyter.widget-view+json": {
       "model_id": "8b04cb035fb9470abd60883ac8b850fe",
       "version_major": 2,
       "version_minor": 0
      },
      "text/plain": [
       "HBox(children=(FloatProgress(value=0.0, description='Pandas Apply', max=1070.0, style=ProgressStyle(descriptio…"
      ]
     },
     "metadata": {},
     "output_type": "display_data"
    },
    {
     "name": "stdout",
     "output_type": "stream",
     "text": [
      "\n"
     ]
    }
   ],
   "source": [
    "df_posts['role'] = df_posts['AuthorId'].swifter.allow_dask_on_strings().apply(return_role)"
   ]
  },
  {
   "cell_type": "code",
   "execution_count": 16,
   "metadata": {},
   "outputs": [
    {
     "data": {
      "text/html": [
       "<div>\n",
       "<style scoped>\n",
       "    .dataframe tbody tr th:only-of-type {\n",
       "        vertical-align: middle;\n",
       "    }\n",
       "\n",
       "    .dataframe tbody tr th {\n",
       "        vertical-align: top;\n",
       "    }\n",
       "\n",
       "    .dataframe thead th {\n",
       "        text-align: right;\n",
       "    }\n",
       "</style>\n",
       "<table border=\"1\" class=\"dataframe\">\n",
       "  <thead>\n",
       "    <tr style=\"text-align: right;\">\n",
       "      <th></th>\n",
       "      <th>id</th>\n",
       "      <th>text</th>\n",
       "      <th>picture_url</th>\n",
       "      <th>parent_id</th>\n",
       "      <th>root_id</th>\n",
       "      <th>is_marked</th>\n",
       "      <th>tags</th>\n",
       "      <th>createdAt</th>\n",
       "      <th>updatedAt</th>\n",
       "      <th>AuthorId</th>\n",
       "      <th>is_trending</th>\n",
       "      <th>role</th>\n",
       "    </tr>\n",
       "  </thead>\n",
       "  <tbody>\n",
       "    <tr>\n",
       "      <th>0</th>\n",
       "      <td>93</td>\n",
       "      <td>I think that we should move away from nuclear ...</td>\n",
       "      <td>NaN</td>\n",
       "      <td>NaN</td>\n",
       "      <td>NaN</td>\n",
       "      <td>f</td>\n",
       "      <td>{nuclear,energy,enviroment}</td>\n",
       "      <td>2020-09-03 01:59:10.051000+00:00</td>\n",
       "      <td>2020-09-04 13:08:51.133000+00:00</td>\n",
       "      <td>2580</td>\n",
       "      <td>f</td>\n",
       "      <td>participant</td>\n",
       "    </tr>\n",
       "    <tr>\n",
       "      <th>1</th>\n",
       "      <td>94</td>\n",
       "      <td>Given the security put in place since 911, it ...</td>\n",
       "      <td>NaN</td>\n",
       "      <td>NaN</td>\n",
       "      <td>NaN</td>\n",
       "      <td>f</td>\n",
       "      <td>{TerroristAttack}</td>\n",
       "      <td>2020-09-03 02:28:29.002000+00:00</td>\n",
       "      <td>2020-09-04 13:08:51.133000+00:00</td>\n",
       "      <td>2593</td>\n",
       "      <td>f</td>\n",
       "      <td>participant</td>\n",
       "    </tr>\n",
       "    <tr>\n",
       "      <th>2</th>\n",
       "      <td>95</td>\n",
       "      <td>NaN</td>\n",
       "      <td>NaN</td>\n",
       "      <td>NaN</td>\n",
       "      <td>NaN</td>\n",
       "      <td>t</td>\n",
       "      <td>{\"\"}</td>\n",
       "      <td>2020-09-03 02:31:10.028000+00:00</td>\n",
       "      <td>2020-09-03 02:34:29.992000+00:00</td>\n",
       "      <td>2611</td>\n",
       "      <td>f</td>\n",
       "      <td>participant</td>\n",
       "    </tr>\n",
       "    <tr>\n",
       "      <th>3</th>\n",
       "      <td>96</td>\n",
       "      <td>It is crucial that the United States plays a r...</td>\n",
       "      <td>NaN</td>\n",
       "      <td>NaN</td>\n",
       "      <td>NaN</td>\n",
       "      <td>f</td>\n",
       "      <td>{Worldaffairs}</td>\n",
       "      <td>2020-09-03 02:34:07.312000+00:00</td>\n",
       "      <td>2020-09-04 13:08:51.133000+00:00</td>\n",
       "      <td>2593</td>\n",
       "      <td>f</td>\n",
       "      <td>participant</td>\n",
       "    </tr>\n",
       "    <tr>\n",
       "      <th>4</th>\n",
       "      <td>97</td>\n",
       "      <td>Strongly disapprove of a two percent annual ta...</td>\n",
       "      <td>NaN</td>\n",
       "      <td>NaN</td>\n",
       "      <td>NaN</td>\n",
       "      <td>f</td>\n",
       "      <td>{WealthTax}</td>\n",
       "      <td>2020-09-03 02:36:27.825000+00:00</td>\n",
       "      <td>2020-09-04 13:08:51.133000+00:00</td>\n",
       "      <td>2593</td>\n",
       "      <td>f</td>\n",
       "      <td>participant</td>\n",
       "    </tr>\n",
       "  </tbody>\n",
       "</table>\n",
       "</div>"
      ],
      "text/plain": [
       "   id                                               text picture_url  \\\n",
       "0  93  I think that we should move away from nuclear ...         NaN   \n",
       "1  94  Given the security put in place since 911, it ...         NaN   \n",
       "2  95                                                NaN         NaN   \n",
       "3  96  It is crucial that the United States plays a r...         NaN   \n",
       "4  97  Strongly disapprove of a two percent annual ta...         NaN   \n",
       "\n",
       "   parent_id  root_id is_marked                         tags  \\\n",
       "0        NaN      NaN         f  {nuclear,energy,enviroment}   \n",
       "1        NaN      NaN         f            {TerroristAttack}   \n",
       "2        NaN      NaN         t                         {\"\"}   \n",
       "3        NaN      NaN         f               {Worldaffairs}   \n",
       "4        NaN      NaN         f                  {WealthTax}   \n",
       "\n",
       "                         createdAt                        updatedAt  AuthorId  \\\n",
       "0 2020-09-03 01:59:10.051000+00:00 2020-09-04 13:08:51.133000+00:00      2580   \n",
       "1 2020-09-03 02:28:29.002000+00:00 2020-09-04 13:08:51.133000+00:00      2593   \n",
       "2 2020-09-03 02:31:10.028000+00:00 2020-09-03 02:34:29.992000+00:00      2611   \n",
       "3 2020-09-03 02:34:07.312000+00:00 2020-09-04 13:08:51.133000+00:00      2593   \n",
       "4 2020-09-03 02:36:27.825000+00:00 2020-09-04 13:08:51.133000+00:00      2593   \n",
       "\n",
       "  is_trending         role  \n",
       "0           f  participant  \n",
       "1           f  participant  \n",
       "2           f  participant  \n",
       "3           f  participant  \n",
       "4           f  participant  "
      ]
     },
     "execution_count": 16,
     "metadata": {},
     "output_type": "execute_result"
    }
   ],
   "source": [
    "df_posts.head()"
   ]
  },
  {
   "cell_type": "code",
   "execution_count": 17,
   "metadata": {},
   "outputs": [
    {
     "data": {
      "text/html": [
       "<div>\n",
       "<style scoped>\n",
       "    .dataframe tbody tr th:only-of-type {\n",
       "        vertical-align: middle;\n",
       "    }\n",
       "\n",
       "    .dataframe tbody tr th {\n",
       "        vertical-align: top;\n",
       "    }\n",
       "\n",
       "    .dataframe thead th {\n",
       "        text-align: right;\n",
       "    }\n",
       "</style>\n",
       "<table border=\"1\" class=\"dataframe\">\n",
       "  <thead>\n",
       "    <tr style=\"text-align: right;\">\n",
       "      <th></th>\n",
       "      <th>text</th>\n",
       "      <th>tags</th>\n",
       "      <th>createdAt</th>\n",
       "      <th>updatedAt</th>\n",
       "      <th>AuthorId</th>\n",
       "      <th>role</th>\n",
       "    </tr>\n",
       "  </thead>\n",
       "  <tbody>\n",
       "    <tr>\n",
       "      <th>0</th>\n",
       "      <td>I think that we should move away from nuclear ...</td>\n",
       "      <td>{nuclear,energy,enviroment}</td>\n",
       "      <td>2020-09-03 01:59:10.051000+00:00</td>\n",
       "      <td>2020-09-04 13:08:51.133000+00:00</td>\n",
       "      <td>2580</td>\n",
       "      <td>participant</td>\n",
       "    </tr>\n",
       "    <tr>\n",
       "      <th>1</th>\n",
       "      <td>Given the security put in place since 911, it ...</td>\n",
       "      <td>{TerroristAttack}</td>\n",
       "      <td>2020-09-03 02:28:29.002000+00:00</td>\n",
       "      <td>2020-09-04 13:08:51.133000+00:00</td>\n",
       "      <td>2593</td>\n",
       "      <td>participant</td>\n",
       "    </tr>\n",
       "    <tr>\n",
       "      <th>2</th>\n",
       "      <td>NaN</td>\n",
       "      <td>{\"\"}</td>\n",
       "      <td>2020-09-03 02:31:10.028000+00:00</td>\n",
       "      <td>2020-09-03 02:34:29.992000+00:00</td>\n",
       "      <td>2611</td>\n",
       "      <td>participant</td>\n",
       "    </tr>\n",
       "    <tr>\n",
       "      <th>3</th>\n",
       "      <td>It is crucial that the United States plays a r...</td>\n",
       "      <td>{Worldaffairs}</td>\n",
       "      <td>2020-09-03 02:34:07.312000+00:00</td>\n",
       "      <td>2020-09-04 13:08:51.133000+00:00</td>\n",
       "      <td>2593</td>\n",
       "      <td>participant</td>\n",
       "    </tr>\n",
       "    <tr>\n",
       "      <th>4</th>\n",
       "      <td>Strongly disapprove of a two percent annual ta...</td>\n",
       "      <td>{WealthTax}</td>\n",
       "      <td>2020-09-03 02:36:27.825000+00:00</td>\n",
       "      <td>2020-09-04 13:08:51.133000+00:00</td>\n",
       "      <td>2593</td>\n",
       "      <td>participant</td>\n",
       "    </tr>\n",
       "  </tbody>\n",
       "</table>\n",
       "</div>"
      ],
      "text/plain": [
       "                                                text  \\\n",
       "0  I think that we should move away from nuclear ...   \n",
       "1  Given the security put in place since 911, it ...   \n",
       "2                                                NaN   \n",
       "3  It is crucial that the United States plays a r...   \n",
       "4  Strongly disapprove of a two percent annual ta...   \n",
       "\n",
       "                          tags                        createdAt  \\\n",
       "0  {nuclear,energy,enviroment} 2020-09-03 01:59:10.051000+00:00   \n",
       "1            {TerroristAttack} 2020-09-03 02:28:29.002000+00:00   \n",
       "2                         {\"\"} 2020-09-03 02:31:10.028000+00:00   \n",
       "3               {Worldaffairs} 2020-09-03 02:34:07.312000+00:00   \n",
       "4                  {WealthTax} 2020-09-03 02:36:27.825000+00:00   \n",
       "\n",
       "                         updatedAt  AuthorId         role  \n",
       "0 2020-09-04 13:08:51.133000+00:00      2580  participant  \n",
       "1 2020-09-04 13:08:51.133000+00:00      2593  participant  \n",
       "2 2020-09-03 02:34:29.992000+00:00      2611  participant  \n",
       "3 2020-09-04 13:08:51.133000+00:00      2593  participant  \n",
       "4 2020-09-04 13:08:51.133000+00:00      2593  participant  "
      ]
     },
     "execution_count": 17,
     "metadata": {},
     "output_type": "execute_result"
    }
   ],
   "source": [
    "# pick the columns of our interests\n",
    "sel_cols = ['text', 'tags', 'createdAt', 'updatedAt', 'AuthorId', 'role']\n",
    "df_posts = df_posts[sel_cols]\n",
    "df_posts.head()"
   ]
  },
  {
   "cell_type": "code",
   "execution_count": 19,
   "metadata": {},
   "outputs": [
    {
     "data": {
      "text/plain": [
       "text                      object\n",
       "tags                      object\n",
       "createdAt    datetime64[ns, UTC]\n",
       "updatedAt    datetime64[ns, UTC]\n",
       "AuthorId                   int64\n",
       "role                      object\n",
       "dtype: object"
      ]
     },
     "execution_count": 19,
     "metadata": {},
     "output_type": "execute_result"
    }
   ],
   "source": [
    "# double check the datetime\n",
    "df_posts.dtypes"
   ]
  },
  {
   "cell_type": "code",
   "execution_count": 20,
   "metadata": {},
   "outputs": [
    {
     "data": {
      "text/html": [
       "<div>\n",
       "<style scoped>\n",
       "    .dataframe tbody tr th:only-of-type {\n",
       "        vertical-align: middle;\n",
       "    }\n",
       "\n",
       "    .dataframe tbody tr th {\n",
       "        vertical-align: top;\n",
       "    }\n",
       "\n",
       "    .dataframe thead th {\n",
       "        text-align: right;\n",
       "    }\n",
       "</style>\n",
       "<table border=\"1\" class=\"dataframe\">\n",
       "  <thead>\n",
       "    <tr style=\"text-align: right;\">\n",
       "      <th></th>\n",
       "      <th>text</th>\n",
       "      <th>tags</th>\n",
       "      <th>updatedAt</th>\n",
       "      <th>AuthorId</th>\n",
       "      <th>role</th>\n",
       "    </tr>\n",
       "    <tr>\n",
       "      <th>createdAt</th>\n",
       "      <th></th>\n",
       "      <th></th>\n",
       "      <th></th>\n",
       "      <th></th>\n",
       "      <th></th>\n",
       "    </tr>\n",
       "  </thead>\n",
       "  <tbody>\n",
       "    <tr>\n",
       "      <th>2020-09-03 01:59:10.051000+00:00</th>\n",
       "      <td>I think that we should move away from nuclear ...</td>\n",
       "      <td>{nuclear,energy,enviroment}</td>\n",
       "      <td>2020-09-04 13:08:51.133000+00:00</td>\n",
       "      <td>2580</td>\n",
       "      <td>participant</td>\n",
       "    </tr>\n",
       "    <tr>\n",
       "      <th>2020-09-03 02:28:29.002000+00:00</th>\n",
       "      <td>Given the security put in place since 911, it ...</td>\n",
       "      <td>{TerroristAttack}</td>\n",
       "      <td>2020-09-04 13:08:51.133000+00:00</td>\n",
       "      <td>2593</td>\n",
       "      <td>participant</td>\n",
       "    </tr>\n",
       "    <tr>\n",
       "      <th>2020-09-03 02:31:10.028000+00:00</th>\n",
       "      <td>NaN</td>\n",
       "      <td>{\"\"}</td>\n",
       "      <td>2020-09-03 02:34:29.992000+00:00</td>\n",
       "      <td>2611</td>\n",
       "      <td>participant</td>\n",
       "    </tr>\n",
       "    <tr>\n",
       "      <th>2020-09-03 02:34:07.312000+00:00</th>\n",
       "      <td>It is crucial that the United States plays a r...</td>\n",
       "      <td>{Worldaffairs}</td>\n",
       "      <td>2020-09-04 13:08:51.133000+00:00</td>\n",
       "      <td>2593</td>\n",
       "      <td>participant</td>\n",
       "    </tr>\n",
       "    <tr>\n",
       "      <th>2020-09-03 02:36:27.825000+00:00</th>\n",
       "      <td>Strongly disapprove of a two percent annual ta...</td>\n",
       "      <td>{WealthTax}</td>\n",
       "      <td>2020-09-04 13:08:51.133000+00:00</td>\n",
       "      <td>2593</td>\n",
       "      <td>participant</td>\n",
       "    </tr>\n",
       "  </tbody>\n",
       "</table>\n",
       "</div>"
      ],
      "text/plain": [
       "                                                                               text  \\\n",
       "createdAt                                                                             \n",
       "2020-09-03 01:59:10.051000+00:00  I think that we should move away from nuclear ...   \n",
       "2020-09-03 02:28:29.002000+00:00  Given the security put in place since 911, it ...   \n",
       "2020-09-03 02:31:10.028000+00:00                                                NaN   \n",
       "2020-09-03 02:34:07.312000+00:00  It is crucial that the United States plays a r...   \n",
       "2020-09-03 02:36:27.825000+00:00  Strongly disapprove of a two percent annual ta...   \n",
       "\n",
       "                                                         tags  \\\n",
       "createdAt                                                       \n",
       "2020-09-03 01:59:10.051000+00:00  {nuclear,energy,enviroment}   \n",
       "2020-09-03 02:28:29.002000+00:00            {TerroristAttack}   \n",
       "2020-09-03 02:31:10.028000+00:00                         {\"\"}   \n",
       "2020-09-03 02:34:07.312000+00:00               {Worldaffairs}   \n",
       "2020-09-03 02:36:27.825000+00:00                  {WealthTax}   \n",
       "\n",
       "                                                        updatedAt  AuthorId  \\\n",
       "createdAt                                                                     \n",
       "2020-09-03 01:59:10.051000+00:00 2020-09-04 13:08:51.133000+00:00      2580   \n",
       "2020-09-03 02:28:29.002000+00:00 2020-09-04 13:08:51.133000+00:00      2593   \n",
       "2020-09-03 02:31:10.028000+00:00 2020-09-03 02:34:29.992000+00:00      2611   \n",
       "2020-09-03 02:34:07.312000+00:00 2020-09-04 13:08:51.133000+00:00      2593   \n",
       "2020-09-03 02:36:27.825000+00:00 2020-09-04 13:08:51.133000+00:00      2593   \n",
       "\n",
       "                                         role  \n",
       "createdAt                                      \n",
       "2020-09-03 01:59:10.051000+00:00  participant  \n",
       "2020-09-03 02:28:29.002000+00:00  participant  \n",
       "2020-09-03 02:31:10.028000+00:00  participant  \n",
       "2020-09-03 02:34:07.312000+00:00  participant  \n",
       "2020-09-03 02:36:27.825000+00:00  participant  "
      ]
     },
     "execution_count": 20,
     "metadata": {},
     "output_type": "execute_result"
    }
   ],
   "source": [
    "df_posts = df_posts.set_index('createdAt')\n",
    "df_posts.head()"
   ]
  },
  {
   "cell_type": "code",
   "execution_count": 54,
   "metadata": {},
   "outputs": [],
   "source": [
    "for idx, row in df_posts.iterrows():\n",
    "    if row['role'] == 'participant':\n",
    "        df_posts.loc[idx, 'participant'] = 1\n",
    "        df_posts.loc[idx, 'sockpuppet'] = 0\n",
    "    else:\n",
    "        df_posts.loc[idx, 'sockpuppet'] = 1\n",
    "        df_posts.loc[idx, 'participant'] = 0"
   ]
  },
  {
   "cell_type": "code",
   "execution_count": 55,
   "metadata": {},
   "outputs": [
    {
     "data": {
      "text/html": [
       "<div>\n",
       "<style scoped>\n",
       "    .dataframe tbody tr th:only-of-type {\n",
       "        vertical-align: middle;\n",
       "    }\n",
       "\n",
       "    .dataframe tbody tr th {\n",
       "        vertical-align: top;\n",
       "    }\n",
       "\n",
       "    .dataframe thead th {\n",
       "        text-align: right;\n",
       "    }\n",
       "</style>\n",
       "<table border=\"1\" class=\"dataframe\">\n",
       "  <thead>\n",
       "    <tr style=\"text-align: right;\">\n",
       "      <th></th>\n",
       "      <th>text</th>\n",
       "      <th>tags</th>\n",
       "      <th>updatedAt</th>\n",
       "      <th>AuthorId</th>\n",
       "      <th>role</th>\n",
       "      <th>participant</th>\n",
       "      <th>sockpuppet</th>\n",
       "    </tr>\n",
       "    <tr>\n",
       "      <th>createdAt</th>\n",
       "      <th></th>\n",
       "      <th></th>\n",
       "      <th></th>\n",
       "      <th></th>\n",
       "      <th></th>\n",
       "      <th></th>\n",
       "      <th></th>\n",
       "    </tr>\n",
       "  </thead>\n",
       "  <tbody>\n",
       "    <tr>\n",
       "      <th>2020-09-03 01:59:10.051000+00:00</th>\n",
       "      <td>I think that we should move away from nuclear ...</td>\n",
       "      <td>{nuclear,energy,enviroment}</td>\n",
       "      <td>2020-09-04 13:08:51.133000+00:00</td>\n",
       "      <td>2580</td>\n",
       "      <td>participant</td>\n",
       "      <td>1.0</td>\n",
       "      <td>0.0</td>\n",
       "    </tr>\n",
       "    <tr>\n",
       "      <th>2020-09-03 02:28:29.002000+00:00</th>\n",
       "      <td>Given the security put in place since 911, it ...</td>\n",
       "      <td>{TerroristAttack}</td>\n",
       "      <td>2020-09-04 13:08:51.133000+00:00</td>\n",
       "      <td>2593</td>\n",
       "      <td>participant</td>\n",
       "      <td>1.0</td>\n",
       "      <td>0.0</td>\n",
       "    </tr>\n",
       "    <tr>\n",
       "      <th>2020-09-03 02:31:10.028000+00:00</th>\n",
       "      <td>NaN</td>\n",
       "      <td>{\"\"}</td>\n",
       "      <td>2020-09-03 02:34:29.992000+00:00</td>\n",
       "      <td>2611</td>\n",
       "      <td>participant</td>\n",
       "      <td>1.0</td>\n",
       "      <td>0.0</td>\n",
       "    </tr>\n",
       "    <tr>\n",
       "      <th>2020-09-03 02:34:07.312000+00:00</th>\n",
       "      <td>It is crucial that the United States plays a r...</td>\n",
       "      <td>{Worldaffairs}</td>\n",
       "      <td>2020-09-04 13:08:51.133000+00:00</td>\n",
       "      <td>2593</td>\n",
       "      <td>participant</td>\n",
       "      <td>1.0</td>\n",
       "      <td>0.0</td>\n",
       "    </tr>\n",
       "    <tr>\n",
       "      <th>2020-09-03 02:36:27.825000+00:00</th>\n",
       "      <td>Strongly disapprove of a two percent annual ta...</td>\n",
       "      <td>{WealthTax}</td>\n",
       "      <td>2020-09-04 13:08:51.133000+00:00</td>\n",
       "      <td>2593</td>\n",
       "      <td>participant</td>\n",
       "      <td>1.0</td>\n",
       "      <td>0.0</td>\n",
       "    </tr>\n",
       "  </tbody>\n",
       "</table>\n",
       "</div>"
      ],
      "text/plain": [
       "                                                                               text  \\\n",
       "createdAt                                                                             \n",
       "2020-09-03 01:59:10.051000+00:00  I think that we should move away from nuclear ...   \n",
       "2020-09-03 02:28:29.002000+00:00  Given the security put in place since 911, it ...   \n",
       "2020-09-03 02:31:10.028000+00:00                                                NaN   \n",
       "2020-09-03 02:34:07.312000+00:00  It is crucial that the United States plays a r...   \n",
       "2020-09-03 02:36:27.825000+00:00  Strongly disapprove of a two percent annual ta...   \n",
       "\n",
       "                                                         tags  \\\n",
       "createdAt                                                       \n",
       "2020-09-03 01:59:10.051000+00:00  {nuclear,energy,enviroment}   \n",
       "2020-09-03 02:28:29.002000+00:00            {TerroristAttack}   \n",
       "2020-09-03 02:31:10.028000+00:00                         {\"\"}   \n",
       "2020-09-03 02:34:07.312000+00:00               {Worldaffairs}   \n",
       "2020-09-03 02:36:27.825000+00:00                  {WealthTax}   \n",
       "\n",
       "                                                        updatedAt  AuthorId  \\\n",
       "createdAt                                                                     \n",
       "2020-09-03 01:59:10.051000+00:00 2020-09-04 13:08:51.133000+00:00      2580   \n",
       "2020-09-03 02:28:29.002000+00:00 2020-09-04 13:08:51.133000+00:00      2593   \n",
       "2020-09-03 02:31:10.028000+00:00 2020-09-03 02:34:29.992000+00:00      2611   \n",
       "2020-09-03 02:34:07.312000+00:00 2020-09-04 13:08:51.133000+00:00      2593   \n",
       "2020-09-03 02:36:27.825000+00:00 2020-09-04 13:08:51.133000+00:00      2593   \n",
       "\n",
       "                                         role  participant  sockpuppet  \n",
       "createdAt                                                               \n",
       "2020-09-03 01:59:10.051000+00:00  participant          1.0         0.0  \n",
       "2020-09-03 02:28:29.002000+00:00  participant          1.0         0.0  \n",
       "2020-09-03 02:31:10.028000+00:00  participant          1.0         0.0  \n",
       "2020-09-03 02:34:07.312000+00:00  participant          1.0         0.0  \n",
       "2020-09-03 02:36:27.825000+00:00  participant          1.0         0.0  "
      ]
     },
     "execution_count": 55,
     "metadata": {},
     "output_type": "execute_result"
    }
   ],
   "source": [
    "df_posts.head()"
   ]
  },
  {
   "cell_type": "code",
   "execution_count": null,
   "metadata": {},
   "outputs": [],
   "source": []
  },
  {
   "cell_type": "code",
   "execution_count": 56,
   "metadata": {},
   "outputs": [
    {
     "name": "stderr",
     "output_type": "stream",
     "text": [
      "/home/ruibo/anaconda3/envs/tf_gpu_env/lib/python3.6/site-packages/pandas/core/arrays/datetimes.py:1091: UserWarning: Converting to PeriodArray/Index representation will drop timezone information.\n",
      "  UserWarning,\n"
     ]
    },
    {
     "data": {
      "text/html": [
       "<div>\n",
       "<style scoped>\n",
       "    .dataframe tbody tr th:only-of-type {\n",
       "        vertical-align: middle;\n",
       "    }\n",
       "\n",
       "    .dataframe tbody tr th {\n",
       "        vertical-align: top;\n",
       "    }\n",
       "\n",
       "    .dataframe thead th {\n",
       "        text-align: right;\n",
       "    }\n",
       "</style>\n",
       "<table border=\"1\" class=\"dataframe\">\n",
       "  <thead>\n",
       "    <tr style=\"text-align: right;\">\n",
       "      <th></th>\n",
       "      <th>createdAt</th>\n",
       "      <th>sockpuppet</th>\n",
       "      <th>participant</th>\n",
       "    </tr>\n",
       "  </thead>\n",
       "  <tbody>\n",
       "    <tr>\n",
       "      <th>0</th>\n",
       "      <td>2020-09-03 01:00</td>\n",
       "      <td>0.0</td>\n",
       "      <td>1.0</td>\n",
       "    </tr>\n",
       "    <tr>\n",
       "      <th>1</th>\n",
       "      <td>2020-09-03 02:00</td>\n",
       "      <td>0.0</td>\n",
       "      <td>1.0</td>\n",
       "    </tr>\n",
       "    <tr>\n",
       "      <th>2</th>\n",
       "      <td>2020-09-03 02:00</td>\n",
       "      <td>0.0</td>\n",
       "      <td>1.0</td>\n",
       "    </tr>\n",
       "    <tr>\n",
       "      <th>3</th>\n",
       "      <td>2020-09-03 02:00</td>\n",
       "      <td>0.0</td>\n",
       "      <td>1.0</td>\n",
       "    </tr>\n",
       "    <tr>\n",
       "      <th>4</th>\n",
       "      <td>2020-09-03 02:00</td>\n",
       "      <td>0.0</td>\n",
       "      <td>1.0</td>\n",
       "    </tr>\n",
       "  </tbody>\n",
       "</table>\n",
       "</div>"
      ],
      "text/plain": [
       "          createdAt  sockpuppet  participant\n",
       "0  2020-09-03 01:00         0.0          1.0\n",
       "1  2020-09-03 02:00         0.0          1.0\n",
       "2  2020-09-03 02:00         0.0          1.0\n",
       "3  2020-09-03 02:00         0.0          1.0\n",
       "4  2020-09-03 02:00         0.0          1.0"
      ]
     },
     "execution_count": 56,
     "metadata": {},
     "output_type": "execute_result"
    }
   ],
   "source": [
    "df_posts_hour = pd.DataFrame(df_posts.index.to_period('h'))\n",
    "df_posts_hour = df_posts_hour.reset_index()\n",
    "del df_posts_hour['index']\n",
    "# hourly = hourly.rename({'createdAt': 'hour'})\n",
    "df_posts_hour['sockpuppet'] = df_posts['sockpuppet'].to_list()\n",
    "df_posts_hour['participant'] = df_posts['participant'].to_list()\n",
    "df_posts_hour.head()"
   ]
  },
  {
   "cell_type": "code",
   "execution_count": 38,
   "metadata": {},
   "outputs": [],
   "source": [
    "hourly = hourly.rename({'createdAt': 'hour'})"
   ]
  },
  {
   "cell_type": "code",
   "execution_count": 59,
   "metadata": {},
   "outputs": [],
   "source": [
    "hourly = df_posts_hour.groupby(['createdAt']).sum()"
   ]
  },
  {
   "cell_type": "code",
   "execution_count": 64,
   "metadata": {},
   "outputs": [
    {
     "data": {
      "text/plain": [
       "<AxesSubplot:xlabel='createdAt'>"
      ]
     },
     "execution_count": 64,
     "metadata": {},
     "output_type": "execute_result"
    },
    {
     "data": {
      "image/png": "[encoded data removed]",
      "text/plain": [
       "<Figure size 432x288 with 1 Axes>"
      ]
     },
     "metadata": {
      "needs_background": "light"
     },
     "output_type": "display_data"
    }
   ],
   "source": [
    "hourly.plot()"
   ]
  },
  {
   "cell_type": "code",
   "execution_count": null,
   "metadata": {},
   "outputs": [],
   "source": []
  }
 ],
 "metadata": {
  "kernelspec": {
   "display_name": "Python 3",
   "language": "python",
   "name": "python3"
  },
  "language_info": {
   "codemirror_mode": {
    "name": "ipython",
    "version": 3
   },
   "file_extension": ".py",
   "mimetype": "text/x-python",
   "name": "python",
   "nbconvert_exporter": "python",
   "pygments_lexer": "ipython3",
   "version": "3.6.10"
  }
 },
 "nbformat": 4,
 "nbformat_minor": 4
}
