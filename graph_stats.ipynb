{
 "cells": [
  {
   "cell_type": "code",
   "execution_count": 1,
   "metadata": {},
   "outputs": [],
   "source": [
    "import pickle\n",
    "\n",
    "import pandas as pd\n",
    "import numpy as np\n",
    "import networkx as nx\n",
    "from scipy.stats import beta\n",
    "import itertools\n",
    "\n",
    "import matplotlib.pyplot as plt\n",
    "import seaborn as sns\n",
    "\n",
    "from scipy.stats import rankdata, kendalltau, spearmanr\n",
    "\n",
    "import plotly.graph_objects as go\n",
    "from tqdm.notebook import tqdm\n",
    "from pathlib import Path\n",
    "\n",
    "sns.set_theme(\"paper\", \"white\")"
   ]
  },
  {
   "cell_type": "code",
   "execution_count": 2,
   "metadata": {},
   "outputs": [
    {
     "data": {
      "text/html": [
       "<div>\n",
       "<style scoped>\n",
       "    .dataframe tbody tr th:only-of-type {\n",
       "        vertical-align: middle;\n",
       "    }\n",
       "\n",
       "    .dataframe tbody tr th {\n",
       "        vertical-align: top;\n",
       "    }\n",
       "\n",
       "    .dataframe thead th {\n",
       "        text-align: right;\n",
       "    }\n",
       "</style>\n",
       "<table border=\"1\" class=\"dataframe\">\n",
       "  <thead>\n",
       "    <tr style=\"text-align: right;\">\n",
       "      <th></th>\n",
       "      <th>MTurk_ID</th>\n",
       "      <th>username</th>\n",
       "      <th>id</th>\n",
       "      <th>isMod</th>\n",
       "      <th>isObserver</th>\n",
       "      <th>isPuppet</th>\n",
       "      <th>n_reports</th>\n",
       "      <th>puppet</th>\n",
       "      <th>report</th>\n",
       "      <th>issued_posts</th>\n",
       "      <th>...</th>\n",
       "      <th>Q17</th>\n",
       "      <th>Q18</th>\n",
       "      <th>Q19</th>\n",
       "      <th>Q20</th>\n",
       "      <th>Q21</th>\n",
       "      <th>Q22</th>\n",
       "      <th>Q23</th>\n",
       "      <th>Q24</th>\n",
       "      <th>Q25</th>\n",
       "      <th>Strategy</th>\n",
       "    </tr>\n",
       "  </thead>\n",
       "  <tbody>\n",
       "    <tr>\n",
       "      <th>1</th>\n",
       "      <td>A10IUXCZBNYUXC</td>\n",
       "      <td>Jacob_1907</td>\n",
       "      <td>2658</td>\n",
       "      <td>f</td>\n",
       "      <td>f</td>\n",
       "      <td>f</td>\n",
       "      <td>17</td>\n",
       "      <td>0</td>\n",
       "      <td>1</td>\n",
       "      <td>25</td>\n",
       "      <td>...</td>\n",
       "      <td>2.0</td>\n",
       "      <td>2.0</td>\n",
       "      <td>2.0</td>\n",
       "      <td>1.0</td>\n",
       "      <td>1.0</td>\n",
       "      <td>2.0</td>\n",
       "      <td>1.0</td>\n",
       "      <td>4.0</td>\n",
       "      <td>2.0</td>\n",
       "      <td>NaN</td>\n",
       "    </tr>\n",
       "    <tr>\n",
       "      <th>2</th>\n",
       "      <td>A15F2JTVAJXITI</td>\n",
       "      <td>Luke_3376</td>\n",
       "      <td>2297</td>\n",
       "      <td>f</td>\n",
       "      <td>t</td>\n",
       "      <td>f</td>\n",
       "      <td>0</td>\n",
       "      <td>0</td>\n",
       "      <td>0</td>\n",
       "      <td>0</td>\n",
       "      <td>...</td>\n",
       "      <td>1.0</td>\n",
       "      <td>3.0</td>\n",
       "      <td>1.0</td>\n",
       "      <td>3.0</td>\n",
       "      <td>1.0</td>\n",
       "      <td>3.0</td>\n",
       "      <td>1.0</td>\n",
       "      <td>4.0</td>\n",
       "      <td>1.0</td>\n",
       "      <td>NaN</td>\n",
       "    </tr>\n",
       "    <tr>\n",
       "      <th>3</th>\n",
       "      <td>A173A97OFDAX9F</td>\n",
       "      <td>Claire_679</td>\n",
       "      <td>2601</td>\n",
       "      <td>f</td>\n",
       "      <td>f</td>\n",
       "      <td>f</td>\n",
       "      <td>0</td>\n",
       "      <td>0</td>\n",
       "      <td>0</td>\n",
       "      <td>4</td>\n",
       "      <td>...</td>\n",
       "      <td>1.0</td>\n",
       "      <td>2.0</td>\n",
       "      <td>2.0</td>\n",
       "      <td>1.0</td>\n",
       "      <td>1.0</td>\n",
       "      <td>2.0</td>\n",
       "      <td>1.0</td>\n",
       "      <td>3.0</td>\n",
       "      <td>3.0</td>\n",
       "      <td>NaN</td>\n",
       "    </tr>\n",
       "    <tr>\n",
       "      <th>4</th>\n",
       "      <td>A18XVBWB2A270I</td>\n",
       "      <td>Katherine_2323</td>\n",
       "      <td>2338</td>\n",
       "      <td>f</td>\n",
       "      <td>t</td>\n",
       "      <td>f</td>\n",
       "      <td>0</td>\n",
       "      <td>0</td>\n",
       "      <td>0</td>\n",
       "      <td>0</td>\n",
       "      <td>...</td>\n",
       "      <td>1.0</td>\n",
       "      <td>2.0</td>\n",
       "      <td>4.0</td>\n",
       "      <td>2.0</td>\n",
       "      <td>2.0</td>\n",
       "      <td>2.0</td>\n",
       "      <td>1.0</td>\n",
       "      <td>1.0</td>\n",
       "      <td>3.0</td>\n",
       "      <td>NaN</td>\n",
       "    </tr>\n",
       "    <tr>\n",
       "      <th>5</th>\n",
       "      <td>A1AIMKA54UBYIQ</td>\n",
       "      <td>Asia_4906</td>\n",
       "      <td>2638</td>\n",
       "      <td>f</td>\n",
       "      <td>f</td>\n",
       "      <td>f</td>\n",
       "      <td>1</td>\n",
       "      <td>0</td>\n",
       "      <td>1</td>\n",
       "      <td>9</td>\n",
       "      <td>...</td>\n",
       "      <td>3.0</td>\n",
       "      <td>3.0</td>\n",
       "      <td>2.0</td>\n",
       "      <td>1.0</td>\n",
       "      <td>2.0</td>\n",
       "      <td>2.0</td>\n",
       "      <td>2.0</td>\n",
       "      <td>4.0</td>\n",
       "      <td>3.0</td>\n",
       "      <td>NaN</td>\n",
       "    </tr>\n",
       "  </tbody>\n",
       "</table>\n",
       "<p>5 rows × 55 columns</p>\n",
       "</div>"
      ],
      "text/plain": [
       "         MTurk_ID        username    id isMod isObserver isPuppet  n_reports  \\\n",
       "1  A10IUXCZBNYUXC      Jacob_1907  2658     f          f        f         17   \n",
       "2  A15F2JTVAJXITI       Luke_3376  2297     f          t        f          0   \n",
       "3  A173A97OFDAX9F      Claire_679  2601     f          f        f          0   \n",
       "4  A18XVBWB2A270I  Katherine_2323  2338     f          t        f          0   \n",
       "5  A1AIMKA54UBYIQ       Asia_4906  2638     f          f        f          1   \n",
       "\n",
       "   puppet  report  issued_posts  ...  Q17  Q18  Q19  Q20  Q21  Q22  Q23  Q24  \\\n",
       "1       0       1            25  ...  2.0  2.0  2.0  1.0  1.0  2.0  1.0  4.0   \n",
       "2       0       0             0  ...  1.0  3.0  1.0  3.0  1.0  3.0  1.0  4.0   \n",
       "3       0       0             4  ...  1.0  2.0  2.0  1.0  1.0  2.0  1.0  3.0   \n",
       "4       0       0             0  ...  1.0  2.0  4.0  2.0  2.0  2.0  1.0  1.0   \n",
       "5       0       1             9  ...  3.0  3.0  2.0  1.0  2.0  2.0  2.0  4.0   \n",
       "\n",
       "   Q25  Strategy  \n",
       "1  2.0       NaN  \n",
       "2  1.0       NaN  \n",
       "3  3.0       NaN  \n",
       "4  3.0       NaN  \n",
       "5  3.0       NaN  \n",
       "\n",
       "[5 rows x 55 columns]"
      ]
     },
     "metadata": {},
     "output_type": "display_data"
    }
   ],
   "source": [
    "df_users = pd.read_csv(\"./DSock/Active_Users.csv\", index_col=0)\n",
    "display(df_users.head())\n",
    "\n",
    "timeline = pd.date_range(\"2020-09-03-03:59:59\", periods=6, tz=\"utc\")"
   ]
  },
  {
   "cell_type": "code",
   "execution_count": 4,
   "metadata": {},
   "outputs": [
    {
     "name": "stdout",
     "output_type": "stream",
     "text": [
      "{'a': 0, 'b': 1, 'c': 2, 'd': 3, 'e': 4, 'f': 5, 'g': 6, 'h': 7} {0: 'a', 1: 'b', 2: 'c', 3: 'd', 4: 'e', 5: 'f', 6: 'g', 7: 'h'}\n"
     ]
    }
   ],
   "source": [
    "topics = list(\"abcdefgh\")\n",
    "nums = list(range(9))\n",
    "num2topic = dict(zip(nums, topics))\n",
    "topic2num = dict(zip(topics, nums))\n",
    "print(f\"{topic2num} {num2topic}\")\n",
    "deltas = [\"10\", \"21\", \"32\", \"43\", \"54\"]"
   ]
  },
  {
   "cell_type": "code",
   "execution_count": 5,
   "metadata": {},
   "outputs": [
    {
     "data": {
      "text/html": [
       "<div>\n",
       "<style scoped>\n",
       "    .dataframe tbody tr th:only-of-type {\n",
       "        vertical-align: middle;\n",
       "    }\n",
       "\n",
       "    .dataframe tbody tr th {\n",
       "        vertical-align: top;\n",
       "    }\n",
       "\n",
       "    .dataframe thead th {\n",
       "        text-align: right;\n",
       "    }\n",
       "</style>\n",
       "<table border=\"1\" class=\"dataframe\">\n",
       "  <thead>\n",
       "    <tr style=\"text-align: right;\">\n",
       "      <th></th>\n",
       "      <th>MTurk_ID</th>\n",
       "      <th>username</th>\n",
       "      <th>id</th>\n",
       "      <th>isMod</th>\n",
       "      <th>isObserver</th>\n",
       "      <th>isPuppet</th>\n",
       "      <th>n_reports</th>\n",
       "      <th>puppet</th>\n",
       "      <th>report</th>\n",
       "      <th>issued_posts</th>\n",
       "      <th>...</th>\n",
       "      <th>g_delta_10</th>\n",
       "      <th>g_delta_21</th>\n",
       "      <th>g_delta_32</th>\n",
       "      <th>g_delta_43</th>\n",
       "      <th>g_delta_54</th>\n",
       "      <th>h_delta_10</th>\n",
       "      <th>h_delta_21</th>\n",
       "      <th>h_delta_32</th>\n",
       "      <th>h_delta_43</th>\n",
       "      <th>h_delta_54</th>\n",
       "    </tr>\n",
       "  </thead>\n",
       "  <tbody>\n",
       "    <tr>\n",
       "      <th>u2658</th>\n",
       "      <td>A10IUXCZBNYUXC</td>\n",
       "      <td>Jacob_1907</td>\n",
       "      <td>2658</td>\n",
       "      <td>f</td>\n",
       "      <td>f</td>\n",
       "      <td>f</td>\n",
       "      <td>17</td>\n",
       "      <td>0</td>\n",
       "      <td>1</td>\n",
       "      <td>25</td>\n",
       "      <td>...</td>\n",
       "      <td>0.0</td>\n",
       "      <td>0.0</td>\n",
       "      <td>0.0</td>\n",
       "      <td>1.0</td>\n",
       "      <td>0.0</td>\n",
       "      <td>0.0</td>\n",
       "      <td>0.0</td>\n",
       "      <td>0.0</td>\n",
       "      <td>0.0</td>\n",
       "      <td>0.0</td>\n",
       "    </tr>\n",
       "    <tr>\n",
       "      <th>u2297</th>\n",
       "      <td>A15F2JTVAJXITI</td>\n",
       "      <td>Luke_3376</td>\n",
       "      <td>2297</td>\n",
       "      <td>f</td>\n",
       "      <td>t</td>\n",
       "      <td>f</td>\n",
       "      <td>0</td>\n",
       "      <td>0</td>\n",
       "      <td>0</td>\n",
       "      <td>0</td>\n",
       "      <td>...</td>\n",
       "      <td>0.0</td>\n",
       "      <td>0.0</td>\n",
       "      <td>0.0</td>\n",
       "      <td>0.0</td>\n",
       "      <td>0.0</td>\n",
       "      <td>0.0</td>\n",
       "      <td>0.0</td>\n",
       "      <td>0.0</td>\n",
       "      <td>0.0</td>\n",
       "      <td>0.0</td>\n",
       "    </tr>\n",
       "    <tr>\n",
       "      <th>u2601</th>\n",
       "      <td>A173A97OFDAX9F</td>\n",
       "      <td>Claire_679</td>\n",
       "      <td>2601</td>\n",
       "      <td>f</td>\n",
       "      <td>f</td>\n",
       "      <td>f</td>\n",
       "      <td>0</td>\n",
       "      <td>0</td>\n",
       "      <td>0</td>\n",
       "      <td>4</td>\n",
       "      <td>...</td>\n",
       "      <td>0.0</td>\n",
       "      <td>0.0</td>\n",
       "      <td>1.0</td>\n",
       "      <td>0.0</td>\n",
       "      <td>0.0</td>\n",
       "      <td>0.0</td>\n",
       "      <td>0.0</td>\n",
       "      <td>0.0</td>\n",
       "      <td>0.0</td>\n",
       "      <td>0.0</td>\n",
       "    </tr>\n",
       "    <tr>\n",
       "      <th>u2338</th>\n",
       "      <td>A18XVBWB2A270I</td>\n",
       "      <td>Katherine_2323</td>\n",
       "      <td>2338</td>\n",
       "      <td>f</td>\n",
       "      <td>t</td>\n",
       "      <td>f</td>\n",
       "      <td>0</td>\n",
       "      <td>0</td>\n",
       "      <td>0</td>\n",
       "      <td>0</td>\n",
       "      <td>...</td>\n",
       "      <td>1.0</td>\n",
       "      <td>0.0</td>\n",
       "      <td>-1.0</td>\n",
       "      <td>0.0</td>\n",
       "      <td>0.0</td>\n",
       "      <td>0.0</td>\n",
       "      <td>0.0</td>\n",
       "      <td>0.0</td>\n",
       "      <td>0.0</td>\n",
       "      <td>0.0</td>\n",
       "    </tr>\n",
       "    <tr>\n",
       "      <th>u2638</th>\n",
       "      <td>A1AIMKA54UBYIQ</td>\n",
       "      <td>Asia_4906</td>\n",
       "      <td>2638</td>\n",
       "      <td>f</td>\n",
       "      <td>f</td>\n",
       "      <td>f</td>\n",
       "      <td>1</td>\n",
       "      <td>0</td>\n",
       "      <td>1</td>\n",
       "      <td>9</td>\n",
       "      <td>...</td>\n",
       "      <td>0.0</td>\n",
       "      <td>0.0</td>\n",
       "      <td>0.0</td>\n",
       "      <td>0.0</td>\n",
       "      <td>0.0</td>\n",
       "      <td>0.0</td>\n",
       "      <td>0.0</td>\n",
       "      <td>0.0</td>\n",
       "      <td>0.0</td>\n",
       "      <td>0.0</td>\n",
       "    </tr>\n",
       "  </tbody>\n",
       "</table>\n",
       "<p>5 rows × 144 columns</p>\n",
       "</div>"
      ],
      "text/plain": [
       "             MTurk_ID        username    id isMod isObserver isPuppet  \\\n",
       "u2658  A10IUXCZBNYUXC      Jacob_1907  2658     f          f        f   \n",
       "u2297  A15F2JTVAJXITI       Luke_3376  2297     f          t        f   \n",
       "u2601  A173A97OFDAX9F      Claire_679  2601     f          f        f   \n",
       "u2338  A18XVBWB2A270I  Katherine_2323  2338     f          t        f   \n",
       "u2638  A1AIMKA54UBYIQ       Asia_4906  2638     f          f        f   \n",
       "\n",
       "       n_reports  puppet  report  issued_posts  ...  g_delta_10  g_delta_21  \\\n",
       "u2658         17       0       1            25  ...         0.0         0.0   \n",
       "u2297          0       0       0             0  ...         0.0         0.0   \n",
       "u2601          0       0       0             4  ...         0.0         0.0   \n",
       "u2338          0       0       0             0  ...         1.0         0.0   \n",
       "u2638          1       0       1             9  ...         0.0         0.0   \n",
       "\n",
       "       g_delta_32  g_delta_43  g_delta_54 h_delta_10  h_delta_21  h_delta_32  \\\n",
       "u2658         0.0         1.0         0.0        0.0         0.0         0.0   \n",
       "u2297         0.0         0.0         0.0        0.0         0.0         0.0   \n",
       "u2601         1.0         0.0         0.0        0.0         0.0         0.0   \n",
       "u2338        -1.0         0.0         0.0        0.0         0.0         0.0   \n",
       "u2638         0.0         0.0         0.0        0.0         0.0         0.0   \n",
       "\n",
       "       h_delta_43  h_delta_54  \n",
       "u2658         0.0         0.0  \n",
       "u2297         0.0         0.0  \n",
       "u2601         0.0         0.0  \n",
       "u2338         0.0         0.0  \n",
       "u2638         0.0         0.0  \n",
       "\n",
       "[5 rows x 144 columns]"
      ]
     },
     "metadata": {},
     "output_type": "display_data"
    },
    {
     "name": "stdout",
     "output_type": "stream",
     "text": [
      "[3.0, 0.0, 0.0, 0.0, 0.0]\n"
     ]
    }
   ],
   "source": [
    "df_evals = pd.read_csv(\"./DSock/human_eval_analysis/attitude_tracking.csv\")\n",
    "df_evals = pd.merge(df_users, df_evals, how=\"left\", left_on=\"MTurk_ID\", right_on=\"id\").rename({\"id_x\": \"id\"}, axis=1)\n",
    "df_evals.index = [f\"u{u}\" for u in df_evals[\"id\"]]\n",
    "\n",
    "display(df_evals.head())\n",
    "\n",
    "get_change = lambda u, t: df_evals.loc[u][[f\"{t}_delta_{d}\" for d in deltas]].tolist()\n",
    "print(get_change(\"u2337\", num2topic[0]))"
   ]
  },
  {
   "cell_type": "code",
   "execution_count": 6,
   "metadata": {},
   "outputs": [
    {
     "name": "stdout",
     "output_type": "stream",
     "text": [
      "posts: (1057, 11), comments: (1615, 11), views: (234178, 10), likes: (1034, 6), reports: (46, 6)\n"
     ]
    }
   ],
   "source": [
    "df_posts = pd.read_csv(\"./DSock/direct_influence/posts_with_senti_and_topic.csv\", parse_dates=[\"createdAt\"])\n",
    "df_comts = pd.read_csv(\"./DSock/direct_influence/comments_with_senti_and_topic.csv\", delimiter=\",\", parse_dates=[\"createdAt\"]).dropna(subset=[\"CommenterId\", \"PostId\"])\n",
    "df_views = pd.read_csv(\"./DSock/postViews.csv\", delimiter=\"|\", parse_dates=[\"createdAt\"]).dropna(subset=[\"UserId\", \"PostId\"])\n",
    "df_likes = pd.read_csv(\"./DSock/Likes.csv\", delimiter=\"|\", parse_dates=[\"createdAt\"]).dropna(subset=[\"UserId\", \"PostId\"])\n",
    "df_repts = pd.read_csv(\"./DSock/ReportUsers.csv\", delimiter=\"|\", parse_dates=[\"createdAt\"])\n",
    "\n",
    "print(f\"posts: {df_posts.shape}, comments: {df_comts.shape}, views: {df_views.shape}, likes: {df_likes.shape}, reports: {df_repts.shape}\")\n",
    "\n",
    "df_likes[\"UserId\"] = df_likes[\"UserId\"].astype(int)\n",
    "df_likes[\"PostId\"] = df_likes[\"PostId\"].astype(int)\n",
    "\n",
    "df_comts[\"CommenterId\"] = df_comts[\"CommenterId\"].astype(int)\n",
    "df_comts[\"PostId\"] = df_comts[\"PostId\"].astype(int)\n",
    "\n",
    "df_annot_posts = pd.read_csv(\"./DSock/posts_anno_labels.csv\")\n",
    "df_posts = df_posts.merge(df_annot_posts[[\"post_id\", \"majority_topic_label\", \"majority_sent_label\"]], left_on=\"PostID\", right_on=\"post_id\")\n",
    "\n",
    "df_annot_comts = pd.read_csv(\"./DSock/comments_anno_labels.csv\")\n",
    "df_comts = df_comts.merge(df_annot_comts[[\"comment_id\", \"majority_topic_label\", \"majority_sent_label\"]], left_on=\"id\", right_on=\"comment_id\")"
   ]
  },
  {
   "cell_type": "code",
   "execution_count": 7,
   "metadata": {},
   "outputs": [
    {
     "name": "stdout",
     "output_type": "stream",
     "text": [
      "user view: 210543\n",
      "single view: 3808\n"
     ]
    },
    {
     "data": {
      "application/vnd.jupyter.widget-view+json": {
       "model_id": "d13bc92e9280486ea675c0c73b77c589",
       "version_major": 2,
       "version_minor": 0
      },
      "text/plain": [
       "HBox(children=(FloatProgress(value=0.0, max=218011.0), HTML(value='')))"
      ]
     },
     "metadata": {},
     "output_type": "display_data"
    },
    {
     "name": "stdout",
     "output_type": "stream",
     "text": [
      "\n"
     ]
    }
   ],
   "source": [
    "post_comments = {f\"p{p}\": [] for p in df_posts[\"PostID\"].values}\n",
    "for c, p in df_comts[[\"id\", \"PostId\"]].values:\n",
    "    if f\"p{p}\" in post_comments:\n",
    "        post_comments[f\"p{p}\"].append(f\"c{c}\")\n",
    "G = nx.DiGraph()\n",
    "for u, uname, obsr, sock in df_users[[\"id\", \"username\", \"isObserver\", \"isPuppet\"]].values:\n",
    "    G.add_node(f\"u{u}\", id=u, kind=\"user\", name=uname, observer=(obsr == \"t\"), sock=(sock == \"t\"))\n",
    "    if obsr == \"t\":\n",
    "        G.nodes[f\"u{u}\"][\"color\"] = \"obsr\"\n",
    "    elif sock == \"t\":\n",
    "        G.nodes[f\"u{u}\"][\"color\"] = \"sock\"\n",
    "    else:\n",
    "        G.nodes[f\"u{u}\"][\"color\"] = \"part\"\n",
    "\n",
    "for p, u, t, polar, score, topic in df_posts[[\"PostID\", \"AuthorId\", \"createdAt\", \"majority_sent_label\", \"scores\", \"majority_topic_label\"]].values:\n",
    "    if f\"u{u}\" in G.nodes:\n",
    "        G.add_node(f\"p{p}\", id=p, kind=\"post\", time=t, user=u, polar=polar, score=score, topic=topic)\n",
    "\n",
    "for c, u, p, t, polar, score, topic in df_comts[[\"id\", \"CommenterId\", \"PostId\", \"createdAt\", \"majority_sent_label\", \"scores\", \"majority_topic_label\"]].values:\n",
    "    if f\"u{u}\" in G.nodes and f\"p{p}\" in G.nodes:\n",
    "        G.add_node(f\"c{c}\", id=c, kind=\"comt\", time=t, user=u, polar=polar, score=score, topic=topic)\n",
    "        G.add_edge(f\"c{c}\", f\"p{p}\", kind=\"known\", time=t, weight=1)\n",
    "        # G.add_edge(f\"p{p}\", f\"c{c}\", kind=\"known\", time=t, weight=1)\n",
    "\n",
    "for l, u, p, t in df_likes[[\"id\", \"UserId\", \"PostId\", \"createdAt\"]].values:\n",
    "    if f\"u{u}\" in G.nodes and f\"p{p}\" in G.nodes:\n",
    "        G.add_node(f\"l{l}\", user=f\"u{u}\", post=f\"p{p}\", time=t, id=l, kind=\"like\",\n",
    "                   topic=G.nodes[f\"p{p}\"][\"topic\"], polar=G.nodes[f\"p{p}\"][\"polar\"], score=1)\n",
    "        G.add_edge(f\"u{u}\", f\"l{l}\", time=t, weight=1, kind=\"infer\")\n",
    "        G.add_edge(f\"l{l}\", f\"p{p}\", time=t, weight=1, kind=\"known\")\n",
    "\n",
    "for u, p, t, v, s in df_views[[\"UserId\", \"PostId\", \"createdAt\", \"id\", \"singleView\"]].values:\n",
    "    if f\"u{u}\" in G.nodes and f\"p{p}\" in G.nodes:\n",
    "        G.add_node(f\"v{v}\", user=f\"u{u}\", post=f\"p{p}\", time=t, id=v, kind=\"view\",\n",
    "                   topic=G.nodes[f\"p{p}\"][\"topic\"], polar=G.nodes[f\"p{p}\"][\"polar\"], score=1)\n",
    "        G.add_edge(f\"u{u}\", f\"v{v}\", time=t, weight=1, kind=\"infer\")\n",
    "        G.add_edge(f\"v{v}\", f\"p{p}\", time=t, weight=1, kind=\"infer\")\n",
    "        if s == \"t\":\n",
    "            for c in post_comments[f\"p{p}\"]:\n",
    "                if c in G.nodes:\n",
    "                    G.add_edge(f\"v{v}\", c, time=t, weight=1, kind=\"infer\")\n",
    "user_view = {u: set() for u in G if u[0] == \"u\"}\n",
    "for u, p, t, v, s in df_views[[\"UserId\", \"PostId\", \"createdAt\", \"id\", \"singleView\"]].values:\n",
    "    if f\"u{u}\" in G.nodes and f\"p{p}\" in G.nodes and s != \"t\":\n",
    "        user_view[f\"u{u}\"].add(f\"v{v}\")\n",
    "\n",
    "single_view = {u: set() for u in G if u[0] == \"u\"}\n",
    "for u, p, t, v, s in df_views[[\"UserId\", \"PostId\", \"createdAt\", \"id\", \"singleView\"]].values:\n",
    "    if f\"u{u}\" in G.nodes and f\"p{p}\" in G.nodes and s == \"t\":\n",
    "        single_view[f\"u{u}\"].add(f\"v{v}\")\n",
    "\n",
    "print(f\"user view: {sum([len(user_view[u]) for u in user_view])}\")\n",
    "print(f\"single view: {sum([len(single_view[u]) for u in single_view])}\")\n",
    "\n",
    "for p in tqdm(G):\n",
    "    if p[0] in [\"p\", \"c\"]:\n",
    "        u = f\"u{G.nodes[p]['user']}\"\n",
    "        for v in user_view[u] | single_view[u]:\n",
    "            if G.nodes[v][\"time\"] <= G.nodes[p][\"time\"]:\n",
    "                G.add_edge(p, v, time=G.nodes[v][\"time\"], weight=1, kind=\"infer\")"
   ]
  },
  {
   "cell_type": "code",
   "execution_count": 8,
   "metadata": {},
   "outputs": [],
   "source": [
    "with open(\"res/pagerank/0.85-0.5-0.5.pkl\", \"rb\") as fp:\n",
    "    d = pickle.load(fp)"
   ]
  },
  {
   "cell_type": "code",
   "execution_count": 9,
   "metadata": {},
   "outputs": [
    {
     "data": {
      "text/html": [
       "<div>\n",
       "<style scoped>\n",
       "    .dataframe tbody tr th:only-of-type {\n",
       "        vertical-align: middle;\n",
       "    }\n",
       "\n",
       "    .dataframe tbody tr th {\n",
       "        vertical-align: top;\n",
       "    }\n",
       "\n",
       "    .dataframe thead th {\n",
       "        text-align: right;\n",
       "    }\n",
       "</style>\n",
       "<table border=\"1\" class=\"dataframe\">\n",
       "  <thead>\n",
       "    <tr style=\"text-align: right;\">\n",
       "      <th></th>\n",
       "      <th>MTurk_ID</th>\n",
       "      <th>username</th>\n",
       "      <th>id</th>\n",
       "      <th>isMod</th>\n",
       "      <th>isObserver</th>\n",
       "      <th>isPuppet</th>\n",
       "      <th>n_reports</th>\n",
       "      <th>puppet</th>\n",
       "      <th>report</th>\n",
       "      <th>issued_posts</th>\n",
       "      <th>...</th>\n",
       "      <th>Q17</th>\n",
       "      <th>Q18</th>\n",
       "      <th>Q19</th>\n",
       "      <th>Q20</th>\n",
       "      <th>Q21</th>\n",
       "      <th>Q22</th>\n",
       "      <th>Q23</th>\n",
       "      <th>Q24</th>\n",
       "      <th>Q25</th>\n",
       "      <th>Strategy</th>\n",
       "    </tr>\n",
       "  </thead>\n",
       "  <tbody>\n",
       "    <tr>\n",
       "      <th>7</th>\n",
       "      <td>A1CGW3DQ5JRSJH</td>\n",
       "      <td>Asia_3576</td>\n",
       "      <td>2340</td>\n",
       "      <td>f</td>\n",
       "      <td>t</td>\n",
       "      <td>f</td>\n",
       "      <td>0</td>\n",
       "      <td>0</td>\n",
       "      <td>0</td>\n",
       "      <td>0</td>\n",
       "      <td>...</td>\n",
       "      <td>1.0</td>\n",
       "      <td>2.0</td>\n",
       "      <td>2.0</td>\n",
       "      <td>2.0</td>\n",
       "      <td>2.0</td>\n",
       "      <td>2.0</td>\n",
       "      <td>1.0</td>\n",
       "      <td>1.0</td>\n",
       "      <td>3.0</td>\n",
       "      <td>NaN</td>\n",
       "    </tr>\n",
       "  </tbody>\n",
       "</table>\n",
       "<p>1 rows × 55 columns</p>\n",
       "</div>"
      ],
      "text/plain": [
       "         MTurk_ID   username    id isMod isObserver isPuppet  n_reports  \\\n",
       "7  A1CGW3DQ5JRSJH  Asia_3576  2340     f          t        f          0   \n",
       "\n",
       "   puppet  report  issued_posts  ...  Q17  Q18  Q19  Q20  Q21  Q22  Q23  Q24  \\\n",
       "7       0       0             0  ...  1.0  2.0  2.0  2.0  2.0  2.0  1.0  1.0   \n",
       "\n",
       "   Q25  Strategy  \n",
       "7  3.0       NaN  \n",
       "\n",
       "[1 rows x 55 columns]"
      ]
     },
     "execution_count": 9,
     "metadata": {},
     "output_type": "execute_result"
    }
   ],
   "source": [
    "df_users[df_users[\"id\"] == 2340]"
   ]
  },
  {
   "cell_type": "code",
   "execution_count": 10,
   "metadata": {},
   "outputs": [],
   "source": [
    "user_list = df_users[\"id\"].tolist()\n",
    "# user_list = df_users[df_users[\"isObserver\"] == \"f\"][\"id\"].tolist()"
   ]
  },
  {
   "cell_type": "code",
   "execution_count": 11,
   "metadata": {},
   "outputs": [
    {
     "data": {
      "application/vnd.jupyter.widget-view+json": {
       "model_id": "8f570c15ce654f5ca5cd6ca1f25e3674",
       "version_major": 2,
       "version_minor": 0
      },
      "text/plain": [
       "HBox(children=(FloatProgress(value=0.0, max=2720.0), HTML(value='')))"
      ]
     },
     "metadata": {},
     "output_type": "display_data"
    },
    {
     "name": "stdout",
     "output_type": "stream",
     "text": [
      "\n"
     ]
    }
   ],
   "source": [
    "obsr_list = [f\"u{u}\" for u in df_users[df_users[\"isObserver\"] == \"t\"][\"id\"]]\n",
    "pr_alpha = 0.85\n",
    "beta_a = 0.5\n",
    "beta_b = 0.5\n",
    "keyq = [(node_name, t, topic, polar, pr_alpha, beta_a, beta_b)\n",
    "        for node_name in obsr_list for t in range(1,6) for topic in range(8) for polar in [0, 2]\n",
    "       ]\n",
    "\n",
    "keyq = list(filter(lambda x: get_change(x[0], num2topic[x[2]])[x[1]-1]*(1-x[3]) > 0, tqdm(keyq)))"
   ]
  },
  {
   "cell_type": "code",
   "execution_count": 23,
   "metadata": {},
   "outputs": [
    {
     "data": {
      "application/vnd.jupyter.widget-view+json": {
       "model_id": "d603efeb90d94c36af1faa3077027826",
       "version_major": 2,
       "version_minor": 0
      },
      "text/plain": [
       "HBox(children=(FloatProgress(value=0.0, max=142.0), HTML(value='')))"
      ]
     },
     "metadata": {},
     "output_type": "display_data"
    },
    {
     "name": "stdout",
     "output_type": "stream",
     "text": [
      "\n"
     ]
    },
    {
     "data": {
      "application/vnd.jupyter.widget-view+json": {
       "model_id": "b8f4f3ec2d8c4dcea01e4800b0072afe",
       "version_major": 2,
       "version_minor": 0
      },
      "text/plain": [
       "HBox(children=(FloatProgress(value=0.0, max=142.0), HTML(value='')))"
      ]
     },
     "metadata": {},
     "output_type": "display_data"
    },
    {
     "name": "stdout",
     "output_type": "stream",
     "text": [
      "\n"
     ]
    }
   ],
   "source": [
    "property_full = {k: d[k][\"full_graph\"] for k in tqdm(keyq)}\n",
    "property_exps = {k: d[k][\"exps_graph\"] for k in tqdm(keyq)}\n",
    "\n",
    "df_full = pd.DataFrame.from_dict(property_full, orient=\"index\")\n",
    "df_exps = pd.DataFrame.from_dict(property_exps, orient=\"index\")\n",
    "df_exps[\"diameter\"] = np.nan"
   ]
  },
  {
   "cell_type": "code",
   "execution_count": 13,
   "metadata": {},
   "outputs": [
    {
     "data": {
      "text/html": [
       "<svg  width=\"495\" height=\"55\"><rect x=\"0\" y=\"0\" width=\"55\" height=\"55\" style=\"fill:#e41a1c;stroke-width:2;stroke:rgb(255,255,255)\"/><rect x=\"55\" y=\"0\" width=\"55\" height=\"55\" style=\"fill:#377eb8;stroke-width:2;stroke:rgb(255,255,255)\"/><rect x=\"110\" y=\"0\" width=\"55\" height=\"55\" style=\"fill:#4daf4a;stroke-width:2;stroke:rgb(255,255,255)\"/><rect x=\"165\" y=\"0\" width=\"55\" height=\"55\" style=\"fill:#984ea3;stroke-width:2;stroke:rgb(255,255,255)\"/><rect x=\"220\" y=\"0\" width=\"55\" height=\"55\" style=\"fill:#ff7f00;stroke-width:2;stroke:rgb(255,255,255)\"/><rect x=\"275\" y=\"0\" width=\"55\" height=\"55\" style=\"fill:#ffff33;stroke-width:2;stroke:rgb(255,255,255)\"/><rect x=\"330\" y=\"0\" width=\"55\" height=\"55\" style=\"fill:#a65628;stroke-width:2;stroke:rgb(255,255,255)\"/><rect x=\"385\" y=\"0\" width=\"55\" height=\"55\" style=\"fill:#f781bf;stroke-width:2;stroke:rgb(255,255,255)\"/><rect x=\"440\" y=\"0\" width=\"55\" height=\"55\" style=\"fill:#999999;stroke-width:2;stroke:rgb(255,255,255)\"/></svg>"
      ],
      "text/plain": [
       "[(0.8941176470588236, 0.10196078431372549, 0.10980392156862745),\n",
       " (0.21568627450980393, 0.49411764705882355, 0.7215686274509804),\n",
       " (0.30196078431372547, 0.6862745098039216, 0.2901960784313726),\n",
       " (0.596078431372549, 0.3058823529411765, 0.6392156862745098),\n",
       " (1.0, 0.4980392156862745, 0.0),\n",
       " (1.0, 1.0, 0.2),\n",
       " (0.6509803921568628, 0.33725490196078434, 0.1568627450980392),\n",
       " (0.9686274509803922, 0.5058823529411764, 0.7490196078431373),\n",
       " (0.6, 0.6, 0.6)]"
      ]
     },
     "execution_count": 13,
     "metadata": {},
     "output_type": "execute_result"
    }
   ],
   "source": [
    "use_color = sns.color_palette(\"Set1\")\n",
    "use_color"
   ]
  },
  {
   "cell_type": "code",
   "execution_count": 31,
   "metadata": {},
   "outputs": [
    {
     "name": "stderr",
     "output_type": "stream",
     "text": [
      "/home/rui/venvs/gcn/lib/python3.8/site-packages/numpy/lib/nanfunctions.py:1111: RuntimeWarning: Mean of empty slice\n",
      "  return np.nanmean(a, axis, out=out, keepdims=keepdims)\n"
     ]
    },
    {
     "data": {
      "text/html": [
       "<div>\n",
       "<style scoped>\n",
       "    .dataframe tbody tr th:only-of-type {\n",
       "        vertical-align: middle;\n",
       "    }\n",
       "\n",
       "    .dataframe tbody tr th {\n",
       "        vertical-align: top;\n",
       "    }\n",
       "\n",
       "    .dataframe thead th {\n",
       "        text-align: right;\n",
       "    }\n",
       "</style>\n",
       "<table border=\"1\" class=\"dataframe\">\n",
       "  <thead>\n",
       "    <tr style=\"text-align: right;\">\n",
       "      <th></th>\n",
       "      <th></th>\n",
       "      <th>nodes</th>\n",
       "      <th>edges</th>\n",
       "      <th>components</th>\n",
       "      <th>density</th>\n",
       "      <th>diameter</th>\n",
       "      <th>degree</th>\n",
       "    </tr>\n",
       "  </thead>\n",
       "  <tbody>\n",
       "    <tr>\n",
       "      <th rowspan=\"3\" valign=\"top\">Full Influence Graph</th>\n",
       "      <th>mean</th>\n",
       "      <td>462.183099</td>\n",
       "      <td>1476.161972</td>\n",
       "      <td>1.000000</td>\n",
       "      <td>0.023673</td>\n",
       "      <td>3.021127</td>\n",
       "      <td>1.305359</td>\n",
       "    </tr>\n",
       "    <tr>\n",
       "      <th>median</th>\n",
       "      <td>18.500000</td>\n",
       "      <td>30.000000</td>\n",
       "      <td>1.000000</td>\n",
       "      <td>0.001606</td>\n",
       "      <td>3.000000</td>\n",
       "      <td>1.612500</td>\n",
       "    </tr>\n",
       "    <tr>\n",
       "      <th>std</th>\n",
       "      <td>1225.934304</td>\n",
       "      <td>4455.952356</td>\n",
       "      <td>0.000000</td>\n",
       "      <td>0.059780</td>\n",
       "      <td>2.980952</td>\n",
       "      <td>1.273526</td>\n",
       "    </tr>\n",
       "    <tr>\n",
       "      <th rowspan=\"3\" valign=\"top\">Expression only Influence Graph</th>\n",
       "      <th>mean</th>\n",
       "      <td>14.711268</td>\n",
       "      <td>5.619718</td>\n",
       "      <td>9.091549</td>\n",
       "      <td>0.008994</td>\n",
       "      <td>NaN</td>\n",
       "      <td>0.149261</td>\n",
       "    </tr>\n",
       "    <tr>\n",
       "      <th>median</th>\n",
       "      <td>3.000000</td>\n",
       "      <td>0.000000</td>\n",
       "      <td>3.000000</td>\n",
       "      <td>0.000000</td>\n",
       "      <td>NaN</td>\n",
       "      <td>0.000000</td>\n",
       "    </tr>\n",
       "    <tr>\n",
       "      <th>std</th>\n",
       "      <td>26.742158</td>\n",
       "      <td>12.095209</td>\n",
       "      <td>15.051168</td>\n",
       "      <td>0.018341</td>\n",
       "      <td>NaN</td>\n",
       "      <td>0.208950</td>\n",
       "    </tr>\n",
       "  </tbody>\n",
       "</table>\n",
       "</div>"
      ],
      "text/plain": [
       "                                              nodes        edges  components  \\\n",
       "Full Influence Graph            mean     462.183099  1476.161972    1.000000   \n",
       "                                median    18.500000    30.000000    1.000000   \n",
       "                                std     1225.934304  4455.952356    0.000000   \n",
       "Expression only Influence Graph mean      14.711268     5.619718    9.091549   \n",
       "                                median     3.000000     0.000000    3.000000   \n",
       "                                std       26.742158    12.095209   15.051168   \n",
       "\n",
       "                                         density  diameter    degree  \n",
       "Full Influence Graph            mean    0.023673  3.021127  1.305359  \n",
       "                                median  0.001606  3.000000  1.612500  \n",
       "                                std     0.059780  2.980952  1.273526  \n",
       "Expression only Influence Graph mean    0.008994       NaN  0.149261  \n",
       "                                median  0.000000       NaN  0.000000  \n",
       "                                std     0.018341       NaN  0.208950  "
      ]
     },
     "execution_count": 31,
     "metadata": {},
     "output_type": "execute_result"
    }
   ],
   "source": [
    "pd.DataFrame.from_dict({\n",
    "    (\"Full Influence Graph\", \"mean\"): df_full.mean(axis=0),\n",
    "    (\"Full Influence Graph\", \"median\"): df_full.median(axis=0),\n",
    "    (\"Full Influence Graph\", \"std\"): df_full.std(axis=0),\n",
    "    (\"Expression only Influence Graph\", \"mean\"): df_exps.mean(axis=0),\n",
    "    (\"Expression only Influence Graph\", \"median\"): df_exps.median(axis=0),\n",
    "    (\"Expression only Influence Graph\", \"std\"): df_exps.std(axis=0),\n",
    "}).T"
   ]
  },
  {
   "cell_type": "code",
   "execution_count": 37,
   "metadata": {},
   "outputs": [
    {
     "name": "stderr",
     "output_type": "stream",
     "text": [
      "/home/rui/venvs/gcn/lib/python3.8/site-packages/pandas/core/series.py:726: RuntimeWarning: divide by zero encountered in log10\n",
      "  result = getattr(ufunc, method)(*inputs, **kwargs)\n",
      "/home/rui/venvs/gcn/lib/python3.8/site-packages/pandas/core/series.py:726: RuntimeWarning: divide by zero encountered in log10\n",
      "  result = getattr(ufunc, method)(*inputs, **kwargs)\n"
     ]
    },
    {
     "data": {
      "image/png": "[encoded data removed]",
      "text/plain": [
       "<Figure size 288x288 with 1 Axes>"
      ]
     },
     "metadata": {},
     "output_type": "display_data"
    },
    {
     "data": {
      "image/png": "[encoded data removed]",
      "text/plain": [
       "<Figure size 288x288 with 1 Axes>"
      ]
     },
     "metadata": {},
     "output_type": "display_data"
    },
    {
     "data": {
      "image/png": "[encoded data removed]",
      "text/plain": [
       "<Figure size 288x288 with 1 Axes>"
      ]
     },
     "metadata": {},
     "output_type": "display_data"
    },
    {
     "data": {
      "image/png": "[encoded data removed]",
      "text/plain": [
       "<Figure size 288x288 with 1 Axes>"
      ]
     },
     "metadata": {},
     "output_type": "display_data"
    },
    {
     "data": {
      "image/png": "[encoded data removed]",
      "text/plain": [
       "<Figure size 288x288 with 1 Axes>"
      ]
     },
     "metadata": {},
     "output_type": "display_data"
    },
    {
     "data": {
      "image/png": "[encoded data removed]",
      "text/plain": [
       "<Figure size 288x288 with 1 Axes>"
      ]
     },
     "metadata": {},
     "output_type": "display_data"
    }
   ],
   "source": [
    "def plot_hist(name=\"nodes\", xlabel=\"\", ylabel=\"\", title=\"\", log_scale=False):\n",
    "    fig = plt.figure(figsize=(4, 4))\n",
    "    ax = fig.add_subplot()\n",
    "\n",
    "    sns.ecdfplot(df_full[name], ax=ax, stat=\"proportion\", label=\"Full Influence Graph\", color=use_color[1], alpha=0.7, complementary=True, log_scale=log_scale)\n",
    "    sns.ecdfplot(df_exps[name], ax=ax, stat=\"proportion\", label=\"Expression only Influence Graph\", color=use_color[4], alpha=0.7, complementary=True, log_scale=log_scale)\n",
    "\n",
    "    ax.set_title(f\"FIG mean {df_full[name].mean():.2f} std {df_full[name].std():.2f}, Expression mean {df_exps[name].mean():.2f} std {df_exps[name].std():.2f}\")\n",
    "    ax.set_xlabel(name)\n",
    "    ax.legend()\n",
    "    \n",
    "    return fig, ax\n",
    "\n",
    "fig = plot_hist(name=\"nodes\", log_scale=True)\n",
    "fig = plot_hist(name=\"edges\", log_scale=True)\n",
    "fig = plot_hist(name=\"components\")\n",
    "fig = plot_hist(name=\"density\")\n",
    "fig = plot_hist(name=\"diameter\")\n",
    "fig = plot_hist(name=\"degree\")"
   ]
  }
 ],
 "metadata": {
  "kernelspec": {
   "display_name": "gcn",
   "language": "python",
   "name": "gcn"
  },
  "language_info": {
   "codemirror_mode": {
    "name": "ipython",
    "version": 3
   },
   "file_extension": ".py",
   "mimetype": "text/x-python",
   "name": "python",
   "nbconvert_exporter": "python",
   "pygments_lexer": "ipython3",
   "version": "3.8.5"
  }
 },
 "nbformat": 4,
 "nbformat_minor": 4
}
