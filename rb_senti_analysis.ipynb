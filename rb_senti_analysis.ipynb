{
 "cells": [
  {
   "cell_type": "code",
   "execution_count": 17,
   "metadata": {},
   "outputs": [
    {
     "name": "stderr",
     "output_type": "stream",
     "text": [
      "/home/ruibo/anaconda3/envs/tf_gpu_env/lib/python3.6/site-packages/dask/dataframe/utils.py:14: FutureWarning: pandas.util.testing is deprecated. Use the functions in the public API at pandas.testing instead.\n",
      "  import pandas.util.testing as tm\n"
     ]
    }
   ],
   "source": [
    "import fasttext\n",
    "import pandas as pd\n",
    "import swifter"
   ]
  },
  {
   "cell_type": "code",
   "execution_count": 17,
   "metadata": {},
   "outputs": [],
   "source": [
    "senti_train = pd.read_csv(\"./sentiment_dataset/sst2_train_80.csv\", header=0)\n",
    "senti_test = pd.read_csv(\"./sentiment_dataset/sst2_eval.csv\", header=0)"
   ]
  },
  {
   "cell_type": "code",
   "execution_count": 18,
   "metadata": {},
   "outputs": [
    {
     "data": {
      "text/html": [
       "<div>\n",
       "<style scoped>\n",
       "    .dataframe tbody tr th:only-of-type {\n",
       "        vertical-align: middle;\n",
       "    }\n",
       "\n",
       "    .dataframe tbody tr th {\n",
       "        vertical-align: top;\n",
       "    }\n",
       "\n",
       "    .dataframe thead th {\n",
       "        text-align: right;\n",
       "    }\n",
       "</style>\n",
       "<table border=\"1\" class=\"dataframe\">\n",
       "  <thead>\n",
       "    <tr style=\"text-align: right;\">\n",
       "      <th></th>\n",
       "      <th>labels</th>\n",
       "      <th>text</th>\n",
       "    </tr>\n",
       "  </thead>\n",
       "  <tbody>\n",
       "    <tr>\n",
       "      <th>0</th>\n",
       "      <td>1</td>\n",
       "      <td>are until the film is well under way and yet i...</td>\n",
       "    </tr>\n",
       "    <tr>\n",
       "      <th>1</th>\n",
       "      <td>0</td>\n",
       "      <td>every cliche in the war movie compendium acros...</td>\n",
       "    </tr>\n",
       "    <tr>\n",
       "      <th>2</th>\n",
       "      <td>1</td>\n",
       "      <td>yields surprises</td>\n",
       "    </tr>\n",
       "    <tr>\n",
       "      <th>3</th>\n",
       "      <td>0</td>\n",
       "      <td>the movie has a script by paul pender made of ...</td>\n",
       "    </tr>\n",
       "    <tr>\n",
       "      <th>4</th>\n",
       "      <td>0</td>\n",
       "      <td>in the wrong hands ie peploe s it s simply unb...</td>\n",
       "    </tr>\n",
       "  </tbody>\n",
       "</table>\n",
       "</div>"
      ],
      "text/plain": [
       "   labels                                               text\n",
       "0       1  are until the film is well under way and yet i...\n",
       "1       0  every cliche in the war movie compendium acros...\n",
       "2       1                                  yields surprises \n",
       "3       0  the movie has a script by paul pender made of ...\n",
       "4       0  in the wrong hands ie peploe s it s simply unb..."
      ]
     },
     "execution_count": 18,
     "metadata": {},
     "output_type": "execute_result"
    }
   ],
   "source": [
    "senti_train.head()"
   ]
  },
  {
   "cell_type": "code",
   "execution_count": 19,
   "metadata": {},
   "outputs": [
    {
     "data": {
      "text/html": [
       "<div>\n",
       "<style scoped>\n",
       "    .dataframe tbody tr th:only-of-type {\n",
       "        vertical-align: middle;\n",
       "    }\n",
       "\n",
       "    .dataframe tbody tr th {\n",
       "        vertical-align: top;\n",
       "    }\n",
       "\n",
       "    .dataframe thead th {\n",
       "        text-align: right;\n",
       "    }\n",
       "</style>\n",
       "<table border=\"1\" class=\"dataframe\">\n",
       "  <thead>\n",
       "    <tr style=\"text-align: right;\">\n",
       "      <th></th>\n",
       "      <th>labels</th>\n",
       "      <th>text</th>\n",
       "    </tr>\n",
       "  </thead>\n",
       "  <tbody>\n",
       "    <tr>\n",
       "      <th>0</th>\n",
       "      <td>1</td>\n",
       "      <td>what s next</td>\n",
       "    </tr>\n",
       "    <tr>\n",
       "      <th>1</th>\n",
       "      <td>1</td>\n",
       "      <td>to amuse even the most resolutely unreligious ...</td>\n",
       "    </tr>\n",
       "    <tr>\n",
       "      <th>2</th>\n",
       "      <td>1</td>\n",
       "      <td>take any yearold boy to see this picture</td>\n",
       "    </tr>\n",
       "    <tr>\n",
       "      <th>3</th>\n",
       "      <td>1</td>\n",
       "      <td>is such highwattage brainpower coupled with p...</td>\n",
       "    </tr>\n",
       "    <tr>\n",
       "      <th>4</th>\n",
       "      <td>1</td>\n",
       "      <td>are an immensely appealing couple</td>\n",
       "    </tr>\n",
       "  </tbody>\n",
       "</table>\n",
       "</div>"
      ],
      "text/plain": [
       "   labels                                               text\n",
       "0       1                                       what s next \n",
       "1       1  to amuse even the most resolutely unreligious ...\n",
       "2       1          take any yearold boy to see this picture \n",
       "3       1   is such highwattage brainpower coupled with p...\n",
       "4       1                 are an immensely appealing couple "
      ]
     },
     "execution_count": 19,
     "metadata": {},
     "output_type": "execute_result"
    }
   ],
   "source": [
    "senti_test.head()"
   ]
  },
  {
   "cell_type": "code",
   "execution_count": 26,
   "metadata": {},
   "outputs": [],
   "source": [
    "senti_train.to_csv(\"./sentiment_dataset/senti_train.txt\", sep=' ', index=False, header=False)\n",
    "senti_test.to_csv(\"./sentiment_dataset/senti_test.txt\", sep=' ', index=False, header=False)"
   ]
  },
  {
   "cell_type": "code",
   "execution_count": 27,
   "metadata": {},
   "outputs": [],
   "source": [
    "senti_model = fasttext.train_supervised(input=\"./sentiment_dataset/senti_train.txt\", autotuneValidationFile='./sentiment_dataset/senti_test.txt')"
   ]
  },
  {
   "cell_type": "code",
   "execution_count": 28,
   "metadata": {},
   "outputs": [
    {
     "data": {
      "text/plain": [
       "(13179, 0.9183549586463313, 0.9183549586463313)"
      ]
     },
     "execution_count": 28,
     "metadata": {},
     "output_type": "execute_result"
    }
   ],
   "source": [
    "senti_model.test(\"./sentiment_dataset/senti_test.txt\", k=1)"
   ]
  },
  {
   "cell_type": "code",
   "execution_count": 34,
   "metadata": {},
   "outputs": [],
   "source": [
    "senti_model.save_model('sentiment.bin')"
   ]
  },
  {
   "cell_type": "code",
   "execution_count": 33,
   "metadata": {},
   "outputs": [
    {
     "data": {
      "text/plain": [
       "([['__label__positive', '__label__negative'],\n",
       "  ['__label__negative', '__label__positive']],\n",
       " [array([1.0000093e+00, 1.0700522e-05], dtype=float32),\n",
       "  array([0.67083234, 0.32918763], dtype=float32)])"
      ]
     },
     "execution_count": 33,
     "metadata": {},
     "output_type": "execute_result"
    }
   ],
   "source": [
    "# how to use\n",
    "senti_model.predict(['I love you!', 'I hate you!'], k=2)"
   ]
  },
  {
   "cell_type": "code",
   "execution_count": 3,
   "metadata": {},
   "outputs": [],
   "source": [
    "# load model\n",
    "senti_model = fasttext.load_model('./sentiment.bin')"
   ]
  },
  {
   "cell_type": "code",
   "execution_count": 4,
   "metadata": {},
   "outputs": [
    {
     "data": {
      "text/plain": [
       "([['__label__positive', '__label__negative'],\n",
       "  ['__label__negative', '__label__positive']],\n",
       " [array([1.0000093e+00, 1.0700522e-05], dtype=float32),\n",
       "  array([0.67083234, 0.32918763], dtype=float32)])"
      ]
     },
     "execution_count": 4,
     "metadata": {},
     "output_type": "execute_result"
    }
   ],
   "source": [
    "# how to use\n",
    "senti_model.predict(['I love you!', 'I hate you!'], k=2)"
   ]
  },
  {
   "cell_type": "code",
   "execution_count": 5,
   "metadata": {},
   "outputs": [],
   "source": [
    "df_posts = pd.read_csv(\"./rb_data/all_posts.csv\", parse_dates=['createdAt', 'updatedAt'], header=0)"
   ]
  },
  {
   "cell_type": "code",
   "execution_count": 12,
   "metadata": {},
   "outputs": [
    {
     "data": {
      "text/html": [
       "<div>\n",
       "<style scoped>\n",
       "    .dataframe tbody tr th:only-of-type {\n",
       "        vertical-align: middle;\n",
       "    }\n",
       "\n",
       "    .dataframe tbody tr th {\n",
       "        vertical-align: top;\n",
       "    }\n",
       "\n",
       "    .dataframe thead th {\n",
       "        text-align: right;\n",
       "    }\n",
       "</style>\n",
       "<table border=\"1\" class=\"dataframe\">\n",
       "  <thead>\n",
       "    <tr style=\"text-align: right;\">\n",
       "      <th></th>\n",
       "      <th>text</th>\n",
       "      <th>tags</th>\n",
       "      <th>createdAt</th>\n",
       "      <th>updatedAt</th>\n",
       "      <th>AuthorId</th>\n",
       "    </tr>\n",
       "  </thead>\n",
       "  <tbody>\n",
       "    <tr>\n",
       "      <th>0</th>\n",
       "      <td>I think that we should move away from nuclear ...</td>\n",
       "      <td>{nuclear,energy,enviroment}</td>\n",
       "      <td>2020-09-03 01:59:10.051000+00:00</td>\n",
       "      <td>2020-09-04 13:08:51.133000+00:00</td>\n",
       "      <td>2580</td>\n",
       "    </tr>\n",
       "    <tr>\n",
       "      <th>1</th>\n",
       "      <td>Given the security put in place since 911, it ...</td>\n",
       "      <td>{TerroristAttack}</td>\n",
       "      <td>2020-09-03 02:28:29.002000+00:00</td>\n",
       "      <td>2020-09-04 13:08:51.133000+00:00</td>\n",
       "      <td>2593</td>\n",
       "    </tr>\n",
       "    <tr>\n",
       "      <th>3</th>\n",
       "      <td>It is crucial that the United States plays a r...</td>\n",
       "      <td>{Worldaffairs}</td>\n",
       "      <td>2020-09-03 02:34:07.312000+00:00</td>\n",
       "      <td>2020-09-04 13:08:51.133000+00:00</td>\n",
       "      <td>2593</td>\n",
       "    </tr>\n",
       "    <tr>\n",
       "      <th>4</th>\n",
       "      <td>Strongly disapprove of a two percent annual ta...</td>\n",
       "      <td>{WealthTax}</td>\n",
       "      <td>2020-09-03 02:36:27.825000+00:00</td>\n",
       "      <td>2020-09-04 13:08:51.133000+00:00</td>\n",
       "      <td>2593</td>\n",
       "    </tr>\n",
       "    <tr>\n",
       "      <th>5</th>\n",
       "      <td>The U.S. government has gone too far in respon...</td>\n",
       "      <td>{COVID,pandemic}</td>\n",
       "      <td>2020-09-03 02:40:41.623000+00:00</td>\n",
       "      <td>2020-09-04 13:08:51.133000+00:00</td>\n",
       "      <td>2679</td>\n",
       "    </tr>\n",
       "  </tbody>\n",
       "</table>\n",
       "</div>"
      ],
      "text/plain": [
       "                                                text  \\\n",
       "0  I think that we should move away from nuclear ...   \n",
       "1  Given the security put in place since 911, it ...   \n",
       "3  It is crucial that the United States plays a r...   \n",
       "4  Strongly disapprove of a two percent annual ta...   \n",
       "5  The U.S. government has gone too far in respon...   \n",
       "\n",
       "                          tags                        createdAt  \\\n",
       "0  {nuclear,energy,enviroment} 2020-09-03 01:59:10.051000+00:00   \n",
       "1            {TerroristAttack} 2020-09-03 02:28:29.002000+00:00   \n",
       "3               {Worldaffairs} 2020-09-03 02:34:07.312000+00:00   \n",
       "4                  {WealthTax} 2020-09-03 02:36:27.825000+00:00   \n",
       "5             {COVID,pandemic} 2020-09-03 02:40:41.623000+00:00   \n",
       "\n",
       "                         updatedAt  AuthorId  \n",
       "0 2020-09-04 13:08:51.133000+00:00      2580  \n",
       "1 2020-09-04 13:08:51.133000+00:00      2593  \n",
       "3 2020-09-04 13:08:51.133000+00:00      2593  \n",
       "4 2020-09-04 13:08:51.133000+00:00      2593  \n",
       "5 2020-09-04 13:08:51.133000+00:00      2679  "
      ]
     },
     "execution_count": 12,
     "metadata": {},
     "output_type": "execute_result"
    }
   ],
   "source": [
    "# filter our missing data\n",
    "df_posts = df_posts[df_posts['AuthorId'].notna()]\n",
    "df_posts = df_posts[df_posts['text'].notna()]\n",
    "df_posts['AuthorId'] = [int(id) for id in df_posts['AuthorId'].tolist()]\n",
    "\n",
    "# pick the columns of our interests\n",
    "sel_cols = ['text', 'tags', 'createdAt', 'updatedAt', 'AuthorId']\n",
    "df_posts = df_posts[sel_cols]\n",
    "df_posts.head()"
   ]
  },
  {
   "cell_type": "code",
   "execution_count": 15,
   "metadata": {},
   "outputs": [],
   "source": [
    "def preprocess_text(text):\n",
    "    import nltk\n",
    "    import string\n",
    "    import re\n",
    "    from nltk import word_tokenize\n",
    "    from nltk.corpus import stopwords\n",
    "    # Check characters to see if they are in punctuation\n",
    "    nopunc = [char for char in text if char not in string.punctuation]\n",
    "    # Join the characters again to form the string.\n",
    "    nopunc = ''.join(nopunc)\n",
    "    # remove URLs\n",
    "    nopunc = re.sub('((www\\.[^\\s]+)|(https?://[^\\s]+)|(http?://[^\\s]+))', '', nopunc)\n",
    "    nopunc = re.sub(r'http\\S+', '', nopunc)\n",
    "    # remove usernames\n",
    "    nopunc = re.sub('@[^\\s]+', '', nopunc)\n",
    "    # remove the # in #hashtag\n",
    "    nopunc = re.sub(r'#([^\\s]+)', r'\\1', nopunc)\n",
    "    nopunc = re.sub(r\"[^a-zA-Z.,!?]+\", r\" \", nopunc)\n",
    "    return nopunc"
   ]
  },
  {
   "cell_type": "code",
   "execution_count": 18,
   "metadata": {},
   "outputs": [
    {
     "data": {
      "application/vnd.jupyter.widget-view+json": {
       "model_id": "ef9f684867b44ca4ad4278891905ddaa",
       "version_major": 2,
       "version_minor": 0
      },
      "text/plain": [
       "HBox(children=(FloatProgress(value=0.0, description='Pandas Apply', max=1057.0, style=ProgressStyle(descriptio…"
      ]
     },
     "metadata": {},
     "output_type": "display_data"
    },
    {
     "name": "stdout",
     "output_type": "stream",
     "text": [
      "\n"
     ]
    }
   ],
   "source": [
    "df_posts['norm_text'] = df_posts['text'].swifter.allow_dask_on_strings().apply(preprocess_text)"
   ]
  },
  {
   "cell_type": "code",
   "execution_count": 20,
   "metadata": {},
   "outputs": [
    {
     "data": {
      "text/plain": [
       "['I think that we should move away from nuclear energy as an energy sourcethe harm that it does to the environment is damaging and we have to go towards a less harmful energy source',\n",
       " 'Given the security put in place since it is unlikely that the United States will experience a major terrorist attack that will kill more than American citizens ',\n",
       " 'It is crucial that the United States plays a role in world affairs moving forward It is best for our country ']"
      ]
     },
     "execution_count": 20,
     "metadata": {},
     "output_type": "execute_result"
    }
   ],
   "source": [
    "df_posts['norm_text'].to_list()[:3]"
   ]
  },
  {
   "cell_type": "code",
   "execution_count": 26,
   "metadata": {},
   "outputs": [],
   "source": [
    "# use fasttext classifier to do prediction\n",
    "results = senti_model.predict(df_posts['norm_text'].to_list(), k=1)"
   ]
  },
  {
   "cell_type": "code",
   "execution_count": 27,
   "metadata": {},
   "outputs": [
    {
     "data": {
      "text/plain": [
       "[['__label__positive'], ['__label__negative'], ['__label__positive']]"
      ]
     },
     "execution_count": 27,
     "metadata": {},
     "output_type": "execute_result"
    }
   ],
   "source": [
    "# results is a tuple, [0] is the predicted label, and [1] is the prediction score\n",
    "results[0][:3]"
   ]
  },
  {
   "cell_type": "code",
   "execution_count": 29,
   "metadata": {},
   "outputs": [
    {
     "data": {
      "text/plain": [
       "['positive', 'negative', 'positive']"
      ]
     },
     "execution_count": 29,
     "metadata": {},
     "output_type": "execute_result"
    }
   ],
   "source": [
    "# process the labels\n",
    "predict_labels = [label[0].replace(\"__label__\", \"\") for label in results[0]]\n",
    "predict_labels[:3]"
   ]
  },
  {
   "cell_type": "code",
   "execution_count": 31,
   "metadata": {},
   "outputs": [
    {
     "data": {
      "text/plain": [
       "[0.64712965, 0.70748234, 0.97706586]"
      ]
     },
     "execution_count": 31,
     "metadata": {},
     "output_type": "execute_result"
    }
   ],
   "source": [
    "# process the scores\n",
    "predict_scores = [score[0] for score in results[1]]\n",
    "predict_scores[:3]"
   ]
  },
  {
   "cell_type": "code",
   "execution_count": 32,
   "metadata": {},
   "outputs": [
    {
     "data": {
      "text/html": [
       "<div>\n",
       "<style scoped>\n",
       "    .dataframe tbody tr th:only-of-type {\n",
       "        vertical-align: middle;\n",
       "    }\n",
       "\n",
       "    .dataframe tbody tr th {\n",
       "        vertical-align: top;\n",
       "    }\n",
       "\n",
       "    .dataframe thead th {\n",
       "        text-align: right;\n",
       "    }\n",
       "</style>\n",
       "<table border=\"1\" class=\"dataframe\">\n",
       "  <thead>\n",
       "    <tr style=\"text-align: right;\">\n",
       "      <th></th>\n",
       "      <th>text</th>\n",
       "      <th>tags</th>\n",
       "      <th>createdAt</th>\n",
       "      <th>updatedAt</th>\n",
       "      <th>AuthorId</th>\n",
       "      <th>norm_text</th>\n",
       "      <th>labels</th>\n",
       "      <th>scores</th>\n",
       "    </tr>\n",
       "  </thead>\n",
       "  <tbody>\n",
       "    <tr>\n",
       "      <th>0</th>\n",
       "      <td>I think that we should move away from nuclear ...</td>\n",
       "      <td>{nuclear,energy,enviroment}</td>\n",
       "      <td>2020-09-03 01:59:10.051000+00:00</td>\n",
       "      <td>2020-09-04 13:08:51.133000+00:00</td>\n",
       "      <td>2580</td>\n",
       "      <td>I think that we should move away from nuclear ...</td>\n",
       "      <td>positive</td>\n",
       "      <td>0.647130</td>\n",
       "    </tr>\n",
       "    <tr>\n",
       "      <th>1</th>\n",
       "      <td>Given the security put in place since 911, it ...</td>\n",
       "      <td>{TerroristAttack}</td>\n",
       "      <td>2020-09-03 02:28:29.002000+00:00</td>\n",
       "      <td>2020-09-04 13:08:51.133000+00:00</td>\n",
       "      <td>2593</td>\n",
       "      <td>Given the security put in place since it is un...</td>\n",
       "      <td>negative</td>\n",
       "      <td>0.707482</td>\n",
       "    </tr>\n",
       "    <tr>\n",
       "      <th>3</th>\n",
       "      <td>It is crucial that the United States plays a r...</td>\n",
       "      <td>{Worldaffairs}</td>\n",
       "      <td>2020-09-03 02:34:07.312000+00:00</td>\n",
       "      <td>2020-09-04 13:08:51.133000+00:00</td>\n",
       "      <td>2593</td>\n",
       "      <td>It is crucial that the United States plays a r...</td>\n",
       "      <td>positive</td>\n",
       "      <td>0.977066</td>\n",
       "    </tr>\n",
       "  </tbody>\n",
       "</table>\n",
       "</div>"
      ],
      "text/plain": [
       "                                                text  \\\n",
       "0  I think that we should move away from nuclear ...   \n",
       "1  Given the security put in place since 911, it ...   \n",
       "3  It is crucial that the United States plays a r...   \n",
       "\n",
       "                          tags                        createdAt  \\\n",
       "0  {nuclear,energy,enviroment} 2020-09-03 01:59:10.051000+00:00   \n",
       "1            {TerroristAttack} 2020-09-03 02:28:29.002000+00:00   \n",
       "3               {Worldaffairs} 2020-09-03 02:34:07.312000+00:00   \n",
       "\n",
       "                         updatedAt  AuthorId  \\\n",
       "0 2020-09-04 13:08:51.133000+00:00      2580   \n",
       "1 2020-09-04 13:08:51.133000+00:00      2593   \n",
       "3 2020-09-04 13:08:51.133000+00:00      2593   \n",
       "\n",
       "                                           norm_text    labels    scores  \n",
       "0  I think that we should move away from nuclear ...  positive  0.647130  \n",
       "1  Given the security put in place since it is un...  negative  0.707482  \n",
       "3  It is crucial that the United States plays a r...  positive  0.977066  "
      ]
     },
     "execution_count": 32,
     "metadata": {},
     "output_type": "execute_result"
    }
   ],
   "source": [
    "df_posts['labels'] = predict_labels\n",
    "df_posts['scores'] = predict_scores\n",
    "df_posts.head(3)"
   ]
  },
  {
   "cell_type": "code",
   "execution_count": null,
   "metadata": {},
   "outputs": [],
   "source": []
  }
 ],
 "metadata": {
  "kernelspec": {
   "display_name": "Python 3",
   "language": "python",
   "name": "python3"
  },
  "language_info": {
   "codemirror_mode": {
    "name": "ipython",
    "version": 3
   },
   "file_extension": ".py",
   "mimetype": "text/x-python",
   "name": "python",
   "nbconvert_exporter": "python",
   "pygments_lexer": "ipython3",
   "version": "3.6.10"
  }
 },
 "nbformat": 4,
 "nbformat_minor": 4
}
