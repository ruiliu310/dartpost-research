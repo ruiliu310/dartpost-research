{
 "cells": [
  {
   "cell_type": "code",
   "execution_count": 56,
   "metadata": {},
   "outputs": [],
   "source": [
    "import pandas as pd\n",
    "import numpy as np\n",
    "import json\n",
    "import swifter\n",
    "import nltk\n",
    "import string\n",
    "import re\n",
    "import ast\n",
    "import emoji_data_python\n",
    "from nltk import word_tokenize\n",
    "from nltk.corpus import stopwords\n",
    "from sklearn.model_selection import train_test_split\n",
    "import codecs\n",
    "from matplotlib import pyplot as plt\n",
    "import seaborn as sns"
   ]
  },
  {
   "cell_type": "markdown",
   "metadata": {},
   "source": [
    "# Posts"
   ]
  },
  {
   "cell_type": "markdown",
   "metadata": {},
   "source": [
    "## load data"
   ]
  },
  {
   "cell_type": "code",
   "execution_count": 65,
   "metadata": {},
   "outputs": [],
   "source": [
    "df_comments = pd.read_csv(\"./rb_data/all_comments.csv\", header=0)\n",
    "df_users = pd.read_csv(\"./rb_data/all_users.csv\", header=0)\n",
    "df_posts = pd.read_csv(\"./rb_data/all_posts.csv\", header=0)\n",
    "df_report_user = pd.read_csv(\"./rb_data/all_report_user.csv\", header=0)"
   ]
  },
  {
   "cell_type": "code",
   "execution_count": 118,
   "metadata": {},
   "outputs": [],
   "source": [
    "df_socks_assigns = pd.read_csv('./assigns/sockpuppet_assigned.csv', header=0)"
   ]
  },
  {
   "cell_type": "code",
   "execution_count": 119,
   "metadata": {},
   "outputs": [
    {
     "data": {
      "text/plain": [
       "210"
      ]
     },
     "execution_count": 119,
     "metadata": {},
     "output_type": "execute_result"
    }
   ],
   "source": [
    "len(df_socks_assigns)"
   ]
  },
  {
   "cell_type": "code",
   "execution_count": 120,
   "metadata": {},
   "outputs": [],
   "source": [
    "# filter our missing data\n",
    "df_posts = df_posts[df_posts['AuthorId'].notna()]"
   ]
  },
  {
   "cell_type": "markdown",
   "metadata": {},
   "source": [
    "### Assign roles"
   ]
  },
  {
   "cell_type": "code",
   "execution_count": 32,
   "metadata": {},
   "outputs": [
    {
     "data": {
      "text/html": [
       "<div>\n",
       "<style scoped>\n",
       "    .dataframe tbody tr th:only-of-type {\n",
       "        vertical-align: middle;\n",
       "    }\n",
       "\n",
       "    .dataframe tbody tr th {\n",
       "        vertical-align: top;\n",
       "    }\n",
       "\n",
       "    .dataframe thead th {\n",
       "        text-align: right;\n",
       "    }\n",
       "</style>\n",
       "<table border=\"1\" class=\"dataframe\">\n",
       "  <thead>\n",
       "    <tr style=\"text-align: right;\">\n",
       "      <th></th>\n",
       "      <th>id</th>\n",
       "      <th>email</th>\n",
       "      <th>username</th>\n",
       "      <th>password</th>\n",
       "      <th>firstName</th>\n",
       "      <th>lastName</th>\n",
       "      <th>fullName</th>\n",
       "      <th>profilePic</th>\n",
       "      <th>isMod</th>\n",
       "      <th>isObserver</th>\n",
       "      <th>instructions</th>\n",
       "      <th>createdAt</th>\n",
       "      <th>updatedAt</th>\n",
       "      <th>isPuppet</th>\n",
       "      <th>suspicious</th>\n",
       "      <th>disabled</th>\n",
       "    </tr>\n",
       "  </thead>\n",
       "  <tbody>\n",
       "    <tr>\n",
       "      <th>0</th>\n",
       "      <td>1976</td>\n",
       "      <td>miho@dartpost.com</td>\n",
       "      <td>miho</td>\n",
       "      <td>$2a$10$9NrDj7dEYDHgK4vL0kTCbOmY07dM/ptcF2dVD8J...</td>\n",
       "      <td>NaN</td>\n",
       "      <td>NaN</td>\n",
       "      <td>NaN</td>\n",
       "      <td>https://dartmouth-socialplatform.s3.us-east-2....</td>\n",
       "      <td>t</td>\n",
       "      <td>f</td>\n",
       "      <td>https://docs.google.com/document/d/e/2PACX-1vQ...</td>\n",
       "      <td>2020-08-28 20:01:01.253+00</td>\n",
       "      <td>2020-08-28 20:01:01.253+00</td>\n",
       "      <td>f</td>\n",
       "      <td>f</td>\n",
       "      <td>f</td>\n",
       "    </tr>\n",
       "    <tr>\n",
       "      <th>1</th>\n",
       "      <td>1977</td>\n",
       "      <td>ModBessler@dartpost.org</td>\n",
       "      <td>ModB</td>\n",
       "      <td>$2a$10$iyHu9zlIoZ5JW7ErGgfCvueRa3tMGPfx6GlkE//...</td>\n",
       "      <td>NaN</td>\n",
       "      <td>NaN</td>\n",
       "      <td>NaN</td>\n",
       "      <td>https://dartmouth-socialplatform.s3.us-east-2....</td>\n",
       "      <td>t</td>\n",
       "      <td>f</td>\n",
       "      <td>https://docs.google.com/document/d/e/2PACX-1vQ...</td>\n",
       "      <td>2020-08-28 20:15:20.792+00</td>\n",
       "      <td>2020-08-28 20:15:20.792+00</td>\n",
       "      <td>f</td>\n",
       "      <td>f</td>\n",
       "      <td>f</td>\n",
       "    </tr>\n",
       "    <tr>\n",
       "      <th>2</th>\n",
       "      <td>1980</td>\n",
       "      <td>dapang@dartpost.com</td>\n",
       "      <td>RuiboLiu</td>\n",
       "      <td>$2a$10$dxRTsGeeutRAWhpYOGTwwek2x2CgGxvKeEfKmqQ...</td>\n",
       "      <td>NaN</td>\n",
       "      <td>NaN</td>\n",
       "      <td>NaN</td>\n",
       "      <td>https://dartmouth-socialplatform.s3.us-east-2....</td>\n",
       "      <td>t</td>\n",
       "      <td>f</td>\n",
       "      <td>https://docs.google.com/document/d/e/2PACX-1vQ...</td>\n",
       "      <td>2020-08-28 20:20:59.307+00</td>\n",
       "      <td>2020-08-28 20:20:59.307+00</td>\n",
       "      <td>f</td>\n",
       "      <td>f</td>\n",
       "      <td>f</td>\n",
       "    </tr>\n",
       "    <tr>\n",
       "      <th>3</th>\n",
       "      <td>1981</td>\n",
       "      <td>ruiliu@dartpost.org</td>\n",
       "      <td>ruiliu</td>\n",
       "      <td>$2a$10$dXK/0H8f9uaYixNAEvrsBO/XoldMqsg4Q9K5J/q...</td>\n",
       "      <td>NaN</td>\n",
       "      <td>NaN</td>\n",
       "      <td>NaN</td>\n",
       "      <td>https://dartmouth-socialplatform.s3.us-east-2....</td>\n",
       "      <td>t</td>\n",
       "      <td>f</td>\n",
       "      <td>https://docs.google.com/document/d/e/2PACX-1vQ...</td>\n",
       "      <td>2020-08-29 21:04:59.74+00</td>\n",
       "      <td>2020-08-29 21:04:59.74+00</td>\n",
       "      <td>f</td>\n",
       "      <td>f</td>\n",
       "      <td>f</td>\n",
       "    </tr>\n",
       "    <tr>\n",
       "      <th>4</th>\n",
       "      <td>1982</td>\n",
       "      <td>blake@dartpost.com</td>\n",
       "      <td>sarah_king</td>\n",
       "      <td>$2a$10$jevIf3bniJDDK7lebLGicO0T1W/Xg/Q1yj.icca...</td>\n",
       "      <td>NaN</td>\n",
       "      <td>NaN</td>\n",
       "      <td>NaN</td>\n",
       "      <td>https://dartmouth-socialplatform.s3.us-east-2....</td>\n",
       "      <td>t</td>\n",
       "      <td>f</td>\n",
       "      <td>https://docs.google.com/document/d/e/2PACX-1vQ...</td>\n",
       "      <td>2020-09-01 20:20:02.988+00</td>\n",
       "      <td>2020-09-01 20:20:02.988+00</td>\n",
       "      <td>f</td>\n",
       "      <td>f</td>\n",
       "      <td>f</td>\n",
       "    </tr>\n",
       "  </tbody>\n",
       "</table>\n",
       "</div>"
      ],
      "text/plain": [
       "     id                    email    username  \\\n",
       "0  1976        miho@dartpost.com        miho   \n",
       "1  1977  ModBessler@dartpost.org        ModB   \n",
       "2  1980      dapang@dartpost.com    RuiboLiu   \n",
       "3  1981      ruiliu@dartpost.org      ruiliu   \n",
       "4  1982       blake@dartpost.com  sarah_king   \n",
       "\n",
       "                                            password firstName lastName  \\\n",
       "0  $2a$10$9NrDj7dEYDHgK4vL0kTCbOmY07dM/ptcF2dVD8J...       NaN      NaN   \n",
       "1  $2a$10$iyHu9zlIoZ5JW7ErGgfCvueRa3tMGPfx6GlkE//...       NaN      NaN   \n",
       "2  $2a$10$dxRTsGeeutRAWhpYOGTwwek2x2CgGxvKeEfKmqQ...       NaN      NaN   \n",
       "3  $2a$10$dXK/0H8f9uaYixNAEvrsBO/XoldMqsg4Q9K5J/q...       NaN      NaN   \n",
       "4  $2a$10$jevIf3bniJDDK7lebLGicO0T1W/Xg/Q1yj.icca...       NaN      NaN   \n",
       "\n",
       "   fullName                                         profilePic isMod  \\\n",
       "0       NaN  https://dartmouth-socialplatform.s3.us-east-2....     t   \n",
       "1       NaN  https://dartmouth-socialplatform.s3.us-east-2....     t   \n",
       "2       NaN  https://dartmouth-socialplatform.s3.us-east-2....     t   \n",
       "3       NaN  https://dartmouth-socialplatform.s3.us-east-2....     t   \n",
       "4       NaN  https://dartmouth-socialplatform.s3.us-east-2....     t   \n",
       "\n",
       "  isObserver                                       instructions  \\\n",
       "0          f  https://docs.google.com/document/d/e/2PACX-1vQ...   \n",
       "1          f  https://docs.google.com/document/d/e/2PACX-1vQ...   \n",
       "2          f  https://docs.google.com/document/d/e/2PACX-1vQ...   \n",
       "3          f  https://docs.google.com/document/d/e/2PACX-1vQ...   \n",
       "4          f  https://docs.google.com/document/d/e/2PACX-1vQ...   \n",
       "\n",
       "                    createdAt                   updatedAt isPuppet suspicious  \\\n",
       "0  2020-08-28 20:01:01.253+00  2020-08-28 20:01:01.253+00        f          f   \n",
       "1  2020-08-28 20:15:20.792+00  2020-08-28 20:15:20.792+00        f          f   \n",
       "2  2020-08-28 20:20:59.307+00  2020-08-28 20:20:59.307+00        f          f   \n",
       "3   2020-08-29 21:04:59.74+00   2020-08-29 21:04:59.74+00        f          f   \n",
       "4  2020-09-01 20:20:02.988+00  2020-09-01 20:20:02.988+00        f          f   \n",
       "\n",
       "  disabled  \n",
       "0        f  \n",
       "1        f  \n",
       "2        f  \n",
       "3        f  \n",
       "4        f  "
      ]
     },
     "execution_count": 32,
     "metadata": {},
     "output_type": "execute_result"
    }
   ],
   "source": [
    "df_users.head()"
   ]
  },
  {
   "cell_type": "code",
   "execution_count": 31,
   "metadata": {},
   "outputs": [],
   "source": [
    "sockpuppets, participants, observers = [], [], []\n",
    "for idx, row in df_users.iterrows():\n",
    "    if 'dartpost' in row['email']:\n",
    "        participants.append(row['id'])\n",
    "    if 'observer' in row['email']:\n",
    "        observers.append(row['id'])\n",
    "    if 'sockpuppet' in row['email']:\n",
    "        sockpuppets.append(row['id'])"
   ]
  },
  {
   "cell_type": "code",
   "execution_count": 37,
   "metadata": {},
   "outputs": [
    {
     "data": {
      "text/plain": [
       "[2274, 2275, 2276, 2277, 2278, 2279, 2280, 2281, 2282, 2283]"
      ]
     },
     "execution_count": 37,
     "metadata": {},
     "output_type": "execute_result"
    }
   ],
   "source": [
    "observers[:10]"
   ]
  },
  {
   "cell_type": "code",
   "execution_count": 47,
   "metadata": {},
   "outputs": [
    {
     "data": {
      "text/plain": [
       "14"
      ]
     },
     "execution_count": 47,
     "metadata": {},
     "output_type": "execute_result"
    }
   ],
   "source": []
  },
  {
   "cell_type": "code",
   "execution_count": 51,
   "metadata": {},
   "outputs": [
    {
     "name": "stderr",
     "output_type": "stream",
     "text": [
      "/home/ruibo/anaconda3/envs/tf_gpu_env/lib/python3.6/site-packages/ipykernel_launcher.py:1: SettingWithCopyWarning: \n",
      "A value is trying to be set on a copy of a slice from a DataFrame.\n",
      "Try using .loc[row_indexer,col_indexer] = value instead\n",
      "\n",
      "See the caveats in the documentation: https://pandas.pydata.org/pandas-docs/stable/user_guide/indexing.html#returning-a-view-versus-a-copy\n",
      "  \"\"\"Entry point for launching an IPython kernel.\n"
     ]
    }
   ],
   "source": [
    "df_posts['AuthorId'] = [int(id) for id in df_posts['AuthorId'].tolist()]"
   ]
  },
  {
   "cell_type": "code",
   "execution_count": 52,
   "metadata": {},
   "outputs": [
    {
     "data": {
      "application/vnd.jupyter.widget-view+json": {
       "model_id": "573dfb2f51d04ad8b260477c8e6cae01",
       "version_major": 2,
       "version_minor": 0
      },
      "text/plain": [
       "HBox(children=(FloatProgress(value=0.0, description='Pandas Apply', max=1070.0, style=ProgressStyle(descriptio…"
      ]
     },
     "metadata": {},
     "output_type": "display_data"
    },
    {
     "name": "stdout",
     "output_type": "stream",
     "text": [
      "\n"
     ]
    },
    {
     "name": "stderr",
     "output_type": "stream",
     "text": [
      "/home/ruibo/anaconda3/envs/tf_gpu_env/lib/python3.6/site-packages/ipykernel_launcher.py:9: SettingWithCopyWarning: \n",
      "A value is trying to be set on a copy of a slice from a DataFrame.\n",
      "Try using .loc[row_indexer,col_indexer] = value instead\n",
      "\n",
      "See the caveats in the documentation: https://pandas.pydata.org/pandas-docs/stable/user_guide/indexing.html#returning-a-view-versus-a-copy\n",
      "  if __name__ == '__main__':\n"
     ]
    }
   ],
   "source": [
    "def return_role(text):\n",
    "    if text in participants:\n",
    "        return 'participant'\n",
    "    if text in observers:\n",
    "        return 'observer'\n",
    "    else:\n",
    "        return 'sockpuppet'\n",
    "\n",
    "df_posts['role'] = df_posts['AuthorId'].swifter.allow_dask_on_strings().apply(return_role)"
   ]
  },
  {
   "cell_type": "code",
   "execution_count": 54,
   "metadata": {},
   "outputs": [
    {
     "data": {
      "text/plain": [
       "participant    760\n",
       "sockpuppet     310\n",
       "Name: role, dtype: int64"
      ]
     },
     "execution_count": 54,
     "metadata": {},
     "output_type": "execute_result"
    }
   ],
   "source": [
    "df_posts['role'].value_counts()"
   ]
  },
  {
   "cell_type": "markdown",
   "metadata": {},
   "source": [
    "### Posts processing"
   ]
  },
  {
   "cell_type": "code",
   "execution_count": 175,
   "metadata": {},
   "outputs": [
    {
     "data": {
      "text/html": [
       "<div>\n",
       "<style scoped>\n",
       "    .dataframe tbody tr th:only-of-type {\n",
       "        vertical-align: middle;\n",
       "    }\n",
       "\n",
       "    .dataframe tbody tr th {\n",
       "        vertical-align: top;\n",
       "    }\n",
       "\n",
       "    .dataframe thead th {\n",
       "        text-align: right;\n",
       "    }\n",
       "</style>\n",
       "<table border=\"1\" class=\"dataframe\">\n",
       "  <thead>\n",
       "    <tr style=\"text-align: right;\">\n",
       "      <th></th>\n",
       "      <th>id</th>\n",
       "      <th>text</th>\n",
       "      <th>picture_url</th>\n",
       "      <th>parent_id</th>\n",
       "      <th>root_id</th>\n",
       "      <th>is_marked</th>\n",
       "      <th>tags</th>\n",
       "      <th>createdAt</th>\n",
       "      <th>updatedAt</th>\n",
       "      <th>AuthorId</th>\n",
       "      <th>is_trending</th>\n",
       "      <th>create_day_time</th>\n",
       "      <th>update_day_time</th>\n",
       "      <th>create_hour_time</th>\n",
       "      <th>update_hour_time</th>\n",
       "    </tr>\n",
       "  </thead>\n",
       "  <tbody>\n",
       "    <tr>\n",
       "      <th>0</th>\n",
       "      <td>93</td>\n",
       "      <td>I think that we should move away from nuclear ...</td>\n",
       "      <td>NaN</td>\n",
       "      <td>NaN</td>\n",
       "      <td>NaN</td>\n",
       "      <td>f</td>\n",
       "      <td>{nuclear,energy,enviroment}</td>\n",
       "      <td>2020-09-03 01:59:10.051+00</td>\n",
       "      <td>2020-09-04 13:08:51.133+00</td>\n",
       "      <td>2580.0</td>\n",
       "      <td>f</td>\n",
       "      <td>1</td>\n",
       "      <td>2</td>\n",
       "      <td>01:59</td>\n",
       "      <td>13:08</td>\n",
       "    </tr>\n",
       "    <tr>\n",
       "      <th>1</th>\n",
       "      <td>94</td>\n",
       "      <td>Given the security put in place since 911, it ...</td>\n",
       "      <td>NaN</td>\n",
       "      <td>NaN</td>\n",
       "      <td>NaN</td>\n",
       "      <td>f</td>\n",
       "      <td>{TerroristAttack}</td>\n",
       "      <td>2020-09-03 02:28:29.002+00</td>\n",
       "      <td>2020-09-04 13:08:51.133+00</td>\n",
       "      <td>2593.0</td>\n",
       "      <td>f</td>\n",
       "      <td>1</td>\n",
       "      <td>2</td>\n",
       "      <td>02:28</td>\n",
       "      <td>13:08</td>\n",
       "    </tr>\n",
       "    <tr>\n",
       "      <th>2</th>\n",
       "      <td>95</td>\n",
       "      <td>NaN</td>\n",
       "      <td>NaN</td>\n",
       "      <td>NaN</td>\n",
       "      <td>NaN</td>\n",
       "      <td>t</td>\n",
       "      <td>{\"\"}</td>\n",
       "      <td>2020-09-03 02:31:10.028+00</td>\n",
       "      <td>2020-09-03 02:34:29.992+00</td>\n",
       "      <td>2611.0</td>\n",
       "      <td>f</td>\n",
       "      <td>1</td>\n",
       "      <td>1</td>\n",
       "      <td>02:31</td>\n",
       "      <td>02:34</td>\n",
       "    </tr>\n",
       "    <tr>\n",
       "      <th>3</th>\n",
       "      <td>96</td>\n",
       "      <td>It is crucial that the United States plays a r...</td>\n",
       "      <td>NaN</td>\n",
       "      <td>NaN</td>\n",
       "      <td>NaN</td>\n",
       "      <td>f</td>\n",
       "      <td>{Worldaffairs}</td>\n",
       "      <td>2020-09-03 02:34:07.312+00</td>\n",
       "      <td>2020-09-04 13:08:51.133+00</td>\n",
       "      <td>2593.0</td>\n",
       "      <td>f</td>\n",
       "      <td>1</td>\n",
       "      <td>2</td>\n",
       "      <td>02:34</td>\n",
       "      <td>13:08</td>\n",
       "    </tr>\n",
       "    <tr>\n",
       "      <th>4</th>\n",
       "      <td>97</td>\n",
       "      <td>Strongly disapprove of a two percent annual ta...</td>\n",
       "      <td>NaN</td>\n",
       "      <td>NaN</td>\n",
       "      <td>NaN</td>\n",
       "      <td>f</td>\n",
       "      <td>{WealthTax}</td>\n",
       "      <td>2020-09-03 02:36:27.825+00</td>\n",
       "      <td>2020-09-04 13:08:51.133+00</td>\n",
       "      <td>2593.0</td>\n",
       "      <td>f</td>\n",
       "      <td>1</td>\n",
       "      <td>2</td>\n",
       "      <td>02:36</td>\n",
       "      <td>13:08</td>\n",
       "    </tr>\n",
       "  </tbody>\n",
       "</table>\n",
       "</div>"
      ],
      "text/plain": [
       "   id                                               text picture_url  \\\n",
       "0  93  I think that we should move away from nuclear ...         NaN   \n",
       "1  94  Given the security put in place since 911, it ...         NaN   \n",
       "2  95                                                NaN         NaN   \n",
       "3  96  It is crucial that the United States plays a r...         NaN   \n",
       "4  97  Strongly disapprove of a two percent annual ta...         NaN   \n",
       "\n",
       "   parent_id  root_id is_marked                         tags  \\\n",
       "0        NaN      NaN         f  {nuclear,energy,enviroment}   \n",
       "1        NaN      NaN         f            {TerroristAttack}   \n",
       "2        NaN      NaN         t                         {\"\"}   \n",
       "3        NaN      NaN         f               {Worldaffairs}   \n",
       "4        NaN      NaN         f                  {WealthTax}   \n",
       "\n",
       "                    createdAt                   updatedAt  AuthorId  \\\n",
       "0  2020-09-03 01:59:10.051+00  2020-09-04 13:08:51.133+00    2580.0   \n",
       "1  2020-09-03 02:28:29.002+00  2020-09-04 13:08:51.133+00    2593.0   \n",
       "2  2020-09-03 02:31:10.028+00  2020-09-03 02:34:29.992+00    2611.0   \n",
       "3  2020-09-03 02:34:07.312+00  2020-09-04 13:08:51.133+00    2593.0   \n",
       "4  2020-09-03 02:36:27.825+00  2020-09-04 13:08:51.133+00    2593.0   \n",
       "\n",
       "  is_trending  create_day_time  update_day_time create_hour_time  \\\n",
       "0           f                1                2            01:59   \n",
       "1           f                1                2            02:28   \n",
       "2           f                1                1            02:31   \n",
       "3           f                1                2            02:34   \n",
       "4           f                1                2            02:36   \n",
       "\n",
       "  update_hour_time  \n",
       "0            13:08  \n",
       "1            13:08  \n",
       "2            02:34  \n",
       "3            13:08  \n",
       "4            13:08  "
      ]
     },
     "execution_count": 175,
     "metadata": {},
     "output_type": "execute_result"
    }
   ],
   "source": [
    "df_posts.head()"
   ]
  },
  {
   "cell_type": "code",
   "execution_count": 5,
   "metadata": {},
   "outputs": [],
   "source": [
    "def preprocess_tweet(text):\n",
    "    import nltk\n",
    "    import string\n",
    "    import re\n",
    "    from nltk import word_tokenize\n",
    "    from nltk.corpus import stopwords\n",
    "    # Check characters to see if they are in punctuation\n",
    "    nopunc = [char for char in text if char not in string.punctuation]\n",
    "    # Join the characters again to form the string.\n",
    "    nopunc = ''.join(nopunc)\n",
    "    # remove URLs\n",
    "    nopunc = re.sub('((www\\.[^\\s]+)|(https?://[^\\s]+)|(http?://[^\\s]+))', '', nopunc)\n",
    "    nopunc = re.sub(r'http\\S+', '', nopunc)\n",
    "    # remove usernames\n",
    "    nopunc = re.sub('@[^\\s]+', '', nopunc)\n",
    "    # remove the # in #hashtag\n",
    "    nopunc = re.sub(r'#([^\\s]+)', r'\\1', nopunc)\n",
    "    nopunc = re.sub(r\"[^a-zA-Z.,!?]+\", r\" \", nopunc)\n",
    "    return nopunc"
   ]
  },
  {
   "cell_type": "markdown",
   "metadata": {},
   "source": [
    "### time preprocessing"
   ]
  },
  {
   "cell_type": "code",
   "execution_count": 75,
   "metadata": {},
   "outputs": [],
   "source": [
    "def return_day_time(text):\n",
    "    date = text.split(' ')[0].strip()\n",
    "    if date in '2020-09-03':\n",
    "        return 1\n",
    "    elif date in '2020-09-04':\n",
    "        return 2\n",
    "    elif date in '2020-09-05':\n",
    "        return 3\n",
    "    elif date in '2020-09-06':\n",
    "        return 4\n",
    "    elif date in '2020-09-07':\n",
    "        return 5\n",
    "    elif date in '2020-09-08':\n",
    "        return 6\n",
    "\n",
    "def return_hour_time(text):\n",
    "    return ':'.join(text.split()[1].split(':')[:2])\n",
    "\n",
    "def return_roles(text):\n",
    "    if int(text) in observers:\n",
    "        return 'oberserver'\n",
    "    elif int(text) in participants:\n",
    "        return 'participant'\n",
    "    else:\n",
    "        return 'sockpuppet'"
   ]
  },
  {
   "cell_type": "code",
   "execution_count": 76,
   "metadata": {},
   "outputs": [
    {
     "data": {
      "application/vnd.jupyter.widget-view+json": {
       "model_id": "011a8ab087ba456cb6fe00bb3d2543bf",
       "version_major": 2,
       "version_minor": 0
      },
      "text/plain": [
       "HBox(children=(FloatProgress(value=0.0, description='Pandas Apply', max=1084.0, style=ProgressStyle(descriptio…"
      ]
     },
     "metadata": {},
     "output_type": "display_data"
    },
    {
     "name": "stdout",
     "output_type": "stream",
     "text": [
      "\n"
     ]
    },
    {
     "data": {
      "application/vnd.jupyter.widget-view+json": {
       "model_id": "26b0879ce7c9438eb2277d5745a4690f",
       "version_major": 2,
       "version_minor": 0
      },
      "text/plain": [
       "HBox(children=(FloatProgress(value=0.0, description='Pandas Apply', max=1084.0, style=ProgressStyle(descriptio…"
      ]
     },
     "metadata": {},
     "output_type": "display_data"
    },
    {
     "name": "stdout",
     "output_type": "stream",
     "text": [
      "\n"
     ]
    },
    {
     "data": {
      "application/vnd.jupyter.widget-view+json": {
       "model_id": "053c204648924de48e25f413543815fd",
       "version_major": 2,
       "version_minor": 0
      },
      "text/plain": [
       "HBox(children=(FloatProgress(value=0.0, description='Pandas Apply', max=1084.0, style=ProgressStyle(descriptio…"
      ]
     },
     "metadata": {},
     "output_type": "display_data"
    },
    {
     "name": "stdout",
     "output_type": "stream",
     "text": [
      "\n"
     ]
    },
    {
     "data": {
      "application/vnd.jupyter.widget-view+json": {
       "model_id": "417fd73e643b4af58ce7067eef3772ef",
       "version_major": 2,
       "version_minor": 0
      },
      "text/plain": [
       "HBox(children=(FloatProgress(value=0.0, description='Pandas Apply', max=1084.0, style=ProgressStyle(descriptio…"
      ]
     },
     "metadata": {},
     "output_type": "display_data"
    },
    {
     "name": "stdout",
     "output_type": "stream",
     "text": [
      "\n"
     ]
    }
   ],
   "source": [
    "df_posts['create_day_time'] = df_posts['createdAt'].swifter.allow_dask_on_strings().apply(return_day_time)\n",
    "df_posts['update_day_time'] = df_posts['updatedAt'].swifter.allow_dask_on_strings().apply(return_day_time)\n",
    "df_posts['create_hour_time'] = df_posts['createdAt'].swifter.allow_dask_on_strings().apply(return_hour_time)\n",
    "df_posts['update_hour_time'] = df_posts['updatedAt'].swifter.allow_dask_on_strings().apply(return_hour_time)"
   ]
  },
  {
   "cell_type": "code",
   "execution_count": 77,
   "metadata": {},
   "outputs": [
    {
     "data": {
      "text/html": [
       "<div>\n",
       "<style scoped>\n",
       "    .dataframe tbody tr th:only-of-type {\n",
       "        vertical-align: middle;\n",
       "    }\n",
       "\n",
       "    .dataframe tbody tr th {\n",
       "        vertical-align: top;\n",
       "    }\n",
       "\n",
       "    .dataframe thead th {\n",
       "        text-align: right;\n",
       "    }\n",
       "</style>\n",
       "<table border=\"1\" class=\"dataframe\">\n",
       "  <thead>\n",
       "    <tr style=\"text-align: right;\">\n",
       "      <th></th>\n",
       "      <th>id</th>\n",
       "      <th>text</th>\n",
       "      <th>picture_url</th>\n",
       "      <th>parent_id</th>\n",
       "      <th>root_id</th>\n",
       "      <th>is_marked</th>\n",
       "      <th>tags</th>\n",
       "      <th>createdAt</th>\n",
       "      <th>updatedAt</th>\n",
       "      <th>AuthorId</th>\n",
       "      <th>is_trending</th>\n",
       "      <th>create_day_time</th>\n",
       "      <th>update_day_time</th>\n",
       "      <th>create_hour_time</th>\n",
       "      <th>update_hour_time</th>\n",
       "    </tr>\n",
       "  </thead>\n",
       "  <tbody>\n",
       "    <tr>\n",
       "      <th>0</th>\n",
       "      <td>93</td>\n",
       "      <td>I think that we should move away from nuclear ...</td>\n",
       "      <td>NaN</td>\n",
       "      <td>NaN</td>\n",
       "      <td>NaN</td>\n",
       "      <td>f</td>\n",
       "      <td>{nuclear,energy,enviroment}</td>\n",
       "      <td>2020-09-03 01:59:10.051+00</td>\n",
       "      <td>2020-09-04 13:08:51.133+00</td>\n",
       "      <td>2580.0</td>\n",
       "      <td>f</td>\n",
       "      <td>1</td>\n",
       "      <td>2</td>\n",
       "      <td>01:59</td>\n",
       "      <td>13:08</td>\n",
       "    </tr>\n",
       "    <tr>\n",
       "      <th>1</th>\n",
       "      <td>94</td>\n",
       "      <td>Given the security put in place since 911, it ...</td>\n",
       "      <td>NaN</td>\n",
       "      <td>NaN</td>\n",
       "      <td>NaN</td>\n",
       "      <td>f</td>\n",
       "      <td>{TerroristAttack}</td>\n",
       "      <td>2020-09-03 02:28:29.002+00</td>\n",
       "      <td>2020-09-04 13:08:51.133+00</td>\n",
       "      <td>2593.0</td>\n",
       "      <td>f</td>\n",
       "      <td>1</td>\n",
       "      <td>2</td>\n",
       "      <td>02:28</td>\n",
       "      <td>13:08</td>\n",
       "    </tr>\n",
       "    <tr>\n",
       "      <th>2</th>\n",
       "      <td>95</td>\n",
       "      <td>NaN</td>\n",
       "      <td>NaN</td>\n",
       "      <td>NaN</td>\n",
       "      <td>NaN</td>\n",
       "      <td>t</td>\n",
       "      <td>{\"\"}</td>\n",
       "      <td>2020-09-03 02:31:10.028+00</td>\n",
       "      <td>2020-09-03 02:34:29.992+00</td>\n",
       "      <td>2611.0</td>\n",
       "      <td>f</td>\n",
       "      <td>1</td>\n",
       "      <td>1</td>\n",
       "      <td>02:31</td>\n",
       "      <td>02:34</td>\n",
       "    </tr>\n",
       "    <tr>\n",
       "      <th>3</th>\n",
       "      <td>96</td>\n",
       "      <td>It is crucial that the United States plays a r...</td>\n",
       "      <td>NaN</td>\n",
       "      <td>NaN</td>\n",
       "      <td>NaN</td>\n",
       "      <td>f</td>\n",
       "      <td>{Worldaffairs}</td>\n",
       "      <td>2020-09-03 02:34:07.312+00</td>\n",
       "      <td>2020-09-04 13:08:51.133+00</td>\n",
       "      <td>2593.0</td>\n",
       "      <td>f</td>\n",
       "      <td>1</td>\n",
       "      <td>2</td>\n",
       "      <td>02:34</td>\n",
       "      <td>13:08</td>\n",
       "    </tr>\n",
       "    <tr>\n",
       "      <th>4</th>\n",
       "      <td>97</td>\n",
       "      <td>Strongly disapprove of a two percent annual ta...</td>\n",
       "      <td>NaN</td>\n",
       "      <td>NaN</td>\n",
       "      <td>NaN</td>\n",
       "      <td>f</td>\n",
       "      <td>{WealthTax}</td>\n",
       "      <td>2020-09-03 02:36:27.825+00</td>\n",
       "      <td>2020-09-04 13:08:51.133+00</td>\n",
       "      <td>2593.0</td>\n",
       "      <td>f</td>\n",
       "      <td>1</td>\n",
       "      <td>2</td>\n",
       "      <td>02:36</td>\n",
       "      <td>13:08</td>\n",
       "    </tr>\n",
       "  </tbody>\n",
       "</table>\n",
       "</div>"
      ],
      "text/plain": [
       "   id                                               text picture_url  \\\n",
       "0  93  I think that we should move away from nuclear ...         NaN   \n",
       "1  94  Given the security put in place since 911, it ...         NaN   \n",
       "2  95                                                NaN         NaN   \n",
       "3  96  It is crucial that the United States plays a r...         NaN   \n",
       "4  97  Strongly disapprove of a two percent annual ta...         NaN   \n",
       "\n",
       "   parent_id  root_id is_marked                         tags  \\\n",
       "0        NaN      NaN         f  {nuclear,energy,enviroment}   \n",
       "1        NaN      NaN         f            {TerroristAttack}   \n",
       "2        NaN      NaN         t                         {\"\"}   \n",
       "3        NaN      NaN         f               {Worldaffairs}   \n",
       "4        NaN      NaN         f                  {WealthTax}   \n",
       "\n",
       "                    createdAt                   updatedAt  AuthorId  \\\n",
       "0  2020-09-03 01:59:10.051+00  2020-09-04 13:08:51.133+00    2580.0   \n",
       "1  2020-09-03 02:28:29.002+00  2020-09-04 13:08:51.133+00    2593.0   \n",
       "2  2020-09-03 02:31:10.028+00  2020-09-03 02:34:29.992+00    2611.0   \n",
       "3  2020-09-03 02:34:07.312+00  2020-09-04 13:08:51.133+00    2593.0   \n",
       "4  2020-09-03 02:36:27.825+00  2020-09-04 13:08:51.133+00    2593.0   \n",
       "\n",
       "  is_trending  create_day_time  update_day_time create_hour_time  \\\n",
       "0           f                1                2            01:59   \n",
       "1           f                1                2            02:28   \n",
       "2           f                1                1            02:31   \n",
       "3           f                1                2            02:34   \n",
       "4           f                1                2            02:36   \n",
       "\n",
       "  update_hour_time  \n",
       "0            13:08  \n",
       "1            13:08  \n",
       "2            02:34  \n",
       "3            13:08  \n",
       "4            13:08  "
      ]
     },
     "execution_count": 77,
     "metadata": {},
     "output_type": "execute_result"
    }
   ],
   "source": [
    "df_posts.head()"
   ]
  },
  {
   "cell_type": "code",
   "execution_count": 78,
   "metadata": {},
   "outputs": [
    {
     "data": {
      "text/plain": [
       "1    354\n",
       "2    211\n",
       "3    162\n",
       "4    160\n",
       "5    150\n",
       "6     47\n",
       "Name: create_day_time, dtype: int64"
      ]
     },
     "execution_count": 78,
     "metadata": {},
     "output_type": "execute_result"
    }
   ],
   "source": [
    "df_posts['create_day_time'].value_counts()"
   ]
  },
  {
   "cell_type": "markdown",
   "metadata": {},
   "source": [
    "## Load User Report"
   ]
  },
  {
   "cell_type": "code",
   "execution_count": 66,
   "metadata": {},
   "outputs": [
    {
     "data": {
      "text/html": [
       "<div>\n",
       "<style scoped>\n",
       "    .dataframe tbody tr th:only-of-type {\n",
       "        vertical-align: middle;\n",
       "    }\n",
       "\n",
       "    .dataframe tbody tr th {\n",
       "        vertical-align: top;\n",
       "    }\n",
       "\n",
       "    .dataframe thead th {\n",
       "        text-align: right;\n",
       "    }\n",
       "</style>\n",
       "<table border=\"1\" class=\"dataframe\">\n",
       "  <thead>\n",
       "    <tr style=\"text-align: right;\">\n",
       "      <th></th>\n",
       "      <th>id</th>\n",
       "      <th>report</th>\n",
       "      <th>createdAt</th>\n",
       "      <th>updatedAt</th>\n",
       "      <th>ReporterId</th>\n",
       "      <th>SuspectId</th>\n",
       "    </tr>\n",
       "  </thead>\n",
       "  <tbody>\n",
       "    <tr>\n",
       "      <th>0</th>\n",
       "      <td>14</td>\n",
       "      <td>They do not go into enough detail and do not d...</td>\n",
       "      <td>2020-09-03 03:24:23.636+00</td>\n",
       "      <td>2020-09-03 03:24:23.636+00</td>\n",
       "      <td>2638</td>\n",
       "      <td>2604</td>\n",
       "    </tr>\n",
       "    <tr>\n",
       "      <th>1</th>\n",
       "      <td>15</td>\n",
       "      <td>His comment, “thank you China,” is inappropria...</td>\n",
       "      <td>2020-09-03 19:38:37.22+00</td>\n",
       "      <td>2020-09-03 19:38:37.22+00</td>\n",
       "      <td>2593</td>\n",
       "      <td>2560</td>\n",
       "    </tr>\n",
       "    <tr>\n",
       "      <th>2</th>\n",
       "      <td>16</td>\n",
       "      <td>I think it is a bot account</td>\n",
       "      <td>2020-09-03 20:21:50.501+00</td>\n",
       "      <td>2020-09-03 20:21:50.501+00</td>\n",
       "      <td>2588</td>\n",
       "      <td>2604</td>\n",
       "    </tr>\n",
       "    <tr>\n",
       "      <th>3</th>\n",
       "      <td>17</td>\n",
       "      <td>Possible bot</td>\n",
       "      <td>2020-09-03 20:40:12.567+00</td>\n",
       "      <td>2020-09-03 20:40:12.567+00</td>\n",
       "      <td>2588</td>\n",
       "      <td>2638</td>\n",
       "    </tr>\n",
       "    <tr>\n",
       "      <th>4</th>\n",
       "      <td>18</td>\n",
       "      <td>Bot?</td>\n",
       "      <td>2020-09-04 13:31:00.079+00</td>\n",
       "      <td>2020-09-04 13:31:00.079+00</td>\n",
       "      <td>2588</td>\n",
       "      <td>2658</td>\n",
       "    </tr>\n",
       "  </tbody>\n",
       "</table>\n",
       "</div>"
      ],
      "text/plain": [
       "   id                                             report  \\\n",
       "0  14  They do not go into enough detail and do not d...   \n",
       "1  15  His comment, “thank you China,” is inappropria...   \n",
       "2  16                        I think it is a bot account   \n",
       "3  17                                       Possible bot   \n",
       "4  18                                               Bot?   \n",
       "\n",
       "                    createdAt                   updatedAt  ReporterId  \\\n",
       "0  2020-09-03 03:24:23.636+00  2020-09-03 03:24:23.636+00        2638   \n",
       "1   2020-09-03 19:38:37.22+00   2020-09-03 19:38:37.22+00        2593   \n",
       "2  2020-09-03 20:21:50.501+00  2020-09-03 20:21:50.501+00        2588   \n",
       "3  2020-09-03 20:40:12.567+00  2020-09-03 20:40:12.567+00        2588   \n",
       "4  2020-09-04 13:31:00.079+00  2020-09-04 13:31:00.079+00        2588   \n",
       "\n",
       "   SuspectId  \n",
       "0       2604  \n",
       "1       2560  \n",
       "2       2604  \n",
       "3       2638  \n",
       "4       2658  "
      ]
     },
     "execution_count": 66,
     "metadata": {},
     "output_type": "execute_result"
    }
   ],
   "source": [
    "df_report_user.head()"
   ]
  },
  {
   "cell_type": "code",
   "execution_count": 79,
   "metadata": {},
   "outputs": [
    {
     "data": {
      "application/vnd.jupyter.widget-view+json": {
       "model_id": "8b702d99ec7845e88a5e538d0c0ca3d3",
       "version_major": 2,
       "version_minor": 0
      },
      "text/plain": [
       "HBox(children=(FloatProgress(value=0.0, description='Pandas Apply', max=46.0, style=ProgressStyle(description_…"
      ]
     },
     "metadata": {},
     "output_type": "display_data"
    },
    {
     "name": "stdout",
     "output_type": "stream",
     "text": [
      "\n"
     ]
    },
    {
     "data": {
      "application/vnd.jupyter.widget-view+json": {
       "model_id": "76670bb14d6e4020b7d4c2c19b79f3e3",
       "version_major": 2,
       "version_minor": 0
      },
      "text/plain": [
       "HBox(children=(FloatProgress(value=0.0, description='Pandas Apply', max=46.0, style=ProgressStyle(description_…"
      ]
     },
     "metadata": {},
     "output_type": "display_data"
    },
    {
     "name": "stdout",
     "output_type": "stream",
     "text": [
      "\n"
     ]
    },
    {
     "data": {
      "application/vnd.jupyter.widget-view+json": {
       "model_id": "184debb5ce664902b30b472330dfbd0a",
       "version_major": 2,
       "version_minor": 0
      },
      "text/plain": [
       "HBox(children=(FloatProgress(value=0.0, description='Pandas Apply', max=46.0, style=ProgressStyle(description_…"
      ]
     },
     "metadata": {},
     "output_type": "display_data"
    },
    {
     "name": "stdout",
     "output_type": "stream",
     "text": [
      "\n"
     ]
    },
    {
     "data": {
      "application/vnd.jupyter.widget-view+json": {
       "model_id": "62887d78da3b47198556138765922881",
       "version_major": 2,
       "version_minor": 0
      },
      "text/plain": [
       "HBox(children=(FloatProgress(value=0.0, description='Pandas Apply', max=46.0, style=ProgressStyle(description_…"
      ]
     },
     "metadata": {},
     "output_type": "display_data"
    },
    {
     "name": "stdout",
     "output_type": "stream",
     "text": [
      "\n"
     ]
    }
   ],
   "source": [
    "df_report_user['create_day_time'] = df_report_user['createdAt'].swifter.allow_dask_on_strings().apply(return_day_time)\n",
    "df_report_user['update_day_time'] = df_report_user['updatedAt'].swifter.allow_dask_on_strings().apply(return_day_time)\n",
    "df_report_user['create_hour_time'] = df_report_user['createdAt'].swifter.allow_dask_on_strings().apply(return_hour_time)\n",
    "df_report_user['update_hour_time'] = df_report_user['updatedAt'].swifter.allow_dask_on_strings().apply(return_hour_time)"
   ]
  },
  {
   "cell_type": "code",
   "execution_count": 80,
   "metadata": {},
   "outputs": [
    {
     "data": {
      "text/html": [
       "<div>\n",
       "<style scoped>\n",
       "    .dataframe tbody tr th:only-of-type {\n",
       "        vertical-align: middle;\n",
       "    }\n",
       "\n",
       "    .dataframe tbody tr th {\n",
       "        vertical-align: top;\n",
       "    }\n",
       "\n",
       "    .dataframe thead th {\n",
       "        text-align: right;\n",
       "    }\n",
       "</style>\n",
       "<table border=\"1\" class=\"dataframe\">\n",
       "  <thead>\n",
       "    <tr style=\"text-align: right;\">\n",
       "      <th></th>\n",
       "      <th>id</th>\n",
       "      <th>report</th>\n",
       "      <th>createdAt</th>\n",
       "      <th>updatedAt</th>\n",
       "      <th>ReporterId</th>\n",
       "      <th>SuspectId</th>\n",
       "      <th>create_day_time</th>\n",
       "      <th>update_day_time</th>\n",
       "      <th>create_hour_time</th>\n",
       "      <th>update_hour_time</th>\n",
       "    </tr>\n",
       "  </thead>\n",
       "  <tbody>\n",
       "    <tr>\n",
       "      <th>0</th>\n",
       "      <td>14</td>\n",
       "      <td>They do not go into enough detail and do not d...</td>\n",
       "      <td>2020-09-03 03:24:23.636+00</td>\n",
       "      <td>2020-09-03 03:24:23.636+00</td>\n",
       "      <td>2638</td>\n",
       "      <td>2604</td>\n",
       "      <td>1</td>\n",
       "      <td>1</td>\n",
       "      <td>03:24</td>\n",
       "      <td>03:24</td>\n",
       "    </tr>\n",
       "    <tr>\n",
       "      <th>1</th>\n",
       "      <td>15</td>\n",
       "      <td>His comment, “thank you China,” is inappropria...</td>\n",
       "      <td>2020-09-03 19:38:37.22+00</td>\n",
       "      <td>2020-09-03 19:38:37.22+00</td>\n",
       "      <td>2593</td>\n",
       "      <td>2560</td>\n",
       "      <td>1</td>\n",
       "      <td>1</td>\n",
       "      <td>19:38</td>\n",
       "      <td>19:38</td>\n",
       "    </tr>\n",
       "    <tr>\n",
       "      <th>2</th>\n",
       "      <td>16</td>\n",
       "      <td>I think it is a bot account</td>\n",
       "      <td>2020-09-03 20:21:50.501+00</td>\n",
       "      <td>2020-09-03 20:21:50.501+00</td>\n",
       "      <td>2588</td>\n",
       "      <td>2604</td>\n",
       "      <td>1</td>\n",
       "      <td>1</td>\n",
       "      <td>20:21</td>\n",
       "      <td>20:21</td>\n",
       "    </tr>\n",
       "    <tr>\n",
       "      <th>3</th>\n",
       "      <td>17</td>\n",
       "      <td>Possible bot</td>\n",
       "      <td>2020-09-03 20:40:12.567+00</td>\n",
       "      <td>2020-09-03 20:40:12.567+00</td>\n",
       "      <td>2588</td>\n",
       "      <td>2638</td>\n",
       "      <td>1</td>\n",
       "      <td>1</td>\n",
       "      <td>20:40</td>\n",
       "      <td>20:40</td>\n",
       "    </tr>\n",
       "    <tr>\n",
       "      <th>4</th>\n",
       "      <td>18</td>\n",
       "      <td>Bot?</td>\n",
       "      <td>2020-09-04 13:31:00.079+00</td>\n",
       "      <td>2020-09-04 13:31:00.079+00</td>\n",
       "      <td>2588</td>\n",
       "      <td>2658</td>\n",
       "      <td>2</td>\n",
       "      <td>2</td>\n",
       "      <td>13:31</td>\n",
       "      <td>13:31</td>\n",
       "    </tr>\n",
       "  </tbody>\n",
       "</table>\n",
       "</div>"
      ],
      "text/plain": [
       "   id                                             report  \\\n",
       "0  14  They do not go into enough detail and do not d...   \n",
       "1  15  His comment, “thank you China,” is inappropria...   \n",
       "2  16                        I think it is a bot account   \n",
       "3  17                                       Possible bot   \n",
       "4  18                                               Bot?   \n",
       "\n",
       "                    createdAt                   updatedAt  ReporterId  \\\n",
       "0  2020-09-03 03:24:23.636+00  2020-09-03 03:24:23.636+00        2638   \n",
       "1   2020-09-03 19:38:37.22+00   2020-09-03 19:38:37.22+00        2593   \n",
       "2  2020-09-03 20:21:50.501+00  2020-09-03 20:21:50.501+00        2588   \n",
       "3  2020-09-03 20:40:12.567+00  2020-09-03 20:40:12.567+00        2588   \n",
       "4  2020-09-04 13:31:00.079+00  2020-09-04 13:31:00.079+00        2588   \n",
       "\n",
       "   SuspectId  create_day_time  update_day_time create_hour_time  \\\n",
       "0       2604                1                1            03:24   \n",
       "1       2560                1                1            19:38   \n",
       "2       2604                1                1            20:21   \n",
       "3       2638                1                1            20:40   \n",
       "4       2658                2                2            13:31   \n",
       "\n",
       "  update_hour_time  \n",
       "0            03:24  \n",
       "1            19:38  \n",
       "2            20:21  \n",
       "3            20:40  \n",
       "4            13:31  "
      ]
     },
     "execution_count": 80,
     "metadata": {},
     "output_type": "execute_result"
    }
   ],
   "source": [
    "df_report_user.head()"
   ]
  },
  {
   "cell_type": "code",
   "execution_count": 83,
   "metadata": {},
   "outputs": [],
   "source": [
    "# ndet(a)=1/e^((T-D_a))\n",
    "\n",
    "def sock_reward(text):\n",
    "    return 1 / np.exp(6-text)\n",
    "\n",
    "df_report_user['sock_reward'] = df_report_user['create_day_time'].swifter.allow_dask_on_strings().apply(sock_reward)"
   ]
  },
  {
   "cell_type": "code",
   "execution_count": 84,
   "metadata": {},
   "outputs": [
    {
     "data": {
      "text/html": [
       "<div>\n",
       "<style scoped>\n",
       "    .dataframe tbody tr th:only-of-type {\n",
       "        vertical-align: middle;\n",
       "    }\n",
       "\n",
       "    .dataframe tbody tr th {\n",
       "        vertical-align: top;\n",
       "    }\n",
       "\n",
       "    .dataframe thead th {\n",
       "        text-align: right;\n",
       "    }\n",
       "</style>\n",
       "<table border=\"1\" class=\"dataframe\">\n",
       "  <thead>\n",
       "    <tr style=\"text-align: right;\">\n",
       "      <th></th>\n",
       "      <th>id</th>\n",
       "      <th>report</th>\n",
       "      <th>createdAt</th>\n",
       "      <th>updatedAt</th>\n",
       "      <th>ReporterId</th>\n",
       "      <th>SuspectId</th>\n",
       "      <th>create_day_time</th>\n",
       "      <th>update_day_time</th>\n",
       "      <th>create_hour_time</th>\n",
       "      <th>update_hour_time</th>\n",
       "      <th>sock_reward</th>\n",
       "    </tr>\n",
       "  </thead>\n",
       "  <tbody>\n",
       "    <tr>\n",
       "      <th>0</th>\n",
       "      <td>14</td>\n",
       "      <td>They do not go into enough detail and do not d...</td>\n",
       "      <td>2020-09-03 03:24:23.636+00</td>\n",
       "      <td>2020-09-03 03:24:23.636+00</td>\n",
       "      <td>2638</td>\n",
       "      <td>2604</td>\n",
       "      <td>1</td>\n",
       "      <td>1</td>\n",
       "      <td>03:24</td>\n",
       "      <td>03:24</td>\n",
       "      <td>0.006738</td>\n",
       "    </tr>\n",
       "    <tr>\n",
       "      <th>1</th>\n",
       "      <td>15</td>\n",
       "      <td>His comment, “thank you China,” is inappropria...</td>\n",
       "      <td>2020-09-03 19:38:37.22+00</td>\n",
       "      <td>2020-09-03 19:38:37.22+00</td>\n",
       "      <td>2593</td>\n",
       "      <td>2560</td>\n",
       "      <td>1</td>\n",
       "      <td>1</td>\n",
       "      <td>19:38</td>\n",
       "      <td>19:38</td>\n",
       "      <td>0.006738</td>\n",
       "    </tr>\n",
       "    <tr>\n",
       "      <th>2</th>\n",
       "      <td>16</td>\n",
       "      <td>I think it is a bot account</td>\n",
       "      <td>2020-09-03 20:21:50.501+00</td>\n",
       "      <td>2020-09-03 20:21:50.501+00</td>\n",
       "      <td>2588</td>\n",
       "      <td>2604</td>\n",
       "      <td>1</td>\n",
       "      <td>1</td>\n",
       "      <td>20:21</td>\n",
       "      <td>20:21</td>\n",
       "      <td>0.006738</td>\n",
       "    </tr>\n",
       "    <tr>\n",
       "      <th>3</th>\n",
       "      <td>17</td>\n",
       "      <td>Possible bot</td>\n",
       "      <td>2020-09-03 20:40:12.567+00</td>\n",
       "      <td>2020-09-03 20:40:12.567+00</td>\n",
       "      <td>2588</td>\n",
       "      <td>2638</td>\n",
       "      <td>1</td>\n",
       "      <td>1</td>\n",
       "      <td>20:40</td>\n",
       "      <td>20:40</td>\n",
       "      <td>0.006738</td>\n",
       "    </tr>\n",
       "    <tr>\n",
       "      <th>4</th>\n",
       "      <td>18</td>\n",
       "      <td>Bot?</td>\n",
       "      <td>2020-09-04 13:31:00.079+00</td>\n",
       "      <td>2020-09-04 13:31:00.079+00</td>\n",
       "      <td>2588</td>\n",
       "      <td>2658</td>\n",
       "      <td>2</td>\n",
       "      <td>2</td>\n",
       "      <td>13:31</td>\n",
       "      <td>13:31</td>\n",
       "      <td>0.018316</td>\n",
       "    </tr>\n",
       "  </tbody>\n",
       "</table>\n",
       "</div>"
      ],
      "text/plain": [
       "   id                                             report  \\\n",
       "0  14  They do not go into enough detail and do not d...   \n",
       "1  15  His comment, “thank you China,” is inappropria...   \n",
       "2  16                        I think it is a bot account   \n",
       "3  17                                       Possible bot   \n",
       "4  18                                               Bot?   \n",
       "\n",
       "                    createdAt                   updatedAt  ReporterId  \\\n",
       "0  2020-09-03 03:24:23.636+00  2020-09-03 03:24:23.636+00        2638   \n",
       "1   2020-09-03 19:38:37.22+00   2020-09-03 19:38:37.22+00        2593   \n",
       "2  2020-09-03 20:21:50.501+00  2020-09-03 20:21:50.501+00        2588   \n",
       "3  2020-09-03 20:40:12.567+00  2020-09-03 20:40:12.567+00        2588   \n",
       "4  2020-09-04 13:31:00.079+00  2020-09-04 13:31:00.079+00        2588   \n",
       "\n",
       "   SuspectId  create_day_time  update_day_time create_hour_time  \\\n",
       "0       2604                1                1            03:24   \n",
       "1       2560                1                1            19:38   \n",
       "2       2604                1                1            20:21   \n",
       "3       2638                1                1            20:40   \n",
       "4       2658                2                2            13:31   \n",
       "\n",
       "  update_hour_time  sock_reward  \n",
       "0            03:24     0.006738  \n",
       "1            19:38     0.006738  \n",
       "2            20:21     0.006738  \n",
       "3            20:40     0.006738  \n",
       "4            13:31     0.018316  "
      ]
     },
     "execution_count": 84,
     "metadata": {},
     "output_type": "execute_result"
    }
   ],
   "source": [
    "df_report_user.head()"
   ]
  },
  {
   "cell_type": "code",
   "execution_count": 87,
   "metadata": {},
   "outputs": [
    {
     "data": {
      "application/vnd.jupyter.widget-view+json": {
       "model_id": "bd25652336394e88ababa000ae3d4102",
       "version_major": 2,
       "version_minor": 0
      },
      "text/plain": [
       "HBox(children=(FloatProgress(value=0.0, description='Pandas Apply', max=46.0, style=ProgressStyle(description_…"
      ]
     },
     "metadata": {},
     "output_type": "display_data"
    },
    {
     "name": "stdout",
     "output_type": "stream",
     "text": [
      "\n"
     ]
    }
   ],
   "source": [
    "def return_valid(text):\n",
    "    if text in sockpuppets:\n",
    "        return True\n",
    "    else:\n",
    "        return False\n",
    "\n",
    "df_report_user['is_valid'] = df_report_user['SuspectId'].swifter.allow_dask_on_strings().apply(return_valid)"
   ]
  },
  {
   "cell_type": "code",
   "execution_count": 88,
   "metadata": {},
   "outputs": [
    {
     "data": {
      "text/html": [
       "<div>\n",
       "<style scoped>\n",
       "    .dataframe tbody tr th:only-of-type {\n",
       "        vertical-align: middle;\n",
       "    }\n",
       "\n",
       "    .dataframe tbody tr th {\n",
       "        vertical-align: top;\n",
       "    }\n",
       "\n",
       "    .dataframe thead th {\n",
       "        text-align: right;\n",
       "    }\n",
       "</style>\n",
       "<table border=\"1\" class=\"dataframe\">\n",
       "  <thead>\n",
       "    <tr style=\"text-align: right;\">\n",
       "      <th></th>\n",
       "      <th>id</th>\n",
       "      <th>report</th>\n",
       "      <th>createdAt</th>\n",
       "      <th>updatedAt</th>\n",
       "      <th>ReporterId</th>\n",
       "      <th>SuspectId</th>\n",
       "      <th>create_day_time</th>\n",
       "      <th>update_day_time</th>\n",
       "      <th>create_hour_time</th>\n",
       "      <th>update_hour_time</th>\n",
       "      <th>sock_reward</th>\n",
       "      <th>is_valid</th>\n",
       "    </tr>\n",
       "  </thead>\n",
       "  <tbody>\n",
       "    <tr>\n",
       "      <th>0</th>\n",
       "      <td>14</td>\n",
       "      <td>They do not go into enough detail and do not d...</td>\n",
       "      <td>2020-09-03 03:24:23.636+00</td>\n",
       "      <td>2020-09-03 03:24:23.636+00</td>\n",
       "      <td>2638</td>\n",
       "      <td>2604</td>\n",
       "      <td>1</td>\n",
       "      <td>1</td>\n",
       "      <td>03:24</td>\n",
       "      <td>03:24</td>\n",
       "      <td>0.006738</td>\n",
       "      <td>False</td>\n",
       "    </tr>\n",
       "    <tr>\n",
       "      <th>1</th>\n",
       "      <td>15</td>\n",
       "      <td>His comment, “thank you China,” is inappropria...</td>\n",
       "      <td>2020-09-03 19:38:37.22+00</td>\n",
       "      <td>2020-09-03 19:38:37.22+00</td>\n",
       "      <td>2593</td>\n",
       "      <td>2560</td>\n",
       "      <td>1</td>\n",
       "      <td>1</td>\n",
       "      <td>19:38</td>\n",
       "      <td>19:38</td>\n",
       "      <td>0.006738</td>\n",
       "      <td>True</td>\n",
       "    </tr>\n",
       "    <tr>\n",
       "      <th>2</th>\n",
       "      <td>16</td>\n",
       "      <td>I think it is a bot account</td>\n",
       "      <td>2020-09-03 20:21:50.501+00</td>\n",
       "      <td>2020-09-03 20:21:50.501+00</td>\n",
       "      <td>2588</td>\n",
       "      <td>2604</td>\n",
       "      <td>1</td>\n",
       "      <td>1</td>\n",
       "      <td>20:21</td>\n",
       "      <td>20:21</td>\n",
       "      <td>0.006738</td>\n",
       "      <td>False</td>\n",
       "    </tr>\n",
       "    <tr>\n",
       "      <th>3</th>\n",
       "      <td>17</td>\n",
       "      <td>Possible bot</td>\n",
       "      <td>2020-09-03 20:40:12.567+00</td>\n",
       "      <td>2020-09-03 20:40:12.567+00</td>\n",
       "      <td>2588</td>\n",
       "      <td>2638</td>\n",
       "      <td>1</td>\n",
       "      <td>1</td>\n",
       "      <td>20:40</td>\n",
       "      <td>20:40</td>\n",
       "      <td>0.006738</td>\n",
       "      <td>False</td>\n",
       "    </tr>\n",
       "    <tr>\n",
       "      <th>4</th>\n",
       "      <td>18</td>\n",
       "      <td>Bot?</td>\n",
       "      <td>2020-09-04 13:31:00.079+00</td>\n",
       "      <td>2020-09-04 13:31:00.079+00</td>\n",
       "      <td>2588</td>\n",
       "      <td>2658</td>\n",
       "      <td>2</td>\n",
       "      <td>2</td>\n",
       "      <td>13:31</td>\n",
       "      <td>13:31</td>\n",
       "      <td>0.018316</td>\n",
       "      <td>False</td>\n",
       "    </tr>\n",
       "  </tbody>\n",
       "</table>\n",
       "</div>"
      ],
      "text/plain": [
       "   id                                             report  \\\n",
       "0  14  They do not go into enough detail and do not d...   \n",
       "1  15  His comment, “thank you China,” is inappropria...   \n",
       "2  16                        I think it is a bot account   \n",
       "3  17                                       Possible bot   \n",
       "4  18                                               Bot?   \n",
       "\n",
       "                    createdAt                   updatedAt  ReporterId  \\\n",
       "0  2020-09-03 03:24:23.636+00  2020-09-03 03:24:23.636+00        2638   \n",
       "1   2020-09-03 19:38:37.22+00   2020-09-03 19:38:37.22+00        2593   \n",
       "2  2020-09-03 20:21:50.501+00  2020-09-03 20:21:50.501+00        2588   \n",
       "3  2020-09-03 20:40:12.567+00  2020-09-03 20:40:12.567+00        2588   \n",
       "4  2020-09-04 13:31:00.079+00  2020-09-04 13:31:00.079+00        2588   \n",
       "\n",
       "   SuspectId  create_day_time  update_day_time create_hour_time  \\\n",
       "0       2604                1                1            03:24   \n",
       "1       2560                1                1            19:38   \n",
       "2       2604                1                1            20:21   \n",
       "3       2638                1                1            20:40   \n",
       "4       2658                2                2            13:31   \n",
       "\n",
       "  update_hour_time  sock_reward  is_valid  \n",
       "0            03:24     0.006738     False  \n",
       "1            19:38     0.006738      True  \n",
       "2            20:21     0.006738     False  \n",
       "3            20:40     0.006738     False  \n",
       "4            13:31     0.018316     False  "
      ]
     },
     "execution_count": 88,
     "metadata": {},
     "output_type": "execute_result"
    }
   ],
   "source": [
    "df_report_user.head()"
   ]
  },
  {
   "cell_type": "code",
   "execution_count": 90,
   "metadata": {},
   "outputs": [
    {
     "data": {
      "text/plain": [
       "False    34\n",
       "True     12\n",
       "Name: is_valid, dtype: int64"
      ]
     },
     "execution_count": 90,
     "metadata": {},
     "output_type": "execute_result"
    }
   ],
   "source": [
    "df_report_user['is_valid'].value_counts()"
   ]
  },
  {
   "cell_type": "code",
   "execution_count": 126,
   "metadata": {},
   "outputs": [
    {
     "data": {
      "text/html": [
       "<div>\n",
       "<style scoped>\n",
       "    .dataframe tbody tr th:only-of-type {\n",
       "        vertical-align: middle;\n",
       "    }\n",
       "\n",
       "    .dataframe tbody tr th {\n",
       "        vertical-align: top;\n",
       "    }\n",
       "\n",
       "    .dataframe thead th {\n",
       "        text-align: right;\n",
       "    }\n",
       "</style>\n",
       "<table border=\"1\" class=\"dataframe\">\n",
       "  <thead>\n",
       "    <tr style=\"text-align: right;\">\n",
       "      <th></th>\n",
       "      <th>id</th>\n",
       "      <th>report</th>\n",
       "      <th>createdAt</th>\n",
       "      <th>updatedAt</th>\n",
       "      <th>ReporterId</th>\n",
       "      <th>SuspectId</th>\n",
       "      <th>create_day_time</th>\n",
       "      <th>update_day_time</th>\n",
       "      <th>create_hour_time</th>\n",
       "      <th>update_hour_time</th>\n",
       "      <th>sock_reward</th>\n",
       "      <th>is_valid</th>\n",
       "    </tr>\n",
       "  </thead>\n",
       "  <tbody>\n",
       "    <tr>\n",
       "      <th>0</th>\n",
       "      <td>14</td>\n",
       "      <td>They do not go into enough detail and do not d...</td>\n",
       "      <td>2020-09-03 03:24:23.636+00</td>\n",
       "      <td>2020-09-03 03:24:23.636+00</td>\n",
       "      <td>2638</td>\n",
       "      <td>2604</td>\n",
       "      <td>1</td>\n",
       "      <td>1</td>\n",
       "      <td>03:24</td>\n",
       "      <td>03:24</td>\n",
       "      <td>0.006738</td>\n",
       "      <td>False</td>\n",
       "    </tr>\n",
       "    <tr>\n",
       "      <th>1</th>\n",
       "      <td>15</td>\n",
       "      <td>His comment, “thank you China,” is inappropria...</td>\n",
       "      <td>2020-09-03 19:38:37.22+00</td>\n",
       "      <td>2020-09-03 19:38:37.22+00</td>\n",
       "      <td>2593</td>\n",
       "      <td>2560</td>\n",
       "      <td>1</td>\n",
       "      <td>1</td>\n",
       "      <td>19:38</td>\n",
       "      <td>19:38</td>\n",
       "      <td>0.006738</td>\n",
       "      <td>True</td>\n",
       "    </tr>\n",
       "    <tr>\n",
       "      <th>2</th>\n",
       "      <td>16</td>\n",
       "      <td>I think it is a bot account</td>\n",
       "      <td>2020-09-03 20:21:50.501+00</td>\n",
       "      <td>2020-09-03 20:21:50.501+00</td>\n",
       "      <td>2588</td>\n",
       "      <td>2604</td>\n",
       "      <td>1</td>\n",
       "      <td>1</td>\n",
       "      <td>20:21</td>\n",
       "      <td>20:21</td>\n",
       "      <td>0.006738</td>\n",
       "      <td>False</td>\n",
       "    </tr>\n",
       "    <tr>\n",
       "      <th>3</th>\n",
       "      <td>17</td>\n",
       "      <td>Possible bot</td>\n",
       "      <td>2020-09-03 20:40:12.567+00</td>\n",
       "      <td>2020-09-03 20:40:12.567+00</td>\n",
       "      <td>2588</td>\n",
       "      <td>2638</td>\n",
       "      <td>1</td>\n",
       "      <td>1</td>\n",
       "      <td>20:40</td>\n",
       "      <td>20:40</td>\n",
       "      <td>0.006738</td>\n",
       "      <td>False</td>\n",
       "    </tr>\n",
       "    <tr>\n",
       "      <th>4</th>\n",
       "      <td>18</td>\n",
       "      <td>Bot?</td>\n",
       "      <td>2020-09-04 13:31:00.079+00</td>\n",
       "      <td>2020-09-04 13:31:00.079+00</td>\n",
       "      <td>2588</td>\n",
       "      <td>2658</td>\n",
       "      <td>2</td>\n",
       "      <td>2</td>\n",
       "      <td>13:31</td>\n",
       "      <td>13:31</td>\n",
       "      <td>0.018316</td>\n",
       "      <td>False</td>\n",
       "    </tr>\n",
       "  </tbody>\n",
       "</table>\n",
       "</div>"
      ],
      "text/plain": [
       "   id                                             report  \\\n",
       "0  14  They do not go into enough detail and do not d...   \n",
       "1  15  His comment, “thank you China,” is inappropria...   \n",
       "2  16                        I think it is a bot account   \n",
       "3  17                                       Possible bot   \n",
       "4  18                                               Bot?   \n",
       "\n",
       "                    createdAt                   updatedAt  ReporterId  \\\n",
       "0  2020-09-03 03:24:23.636+00  2020-09-03 03:24:23.636+00        2638   \n",
       "1   2020-09-03 19:38:37.22+00   2020-09-03 19:38:37.22+00        2593   \n",
       "2  2020-09-03 20:21:50.501+00  2020-09-03 20:21:50.501+00        2588   \n",
       "3  2020-09-03 20:40:12.567+00  2020-09-03 20:40:12.567+00        2588   \n",
       "4  2020-09-04 13:31:00.079+00  2020-09-04 13:31:00.079+00        2588   \n",
       "\n",
       "   SuspectId  create_day_time  update_day_time create_hour_time  \\\n",
       "0       2604                1                1            03:24   \n",
       "1       2560                1                1            19:38   \n",
       "2       2604                1                1            20:21   \n",
       "3       2638                1                1            20:40   \n",
       "4       2658                2                2            13:31   \n",
       "\n",
       "  update_hour_time  sock_reward  is_valid  \n",
       "0            03:24     0.006738     False  \n",
       "1            19:38     0.006738      True  \n",
       "2            20:21     0.006738     False  \n",
       "3            20:40     0.006738     False  \n",
       "4            13:31     0.018316     False  "
      ]
     },
     "execution_count": 126,
     "metadata": {},
     "output_type": "execute_result"
    }
   ],
   "source": [
    "df_report_user.head()"
   ]
  },
  {
   "cell_type": "code",
   "execution_count": 94,
   "metadata": {},
   "outputs": [],
   "source": [
    "valid_report = df_report_user[df_report_user['is_valid'] == True]"
   ]
  },
  {
   "cell_type": "code",
   "execution_count": 134,
   "metadata": {},
   "outputs": [],
   "source": [
    "valid_report = valid_report.reset_index()\n",
    "del valid_report['index']"
   ]
  },
  {
   "cell_type": "code",
   "execution_count": 145,
   "metadata": {},
   "outputs": [],
   "source": [
    "valid_report.loc[0, 'strategy'] = 'dapang'"
   ]
  },
  {
   "cell_type": "code",
   "execution_count": 153,
   "metadata": {},
   "outputs": [],
   "source": [
    "for idx, row in valid_report.iterrows():\n",
    "    user_df = df_users[df_users['id'] == row['SuspectId']]\n",
    "    user_email = user_df['email'].tolist()[0]\n",
    "    valid_report.loc[idx, 'strategy'] = df_socks_assigns[df_socks_assigns['email'].str.contains(user_email)]['strategy'].tolist()[0]"
   ]
  },
  {
   "cell_type": "code",
   "execution_count": 222,
   "metadata": {},
   "outputs": [
    {
     "data": {
      "text/html": [
       "<div>\n",
       "<style scoped>\n",
       "    .dataframe tbody tr th:only-of-type {\n",
       "        vertical-align: middle;\n",
       "    }\n",
       "\n",
       "    .dataframe tbody tr th {\n",
       "        vertical-align: top;\n",
       "    }\n",
       "\n",
       "    .dataframe thead th {\n",
       "        text-align: right;\n",
       "    }\n",
       "</style>\n",
       "<table border=\"1\" class=\"dataframe\">\n",
       "  <thead>\n",
       "    <tr style=\"text-align: right;\">\n",
       "      <th></th>\n",
       "      <th>id</th>\n",
       "      <th>report</th>\n",
       "      <th>createdAt</th>\n",
       "      <th>updatedAt</th>\n",
       "      <th>ReporterId</th>\n",
       "      <th>SuspectId</th>\n",
       "      <th>create_day_time</th>\n",
       "      <th>update_day_time</th>\n",
       "      <th>create_hour_time</th>\n",
       "      <th>update_hour_time</th>\n",
       "      <th>sock_reward</th>\n",
       "      <th>is_valid</th>\n",
       "      <th>strategy</th>\n",
       "    </tr>\n",
       "  </thead>\n",
       "  <tbody>\n",
       "    <tr>\n",
       "      <th>0</th>\n",
       "      <td>15</td>\n",
       "      <td>His comment, “thank you China,” is inappropria...</td>\n",
       "      <td>2020-09-03 19:38:37.22+00</td>\n",
       "      <td>2020-09-03 19:38:37.22+00</td>\n",
       "      <td>2593</td>\n",
       "      <td>2560</td>\n",
       "      <td>1</td>\n",
       "      <td>1</td>\n",
       "      <td>19:38</td>\n",
       "      <td>19:38</td>\n",
       "      <td>0.006738</td>\n",
       "      <td>True</td>\n",
       "      <td>UNRESTRICTED</td>\n",
       "    </tr>\n",
       "    <tr>\n",
       "      <th>1</th>\n",
       "      <td>20</td>\n",
       "      <td>Fake profile</td>\n",
       "      <td>2020-09-04 16:26:47.842+00</td>\n",
       "      <td>2020-09-04 16:26:47.842+00</td>\n",
       "      <td>2603</td>\n",
       "      <td>2455</td>\n",
       "      <td>2</td>\n",
       "      <td>2</td>\n",
       "      <td>16:26</td>\n",
       "      <td>16:26</td>\n",
       "      <td>0.018316</td>\n",
       "      <td>True</td>\n",
       "      <td>COVERT</td>\n",
       "    </tr>\n",
       "    <tr>\n",
       "      <th>2</th>\n",
       "      <td>22</td>\n",
       "      <td>r2</td>\n",
       "      <td>2020-09-04 21:06:58.771+00</td>\n",
       "      <td>2020-09-04 21:06:58.771+00</td>\n",
       "      <td>2704</td>\n",
       "      <td>2441</td>\n",
       "      <td>2</td>\n",
       "      <td>2</td>\n",
       "      <td>21:06</td>\n",
       "      <td>21:06</td>\n",
       "      <td>0.018316</td>\n",
       "      <td>True</td>\n",
       "      <td>OVERT</td>\n",
       "    </tr>\n",
       "    <tr>\n",
       "      <th>3</th>\n",
       "      <td>24</td>\n",
       "      <td>r2</td>\n",
       "      <td>2020-09-04 21:09:42.661+00</td>\n",
       "      <td>2020-09-04 21:09:42.661+00</td>\n",
       "      <td>2704</td>\n",
       "      <td>2530</td>\n",
       "      <td>2</td>\n",
       "      <td>2</td>\n",
       "      <td>21:09</td>\n",
       "      <td>21:09</td>\n",
       "      <td>0.018316</td>\n",
       "      <td>True</td>\n",
       "      <td>OVERT</td>\n",
       "    </tr>\n",
       "    <tr>\n",
       "      <th>4</th>\n",
       "      <td>27</td>\n",
       "      <td>multiple repeat posts. seems fake.</td>\n",
       "      <td>2020-09-04 22:23:41.362+00</td>\n",
       "      <td>2020-09-04 22:23:41.362+00</td>\n",
       "      <td>2655</td>\n",
       "      <td>2426</td>\n",
       "      <td>2</td>\n",
       "      <td>2</td>\n",
       "      <td>22:23</td>\n",
       "      <td>22:23</td>\n",
       "      <td>0.018316</td>\n",
       "      <td>True</td>\n",
       "      <td>COVERT</td>\n",
       "    </tr>\n",
       "    <tr>\n",
       "      <th>5</th>\n",
       "      <td>46</td>\n",
       "      <td>possible bot</td>\n",
       "      <td>2020-09-06 15:19:30.601+00</td>\n",
       "      <td>2020-09-06 15:19:30.601+00</td>\n",
       "      <td>2588</td>\n",
       "      <td>2390</td>\n",
       "      <td>4</td>\n",
       "      <td>4</td>\n",
       "      <td>15:19</td>\n",
       "      <td>15:19</td>\n",
       "      <td>0.135335</td>\n",
       "      <td>True</td>\n",
       "      <td>COVERT</td>\n",
       "    </tr>\n",
       "    <tr>\n",
       "      <th>6</th>\n",
       "      <td>52</td>\n",
       "      <td>r2</td>\n",
       "      <td>2020-09-07 02:50:55.144+00</td>\n",
       "      <td>2020-09-07 02:50:55.144+00</td>\n",
       "      <td>2704</td>\n",
       "      <td>2456</td>\n",
       "      <td>5</td>\n",
       "      <td>5</td>\n",
       "      <td>02:50</td>\n",
       "      <td>02:50</td>\n",
       "      <td>0.367879</td>\n",
       "      <td>True</td>\n",
       "      <td>COVERT</td>\n",
       "    </tr>\n",
       "    <tr>\n",
       "      <th>7</th>\n",
       "      <td>53</td>\n",
       "      <td>r2</td>\n",
       "      <td>2020-09-07 05:44:24.706+00</td>\n",
       "      <td>2020-09-07 05:44:24.706+00</td>\n",
       "      <td>2709</td>\n",
       "      <td>2455</td>\n",
       "      <td>5</td>\n",
       "      <td>5</td>\n",
       "      <td>05:44</td>\n",
       "      <td>05:44</td>\n",
       "      <td>0.367879</td>\n",
       "      <td>True</td>\n",
       "      <td>COVERT</td>\n",
       "    </tr>\n",
       "    <tr>\n",
       "      <th>8</th>\n",
       "      <td>54</td>\n",
       "      <td>I think they are a sock puppet posting to get ...</td>\n",
       "      <td>2020-09-07 09:29:24.146+00</td>\n",
       "      <td>2020-09-07 09:29:24.146+00</td>\n",
       "      <td>2750</td>\n",
       "      <td>2455</td>\n",
       "      <td>5</td>\n",
       "      <td>5</td>\n",
       "      <td>09:29</td>\n",
       "      <td>09:29</td>\n",
       "      <td>0.367879</td>\n",
       "      <td>True</td>\n",
       "      <td>COVERT</td>\n",
       "    </tr>\n",
       "    <tr>\n",
       "      <th>9</th>\n",
       "      <td>55</td>\n",
       "      <td>r2</td>\n",
       "      <td>2020-09-07 14:34:01.717+00</td>\n",
       "      <td>2020-09-07 14:34:01.717+00</td>\n",
       "      <td>2709</td>\n",
       "      <td>2566</td>\n",
       "      <td>5</td>\n",
       "      <td>5</td>\n",
       "      <td>14:34</td>\n",
       "      <td>14:34</td>\n",
       "      <td>0.367879</td>\n",
       "      <td>True</td>\n",
       "      <td>OVERT</td>\n",
       "    </tr>\n",
       "    <tr>\n",
       "      <th>10</th>\n",
       "      <td>56</td>\n",
       "      <td>This user has misleading or malicious behavior.</td>\n",
       "      <td>2020-09-07 14:59:08.433+00</td>\n",
       "      <td>2020-09-07 14:59:08.433+00</td>\n",
       "      <td>2620</td>\n",
       "      <td>2566</td>\n",
       "      <td>5</td>\n",
       "      <td>5</td>\n",
       "      <td>14:59</td>\n",
       "      <td>14:59</td>\n",
       "      <td>0.367879</td>\n",
       "      <td>True</td>\n",
       "      <td>OVERT</td>\n",
       "    </tr>\n",
       "    <tr>\n",
       "      <th>11</th>\n",
       "      <td>59</td>\n",
       "      <td>low quality posts</td>\n",
       "      <td>2020-09-08 15:51:11.157+00</td>\n",
       "      <td>2020-09-08 15:51:11.157+00</td>\n",
       "      <td>2575</td>\n",
       "      <td>2455</td>\n",
       "      <td>6</td>\n",
       "      <td>6</td>\n",
       "      <td>15:51</td>\n",
       "      <td>15:51</td>\n",
       "      <td>1.000000</td>\n",
       "      <td>True</td>\n",
       "      <td>COVERT</td>\n",
       "    </tr>\n",
       "  </tbody>\n",
       "</table>\n",
       "</div>"
      ],
      "text/plain": [
       "    id                                             report  \\\n",
       "0   15  His comment, “thank you China,” is inappropria...   \n",
       "1   20                                       Fake profile   \n",
       "2   22                                                 r2   \n",
       "3   24                                                 r2   \n",
       "4   27                 multiple repeat posts. seems fake.   \n",
       "5   46                                       possible bot   \n",
       "6   52                                                 r2   \n",
       "7   53                                                 r2   \n",
       "8   54  I think they are a sock puppet posting to get ...   \n",
       "9   55                                                 r2   \n",
       "10  56    This user has misleading or malicious behavior.   \n",
       "11  59                                  low quality posts   \n",
       "\n",
       "                     createdAt                   updatedAt  ReporterId  \\\n",
       "0    2020-09-03 19:38:37.22+00   2020-09-03 19:38:37.22+00        2593   \n",
       "1   2020-09-04 16:26:47.842+00  2020-09-04 16:26:47.842+00        2603   \n",
       "2   2020-09-04 21:06:58.771+00  2020-09-04 21:06:58.771+00        2704   \n",
       "3   2020-09-04 21:09:42.661+00  2020-09-04 21:09:42.661+00        2704   \n",
       "4   2020-09-04 22:23:41.362+00  2020-09-04 22:23:41.362+00        2655   \n",
       "5   2020-09-06 15:19:30.601+00  2020-09-06 15:19:30.601+00        2588   \n",
       "6   2020-09-07 02:50:55.144+00  2020-09-07 02:50:55.144+00        2704   \n",
       "7   2020-09-07 05:44:24.706+00  2020-09-07 05:44:24.706+00        2709   \n",
       "8   2020-09-07 09:29:24.146+00  2020-09-07 09:29:24.146+00        2750   \n",
       "9   2020-09-07 14:34:01.717+00  2020-09-07 14:34:01.717+00        2709   \n",
       "10  2020-09-07 14:59:08.433+00  2020-09-07 14:59:08.433+00        2620   \n",
       "11  2020-09-08 15:51:11.157+00  2020-09-08 15:51:11.157+00        2575   \n",
       "\n",
       "    SuspectId  create_day_time  update_day_time create_hour_time  \\\n",
       "0        2560                1                1            19:38   \n",
       "1        2455                2                2            16:26   \n",
       "2        2441                2                2            21:06   \n",
       "3        2530                2                2            21:09   \n",
       "4        2426                2                2            22:23   \n",
       "5        2390                4                4            15:19   \n",
       "6        2456                5                5            02:50   \n",
       "7        2455                5                5            05:44   \n",
       "8        2455                5                5            09:29   \n",
       "9        2566                5                5            14:34   \n",
       "10       2566                5                5            14:59   \n",
       "11       2455                6                6            15:51   \n",
       "\n",
       "   update_hour_time  sock_reward  is_valid      strategy  \n",
       "0             19:38     0.006738      True  UNRESTRICTED  \n",
       "1             16:26     0.018316      True        COVERT  \n",
       "2             21:06     0.018316      True         OVERT  \n",
       "3             21:09     0.018316      True         OVERT  \n",
       "4             22:23     0.018316      True        COVERT  \n",
       "5             15:19     0.135335      True        COVERT  \n",
       "6             02:50     0.367879      True        COVERT  \n",
       "7             05:44     0.367879      True        COVERT  \n",
       "8             09:29     0.367879      True        COVERT  \n",
       "9             14:34     0.367879      True         OVERT  \n",
       "10            14:59     0.367879      True         OVERT  \n",
       "11            15:51     1.000000      True        COVERT  "
      ]
     },
     "execution_count": 222,
     "metadata": {},
     "output_type": "execute_result"
    }
   ],
   "source": [
    "valid_report"
   ]
  },
  {
   "cell_type": "code",
   "execution_count": 209,
   "metadata": {},
   "outputs": [
    {
     "data": {
      "text/plain": [
       "[2560, 2455, 2441, 2530, 2426, 2390, 2456, 2455, 2455, 2566, 2566, 2455]"
      ]
     },
     "execution_count": 209,
     "metadata": {},
     "output_type": "execute_result"
    }
   ],
   "source": [
    "valid_report['SuspectId'].tolist()"
   ]
  },
  {
   "cell_type": "code",
   "execution_count": 257,
   "metadata": {},
   "outputs": [
    {
     "data": {
      "text/plain": [
       "0    0.006738\n",
       "Name: sock_reward, dtype: float64"
      ]
     },
     "execution_count": 257,
     "metadata": {},
     "output_type": "execute_result"
    }
   ],
   "source": [
    "valid_report[valid_report['strategy'] == 'UNRESTRICTED']['sock_reward']"
   ]
  },
  {
   "cell_type": "code",
   "execution_count": 258,
   "metadata": {},
   "outputs": [
    {
     "data": {
      "text/plain": [
       "1     0.018316\n",
       "4     0.018316\n",
       "5     0.135335\n",
       "6     0.367879\n",
       "7     0.367879\n",
       "8     0.367879\n",
       "11    1.000000\n",
       "Name: sock_reward, dtype: float64"
      ]
     },
     "execution_count": 258,
     "metadata": {},
     "output_type": "execute_result"
    }
   ],
   "source": [
    "valid_report[valid_report['strategy'] == 'COVERT']['sock_reward']"
   ]
  },
  {
   "cell_type": "code",
   "execution_count": 259,
   "metadata": {},
   "outputs": [
    {
     "data": {
      "text/plain": [
       "2     0.018316\n",
       "3     0.018316\n",
       "9     0.367879\n",
       "10    0.367879\n",
       "Name: sock_reward, dtype: float64"
      ]
     },
     "execution_count": 259,
     "metadata": {},
     "output_type": "execute_result"
    }
   ],
   "source": [
    "valid_report[valid_report['strategy'] == 'OVERT']['sock_reward']"
   ]
  },
  {
   "cell_type": "code",
   "execution_count": 155,
   "metadata": {},
   "outputs": [
    {
     "data": {
      "text/plain": [
       "COVERT          7\n",
       "OVERT           4\n",
       "UNRESTRICTED    1\n",
       "Name: strategy, dtype: int64"
      ]
     },
     "execution_count": 155,
     "metadata": {},
     "output_type": "execute_result"
    }
   ],
   "source": [
    "valid_report['strategy'].value_counts()"
   ]
  },
  {
   "cell_type": "code",
   "execution_count": 170,
   "metadata": {},
   "outputs": [
    {
     "data": {
      "text/plain": [
       "210"
      ]
     },
     "execution_count": 170,
     "metadata": {},
     "output_type": "execute_result"
    }
   ],
   "source": [
    "len(df_socks_assigns)"
   ]
  },
  {
   "cell_type": "code",
   "execution_count": 157,
   "metadata": {},
   "outputs": [
    {
     "data": {
      "text/plain": [
       "OVERT           81\n",
       "UNRESTRICTED    73\n",
       "COVERT          56\n",
       "Name: strategy, dtype: int64"
      ]
     },
     "execution_count": 157,
     "metadata": {},
     "output_type": "execute_result"
    }
   ],
   "source": [
    "df_socks_assigns['strategy'].value_counts()"
   ]
  },
  {
   "cell_type": "code",
   "execution_count": 160,
   "metadata": {},
   "outputs": [
    {
     "data": {
      "text/plain": [
       "1     2\n",
       "4     2\n",
       "5     4\n",
       "6     5\n",
       "7     5\n",
       "8     5\n",
       "11    6\n",
       "Name: create_day_time, dtype: int64"
      ]
     },
     "execution_count": 160,
     "metadata": {},
     "output_type": "execute_result"
    }
   ],
   "source": [
    "valid_report[valid_report['strategy'] == 'COVERT']['create_day_time']"
   ]
  },
  {
   "cell_type": "code",
   "execution_count": 240,
   "metadata": {},
   "outputs": [],
   "source": [
    "discover_time = {2560: 1, 2455: 2, 2441: 2, 2530: 2, 2426: 2, 2390: 4, 2456: 5, 2455: 5, 2566: 5}"
   ]
  },
  {
   "cell_type": "code",
   "execution_count": 239,
   "metadata": {},
   "outputs": [
    {
     "data": {
      "text/plain": [
       "1"
      ]
     },
     "execution_count": 239,
     "metadata": {},
     "output_type": "execute_result"
    }
   ],
   "source": [
    "discover_time[2560]"
   ]
  },
  {
   "cell_type": "markdown",
   "metadata": {},
   "source": [
    "# Graph 1"
   ]
  },
  {
   "cell_type": "code",
   "execution_count": 171,
   "metadata": {},
   "outputs": [],
   "source": [
    "gh1_df = pd.read_csv('./graph_data/graph_1.csv', header=0)"
   ]
  },
  {
   "cell_type": "code",
   "execution_count": 172,
   "metadata": {},
   "outputs": [
    {
     "data": {
      "text/html": [
       "<div>\n",
       "<style scoped>\n",
       "    .dataframe tbody tr th:only-of-type {\n",
       "        vertical-align: middle;\n",
       "    }\n",
       "\n",
       "    .dataframe tbody tr th {\n",
       "        vertical-align: top;\n",
       "    }\n",
       "\n",
       "    .dataframe thead th {\n",
       "        text-align: right;\n",
       "    }\n",
       "</style>\n",
       "<table border=\"1\" class=\"dataframe\">\n",
       "  <thead>\n",
       "    <tr style=\"text-align: right;\">\n",
       "      <th></th>\n",
       "      <th>day</th>\n",
       "      <th>num_sock_discover</th>\n",
       "      <th>num_sock_discover_ratio</th>\n",
       "      <th>strategy</th>\n",
       "    </tr>\n",
       "  </thead>\n",
       "  <tbody>\n",
       "    <tr>\n",
       "      <th>0</th>\n",
       "      <td>1</td>\n",
       "      <td>0</td>\n",
       "      <td>0.0</td>\n",
       "      <td>OVERT</td>\n",
       "    </tr>\n",
       "    <tr>\n",
       "      <th>1</th>\n",
       "      <td>1</td>\n",
       "      <td>1</td>\n",
       "      <td>1.4</td>\n",
       "      <td>UNRESTRICTED</td>\n",
       "    </tr>\n",
       "    <tr>\n",
       "      <th>2</th>\n",
       "      <td>1</td>\n",
       "      <td>0</td>\n",
       "      <td>0.0</td>\n",
       "      <td>COVERT</td>\n",
       "    </tr>\n",
       "    <tr>\n",
       "      <th>3</th>\n",
       "      <td>1</td>\n",
       "      <td>1</td>\n",
       "      <td>0.5</td>\n",
       "      <td>ALL</td>\n",
       "    </tr>\n",
       "    <tr>\n",
       "      <th>4</th>\n",
       "      <td>2</td>\n",
       "      <td>2</td>\n",
       "      <td>2.5</td>\n",
       "      <td>OVERT</td>\n",
       "    </tr>\n",
       "  </tbody>\n",
       "</table>\n",
       "</div>"
      ],
      "text/plain": [
       "   day  num_sock_discover  num_sock_discover_ratio      strategy\n",
       "0    1                  0                      0.0         OVERT\n",
       "1    1                  1                      1.4  UNRESTRICTED\n",
       "2    1                  0                      0.0        COVERT\n",
       "3    1                  1                      0.5           ALL\n",
       "4    2                  2                      2.5         OVERT"
      ]
     },
     "execution_count": 172,
     "metadata": {},
     "output_type": "execute_result"
    }
   ],
   "source": [
    "gh1_df.head()"
   ]
  },
  {
   "cell_type": "code",
   "execution_count": 173,
   "metadata": {},
   "outputs": [
    {
     "data": {
      "image/png": "[encoded data removed]",
      "text/plain": [
       "<Figure size 432x288 with 1 Axes>"
      ]
     },
     "metadata": {
      "needs_background": "light"
     },
     "output_type": "display_data"
    }
   ],
   "source": [
    "gh_1 = sns.lineplot(x=\"day\", y=\"num_sock_discover\",\n",
    "             hue=\"strategy\",\n",
    "             data=gh1_df)\n",
    "gh_1.figure.savefig('graph_1.pdf')"
   ]
  },
  {
   "cell_type": "code",
   "execution_count": 174,
   "metadata": {},
   "outputs": [
    {
     "data": {
      "image/png": "[encoded data removed]",
      "text/plain": [
       "<Figure size 432x288 with 1 Axes>"
      ]
     },
     "metadata": {
      "needs_background": "light"
     },
     "output_type": "display_data"
    }
   ],
   "source": [
    "gh_1 = sns.lineplot(x=\"day\", y=\"num_sock_discover_ratio\",\n",
    "             hue=\"strategy\",\n",
    "             data=gh1_df)\n",
    "gh_1.figure.savefig('graph_1_ratio.pdf')"
   ]
  },
  {
   "cell_type": "markdown",
   "metadata": {},
   "source": [
    "# Graph 2"
   ]
  },
  {
   "cell_type": "code",
   "execution_count": 176,
   "metadata": {},
   "outputs": [
    {
     "data": {
      "text/html": [
       "<div>\n",
       "<style scoped>\n",
       "    .dataframe tbody tr th:only-of-type {\n",
       "        vertical-align: middle;\n",
       "    }\n",
       "\n",
       "    .dataframe tbody tr th {\n",
       "        vertical-align: top;\n",
       "    }\n",
       "\n",
       "    .dataframe thead th {\n",
       "        text-align: right;\n",
       "    }\n",
       "</style>\n",
       "<table border=\"1\" class=\"dataframe\">\n",
       "  <thead>\n",
       "    <tr style=\"text-align: right;\">\n",
       "      <th></th>\n",
       "      <th>id</th>\n",
       "      <th>text</th>\n",
       "      <th>picture_url</th>\n",
       "      <th>parent_id</th>\n",
       "      <th>root_id</th>\n",
       "      <th>is_marked</th>\n",
       "      <th>tags</th>\n",
       "      <th>createdAt</th>\n",
       "      <th>updatedAt</th>\n",
       "      <th>AuthorId</th>\n",
       "      <th>is_trending</th>\n",
       "      <th>create_day_time</th>\n",
       "      <th>update_day_time</th>\n",
       "      <th>create_hour_time</th>\n",
       "      <th>update_hour_time</th>\n",
       "    </tr>\n",
       "  </thead>\n",
       "  <tbody>\n",
       "    <tr>\n",
       "      <th>0</th>\n",
       "      <td>93</td>\n",
       "      <td>I think that we should move away from nuclear ...</td>\n",
       "      <td>NaN</td>\n",
       "      <td>NaN</td>\n",
       "      <td>NaN</td>\n",
       "      <td>f</td>\n",
       "      <td>{nuclear,energy,enviroment}</td>\n",
       "      <td>2020-09-03 01:59:10.051+00</td>\n",
       "      <td>2020-09-04 13:08:51.133+00</td>\n",
       "      <td>2580.0</td>\n",
       "      <td>f</td>\n",
       "      <td>1</td>\n",
       "      <td>2</td>\n",
       "      <td>01:59</td>\n",
       "      <td>13:08</td>\n",
       "    </tr>\n",
       "    <tr>\n",
       "      <th>1</th>\n",
       "      <td>94</td>\n",
       "      <td>Given the security put in place since 911, it ...</td>\n",
       "      <td>NaN</td>\n",
       "      <td>NaN</td>\n",
       "      <td>NaN</td>\n",
       "      <td>f</td>\n",
       "      <td>{TerroristAttack}</td>\n",
       "      <td>2020-09-03 02:28:29.002+00</td>\n",
       "      <td>2020-09-04 13:08:51.133+00</td>\n",
       "      <td>2593.0</td>\n",
       "      <td>f</td>\n",
       "      <td>1</td>\n",
       "      <td>2</td>\n",
       "      <td>02:28</td>\n",
       "      <td>13:08</td>\n",
       "    </tr>\n",
       "    <tr>\n",
       "      <th>2</th>\n",
       "      <td>95</td>\n",
       "      <td>NaN</td>\n",
       "      <td>NaN</td>\n",
       "      <td>NaN</td>\n",
       "      <td>NaN</td>\n",
       "      <td>t</td>\n",
       "      <td>{\"\"}</td>\n",
       "      <td>2020-09-03 02:31:10.028+00</td>\n",
       "      <td>2020-09-03 02:34:29.992+00</td>\n",
       "      <td>2611.0</td>\n",
       "      <td>f</td>\n",
       "      <td>1</td>\n",
       "      <td>1</td>\n",
       "      <td>02:31</td>\n",
       "      <td>02:34</td>\n",
       "    </tr>\n",
       "    <tr>\n",
       "      <th>3</th>\n",
       "      <td>96</td>\n",
       "      <td>It is crucial that the United States plays a r...</td>\n",
       "      <td>NaN</td>\n",
       "      <td>NaN</td>\n",
       "      <td>NaN</td>\n",
       "      <td>f</td>\n",
       "      <td>{Worldaffairs}</td>\n",
       "      <td>2020-09-03 02:34:07.312+00</td>\n",
       "      <td>2020-09-04 13:08:51.133+00</td>\n",
       "      <td>2593.0</td>\n",
       "      <td>f</td>\n",
       "      <td>1</td>\n",
       "      <td>2</td>\n",
       "      <td>02:34</td>\n",
       "      <td>13:08</td>\n",
       "    </tr>\n",
       "    <tr>\n",
       "      <th>4</th>\n",
       "      <td>97</td>\n",
       "      <td>Strongly disapprove of a two percent annual ta...</td>\n",
       "      <td>NaN</td>\n",
       "      <td>NaN</td>\n",
       "      <td>NaN</td>\n",
       "      <td>f</td>\n",
       "      <td>{WealthTax}</td>\n",
       "      <td>2020-09-03 02:36:27.825+00</td>\n",
       "      <td>2020-09-04 13:08:51.133+00</td>\n",
       "      <td>2593.0</td>\n",
       "      <td>f</td>\n",
       "      <td>1</td>\n",
       "      <td>2</td>\n",
       "      <td>02:36</td>\n",
       "      <td>13:08</td>\n",
       "    </tr>\n",
       "  </tbody>\n",
       "</table>\n",
       "</div>"
      ],
      "text/plain": [
       "   id                                               text picture_url  \\\n",
       "0  93  I think that we should move away from nuclear ...         NaN   \n",
       "1  94  Given the security put in place since 911, it ...         NaN   \n",
       "2  95                                                NaN         NaN   \n",
       "3  96  It is crucial that the United States plays a r...         NaN   \n",
       "4  97  Strongly disapprove of a two percent annual ta...         NaN   \n",
       "\n",
       "   parent_id  root_id is_marked                         tags  \\\n",
       "0        NaN      NaN         f  {nuclear,energy,enviroment}   \n",
       "1        NaN      NaN         f            {TerroristAttack}   \n",
       "2        NaN      NaN         t                         {\"\"}   \n",
       "3        NaN      NaN         f               {Worldaffairs}   \n",
       "4        NaN      NaN         f                  {WealthTax}   \n",
       "\n",
       "                    createdAt                   updatedAt  AuthorId  \\\n",
       "0  2020-09-03 01:59:10.051+00  2020-09-04 13:08:51.133+00    2580.0   \n",
       "1  2020-09-03 02:28:29.002+00  2020-09-04 13:08:51.133+00    2593.0   \n",
       "2  2020-09-03 02:31:10.028+00  2020-09-03 02:34:29.992+00    2611.0   \n",
       "3  2020-09-03 02:34:07.312+00  2020-09-04 13:08:51.133+00    2593.0   \n",
       "4  2020-09-03 02:36:27.825+00  2020-09-04 13:08:51.133+00    2593.0   \n",
       "\n",
       "  is_trending  create_day_time  update_day_time create_hour_time  \\\n",
       "0           f                1                2            01:59   \n",
       "1           f                1                2            02:28   \n",
       "2           f                1                1            02:31   \n",
       "3           f                1                2            02:34   \n",
       "4           f                1                2            02:36   \n",
       "\n",
       "  update_hour_time  \n",
       "0            13:08  \n",
       "1            13:08  \n",
       "2            02:34  \n",
       "3            13:08  \n",
       "4            13:08  "
      ]
     },
     "execution_count": 176,
     "metadata": {},
     "output_type": "execute_result"
    }
   ],
   "source": [
    "df_posts.head()"
   ]
  },
  {
   "cell_type": "code",
   "execution_count": 179,
   "metadata": {},
   "outputs": [],
   "source": [
    "retweet_posts = df_posts[df_posts['root_id'].notna()]"
   ]
  },
  {
   "cell_type": "code",
   "execution_count": 225,
   "metadata": {},
   "outputs": [
    {
     "data": {
      "text/plain": [
       "123"
      ]
     },
     "execution_count": 225,
     "metadata": {},
     "output_type": "execute_result"
    }
   ],
   "source": [
    "len(retweet_posts)"
   ]
  },
  {
   "cell_type": "code",
   "execution_count": 223,
   "metadata": {},
   "outputs": [
    {
     "data": {
      "application/vnd.jupyter.widget-view+json": {
       "model_id": "2e08efbdb14946d096c88c4b1df4c5ec",
       "version_major": 2,
       "version_minor": 0
      },
      "text/plain": [
       "HBox(children=(FloatProgress(value=0.0, description='Pandas Apply', max=123.0, style=ProgressStyle(description…"
      ]
     },
     "metadata": {},
     "output_type": "display_data"
    },
    {
     "name": "stdout",
     "output_type": "stream",
     "text": [
      "\n"
     ]
    },
    {
     "name": "stderr",
     "output_type": "stream",
     "text": [
      "/home/ruibo/anaconda3/envs/tf_gpu_env/lib/python3.6/site-packages/ipykernel_launcher.py:7: SettingWithCopyWarning: \n",
      "A value is trying to be set on a copy of a slice from a DataFrame.\n",
      "Try using .loc[row_indexer,col_indexer] = value instead\n",
      "\n",
      "See the caveats in the documentation: https://pandas.pydata.org/pandas-docs/stable/user_guide/indexing.html#returning-a-view-versus-a-copy\n",
      "  import sys\n"
     ]
    }
   ],
   "source": [
    "def return_valid(text):\n",
    "    if text in sockpuppets:\n",
    "        return True\n",
    "    else:\n",
    "        return False\n",
    "\n",
    "retweet_posts['sockpuppet_retweet'] = retweet_posts['AuthorId'].swifter.allow_dask_on_strings().apply(return_valid)"
   ]
  },
  {
   "cell_type": "code",
   "execution_count": 230,
   "metadata": {},
   "outputs": [],
   "source": [
    "retweet_posts = retweet_posts[retweet_posts['sockpuppet_retweet']]"
   ]
  },
  {
   "cell_type": "code",
   "execution_count": 231,
   "metadata": {},
   "outputs": [
    {
     "data": {
      "text/html": [
       "<div>\n",
       "<style scoped>\n",
       "    .dataframe tbody tr th:only-of-type {\n",
       "        vertical-align: middle;\n",
       "    }\n",
       "\n",
       "    .dataframe tbody tr th {\n",
       "        vertical-align: top;\n",
       "    }\n",
       "\n",
       "    .dataframe thead th {\n",
       "        text-align: right;\n",
       "    }\n",
       "</style>\n",
       "<table border=\"1\" class=\"dataframe\">\n",
       "  <thead>\n",
       "    <tr style=\"text-align: right;\">\n",
       "      <th></th>\n",
       "      <th>id</th>\n",
       "      <th>text</th>\n",
       "      <th>picture_url</th>\n",
       "      <th>parent_id</th>\n",
       "      <th>root_id</th>\n",
       "      <th>is_marked</th>\n",
       "      <th>tags</th>\n",
       "      <th>createdAt</th>\n",
       "      <th>updatedAt</th>\n",
       "      <th>AuthorId</th>\n",
       "      <th>is_trending</th>\n",
       "      <th>create_day_time</th>\n",
       "      <th>update_day_time</th>\n",
       "      <th>create_hour_time</th>\n",
       "      <th>update_hour_time</th>\n",
       "      <th>sockpuppet_retweet</th>\n",
       "      <th>discovered</th>\n",
       "    </tr>\n",
       "  </thead>\n",
       "  <tbody>\n",
       "    <tr>\n",
       "      <th>25</th>\n",
       "      <td>118</td>\n",
       "      <td>Absolutely! The preservation of the environmen...</td>\n",
       "      <td>NaN</td>\n",
       "      <td>93.0</td>\n",
       "      <td>93.0</td>\n",
       "      <td>f</td>\n",
       "      <td>NaN</td>\n",
       "      <td>2020-09-03 06:05:01.123+00</td>\n",
       "      <td>2020-09-03 06:05:01.135+00</td>\n",
       "      <td>2444.0</td>\n",
       "      <td>f</td>\n",
       "      <td>1</td>\n",
       "      <td>1</td>\n",
       "      <td>06:05</td>\n",
       "      <td>06:05</td>\n",
       "      <td>True</td>\n",
       "      <td>False</td>\n",
       "    </tr>\n",
       "    <tr>\n",
       "      <th>26</th>\n",
       "      <td>119</td>\n",
       "      <td>Of course! The economy can wait, destruction o...</td>\n",
       "      <td>NaN</td>\n",
       "      <td>109.0</td>\n",
       "      <td>109.0</td>\n",
       "      <td>f</td>\n",
       "      <td>NaN</td>\n",
       "      <td>2020-09-03 06:08:59.136+00</td>\n",
       "      <td>2020-09-03 06:08:59.147+00</td>\n",
       "      <td>2444.0</td>\n",
       "      <td>f</td>\n",
       "      <td>1</td>\n",
       "      <td>1</td>\n",
       "      <td>06:08</td>\n",
       "      <td>06:08</td>\n",
       "      <td>True</td>\n",
       "      <td>False</td>\n",
       "    </tr>\n",
       "    <tr>\n",
       "      <th>54</th>\n",
       "      <td>147</td>\n",
       "      <td>2 pennies out of every dollar! It's such a sma...</td>\n",
       "      <td>NaN</td>\n",
       "      <td>129.0</td>\n",
       "      <td>129.0</td>\n",
       "      <td>f</td>\n",
       "      <td>NaN</td>\n",
       "      <td>2020-09-03 12:24:48.395+00</td>\n",
       "      <td>2020-09-03 12:24:48.404+00</td>\n",
       "      <td>2481.0</td>\n",
       "      <td>f</td>\n",
       "      <td>1</td>\n",
       "      <td>1</td>\n",
       "      <td>12:24</td>\n",
       "      <td>12:24</td>\n",
       "      <td>True</td>\n",
       "      <td>False</td>\n",
       "    </tr>\n",
       "    <tr>\n",
       "      <th>158</th>\n",
       "      <td>251</td>\n",
       "      <td>I disagree strongly.\\n\\nHonestly I don't think...</td>\n",
       "      <td>NaN</td>\n",
       "      <td>97.0</td>\n",
       "      <td>97.0</td>\n",
       "      <td>f</td>\n",
       "      <td>NaN</td>\n",
       "      <td>2020-09-03 19:09:31.166+00</td>\n",
       "      <td>2020-09-04 20:12:07.119+00</td>\n",
       "      <td>2540.0</td>\n",
       "      <td>f</td>\n",
       "      <td>1</td>\n",
       "      <td>2</td>\n",
       "      <td>19:09</td>\n",
       "      <td>20:12</td>\n",
       "      <td>True</td>\n",
       "      <td>False</td>\n",
       "    </tr>\n",
       "    <tr>\n",
       "      <th>166</th>\n",
       "      <td>259</td>\n",
       "      <td>I have to agree, we've actually historically t...</td>\n",
       "      <td>NaN</td>\n",
       "      <td>129.0</td>\n",
       "      <td>129.0</td>\n",
       "      <td>f</td>\n",
       "      <td>NaN</td>\n",
       "      <td>2020-09-03 19:43:14.571+00</td>\n",
       "      <td>2020-09-03 19:43:14.579+00</td>\n",
       "      <td>2545.0</td>\n",
       "      <td>f</td>\n",
       "      <td>1</td>\n",
       "      <td>1</td>\n",
       "      <td>19:43</td>\n",
       "      <td>19:43</td>\n",
       "      <td>True</td>\n",
       "      <td>False</td>\n",
       "    </tr>\n",
       "    <tr>\n",
       "      <th>168</th>\n",
       "      <td>261</td>\n",
       "      <td>This is terrible.  In times like these, we nee...</td>\n",
       "      <td>NaN</td>\n",
       "      <td>150.0</td>\n",
       "      <td>150.0</td>\n",
       "      <td>f</td>\n",
       "      <td>NaN</td>\n",
       "      <td>2020-09-03 19:54:08.23+00</td>\n",
       "      <td>2020-09-04 22:28:59.206+00</td>\n",
       "      <td>2543.0</td>\n",
       "      <td>f</td>\n",
       "      <td>1</td>\n",
       "      <td>2</td>\n",
       "      <td>19:54</td>\n",
       "      <td>22:28</td>\n",
       "      <td>True</td>\n",
       "      <td>False</td>\n",
       "    </tr>\n",
       "    <tr>\n",
       "      <th>182</th>\n",
       "      <td>275</td>\n",
       "      <td>Agreed!  #earthfirst</td>\n",
       "      <td>NaN</td>\n",
       "      <td>109.0</td>\n",
       "      <td>109.0</td>\n",
       "      <td>f</td>\n",
       "      <td>NaN</td>\n",
       "      <td>2020-09-03 20:18:17.76+00</td>\n",
       "      <td>2020-09-04 22:28:59.206+00</td>\n",
       "      <td>2529.0</td>\n",
       "      <td>f</td>\n",
       "      <td>1</td>\n",
       "      <td>2</td>\n",
       "      <td>20:18</td>\n",
       "      <td>22:28</td>\n",
       "      <td>True</td>\n",
       "      <td>False</td>\n",
       "    </tr>\n",
       "    <tr>\n",
       "      <th>198</th>\n",
       "      <td>291</td>\n",
       "      <td>YAAAAS</td>\n",
       "      <td>NaN</td>\n",
       "      <td>109.0</td>\n",
       "      <td>109.0</td>\n",
       "      <td>f</td>\n",
       "      <td>NaN</td>\n",
       "      <td>2020-09-03 20:34:56.011+00</td>\n",
       "      <td>2020-09-04 22:28:59.206+00</td>\n",
       "      <td>2531.0</td>\n",
       "      <td>f</td>\n",
       "      <td>1</td>\n",
       "      <td>2</td>\n",
       "      <td>20:34</td>\n",
       "      <td>22:28</td>\n",
       "      <td>True</td>\n",
       "      <td>False</td>\n",
       "    </tr>\n",
       "    <tr>\n",
       "      <th>458</th>\n",
       "      <td>551</td>\n",
       "      <td>exactly right. I agree. This is an important g...</td>\n",
       "      <td>NaN</td>\n",
       "      <td>264.0</td>\n",
       "      <td>264.0</td>\n",
       "      <td>f</td>\n",
       "      <td>NaN</td>\n",
       "      <td>2020-09-04 14:19:45.132+00</td>\n",
       "      <td>2020-09-04 14:19:45.138+00</td>\n",
       "      <td>2391.0</td>\n",
       "      <td>f</td>\n",
       "      <td>2</td>\n",
       "      <td>2</td>\n",
       "      <td>14:19</td>\n",
       "      <td>14:19</td>\n",
       "      <td>True</td>\n",
       "      <td>False</td>\n",
       "    </tr>\n",
       "    <tr>\n",
       "      <th>492</th>\n",
       "      <td>585</td>\n",
       "      <td>LOVE THIS</td>\n",
       "      <td>NaN</td>\n",
       "      <td>174.0</td>\n",
       "      <td>174.0</td>\n",
       "      <td>f</td>\n",
       "      <td>NaN</td>\n",
       "      <td>2020-09-04 15:21:46.664+00</td>\n",
       "      <td>2020-09-04 15:21:48.382+00</td>\n",
       "      <td>2531.0</td>\n",
       "      <td>f</td>\n",
       "      <td>2</td>\n",
       "      <td>2</td>\n",
       "      <td>15:21</td>\n",
       "      <td>15:21</td>\n",
       "      <td>True</td>\n",
       "      <td>False</td>\n",
       "    </tr>\n",
       "    <tr>\n",
       "      <th>498</th>\n",
       "      <td>591</td>\n",
       "      <td>Join the rest of the western world with nuclea...</td>\n",
       "      <td>NaN</td>\n",
       "      <td>179.0</td>\n",
       "      <td>179.0</td>\n",
       "      <td>f</td>\n",
       "      <td>NaN</td>\n",
       "      <td>2020-09-04 15:28:07.166+00</td>\n",
       "      <td>2020-09-04 15:28:07.176+00</td>\n",
       "      <td>2529.0</td>\n",
       "      <td>f</td>\n",
       "      <td>2</td>\n",
       "      <td>2</td>\n",
       "      <td>15:28</td>\n",
       "      <td>15:28</td>\n",
       "      <td>True</td>\n",
       "      <td>False</td>\n",
       "    </tr>\n",
       "    <tr>\n",
       "      <th>514</th>\n",
       "      <td>607</td>\n",
       "      <td>Gosh, I don't even know what all this means bu...</td>\n",
       "      <td>NaN</td>\n",
       "      <td>203.0</td>\n",
       "      <td>203.0</td>\n",
       "      <td>f</td>\n",
       "      <td>NaN</td>\n",
       "      <td>2020-09-04 17:12:13.976+00</td>\n",
       "      <td>2020-09-05 23:26:46.66+00</td>\n",
       "      <td>2542.0</td>\n",
       "      <td>f</td>\n",
       "      <td>2</td>\n",
       "      <td>3</td>\n",
       "      <td>17:12</td>\n",
       "      <td>23:26</td>\n",
       "      <td>True</td>\n",
       "      <td>False</td>\n",
       "    </tr>\n",
       "    <tr>\n",
       "      <th>626</th>\n",
       "      <td>719</td>\n",
       "      <td>If I did something like this at my job, I'd be...</td>\n",
       "      <td>NaN</td>\n",
       "      <td>158.0</td>\n",
       "      <td>158.0</td>\n",
       "      <td>f</td>\n",
       "      <td>NaN</td>\n",
       "      <td>2020-09-05 11:01:46.146+00</td>\n",
       "      <td>2020-09-07 12:44:04.49+00</td>\n",
       "      <td>2542.0</td>\n",
       "      <td>f</td>\n",
       "      <td>3</td>\n",
       "      <td>5</td>\n",
       "      <td>11:01</td>\n",
       "      <td>12:44</td>\n",
       "      <td>True</td>\n",
       "      <td>False</td>\n",
       "    </tr>\n",
       "    <tr>\n",
       "      <th>628</th>\n",
       "      <td>721</td>\n",
       "      <td>I honestly think people around the world are l...</td>\n",
       "      <td>NaN</td>\n",
       "      <td>177.0</td>\n",
       "      <td>177.0</td>\n",
       "      <td>f</td>\n",
       "      <td>NaN</td>\n",
       "      <td>2020-09-05 12:02:22.905+00</td>\n",
       "      <td>2020-09-07 12:44:04.49+00</td>\n",
       "      <td>2545.0</td>\n",
       "      <td>f</td>\n",
       "      <td>3</td>\n",
       "      <td>5</td>\n",
       "      <td>12:02</td>\n",
       "      <td>12:44</td>\n",
       "      <td>True</td>\n",
       "      <td>False</td>\n",
       "    </tr>\n",
       "    <tr>\n",
       "      <th>639</th>\n",
       "      <td>732</td>\n",
       "      <td>True. America First.</td>\n",
       "      <td>NaN</td>\n",
       "      <td>117.0</td>\n",
       "      <td>117.0</td>\n",
       "      <td>f</td>\n",
       "      <td>NaN</td>\n",
       "      <td>2020-09-05 12:52:22.927+00</td>\n",
       "      <td>2020-09-05 12:52:22.936+00</td>\n",
       "      <td>2541.0</td>\n",
       "      <td>f</td>\n",
       "      <td>3</td>\n",
       "      <td>3</td>\n",
       "      <td>12:52</td>\n",
       "      <td>12:52</td>\n",
       "      <td>True</td>\n",
       "      <td>False</td>\n",
       "    </tr>\n",
       "    <tr>\n",
       "      <th>647</th>\n",
       "      <td>740</td>\n",
       "      <td>If anyone should wear a mask over his face, th...</td>\n",
       "      <td>NaN</td>\n",
       "      <td>719.0</td>\n",
       "      <td>158.0</td>\n",
       "      <td>f</td>\n",
       "      <td>NaN</td>\n",
       "      <td>2020-09-05 13:05:34.454+00</td>\n",
       "      <td>2020-09-05 13:05:34.463+00</td>\n",
       "      <td>2391.0</td>\n",
       "      <td>f</td>\n",
       "      <td>3</td>\n",
       "      <td>3</td>\n",
       "      <td>13:05</td>\n",
       "      <td>13:05</td>\n",
       "      <td>True</td>\n",
       "      <td>False</td>\n",
       "    </tr>\n",
       "    <tr>\n",
       "      <th>762</th>\n",
       "      <td>855</td>\n",
       "      <td>NaN</td>\n",
       "      <td>NaN</td>\n",
       "      <td>708.0</td>\n",
       "      <td>708.0</td>\n",
       "      <td>f</td>\n",
       "      <td>NaN</td>\n",
       "      <td>2020-09-06 03:48:24.221+00</td>\n",
       "      <td>2020-09-06 03:48:24.229+00</td>\n",
       "      <td>2455.0</td>\n",
       "      <td>f</td>\n",
       "      <td>4</td>\n",
       "      <td>4</td>\n",
       "      <td>03:48</td>\n",
       "      <td>03:48</td>\n",
       "      <td>True</td>\n",
       "      <td>True</td>\n",
       "    </tr>\n",
       "    <tr>\n",
       "      <th>805</th>\n",
       "      <td>898</td>\n",
       "      <td>Claire 8713 is right. Let's be smart about this.</td>\n",
       "      <td>NaN</td>\n",
       "      <td>755.0</td>\n",
       "      <td>755.0</td>\n",
       "      <td>f</td>\n",
       "      <td>NaN</td>\n",
       "      <td>2020-09-06 13:06:01.63+00</td>\n",
       "      <td>2020-09-06 13:06:01.637+00</td>\n",
       "      <td>2389.0</td>\n",
       "      <td>f</td>\n",
       "      <td>4</td>\n",
       "      <td>4</td>\n",
       "      <td>13:06</td>\n",
       "      <td>13:06</td>\n",
       "      <td>True</td>\n",
       "      <td>False</td>\n",
       "    </tr>\n",
       "    <tr>\n",
       "      <th>810</th>\n",
       "      <td>903</td>\n",
       "      <td>I think it's happening now. Amy you are onto s...</td>\n",
       "      <td>NaN</td>\n",
       "      <td>711.0</td>\n",
       "      <td>711.0</td>\n",
       "      <td>f</td>\n",
       "      <td>NaN</td>\n",
       "      <td>2020-09-06 13:11:59.359+00</td>\n",
       "      <td>2020-09-06 13:11:59.366+00</td>\n",
       "      <td>2389.0</td>\n",
       "      <td>f</td>\n",
       "      <td>4</td>\n",
       "      <td>4</td>\n",
       "      <td>13:11</td>\n",
       "      <td>13:11</td>\n",
       "      <td>True</td>\n",
       "      <td>False</td>\n",
       "    </tr>\n",
       "    <tr>\n",
       "      <th>815</th>\n",
       "      <td>908</td>\n",
       "      <td>Jack, you're hilarious. I love this pic. He's ...</td>\n",
       "      <td>NaN</td>\n",
       "      <td>866.0</td>\n",
       "      <td>866.0</td>\n",
       "      <td>f</td>\n",
       "      <td>NaN</td>\n",
       "      <td>2020-09-06 13:32:15.482+00</td>\n",
       "      <td>2020-09-06 13:32:15.489+00</td>\n",
       "      <td>2387.0</td>\n",
       "      <td>f</td>\n",
       "      <td>4</td>\n",
       "      <td>4</td>\n",
       "      <td>13:32</td>\n",
       "      <td>13:32</td>\n",
       "      <td>True</td>\n",
       "      <td>False</td>\n",
       "    </tr>\n",
       "    <tr>\n",
       "      <th>816</th>\n",
       "      <td>909</td>\n",
       "      <td>This chart is helpful. Check this out.</td>\n",
       "      <td>NaN</td>\n",
       "      <td>697.0</td>\n",
       "      <td>697.0</td>\n",
       "      <td>f</td>\n",
       "      <td>NaN</td>\n",
       "      <td>2020-09-06 13:41:21.904+00</td>\n",
       "      <td>2020-09-06 13:41:21.911+00</td>\n",
       "      <td>2388.0</td>\n",
       "      <td>f</td>\n",
       "      <td>4</td>\n",
       "      <td>4</td>\n",
       "      <td>13:41</td>\n",
       "      <td>13:41</td>\n",
       "      <td>True</td>\n",
       "      <td>False</td>\n",
       "    </tr>\n",
       "    <tr>\n",
       "      <th>818</th>\n",
       "      <td>911</td>\n",
       "      <td>You make perfect sense here Carly. I think thi...</td>\n",
       "      <td>NaN</td>\n",
       "      <td>489.0</td>\n",
       "      <td>489.0</td>\n",
       "      <td>f</td>\n",
       "      <td>NaN</td>\n",
       "      <td>2020-09-06 13:53:54.266+00</td>\n",
       "      <td>2020-09-06 13:53:54.274+00</td>\n",
       "      <td>2391.0</td>\n",
       "      <td>f</td>\n",
       "      <td>4</td>\n",
       "      <td>4</td>\n",
       "      <td>13:53</td>\n",
       "      <td>13:53</td>\n",
       "      <td>True</td>\n",
       "      <td>False</td>\n",
       "    </tr>\n",
       "    <tr>\n",
       "      <th>838</th>\n",
       "      <td>931</td>\n",
       "      <td>180,000 Just think about that number, people. ...</td>\n",
       "      <td>NaN</td>\n",
       "      <td>717.0</td>\n",
       "      <td>717.0</td>\n",
       "      <td>f</td>\n",
       "      <td>NaN</td>\n",
       "      <td>2020-09-06 18:37:04.684+00</td>\n",
       "      <td>2020-09-06 18:37:08.268+00</td>\n",
       "      <td>2540.0</td>\n",
       "      <td>f</td>\n",
       "      <td>4</td>\n",
       "      <td>4</td>\n",
       "      <td>18:37</td>\n",
       "      <td>18:37</td>\n",
       "      <td>True</td>\n",
       "      <td>False</td>\n",
       "    </tr>\n",
       "    <tr>\n",
       "      <th>839</th>\n",
       "      <td>932</td>\n",
       "      <td>180,000 Just think about that number, people. ...</td>\n",
       "      <td>NaN</td>\n",
       "      <td>717.0</td>\n",
       "      <td>717.0</td>\n",
       "      <td>f</td>\n",
       "      <td>NaN</td>\n",
       "      <td>2020-09-06 18:37:13.516+00</td>\n",
       "      <td>2020-09-07 12:44:04.511+00</td>\n",
       "      <td>2540.0</td>\n",
       "      <td>t</td>\n",
       "      <td>4</td>\n",
       "      <td>5</td>\n",
       "      <td>18:37</td>\n",
       "      <td>12:44</td>\n",
       "      <td>True</td>\n",
       "      <td>False</td>\n",
       "    </tr>\n",
       "    <tr>\n",
       "      <th>850</th>\n",
       "      <td>943</td>\n",
       "      <td>This is so true. I agree.</td>\n",
       "      <td>NaN</td>\n",
       "      <td>259.0</td>\n",
       "      <td>129.0</td>\n",
       "      <td>f</td>\n",
       "      <td>NaN</td>\n",
       "      <td>2020-09-06 19:45:38.94+00</td>\n",
       "      <td>2020-09-06 19:45:38.948+00</td>\n",
       "      <td>2389.0</td>\n",
       "      <td>f</td>\n",
       "      <td>4</td>\n",
       "      <td>4</td>\n",
       "      <td>19:45</td>\n",
       "      <td>19:45</td>\n",
       "      <td>True</td>\n",
       "      <td>False</td>\n",
       "    </tr>\n",
       "    <tr>\n",
       "      <th>872</th>\n",
       "      <td>965</td>\n",
       "      <td>Hilarious.</td>\n",
       "      <td>NaN</td>\n",
       "      <td>872.0</td>\n",
       "      <td>872.0</td>\n",
       "      <td>f</td>\n",
       "      <td>NaN</td>\n",
       "      <td>2020-09-06 21:31:55.79+00</td>\n",
       "      <td>2020-09-06 21:31:55.797+00</td>\n",
       "      <td>2388.0</td>\n",
       "      <td>f</td>\n",
       "      <td>4</td>\n",
       "      <td>4</td>\n",
       "      <td>21:31</td>\n",
       "      <td>21:31</td>\n",
       "      <td>True</td>\n",
       "      <td>False</td>\n",
       "    </tr>\n",
       "    <tr>\n",
       "      <th>873</th>\n",
       "      <td>966</td>\n",
       "      <td>Love it. Very nice.</td>\n",
       "      <td>NaN</td>\n",
       "      <td>763.0</td>\n",
       "      <td>763.0</td>\n",
       "      <td>f</td>\n",
       "      <td>NaN</td>\n",
       "      <td>2020-09-06 21:32:37.305+00</td>\n",
       "      <td>2020-09-06 21:32:37.312+00</td>\n",
       "      <td>2388.0</td>\n",
       "      <td>f</td>\n",
       "      <td>4</td>\n",
       "      <td>4</td>\n",
       "      <td>21:32</td>\n",
       "      <td>21:32</td>\n",
       "      <td>True</td>\n",
       "      <td>False</td>\n",
       "    </tr>\n",
       "    <tr>\n",
       "      <th>874</th>\n",
       "      <td>967</td>\n",
       "      <td>Love the mole whacking funny and good link.</td>\n",
       "      <td>NaN</td>\n",
       "      <td>964.0</td>\n",
       "      <td>964.0</td>\n",
       "      <td>f</td>\n",
       "      <td>NaN</td>\n",
       "      <td>2020-09-06 21:40:15.183+00</td>\n",
       "      <td>2020-09-06 21:40:15.191+00</td>\n",
       "      <td>2388.0</td>\n",
       "      <td>f</td>\n",
       "      <td>4</td>\n",
       "      <td>4</td>\n",
       "      <td>21:40</td>\n",
       "      <td>21:40</td>\n",
       "      <td>True</td>\n",
       "      <td>False</td>\n",
       "    </tr>\n",
       "    <tr>\n",
       "      <th>875</th>\n",
       "      <td>968</td>\n",
       "      <td>True, how about a president modeling wearing a...</td>\n",
       "      <td>NaN</td>\n",
       "      <td>127.0</td>\n",
       "      <td>127.0</td>\n",
       "      <td>f</td>\n",
       "      <td>NaN</td>\n",
       "      <td>2020-09-06 21:41:56.806+00</td>\n",
       "      <td>2020-09-06 21:41:56.814+00</td>\n",
       "      <td>2388.0</td>\n",
       "      <td>f</td>\n",
       "      <td>4</td>\n",
       "      <td>4</td>\n",
       "      <td>21:41</td>\n",
       "      <td>21:41</td>\n",
       "      <td>True</td>\n",
       "      <td>False</td>\n",
       "    </tr>\n",
       "    <tr>\n",
       "      <th>954</th>\n",
       "      <td>1047</td>\n",
       "      <td>You mention \"pandemic hysteria\" like it's a pr...</td>\n",
       "      <td>NaN</td>\n",
       "      <td>767.0</td>\n",
       "      <td>767.0</td>\n",
       "      <td>f</td>\n",
       "      <td>NaN</td>\n",
       "      <td>2020-09-07 11:47:04.035+00</td>\n",
       "      <td>2020-09-07 11:47:05.118+00</td>\n",
       "      <td>2541.0</td>\n",
       "      <td>f</td>\n",
       "      <td>5</td>\n",
       "      <td>5</td>\n",
       "      <td>11:47</td>\n",
       "      <td>11:47</td>\n",
       "      <td>True</td>\n",
       "      <td>False</td>\n",
       "    </tr>\n",
       "    <tr>\n",
       "      <th>955</th>\n",
       "      <td>1048</td>\n",
       "      <td>You mention \"pandemic hysteria\" like it's a pr...</td>\n",
       "      <td>NaN</td>\n",
       "      <td>767.0</td>\n",
       "      <td>767.0</td>\n",
       "      <td>f</td>\n",
       "      <td>NaN</td>\n",
       "      <td>2020-09-07 11:47:15.22+00</td>\n",
       "      <td>2020-09-07 11:47:17.537+00</td>\n",
       "      <td>2541.0</td>\n",
       "      <td>f</td>\n",
       "      <td>5</td>\n",
       "      <td>5</td>\n",
       "      <td>11:47</td>\n",
       "      <td>11:47</td>\n",
       "      <td>True</td>\n",
       "      <td>False</td>\n",
       "    </tr>\n",
       "    <tr>\n",
       "      <th>964</th>\n",
       "      <td>1057</td>\n",
       "      <td>Hmmm, Interesting, but I am definitely not tha...</td>\n",
       "      <td>NaN</td>\n",
       "      <td>878.0</td>\n",
       "      <td>878.0</td>\n",
       "      <td>f</td>\n",
       "      <td>NaN</td>\n",
       "      <td>2020-09-07 12:33:15.728+00</td>\n",
       "      <td>2020-09-07 12:33:15.736+00</td>\n",
       "      <td>2543.0</td>\n",
       "      <td>f</td>\n",
       "      <td>5</td>\n",
       "      <td>5</td>\n",
       "      <td>12:33</td>\n",
       "      <td>12:33</td>\n",
       "      <td>True</td>\n",
       "      <td>False</td>\n",
       "    </tr>\n",
       "    <tr>\n",
       "      <th>965</th>\n",
       "      <td>1058</td>\n",
       "      <td>So true. I think it's a practical approach.</td>\n",
       "      <td>NaN</td>\n",
       "      <td>966.0</td>\n",
       "      <td>763.0</td>\n",
       "      <td>f</td>\n",
       "      <td>NaN</td>\n",
       "      <td>2020-09-07 12:45:21.761+00</td>\n",
       "      <td>2020-09-07 12:45:22.338+00</td>\n",
       "      <td>2389.0</td>\n",
       "      <td>f</td>\n",
       "      <td>5</td>\n",
       "      <td>5</td>\n",
       "      <td>12:45</td>\n",
       "      <td>12:45</td>\n",
       "      <td>True</td>\n",
       "      <td>False</td>\n",
       "    </tr>\n",
       "    <tr>\n",
       "      <th>966</th>\n",
       "      <td>1059</td>\n",
       "      <td>This seems sensible. I agree.</td>\n",
       "      <td>NaN</td>\n",
       "      <td>901.0</td>\n",
       "      <td>901.0</td>\n",
       "      <td>f</td>\n",
       "      <td>NaN</td>\n",
       "      <td>2020-09-07 13:22:29.853+00</td>\n",
       "      <td>2020-09-07 13:22:29.868+00</td>\n",
       "      <td>2391.0</td>\n",
       "      <td>f</td>\n",
       "      <td>5</td>\n",
       "      <td>5</td>\n",
       "      <td>13:22</td>\n",
       "      <td>13:22</td>\n",
       "      <td>True</td>\n",
       "      <td>False</td>\n",
       "    </tr>\n",
       "    <tr>\n",
       "      <th>982</th>\n",
       "      <td>1075</td>\n",
       "      <td>Shame on you, this is disrespectful of our pre...</td>\n",
       "      <td>NaN</td>\n",
       "      <td>908.0</td>\n",
       "      <td>866.0</td>\n",
       "      <td>f</td>\n",
       "      <td>NaN</td>\n",
       "      <td>2020-09-07 14:03:38.159+00</td>\n",
       "      <td>2020-09-07 14:03:38.178+00</td>\n",
       "      <td>2391.0</td>\n",
       "      <td>f</td>\n",
       "      <td>5</td>\n",
       "      <td>5</td>\n",
       "      <td>14:03</td>\n",
       "      <td>14:03</td>\n",
       "      <td>True</td>\n",
       "      <td>False</td>\n",
       "    </tr>\n",
       "    <tr>\n",
       "      <th>985</th>\n",
       "      <td>1078</td>\n",
       "      <td>Allison makes sense here. We are safer and bet...</td>\n",
       "      <td>NaN</td>\n",
       "      <td>899.0</td>\n",
       "      <td>899.0</td>\n",
       "      <td>f</td>\n",
       "      <td>NaN</td>\n",
       "      <td>2020-09-07 14:45:45.491+00</td>\n",
       "      <td>2020-09-07 14:45:46.944+00</td>\n",
       "      <td>2391.0</td>\n",
       "      <td>f</td>\n",
       "      <td>5</td>\n",
       "      <td>5</td>\n",
       "      <td>14:45</td>\n",
       "      <td>14:45</td>\n",
       "      <td>True</td>\n",
       "      <td>False</td>\n",
       "    </tr>\n",
       "    <tr>\n",
       "      <th>995</th>\n",
       "      <td>1088</td>\n",
       "      <td>really, this is over the top. Trump is really ...</td>\n",
       "      <td>NaN</td>\n",
       "      <td>747.0</td>\n",
       "      <td>747.0</td>\n",
       "      <td>f</td>\n",
       "      <td>NaN</td>\n",
       "      <td>2020-09-07 15:58:31.445+00</td>\n",
       "      <td>2020-09-07 15:58:31.46+00</td>\n",
       "      <td>2390.0</td>\n",
       "      <td>f</td>\n",
       "      <td>5</td>\n",
       "      <td>5</td>\n",
       "      <td>15:58</td>\n",
       "      <td>15:58</td>\n",
       "      <td>True</td>\n",
       "      <td>True</td>\n",
       "    </tr>\n",
       "    <tr>\n",
       "      <th>996</th>\n",
       "      <td>1089</td>\n",
       "      <td>Hope you are able to stay out of flame's way. ...</td>\n",
       "      <td>NaN</td>\n",
       "      <td>426.0</td>\n",
       "      <td>426.0</td>\n",
       "      <td>f</td>\n",
       "      <td>NaN</td>\n",
       "      <td>2020-09-07 16:04:06.318+00</td>\n",
       "      <td>2020-09-07 16:04:06.328+00</td>\n",
       "      <td>2390.0</td>\n",
       "      <td>f</td>\n",
       "      <td>5</td>\n",
       "      <td>5</td>\n",
       "      <td>16:04</td>\n",
       "      <td>16:04</td>\n",
       "      <td>True</td>\n",
       "      <td>True</td>\n",
       "    </tr>\n",
       "    <tr>\n",
       "      <th>1015</th>\n",
       "      <td>1108</td>\n",
       "      <td>NaN</td>\n",
       "      <td>NaN</td>\n",
       "      <td>728.0</td>\n",
       "      <td>728.0</td>\n",
       "      <td>f</td>\n",
       "      <td>NaN</td>\n",
       "      <td>2020-09-07 20:41:03.087+00</td>\n",
       "      <td>2020-09-07 20:41:04.006+00</td>\n",
       "      <td>2387.0</td>\n",
       "      <td>f</td>\n",
       "      <td>5</td>\n",
       "      <td>5</td>\n",
       "      <td>20:41</td>\n",
       "      <td>20:41</td>\n",
       "      <td>True</td>\n",
       "      <td>False</td>\n",
       "    </tr>\n",
       "    <tr>\n",
       "      <th>1030</th>\n",
       "      <td>1123</td>\n",
       "      <td>this is a good reason why we need Medicare for...</td>\n",
       "      <td>NaN</td>\n",
       "      <td>900.0</td>\n",
       "      <td>900.0</td>\n",
       "      <td>f</td>\n",
       "      <td>NaN</td>\n",
       "      <td>2020-09-07 22:29:01.898+00</td>\n",
       "      <td>2020-09-07 22:29:03.719+00</td>\n",
       "      <td>2388.0</td>\n",
       "      <td>f</td>\n",
       "      <td>5</td>\n",
       "      <td>5</td>\n",
       "      <td>22:29</td>\n",
       "      <td>22:29</td>\n",
       "      <td>True</td>\n",
       "      <td>False</td>\n",
       "    </tr>\n",
       "    <tr>\n",
       "      <th>1056</th>\n",
       "      <td>1149</td>\n",
       "      <td>Vote!</td>\n",
       "      <td>NaN</td>\n",
       "      <td>1010.0</td>\n",
       "      <td>1010.0</td>\n",
       "      <td>f</td>\n",
       "      <td>NaN</td>\n",
       "      <td>2020-09-08 01:48:24.382+00</td>\n",
       "      <td>2020-09-08 01:48:24.389+00</td>\n",
       "      <td>2454.0</td>\n",
       "      <td>f</td>\n",
       "      <td>6</td>\n",
       "      <td>6</td>\n",
       "      <td>01:48</td>\n",
       "      <td>01:48</td>\n",
       "      <td>True</td>\n",
       "      <td>False</td>\n",
       "    </tr>\n",
       "  </tbody>\n",
       "</table>\n",
       "</div>"
      ],
      "text/plain": [
       "        id                                               text picture_url  \\\n",
       "25     118  Absolutely! The preservation of the environmen...         NaN   \n",
       "26     119  Of course! The economy can wait, destruction o...         NaN   \n",
       "54     147  2 pennies out of every dollar! It's such a sma...         NaN   \n",
       "158    251  I disagree strongly.\\n\\nHonestly I don't think...         NaN   \n",
       "166    259  I have to agree, we've actually historically t...         NaN   \n",
       "168    261  This is terrible.  In times like these, we nee...         NaN   \n",
       "182    275                               Agreed!  #earthfirst         NaN   \n",
       "198    291                                             YAAAAS         NaN   \n",
       "458    551  exactly right. I agree. This is an important g...         NaN   \n",
       "492    585                                          LOVE THIS         NaN   \n",
       "498    591  Join the rest of the western world with nuclea...         NaN   \n",
       "514    607  Gosh, I don't even know what all this means bu...         NaN   \n",
       "626    719  If I did something like this at my job, I'd be...         NaN   \n",
       "628    721  I honestly think people around the world are l...         NaN   \n",
       "639    732                               True. America First.         NaN   \n",
       "647    740  If anyone should wear a mask over his face, th...         NaN   \n",
       "762    855                                                NaN         NaN   \n",
       "805    898   Claire 8713 is right. Let's be smart about this.         NaN   \n",
       "810    903  I think it's happening now. Amy you are onto s...         NaN   \n",
       "815    908  Jack, you're hilarious. I love this pic. He's ...         NaN   \n",
       "816    909             This chart is helpful. Check this out.         NaN   \n",
       "818    911  You make perfect sense here Carly. I think thi...         NaN   \n",
       "838    931  180,000 Just think about that number, people. ...         NaN   \n",
       "839    932  180,000 Just think about that number, people. ...         NaN   \n",
       "850    943                         This is so true. I agree.          NaN   \n",
       "872    965                                        Hilarious.          NaN   \n",
       "873    966                                Love it. Very nice.         NaN   \n",
       "874    967        Love the mole whacking funny and good link.         NaN   \n",
       "875    968  True, how about a president modeling wearing a...         NaN   \n",
       "954   1047  You mention \"pandemic hysteria\" like it's a pr...         NaN   \n",
       "955   1048  You mention \"pandemic hysteria\" like it's a pr...         NaN   \n",
       "964   1057  Hmmm, Interesting, but I am definitely not tha...         NaN   \n",
       "965   1058        So true. I think it's a practical approach.         NaN   \n",
       "966   1059                      This seems sensible. I agree.         NaN   \n",
       "982   1075  Shame on you, this is disrespectful of our pre...         NaN   \n",
       "985   1078  Allison makes sense here. We are safer and bet...         NaN   \n",
       "995   1088  really, this is over the top. Trump is really ...         NaN   \n",
       "996   1089  Hope you are able to stay out of flame's way. ...         NaN   \n",
       "1015  1108                                                NaN         NaN   \n",
       "1030  1123  this is a good reason why we need Medicare for...         NaN   \n",
       "1056  1149                                              Vote!         NaN   \n",
       "\n",
       "      parent_id  root_id is_marked tags                   createdAt  \\\n",
       "25         93.0     93.0         f  NaN  2020-09-03 06:05:01.123+00   \n",
       "26        109.0    109.0         f  NaN  2020-09-03 06:08:59.136+00   \n",
       "54        129.0    129.0         f  NaN  2020-09-03 12:24:48.395+00   \n",
       "158        97.0     97.0         f  NaN  2020-09-03 19:09:31.166+00   \n",
       "166       129.0    129.0         f  NaN  2020-09-03 19:43:14.571+00   \n",
       "168       150.0    150.0         f  NaN   2020-09-03 19:54:08.23+00   \n",
       "182       109.0    109.0         f  NaN   2020-09-03 20:18:17.76+00   \n",
       "198       109.0    109.0         f  NaN  2020-09-03 20:34:56.011+00   \n",
       "458       264.0    264.0         f  NaN  2020-09-04 14:19:45.132+00   \n",
       "492       174.0    174.0         f  NaN  2020-09-04 15:21:46.664+00   \n",
       "498       179.0    179.0         f  NaN  2020-09-04 15:28:07.166+00   \n",
       "514       203.0    203.0         f  NaN  2020-09-04 17:12:13.976+00   \n",
       "626       158.0    158.0         f  NaN  2020-09-05 11:01:46.146+00   \n",
       "628       177.0    177.0         f  NaN  2020-09-05 12:02:22.905+00   \n",
       "639       117.0    117.0         f  NaN  2020-09-05 12:52:22.927+00   \n",
       "647       719.0    158.0         f  NaN  2020-09-05 13:05:34.454+00   \n",
       "762       708.0    708.0         f  NaN  2020-09-06 03:48:24.221+00   \n",
       "805       755.0    755.0         f  NaN   2020-09-06 13:06:01.63+00   \n",
       "810       711.0    711.0         f  NaN  2020-09-06 13:11:59.359+00   \n",
       "815       866.0    866.0         f  NaN  2020-09-06 13:32:15.482+00   \n",
       "816       697.0    697.0         f  NaN  2020-09-06 13:41:21.904+00   \n",
       "818       489.0    489.0         f  NaN  2020-09-06 13:53:54.266+00   \n",
       "838       717.0    717.0         f  NaN  2020-09-06 18:37:04.684+00   \n",
       "839       717.0    717.0         f  NaN  2020-09-06 18:37:13.516+00   \n",
       "850       259.0    129.0         f  NaN   2020-09-06 19:45:38.94+00   \n",
       "872       872.0    872.0         f  NaN   2020-09-06 21:31:55.79+00   \n",
       "873       763.0    763.0         f  NaN  2020-09-06 21:32:37.305+00   \n",
       "874       964.0    964.0         f  NaN  2020-09-06 21:40:15.183+00   \n",
       "875       127.0    127.0         f  NaN  2020-09-06 21:41:56.806+00   \n",
       "954       767.0    767.0         f  NaN  2020-09-07 11:47:04.035+00   \n",
       "955       767.0    767.0         f  NaN   2020-09-07 11:47:15.22+00   \n",
       "964       878.0    878.0         f  NaN  2020-09-07 12:33:15.728+00   \n",
       "965       966.0    763.0         f  NaN  2020-09-07 12:45:21.761+00   \n",
       "966       901.0    901.0         f  NaN  2020-09-07 13:22:29.853+00   \n",
       "982       908.0    866.0         f  NaN  2020-09-07 14:03:38.159+00   \n",
       "985       899.0    899.0         f  NaN  2020-09-07 14:45:45.491+00   \n",
       "995       747.0    747.0         f  NaN  2020-09-07 15:58:31.445+00   \n",
       "996       426.0    426.0         f  NaN  2020-09-07 16:04:06.318+00   \n",
       "1015      728.0    728.0         f  NaN  2020-09-07 20:41:03.087+00   \n",
       "1030      900.0    900.0         f  NaN  2020-09-07 22:29:01.898+00   \n",
       "1056     1010.0   1010.0         f  NaN  2020-09-08 01:48:24.382+00   \n",
       "\n",
       "                       updatedAt  AuthorId is_trending  create_day_time  \\\n",
       "25    2020-09-03 06:05:01.135+00    2444.0           f                1   \n",
       "26    2020-09-03 06:08:59.147+00    2444.0           f                1   \n",
       "54    2020-09-03 12:24:48.404+00    2481.0           f                1   \n",
       "158   2020-09-04 20:12:07.119+00    2540.0           f                1   \n",
       "166   2020-09-03 19:43:14.579+00    2545.0           f                1   \n",
       "168   2020-09-04 22:28:59.206+00    2543.0           f                1   \n",
       "182   2020-09-04 22:28:59.206+00    2529.0           f                1   \n",
       "198   2020-09-04 22:28:59.206+00    2531.0           f                1   \n",
       "458   2020-09-04 14:19:45.138+00    2391.0           f                2   \n",
       "492   2020-09-04 15:21:48.382+00    2531.0           f                2   \n",
       "498   2020-09-04 15:28:07.176+00    2529.0           f                2   \n",
       "514    2020-09-05 23:26:46.66+00    2542.0           f                2   \n",
       "626    2020-09-07 12:44:04.49+00    2542.0           f                3   \n",
       "628    2020-09-07 12:44:04.49+00    2545.0           f                3   \n",
       "639   2020-09-05 12:52:22.936+00    2541.0           f                3   \n",
       "647   2020-09-05 13:05:34.463+00    2391.0           f                3   \n",
       "762   2020-09-06 03:48:24.229+00    2455.0           f                4   \n",
       "805   2020-09-06 13:06:01.637+00    2389.0           f                4   \n",
       "810   2020-09-06 13:11:59.366+00    2389.0           f                4   \n",
       "815   2020-09-06 13:32:15.489+00    2387.0           f                4   \n",
       "816   2020-09-06 13:41:21.911+00    2388.0           f                4   \n",
       "818   2020-09-06 13:53:54.274+00    2391.0           f                4   \n",
       "838   2020-09-06 18:37:08.268+00    2540.0           f                4   \n",
       "839   2020-09-07 12:44:04.511+00    2540.0           t                4   \n",
       "850   2020-09-06 19:45:38.948+00    2389.0           f                4   \n",
       "872   2020-09-06 21:31:55.797+00    2388.0           f                4   \n",
       "873   2020-09-06 21:32:37.312+00    2388.0           f                4   \n",
       "874   2020-09-06 21:40:15.191+00    2388.0           f                4   \n",
       "875   2020-09-06 21:41:56.814+00    2388.0           f                4   \n",
       "954   2020-09-07 11:47:05.118+00    2541.0           f                5   \n",
       "955   2020-09-07 11:47:17.537+00    2541.0           f                5   \n",
       "964   2020-09-07 12:33:15.736+00    2543.0           f                5   \n",
       "965   2020-09-07 12:45:22.338+00    2389.0           f                5   \n",
       "966   2020-09-07 13:22:29.868+00    2391.0           f                5   \n",
       "982   2020-09-07 14:03:38.178+00    2391.0           f                5   \n",
       "985   2020-09-07 14:45:46.944+00    2391.0           f                5   \n",
       "995    2020-09-07 15:58:31.46+00    2390.0           f                5   \n",
       "996   2020-09-07 16:04:06.328+00    2390.0           f                5   \n",
       "1015  2020-09-07 20:41:04.006+00    2387.0           f                5   \n",
       "1030  2020-09-07 22:29:03.719+00    2388.0           f                5   \n",
       "1056  2020-09-08 01:48:24.389+00    2454.0           f                6   \n",
       "\n",
       "      update_day_time create_hour_time update_hour_time  sockpuppet_retweet  \\\n",
       "25                  1            06:05            06:05                True   \n",
       "26                  1            06:08            06:08                True   \n",
       "54                  1            12:24            12:24                True   \n",
       "158                 2            19:09            20:12                True   \n",
       "166                 1            19:43            19:43                True   \n",
       "168                 2            19:54            22:28                True   \n",
       "182                 2            20:18            22:28                True   \n",
       "198                 2            20:34            22:28                True   \n",
       "458                 2            14:19            14:19                True   \n",
       "492                 2            15:21            15:21                True   \n",
       "498                 2            15:28            15:28                True   \n",
       "514                 3            17:12            23:26                True   \n",
       "626                 5            11:01            12:44                True   \n",
       "628                 5            12:02            12:44                True   \n",
       "639                 3            12:52            12:52                True   \n",
       "647                 3            13:05            13:05                True   \n",
       "762                 4            03:48            03:48                True   \n",
       "805                 4            13:06            13:06                True   \n",
       "810                 4            13:11            13:11                True   \n",
       "815                 4            13:32            13:32                True   \n",
       "816                 4            13:41            13:41                True   \n",
       "818                 4            13:53            13:53                True   \n",
       "838                 4            18:37            18:37                True   \n",
       "839                 5            18:37            12:44                True   \n",
       "850                 4            19:45            19:45                True   \n",
       "872                 4            21:31            21:31                True   \n",
       "873                 4            21:32            21:32                True   \n",
       "874                 4            21:40            21:40                True   \n",
       "875                 4            21:41            21:41                True   \n",
       "954                 5            11:47            11:47                True   \n",
       "955                 5            11:47            11:47                True   \n",
       "964                 5            12:33            12:33                True   \n",
       "965                 5            12:45            12:45                True   \n",
       "966                 5            13:22            13:22                True   \n",
       "982                 5            14:03            14:03                True   \n",
       "985                 5            14:45            14:45                True   \n",
       "995                 5            15:58            15:58                True   \n",
       "996                 5            16:04            16:04                True   \n",
       "1015                5            20:41            20:41                True   \n",
       "1030                5            22:29            22:29                True   \n",
       "1056                6            01:48            01:48                True   \n",
       "\n",
       "     discovered  \n",
       "25        False  \n",
       "26        False  \n",
       "54        False  \n",
       "158       False  \n",
       "166       False  \n",
       "168       False  \n",
       "182       False  \n",
       "198       False  \n",
       "458       False  \n",
       "492       False  \n",
       "498       False  \n",
       "514       False  \n",
       "626       False  \n",
       "628       False  \n",
       "639       False  \n",
       "647       False  \n",
       "762        True  \n",
       "805       False  \n",
       "810       False  \n",
       "815       False  \n",
       "816       False  \n",
       "818       False  \n",
       "838       False  \n",
       "839       False  \n",
       "850       False  \n",
       "872       False  \n",
       "873       False  \n",
       "874       False  \n",
       "875       False  \n",
       "954       False  \n",
       "955       False  \n",
       "964       False  \n",
       "965       False  \n",
       "966       False  \n",
       "982       False  \n",
       "985       False  \n",
       "995        True  \n",
       "996        True  \n",
       "1015      False  \n",
       "1030      False  \n",
       "1056      False  "
      ]
     },
     "execution_count": 231,
     "metadata": {},
     "output_type": "execute_result"
    }
   ],
   "source": [
    "retweet_posts"
   ]
  },
  {
   "cell_type": "code",
   "execution_count": 227,
   "metadata": {},
   "outputs": [
    {
     "name": "stderr",
     "output_type": "stream",
     "text": [
      "/home/ruibo/anaconda3/envs/tf_gpu_env/lib/python3.6/site-packages/pandas/core/indexing.py:844: SettingWithCopyWarning: \n",
      "A value is trying to be set on a copy of a slice from a DataFrame.\n",
      "Try using .loc[row_indexer,col_indexer] = value instead\n",
      "\n",
      "See the caveats in the documentation: https://pandas.pydata.org/pandas-docs/stable/user_guide/indexing.html#returning-a-view-versus-a-copy\n",
      "  self.obj[key] = _infer_fill_value(value)\n",
      "/home/ruibo/anaconda3/envs/tf_gpu_env/lib/python3.6/site-packages/pandas/core/indexing.py:965: SettingWithCopyWarning: \n",
      "A value is trying to be set on a copy of a slice from a DataFrame.\n",
      "Try using .loc[row_indexer,col_indexer] = value instead\n",
      "\n",
      "See the caveats in the documentation: https://pandas.pydata.org/pandas-docs/stable/user_guide/indexing.html#returning-a-view-versus-a-copy\n",
      "  self.obj[item] = s\n"
     ]
    }
   ],
   "source": [
    "for idx, row in retweet_posts.iterrows():\n",
    "    id = row['AuthorId']\n",
    "    if id in valid_report['SuspectId'].tolist():\n",
    "        retweet_posts.loc[idx, 'discovered'] = True\n",
    "    else:\n",
    "        retweet_posts.loc[idx, 'discovered'] = False "
   ]
  },
  {
   "cell_type": "code",
   "execution_count": 232,
   "metadata": {},
   "outputs": [
    {
     "data": {
      "text/plain": [
       "False    38\n",
       "True      3\n",
       "Name: discovered, dtype: int64"
      ]
     },
     "execution_count": 232,
     "metadata": {},
     "output_type": "execute_result"
    }
   ],
   "source": [
    "retweet_posts['discovered'].value_counts()"
   ]
  },
  {
   "cell_type": "code",
   "execution_count": 233,
   "metadata": {},
   "outputs": [
    {
     "data": {
      "text/html": [
       "<div>\n",
       "<style scoped>\n",
       "    .dataframe tbody tr th:only-of-type {\n",
       "        vertical-align: middle;\n",
       "    }\n",
       "\n",
       "    .dataframe tbody tr th {\n",
       "        vertical-align: top;\n",
       "    }\n",
       "\n",
       "    .dataframe thead th {\n",
       "        text-align: right;\n",
       "    }\n",
       "</style>\n",
       "<table border=\"1\" class=\"dataframe\">\n",
       "  <thead>\n",
       "    <tr style=\"text-align: right;\">\n",
       "      <th></th>\n",
       "      <th>id</th>\n",
       "      <th>text</th>\n",
       "      <th>picture_url</th>\n",
       "      <th>parent_id</th>\n",
       "      <th>root_id</th>\n",
       "      <th>is_marked</th>\n",
       "      <th>tags</th>\n",
       "      <th>createdAt</th>\n",
       "      <th>updatedAt</th>\n",
       "      <th>AuthorId</th>\n",
       "      <th>is_trending</th>\n",
       "      <th>create_day_time</th>\n",
       "      <th>update_day_time</th>\n",
       "      <th>create_hour_time</th>\n",
       "      <th>update_hour_time</th>\n",
       "      <th>sockpuppet_retweet</th>\n",
       "      <th>discovered</th>\n",
       "    </tr>\n",
       "  </thead>\n",
       "  <tbody>\n",
       "    <tr>\n",
       "      <th>762</th>\n",
       "      <td>855</td>\n",
       "      <td>NaN</td>\n",
       "      <td>NaN</td>\n",
       "      <td>708.0</td>\n",
       "      <td>708.0</td>\n",
       "      <td>f</td>\n",
       "      <td>NaN</td>\n",
       "      <td>2020-09-06 03:48:24.221+00</td>\n",
       "      <td>2020-09-06 03:48:24.229+00</td>\n",
       "      <td>2455.0</td>\n",
       "      <td>f</td>\n",
       "      <td>4</td>\n",
       "      <td>4</td>\n",
       "      <td>03:48</td>\n",
       "      <td>03:48</td>\n",
       "      <td>True</td>\n",
       "      <td>True</td>\n",
       "    </tr>\n",
       "    <tr>\n",
       "      <th>995</th>\n",
       "      <td>1088</td>\n",
       "      <td>really, this is over the top. Trump is really ...</td>\n",
       "      <td>NaN</td>\n",
       "      <td>747.0</td>\n",
       "      <td>747.0</td>\n",
       "      <td>f</td>\n",
       "      <td>NaN</td>\n",
       "      <td>2020-09-07 15:58:31.445+00</td>\n",
       "      <td>2020-09-07 15:58:31.46+00</td>\n",
       "      <td>2390.0</td>\n",
       "      <td>f</td>\n",
       "      <td>5</td>\n",
       "      <td>5</td>\n",
       "      <td>15:58</td>\n",
       "      <td>15:58</td>\n",
       "      <td>True</td>\n",
       "      <td>True</td>\n",
       "    </tr>\n",
       "    <tr>\n",
       "      <th>996</th>\n",
       "      <td>1089</td>\n",
       "      <td>Hope you are able to stay out of flame's way. ...</td>\n",
       "      <td>NaN</td>\n",
       "      <td>426.0</td>\n",
       "      <td>426.0</td>\n",
       "      <td>f</td>\n",
       "      <td>NaN</td>\n",
       "      <td>2020-09-07 16:04:06.318+00</td>\n",
       "      <td>2020-09-07 16:04:06.328+00</td>\n",
       "      <td>2390.0</td>\n",
       "      <td>f</td>\n",
       "      <td>5</td>\n",
       "      <td>5</td>\n",
       "      <td>16:04</td>\n",
       "      <td>16:04</td>\n",
       "      <td>True</td>\n",
       "      <td>True</td>\n",
       "    </tr>\n",
       "  </tbody>\n",
       "</table>\n",
       "</div>"
      ],
      "text/plain": [
       "       id                                               text picture_url  \\\n",
       "762   855                                                NaN         NaN   \n",
       "995  1088  really, this is over the top. Trump is really ...         NaN   \n",
       "996  1089  Hope you are able to stay out of flame's way. ...         NaN   \n",
       "\n",
       "     parent_id  root_id is_marked tags                   createdAt  \\\n",
       "762      708.0    708.0         f  NaN  2020-09-06 03:48:24.221+00   \n",
       "995      747.0    747.0         f  NaN  2020-09-07 15:58:31.445+00   \n",
       "996      426.0    426.0         f  NaN  2020-09-07 16:04:06.318+00   \n",
       "\n",
       "                      updatedAt  AuthorId is_trending  create_day_time  \\\n",
       "762  2020-09-06 03:48:24.229+00    2455.0           f                4   \n",
       "995   2020-09-07 15:58:31.46+00    2390.0           f                5   \n",
       "996  2020-09-07 16:04:06.328+00    2390.0           f                5   \n",
       "\n",
       "     update_day_time create_hour_time update_hour_time  sockpuppet_retweet  \\\n",
       "762                4            03:48            03:48                True   \n",
       "995                5            15:58            15:58                True   \n",
       "996                5            16:04            16:04                True   \n",
       "\n",
       "    discovered  \n",
       "762       True  \n",
       "995       True  \n",
       "996       True  "
      ]
     },
     "execution_count": 233,
     "metadata": {},
     "output_type": "execute_result"
    }
   ],
   "source": [
    "retweet_posts[retweet_posts['discovered']]"
   ]
  },
  {
   "cell_type": "code",
   "execution_count": null,
   "metadata": {},
   "outputs": [],
   "source": []
  },
  {
   "cell_type": "code",
   "execution_count": null,
   "metadata": {},
   "outputs": [],
   "source": []
  },
  {
   "cell_type": "code",
   "execution_count": 189,
   "metadata": {},
   "outputs": [
    {
     "data": {
      "application/vnd.jupyter.widget-view+json": {
       "model_id": "04470b288a66464587a4a0dda94ce85b",
       "version_major": 2,
       "version_minor": 0
      },
      "text/plain": [
       "HBox(children=(FloatProgress(value=0.0, description='Pandas Apply', max=1620.0, style=ProgressStyle(descriptio…"
      ]
     },
     "metadata": {},
     "output_type": "display_data"
    },
    {
     "name": "stdout",
     "output_type": "stream",
     "text": [
      "\n"
     ]
    }
   ],
   "source": [
    "df_comments['sockpuppet_comment'] = df_comments['CommenterId'].swifter.allow_dask_on_strings().apply(return_valid)"
   ]
  },
  {
   "cell_type": "code",
   "execution_count": 191,
   "metadata": {},
   "outputs": [
    {
     "data": {
      "text/plain": [
       "437"
      ]
     },
     "execution_count": 191,
     "metadata": {},
     "output_type": "execute_result"
    }
   ],
   "source": [
    "sum(df_comments['sockpuppet_comment'])"
   ]
  },
  {
   "cell_type": "code",
   "execution_count": 192,
   "metadata": {},
   "outputs": [],
   "source": [
    "sock_comments = df_comments[df_comments['sockpuppet_comment']]"
   ]
  },
  {
   "cell_type": "code",
   "execution_count": 194,
   "metadata": {},
   "outputs": [
    {
     "name": "stderr",
     "output_type": "stream",
     "text": [
      "/home/ruibo/anaconda3/envs/tf_gpu_env/lib/python3.6/site-packages/pandas/core/indexing.py:844: SettingWithCopyWarning: \n",
      "A value is trying to be set on a copy of a slice from a DataFrame.\n",
      "Try using .loc[row_indexer,col_indexer] = value instead\n",
      "\n",
      "See the caveats in the documentation: https://pandas.pydata.org/pandas-docs/stable/user_guide/indexing.html#returning-a-view-versus-a-copy\n",
      "  self.obj[key] = _infer_fill_value(value)\n",
      "/home/ruibo/anaconda3/envs/tf_gpu_env/lib/python3.6/site-packages/pandas/core/indexing.py:965: SettingWithCopyWarning: \n",
      "A value is trying to be set on a copy of a slice from a DataFrame.\n",
      "Try using .loc[row_indexer,col_indexer] = value instead\n",
      "\n",
      "See the caveats in the documentation: https://pandas.pydata.org/pandas-docs/stable/user_guide/indexing.html#returning-a-view-versus-a-copy\n",
      "  self.obj[item] = s\n"
     ]
    }
   ],
   "source": [
    "for idx, row in sock_comments.iterrows():\n",
    "    user_df = df_users[df_users['id'] == row['CommenterId']]\n",
    "    user_email = user_df['email'].tolist()[0]\n",
    "    sock_comments.loc[idx, 'strategy'] = df_socks_assigns[df_socks_assigns['email'].str.contains(user_email)]['strategy'].tolist()[0]"
   ]
  },
  {
   "cell_type": "code",
   "execution_count": 196,
   "metadata": {},
   "outputs": [
    {
     "data": {
      "application/vnd.jupyter.widget-view+json": {
       "model_id": "661fdc1488964cb69a8b79c57d45038a",
       "version_major": 2,
       "version_minor": 0
      },
      "text/plain": [
       "HBox(children=(FloatProgress(value=0.0, description='Pandas Apply', max=437.0, style=ProgressStyle(description…"
      ]
     },
     "metadata": {},
     "output_type": "display_data"
    },
    {
     "name": "stdout",
     "output_type": "stream",
     "text": [
      "\n"
     ]
    },
    {
     "name": "stderr",
     "output_type": "stream",
     "text": [
      "/home/ruibo/anaconda3/envs/tf_gpu_env/lib/python3.6/site-packages/ipykernel_launcher.py:1: SettingWithCopyWarning: \n",
      "A value is trying to be set on a copy of a slice from a DataFrame.\n",
      "Try using .loc[row_indexer,col_indexer] = value instead\n",
      "\n",
      "See the caveats in the documentation: https://pandas.pydata.org/pandas-docs/stable/user_guide/indexing.html#returning-a-view-versus-a-copy\n",
      "  \"\"\"Entry point for launching an IPython kernel.\n"
     ]
    },
    {
     "data": {
      "application/vnd.jupyter.widget-view+json": {
       "model_id": "dbaf7c53e7f1452da5f88ecf6feb9213",
       "version_major": 2,
       "version_minor": 0
      },
      "text/plain": [
       "HBox(children=(FloatProgress(value=0.0, description='Pandas Apply', max=437.0, style=ProgressStyle(description…"
      ]
     },
     "metadata": {},
     "output_type": "display_data"
    },
    {
     "name": "stdout",
     "output_type": "stream",
     "text": [
      "\n"
     ]
    },
    {
     "name": "stderr",
     "output_type": "stream",
     "text": [
      "/home/ruibo/anaconda3/envs/tf_gpu_env/lib/python3.6/site-packages/ipykernel_launcher.py:2: SettingWithCopyWarning: \n",
      "A value is trying to be set on a copy of a slice from a DataFrame.\n",
      "Try using .loc[row_indexer,col_indexer] = value instead\n",
      "\n",
      "See the caveats in the documentation: https://pandas.pydata.org/pandas-docs/stable/user_guide/indexing.html#returning-a-view-versus-a-copy\n",
      "  \n"
     ]
    },
    {
     "data": {
      "application/vnd.jupyter.widget-view+json": {
       "model_id": "981c4914744d42419a3c5f421cb295e8",
       "version_major": 2,
       "version_minor": 0
      },
      "text/plain": [
       "HBox(children=(FloatProgress(value=0.0, description='Pandas Apply', max=437.0, style=ProgressStyle(description…"
      ]
     },
     "metadata": {},
     "output_type": "display_data"
    },
    {
     "name": "stdout",
     "output_type": "stream",
     "text": [
      "\n"
     ]
    },
    {
     "name": "stderr",
     "output_type": "stream",
     "text": [
      "/home/ruibo/anaconda3/envs/tf_gpu_env/lib/python3.6/site-packages/ipykernel_launcher.py:3: SettingWithCopyWarning: \n",
      "A value is trying to be set on a copy of a slice from a DataFrame.\n",
      "Try using .loc[row_indexer,col_indexer] = value instead\n",
      "\n",
      "See the caveats in the documentation: https://pandas.pydata.org/pandas-docs/stable/user_guide/indexing.html#returning-a-view-versus-a-copy\n",
      "  This is separate from the ipykernel package so we can avoid doing imports until\n"
     ]
    },
    {
     "data": {
      "application/vnd.jupyter.widget-view+json": {
       "model_id": "83130eae289c495f8b7ae66815bacf91",
       "version_major": 2,
       "version_minor": 0
      },
      "text/plain": [
       "HBox(children=(FloatProgress(value=0.0, description='Pandas Apply', max=437.0, style=ProgressStyle(description…"
      ]
     },
     "metadata": {},
     "output_type": "display_data"
    },
    {
     "name": "stdout",
     "output_type": "stream",
     "text": [
      "\n"
     ]
    },
    {
     "name": "stderr",
     "output_type": "stream",
     "text": [
      "/home/ruibo/anaconda3/envs/tf_gpu_env/lib/python3.6/site-packages/ipykernel_launcher.py:4: SettingWithCopyWarning: \n",
      "A value is trying to be set on a copy of a slice from a DataFrame.\n",
      "Try using .loc[row_indexer,col_indexer] = value instead\n",
      "\n",
      "See the caveats in the documentation: https://pandas.pydata.org/pandas-docs/stable/user_guide/indexing.html#returning-a-view-versus-a-copy\n",
      "  after removing the cwd from sys.path.\n"
     ]
    }
   ],
   "source": [
    "sock_comments['create_day_time'] = sock_comments['createdAt'].swifter.allow_dask_on_strings().apply(return_day_time)\n",
    "sock_comments['update_day_time'] = sock_comments['updatedAt'].swifter.allow_dask_on_strings().apply(return_day_time)\n",
    "sock_comments['create_hour_time'] = sock_comments['createdAt'].swifter.allow_dask_on_strings().apply(return_hour_time)\n",
    "sock_comments['update_hour_time'] = sock_comments['updatedAt'].swifter.allow_dask_on_strings().apply(return_hour_time)"
   ]
  },
  {
   "cell_type": "code",
   "execution_count": 198,
   "metadata": {},
   "outputs": [
    {
     "data": {
      "text/html": [
       "<div>\n",
       "<style scoped>\n",
       "    .dataframe tbody tr th:only-of-type {\n",
       "        vertical-align: middle;\n",
       "    }\n",
       "\n",
       "    .dataframe tbody tr th {\n",
       "        vertical-align: top;\n",
       "    }\n",
       "\n",
       "    .dataframe thead th {\n",
       "        text-align: right;\n",
       "    }\n",
       "</style>\n",
       "<table border=\"1\" class=\"dataframe\">\n",
       "  <thead>\n",
       "    <tr style=\"text-align: right;\">\n",
       "      <th></th>\n",
       "      <th>id</th>\n",
       "      <th>text</th>\n",
       "      <th>createdAt</th>\n",
       "      <th>updatedAt</th>\n",
       "      <th>PostId</th>\n",
       "      <th>CommenterId</th>\n",
       "      <th>sockpuppet_comment</th>\n",
       "      <th>strategy</th>\n",
       "      <th>create_day_time</th>\n",
       "      <th>update_day_time</th>\n",
       "      <th>create_hour_time</th>\n",
       "      <th>update_hour_time</th>\n",
       "    </tr>\n",
       "  </thead>\n",
       "  <tbody>\n",
       "    <tr>\n",
       "      <th>83</th>\n",
       "      <td>154</td>\n",
       "      <td>Yeah, what Alison_5893 said.</td>\n",
       "      <td>2020-09-03 05:49:49.656+00</td>\n",
       "      <td>2020-09-03 05:49:49.684+00</td>\n",
       "      <td>111.0</td>\n",
       "      <td>2540.0</td>\n",
       "      <td>True</td>\n",
       "      <td>COVERT</td>\n",
       "      <td>1</td>\n",
       "      <td>1</td>\n",
       "      <td>05:49</td>\n",
       "      <td>05:49</td>\n",
       "    </tr>\n",
       "    <tr>\n",
       "      <th>84</th>\n",
       "      <td>156</td>\n",
       "      <td>Yeah.  Wish it wasn't true but that's the way ...</td>\n",
       "      <td>2020-09-03 05:56:40+00</td>\n",
       "      <td>2020-09-03 05:56:40.022+00</td>\n",
       "      <td>104.0</td>\n",
       "      <td>2541.0</td>\n",
       "      <td>True</td>\n",
       "      <td>COVERT</td>\n",
       "      <td>1</td>\n",
       "      <td>1</td>\n",
       "      <td>05:56</td>\n",
       "      <td>05:56</td>\n",
       "    </tr>\n",
       "    <tr>\n",
       "      <th>85</th>\n",
       "      <td>157</td>\n",
       "      <td>Where's the money gonna come from?</td>\n",
       "      <td>2020-09-03 05:58:45.628+00</td>\n",
       "      <td>2020-09-03 05:58:45.65+00</td>\n",
       "      <td>96.0</td>\n",
       "      <td>2541.0</td>\n",
       "      <td>True</td>\n",
       "      <td>COVERT</td>\n",
       "      <td>1</td>\n",
       "      <td>1</td>\n",
       "      <td>05:58</td>\n",
       "      <td>05:58</td>\n",
       "    </tr>\n",
       "  </tbody>\n",
       "</table>\n",
       "</div>"
      ],
      "text/plain": [
       "     id                                               text  \\\n",
       "83  154                       Yeah, what Alison_5893 said.   \n",
       "84  156  Yeah.  Wish it wasn't true but that's the way ...   \n",
       "85  157                 Where's the money gonna come from?   \n",
       "\n",
       "                     createdAt                   updatedAt  PostId  \\\n",
       "83  2020-09-03 05:49:49.656+00  2020-09-03 05:49:49.684+00   111.0   \n",
       "84      2020-09-03 05:56:40+00  2020-09-03 05:56:40.022+00   104.0   \n",
       "85  2020-09-03 05:58:45.628+00   2020-09-03 05:58:45.65+00    96.0   \n",
       "\n",
       "    CommenterId  sockpuppet_comment strategy  create_day_time  \\\n",
       "83       2540.0                True   COVERT                1   \n",
       "84       2541.0                True   COVERT                1   \n",
       "85       2541.0                True   COVERT                1   \n",
       "\n",
       "    update_day_time create_hour_time update_hour_time  \n",
       "83                1            05:49            05:49  \n",
       "84                1            05:56            05:56  \n",
       "85                1            05:58            05:58  "
      ]
     },
     "execution_count": 198,
     "metadata": {},
     "output_type": "execute_result"
    }
   ],
   "source": [
    "sock_comments.head(3)"
   ]
  },
  {
   "cell_type": "code",
   "execution_count": 252,
   "metadata": {},
   "outputs": [
    {
     "data": {
      "application/vnd.jupyter.widget-view+json": {
       "model_id": "a0df2f3bacda466a885ff93dccce620c",
       "version_major": 2,
       "version_minor": 0
      },
      "text/plain": [
       "HBox(children=(FloatProgress(value=0.0, description='Pandas Apply', max=1620.0, style=ProgressStyle(descriptio…"
      ]
     },
     "metadata": {},
     "output_type": "display_data"
    },
    {
     "name": "stdout",
     "output_type": "stream",
     "text": [
      "\n"
     ]
    },
    {
     "data": {
      "application/vnd.jupyter.widget-view+json": {
       "model_id": "676dcaf558b640ccb37e61453d83c0ee",
       "version_major": 2,
       "version_minor": 0
      },
      "text/plain": [
       "HBox(children=(FloatProgress(value=0.0, description='Pandas Apply', max=1620.0, style=ProgressStyle(descriptio…"
      ]
     },
     "metadata": {},
     "output_type": "display_data"
    },
    {
     "name": "stdout",
     "output_type": "stream",
     "text": [
      "\n"
     ]
    },
    {
     "data": {
      "application/vnd.jupyter.widget-view+json": {
       "model_id": "ca16310f9d9c4f1bb5ca1539bc083ac6",
       "version_major": 2,
       "version_minor": 0
      },
      "text/plain": [
       "HBox(children=(FloatProgress(value=0.0, description='Pandas Apply', max=1620.0, style=ProgressStyle(descriptio…"
      ]
     },
     "metadata": {},
     "output_type": "display_data"
    },
    {
     "name": "stdout",
     "output_type": "stream",
     "text": [
      "\n"
     ]
    },
    {
     "data": {
      "application/vnd.jupyter.widget-view+json": {
       "model_id": "fff4b8d75947491d996027cd42414573",
       "version_major": 2,
       "version_minor": 0
      },
      "text/plain": [
       "HBox(children=(FloatProgress(value=0.0, description='Pandas Apply', max=1620.0, style=ProgressStyle(descriptio…"
      ]
     },
     "metadata": {},
     "output_type": "display_data"
    },
    {
     "name": "stdout",
     "output_type": "stream",
     "text": [
      "\n"
     ]
    }
   ],
   "source": [
    "\n",
    "df_comments['create_day_time'] = df_comments['createdAt'].swifter.allow_dask_on_strings().apply(return_day_time)\n",
    "df_comments['update_day_time'] = df_comments['updatedAt'].swifter.allow_dask_on_strings().apply(return_day_time)\n",
    "df_comments['create_hour_time'] = df_comments['createdAt'].swifter.allow_dask_on_strings().apply(return_hour_time)\n",
    "df_comments['update_hour_time'] = df_comments['updatedAt'].swifter.allow_dask_on_strings().apply(return_hour_time)"
   ]
  },
  {
   "cell_type": "code",
   "execution_count": 253,
   "metadata": {},
   "outputs": [
    {
     "data": {
      "text/plain": [
       "5    355\n",
       "3    326\n",
       "1    305\n",
       "4    293\n",
       "2    249\n",
       "6     92\n",
       "Name: create_day_time, dtype: int64"
      ]
     },
     "execution_count": 253,
     "metadata": {},
     "output_type": "execute_result"
    }
   ],
   "source": [
    "df_comments['create_day_time'].value_counts()\n",
    "\n",
    "\n",
    "[305, 554, 880, 1173, 1528, 1620]"
   ]
  },
  {
   "cell_type": "code",
   "execution_count": 242,
   "metadata": {},
   "outputs": [],
   "source": [
    "# sock_comments[sock_comments['discovered']]['CommenterId']\n",
    "for idx, row in sock_comments.iterrows():\n",
    "    if row['CommenterId'] in discover_time.keys():\n",
    "        sock_comments.loc[idx, 'discover_time'] = discover_time[row['CommenterId']]\n",
    "    else:\n",
    "        sock_comments.loc[idx, 'discover_time'] = None"
   ]
  },
  {
   "cell_type": "code",
   "execution_count": 245,
   "metadata": {},
   "outputs": [
    {
     "data": {
      "text/plain": [
       "5.0    48\n",
       "4.0    45\n",
       "1.0    24\n",
       "Name: discover_time, dtype: int64"
      ]
     },
     "execution_count": 245,
     "metadata": {},
     "output_type": "execute_result"
    }
   ],
   "source": [
    "sock_comments['discover_time'].value_counts()"
   ]
  },
  {
   "cell_type": "code",
   "execution_count": 203,
   "metadata": {},
   "outputs": [
    {
     "data": {
      "text/plain": [
       "5    34\n",
       "4    25\n",
       "1    25\n",
       "Name: create_day_time, dtype: int64"
      ]
     },
     "execution_count": 203,
     "metadata": {},
     "output_type": "execute_result"
    }
   ],
   "source": [
    "sock_comments[sock_comments['strategy'] == 'UNRESTRICTED']['create_day_time'].value_counts()"
   ]
  },
  {
   "cell_type": "code",
   "execution_count": 254,
   "metadata": {},
   "outputs": [],
   "source": [
    "gh2_df = pd.read_csv('./graph_data/graph_2_comments.csv', header=0)"
   ]
  },
  {
   "cell_type": "code",
   "execution_count": 256,
   "metadata": {},
   "outputs": [
    {
     "data": {
      "image/png": "[encoded data removed]",
      "text/plain": [
       "<Figure size 432x288 with 1 Axes>"
      ]
     },
     "metadata": {
      "needs_background": "light"
     },
     "output_type": "display_data"
    }
   ],
   "source": [
    "gh_2 = sns.lineplot(x=\"day\", y=\"num_sock_discover_ratio\",\n",
    "             hue=\"strategy\",\n",
    "             data=gh2_df)\n",
    "gh_2.figure.savefig('graph_2_comments.pdf')"
   ]
  },
  {
   "cell_type": "code",
   "execution_count": 214,
   "metadata": {},
   "outputs": [
    {
     "name": "stderr",
     "output_type": "stream",
     "text": [
      "/home/ruibo/anaconda3/envs/tf_gpu_env/lib/python3.6/site-packages/pandas/core/indexing.py:965: SettingWithCopyWarning: \n",
      "A value is trying to be set on a copy of a slice from a DataFrame.\n",
      "Try using .loc[row_indexer,col_indexer] = value instead\n",
      "\n",
      "See the caveats in the documentation: https://pandas.pydata.org/pandas-docs/stable/user_guide/indexing.html#returning-a-view-versus-a-copy\n",
      "  self.obj[item] = s\n"
     ]
    }
   ],
   "source": [
    "for idx, row in sock_comments.iterrows():\n",
    "    id = row['CommenterId']\n",
    "    if id in valid_report['SuspectId'].tolist():\n",
    "        sock_comments.loc[idx, 'discovered'] = True\n",
    "    else:\n",
    "        sock_comments.loc[idx, 'discovered'] = False "
   ]
  },
  {
   "cell_type": "code",
   "execution_count": 216,
   "metadata": {},
   "outputs": [
    {
     "data": {
      "text/plain": [
       "117"
      ]
     },
     "execution_count": 216,
     "metadata": {},
     "output_type": "execute_result"
    }
   ],
   "source": [
    "sum(sock_comments['discovered'])"
   ]
  },
  {
   "cell_type": "code",
   "execution_count": 217,
   "metadata": {},
   "outputs": [
    {
     "data": {
      "text/plain": [
       "437"
      ]
     },
     "execution_count": 217,
     "metadata": {},
     "output_type": "execute_result"
    }
   ],
   "source": [
    "len(sock_comments)"
   ]
  },
  {
   "cell_type": "code",
   "execution_count": 219,
   "metadata": {},
   "outputs": [
    {
     "data": {
      "text/plain": [
       "437"
      ]
     },
     "execution_count": 219,
     "metadata": {},
     "output_type": "execute_result"
    }
   ],
   "source": [
    "sum(sock_comments['sockpuppet_comment'])"
   ]
  },
  {
   "cell_type": "code",
   "execution_count": null,
   "metadata": {},
   "outputs": [],
   "source": []
  }
 ],
 "metadata": {
  "kernelspec": {
   "display_name": "Python 3",
   "language": "python",
   "name": "python3"
  },
  "language_info": {
   "codemirror_mode": {
    "name": "ipython",
    "version": 3
   },
   "file_extension": ".py",
   "mimetype": "text/x-python",
   "name": "python",
   "nbconvert_exporter": "python",
   "pygments_lexer": "ipython3",
   "version": "3.6.10"
  }
 },
 "nbformat": 4,
 "nbformat_minor": 4
}
