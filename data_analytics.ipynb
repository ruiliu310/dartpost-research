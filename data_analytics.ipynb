{
 "cells": [
  {
   "cell_type": "markdown",
   "metadata": {},
   "source": [
    "# data analytics for Dartpost"
   ]
  },
  {
   "cell_type": "markdown",
   "metadata": {},
   "source": [
    "### undetecability for a sock account\n",
    "\n",
    "We define the undetectability of a sock account a to be $\\textrm{undet}(a)=1/e^{(T-D_a)}$ where T is the total time (6 days) and D_a is T if the sock is undetected or the earliest day on which a was reported to be a sock. Thus, an undetected sock would have a success rate of 1.\n",
    "\n",
    "### undetectability for a sock creation strategy\n",
    "\n",
    "We define the undetectability of a sock creation strategy $r$ to be $\\textrm{undet}(r) = \\frac{\\sum_{a\\in \\textrm{sc_acc}(r)} \\textrm{undet}(a)}{|\\textrm{sc_acc}(r)|}$ where $\\textrm{sc_acc}(r)$ is the set of sock accounts created using strategy $r$.\n"
   ]
  },
  {
   "cell_type": "code",
   "execution_count": 2,
   "metadata": {},
   "outputs": [],
   "source": [
    "import pandas as pd\n",
    "import numpy as np\n",
    "\n",
    "from matplotlib import pyplot as plt\n",
    "import seaborn as sns"
   ]
  },
  {
   "cell_type": "code",
   "execution_count": 8,
   "metadata": {},
   "outputs": [],
   "source": [
    "df_comments = pd.read_csv(\"./data/comments\", delimiter=\"\\t\")\n",
    "\n",
    "df_users = pd.read_csv(\"./data/users\", delimiter=\"\\t\")\n",
    "\n",
    "df_posts = pd.read_csv(\"./data/posts\", delimiter=\"\\t\")"
   ]
  }
 ],
 "metadata": {
  "kernelspec": {
   "display_name": "Python 3",
   "language": "python",
   "name": "python3"
  },
  "language_info": {
   "codemirror_mode": {
    "name": "ipython",
    "version": 3
   },
   "file_extension": ".py",
   "mimetype": "text/x-python",
   "name": "python",
   "nbconvert_exporter": "python",
   "pygments_lexer": "ipython3",
   "version": "3.6.10"
  }
 },
 "nbformat": 4,
 "nbformat_minor": 4
}
