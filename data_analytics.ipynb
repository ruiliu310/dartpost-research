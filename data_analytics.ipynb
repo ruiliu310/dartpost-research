{
 "cells": [
  {
   "cell_type": "markdown",
   "metadata": {},
   "source": [
    "# data analytics for Dartpost"
   ]
  },
  {
   "cell_type": "markdown",
   "metadata": {},
   "source": [
    "### undetecability for a sock account\n",
    "\n",
    "We define the undetectability of a sock account a to be $undet(a)=1/e^{(T-D_a)}$ where T is the total time (6 days) and D_a is T if the sock is undetected or the earliest day on which a was reported to be a sock. Thus, an undetected sock would have a success rate of 1.\n",
    "\n",
    "### undetectability for a sock creation strategy\n",
    "\n",
    "We define the undetectability of a sock creation strategy S to be $undet(S) = \\frac{\\sum_{a\\in Create(S)} undet(a) }{|Create(S)|}$ where Create(S) is the set of sock accounts created using strategy S.\n"
   ]
  },
  {
   "cell_type": "code",
   "execution_count": 1,
   "metadata": {},
   "outputs": [],
   "source": [
    "import pandas as pd\n",
    "import numpy as np\n",
    "\n",
    "from matplotlib import pyplot as plt\n",
    "import seaborn as sns\n",
    "\n",
    "plt.rcParams.update({\n",
    "    \"text.usetex\": True,\n",
    "    \"font.size\":12,\n",
    "})\n",
    "\n",
    "from tqdm.notebook import tqdm"
   ]
  },
  {
   "cell_type": "code",
   "execution_count": 2,
   "metadata": {},
   "outputs": [
    {
     "name": "stdout",
     "output_type": "stream",
     "text": [
      "(478, 16)\n"
     ]
    }
   ],
   "source": [
    "df_users = pd.read_csv(\"./data/users\", delimiter=\"\\t\")\n",
    "df_follow = pd.read_csv(\"./data/follow\", delimiter=\"\\t\")\n",
    "df_report= pd.read_csv(\"./data/reportusers\", delimiter=\"\\t\")\n",
    "\n",
    "print(df_users.shape)"
   ]
  },
  {
   "cell_type": "code",
   "execution_count": 3,
   "metadata": {},
   "outputs": [
    {
     "name": "stdout",
     "output_type": "stream",
     "text": [
      "(457, 12)\n"
     ]
    }
   ],
   "source": [
    "df_assigns = pd.concat(\n",
    "    [\n",
    "    pd.read_csv(\"./assigns/sockpuppet_assigned.csv\"),\n",
    "    pd.read_csv(\"./assigns/observer_assigned.csv\"),\n",
    "    pd.read_csv(\"./assigns/participant_assigned.csv\"),\n",
    "    ],\n",
    "    axis=0,\n",
    ")\n",
    "\n",
    "print(df_assigns.shape)"
   ]
  },
  {
   "cell_type": "code",
   "execution_count": 4,
   "metadata": {},
   "outputs": [
    {
     "name": "stdout",
     "output_type": "stream",
     "text": [
      "(478, 27)\n"
     ]
    },
    {
     "data": {
      "text/html": [
       "<div>\n",
       "<style scoped>\n",
       "    .dataframe tbody tr th:only-of-type {\n",
       "        vertical-align: middle;\n",
       "    }\n",
       "\n",
       "    .dataframe tbody tr th {\n",
       "        vertical-align: top;\n",
       "    }\n",
       "\n",
       "    .dataframe thead th {\n",
       "        text-align: right;\n",
       "    }\n",
       "</style>\n",
       "<table border=\"1\" class=\"dataframe\">\n",
       "  <thead>\n",
       "    <tr style=\"text-align: right;\">\n",
       "      <th></th>\n",
       "      <th>id</th>\n",
       "      <th>email</th>\n",
       "      <th>username</th>\n",
       "      <th>password_x</th>\n",
       "      <th>firstName</th>\n",
       "      <th>lastName</th>\n",
       "      <th>fullName</th>\n",
       "      <th>profilePic</th>\n",
       "      <th>isMod</th>\n",
       "      <th>isObserver</th>\n",
       "      <th>...</th>\n",
       "      <th>sock</th>\n",
       "      <th>topic_0</th>\n",
       "      <th>pos_0</th>\n",
       "      <th>topic_1</th>\n",
       "      <th>pos_1</th>\n",
       "      <th>topic_2</th>\n",
       "      <th>pos_2</th>\n",
       "      <th>strategy</th>\n",
       "      <th>turk_ids</th>\n",
       "      <th>isPart</th>\n",
       "    </tr>\n",
       "  </thead>\n",
       "  <tbody>\n",
       "    <tr>\n",
       "      <th>0</th>\n",
       "      <td>2291</td>\n",
       "      <td>Molly_5327@observer.com</td>\n",
       "      <td>Molly_5327</td>\n",
       "      <td>$2a$10$QTEDCQ/MN/c.0S6snISLoOVxElZZd4rrumatMIA...</td>\n",
       "      <td>NaN</td>\n",
       "      <td>NaN</td>\n",
       "      <td>NaN</td>\n",
       "      <td>https://dartmouth-socialplatform.s3.us-east-2....</td>\n",
       "      <td>False</td>\n",
       "      <td>True</td>\n",
       "      <td>...</td>\n",
       "      <td>NaN</td>\n",
       "      <td>NaN</td>\n",
       "      <td>NaN</td>\n",
       "      <td>NaN</td>\n",
       "      <td>NaN</td>\n",
       "      <td>NaN</td>\n",
       "      <td>NaN</td>\n",
       "      <td>NaN</td>\n",
       "      <td>A3GKAXHBZFZRXU</td>\n",
       "      <td>False</td>\n",
       "    </tr>\n",
       "    <tr>\n",
       "      <th>1</th>\n",
       "      <td>1976</td>\n",
       "      <td>miho@dartpost.com</td>\n",
       "      <td>miho</td>\n",
       "      <td>$2a$10$9NrDj7dEYDHgK4vL0kTCbOmY07dM/ptcF2dVD8J...</td>\n",
       "      <td>NaN</td>\n",
       "      <td>NaN</td>\n",
       "      <td>NaN</td>\n",
       "      <td>https://dartmouth-socialplatform.s3.us-east-2....</td>\n",
       "      <td>True</td>\n",
       "      <td>False</td>\n",
       "      <td>...</td>\n",
       "      <td>NaN</td>\n",
       "      <td>NaN</td>\n",
       "      <td>NaN</td>\n",
       "      <td>NaN</td>\n",
       "      <td>NaN</td>\n",
       "      <td>NaN</td>\n",
       "      <td>NaN</td>\n",
       "      <td>NaN</td>\n",
       "      <td>NaN</td>\n",
       "      <td>False</td>\n",
       "    </tr>\n",
       "    <tr>\n",
       "      <th>2</th>\n",
       "      <td>1977</td>\n",
       "      <td>ModBessler@dartpost.org</td>\n",
       "      <td>ModB</td>\n",
       "      <td>$2a$10$iyHu9zlIoZ5JW7ErGgfCvueRa3tMGPfx6GlkE//...</td>\n",
       "      <td>NaN</td>\n",
       "      <td>NaN</td>\n",
       "      <td>NaN</td>\n",
       "      <td>https://dartmouth-socialplatform.s3.us-east-2....</td>\n",
       "      <td>True</td>\n",
       "      <td>False</td>\n",
       "      <td>...</td>\n",
       "      <td>NaN</td>\n",
       "      <td>NaN</td>\n",
       "      <td>NaN</td>\n",
       "      <td>NaN</td>\n",
       "      <td>NaN</td>\n",
       "      <td>NaN</td>\n",
       "      <td>NaN</td>\n",
       "      <td>NaN</td>\n",
       "      <td>NaN</td>\n",
       "      <td>False</td>\n",
       "    </tr>\n",
       "    <tr>\n",
       "      <th>3</th>\n",
       "      <td>2292</td>\n",
       "      <td>Luke_6520@observer.com</td>\n",
       "      <td>Luke_6520</td>\n",
       "      <td>$2a$10$FpS2QW9J/S4aMJcTiQygGuyMwT7y57XEz/0MW33...</td>\n",
       "      <td>NaN</td>\n",
       "      <td>NaN</td>\n",
       "      <td>NaN</td>\n",
       "      <td>https://dartmouth-socialplatform.s3.us-east-2....</td>\n",
       "      <td>False</td>\n",
       "      <td>True</td>\n",
       "      <td>...</td>\n",
       "      <td>NaN</td>\n",
       "      <td>NaN</td>\n",
       "      <td>NaN</td>\n",
       "      <td>NaN</td>\n",
       "      <td>NaN</td>\n",
       "      <td>NaN</td>\n",
       "      <td>NaN</td>\n",
       "      <td>NaN</td>\n",
       "      <td>A2NHFSO7GMM8QR</td>\n",
       "      <td>False</td>\n",
       "    </tr>\n",
       "    <tr>\n",
       "      <th>4</th>\n",
       "      <td>1980</td>\n",
       "      <td>dapang@dartpost.com</td>\n",
       "      <td>RuiboLiu</td>\n",
       "      <td>$2a$10$dxRTsGeeutRAWhpYOGTwwek2x2CgGxvKeEfKmqQ...</td>\n",
       "      <td>NaN</td>\n",
       "      <td>NaN</td>\n",
       "      <td>NaN</td>\n",
       "      <td>https://dartmouth-socialplatform.s3.us-east-2....</td>\n",
       "      <td>True</td>\n",
       "      <td>False</td>\n",
       "      <td>...</td>\n",
       "      <td>NaN</td>\n",
       "      <td>NaN</td>\n",
       "      <td>NaN</td>\n",
       "      <td>NaN</td>\n",
       "      <td>NaN</td>\n",
       "      <td>NaN</td>\n",
       "      <td>NaN</td>\n",
       "      <td>NaN</td>\n",
       "      <td>NaN</td>\n",
       "      <td>False</td>\n",
       "    </tr>\n",
       "  </tbody>\n",
       "</table>\n",
       "<p>5 rows × 27 columns</p>\n",
       "</div>"
      ],
      "text/plain": [
       "     id                    email    username  \\\n",
       "0  2291  Molly_5327@observer.com  Molly_5327   \n",
       "1  1976        miho@dartpost.com        miho   \n",
       "2  1977  ModBessler@dartpost.org        ModB   \n",
       "3  2292   Luke_6520@observer.com   Luke_6520   \n",
       "4  1980      dapang@dartpost.com    RuiboLiu   \n",
       "\n",
       "                                          password_x firstName lastName  \\\n",
       "0  $2a$10$QTEDCQ/MN/c.0S6snISLoOVxElZZd4rrumatMIA...       NaN      NaN   \n",
       "1  $2a$10$9NrDj7dEYDHgK4vL0kTCbOmY07dM/ptcF2dVD8J...       NaN      NaN   \n",
       "2  $2a$10$iyHu9zlIoZ5JW7ErGgfCvueRa3tMGPfx6GlkE//...       NaN      NaN   \n",
       "3  $2a$10$FpS2QW9J/S4aMJcTiQygGuyMwT7y57XEz/0MW33...       NaN      NaN   \n",
       "4  $2a$10$dxRTsGeeutRAWhpYOGTwwek2x2CgGxvKeEfKmqQ...       NaN      NaN   \n",
       "\n",
       "   fullName                                         profilePic  isMod  \\\n",
       "0       NaN  https://dartmouth-socialplatform.s3.us-east-2....  False   \n",
       "1       NaN  https://dartmouth-socialplatform.s3.us-east-2....   True   \n",
       "2       NaN  https://dartmouth-socialplatform.s3.us-east-2....   True   \n",
       "3       NaN  https://dartmouth-socialplatform.s3.us-east-2....  False   \n",
       "4       NaN  https://dartmouth-socialplatform.s3.us-east-2....   True   \n",
       "\n",
       "   isObserver  ... sock topic_0 pos_0  topic_1 pos_1 topic_2 pos_2  strategy  \\\n",
       "0        True  ...  NaN     NaN   NaN      NaN   NaN     NaN   NaN       NaN   \n",
       "1       False  ...  NaN     NaN   NaN      NaN   NaN     NaN   NaN       NaN   \n",
       "2       False  ...  NaN     NaN   NaN      NaN   NaN     NaN   NaN       NaN   \n",
       "3        True  ...  NaN     NaN   NaN      NaN   NaN     NaN   NaN       NaN   \n",
       "4       False  ...  NaN     NaN   NaN      NaN   NaN     NaN   NaN       NaN   \n",
       "\n",
       "         turk_ids isPart  \n",
       "0  A3GKAXHBZFZRXU  False  \n",
       "1             NaN  False  \n",
       "2             NaN  False  \n",
       "3  A2NHFSO7GMM8QR  False  \n",
       "4             NaN  False  \n",
       "\n",
       "[5 rows x 27 columns]"
      ]
     },
     "metadata": {},
     "output_type": "display_data"
    }
   ],
   "source": [
    "df_users = pd.merge(df_users, df_assigns, on=[\"email\", \"username\"], how=\"left\")\n",
    "\n",
    "df_users[[\"isMod\", \"isObserver\", \"isPuppet\"]] = (df_users[[\"isMod\", \"isObserver\", \"isPuppet\"]] == \"t\")\n",
    "\n",
    "df_users[\"isPart\"] = ~df_users[[\"isMod\", \"isObserver\", \"isPuppet\"]].any(axis=1)\n",
    "\n",
    "print(df_users.shape)\n",
    "display(df_users.head())"
   ]
  },
  {
   "cell_type": "code",
   "execution_count": 5,
   "metadata": {},
   "outputs": [
    {
     "data": {
      "text/html": [
       "<div>\n",
       "<style scoped>\n",
       "    .dataframe tbody tr th:only-of-type {\n",
       "        vertical-align: middle;\n",
       "    }\n",
       "\n",
       "    .dataframe tbody tr th {\n",
       "        vertical-align: top;\n",
       "    }\n",
       "\n",
       "    .dataframe thead th {\n",
       "        text-align: right;\n",
       "    }\n",
       "</style>\n",
       "<table border=\"1\" class=\"dataframe\">\n",
       "  <thead>\n",
       "    <tr style=\"text-align: right;\">\n",
       "      <th></th>\n",
       "      <th>id</th>\n",
       "      <th>text</th>\n",
       "      <th>picture_url</th>\n",
       "      <th>parent_id</th>\n",
       "      <th>root_id</th>\n",
       "      <th>is_marked</th>\n",
       "      <th>tags</th>\n",
       "      <th>createdAt</th>\n",
       "      <th>updatedAt</th>\n",
       "      <th>AuthorId</th>\n",
       "      <th>is_trending</th>\n",
       "    </tr>\n",
       "  </thead>\n",
       "  <tbody>\n",
       "    <tr>\n",
       "      <th>0</th>\n",
       "      <td>93</td>\n",
       "      <td>I think that we should move away from nuclear ...</td>\n",
       "      <td>NaN</td>\n",
       "      <td>NaN</td>\n",
       "      <td>NaN</td>\n",
       "      <td>False</td>\n",
       "      <td>{nuclear,energy,enviroment}</td>\n",
       "      <td>2020-09-03 01:59:10.051+00</td>\n",
       "      <td>2020-09-04 13:08:51.133+00</td>\n",
       "      <td>2580</td>\n",
       "      <td>False</td>\n",
       "    </tr>\n",
       "    <tr>\n",
       "      <th>1</th>\n",
       "      <td>94</td>\n",
       "      <td>Given the security put in place since 911, it ...</td>\n",
       "      <td>NaN</td>\n",
       "      <td>NaN</td>\n",
       "      <td>NaN</td>\n",
       "      <td>False</td>\n",
       "      <td>{TerroristAttack}</td>\n",
       "      <td>2020-09-03 02:28:29.002+00</td>\n",
       "      <td>2020-09-04 13:08:51.133+00</td>\n",
       "      <td>2593</td>\n",
       "      <td>False</td>\n",
       "    </tr>\n",
       "    <tr>\n",
       "      <th>2</th>\n",
       "      <td>95</td>\n",
       "      <td>NaN</td>\n",
       "      <td>NaN</td>\n",
       "      <td>NaN</td>\n",
       "      <td>NaN</td>\n",
       "      <td>True</td>\n",
       "      <td>{\"\"}</td>\n",
       "      <td>2020-09-03 02:31:10.028+00</td>\n",
       "      <td>2020-09-03 02:34:29.992+00</td>\n",
       "      <td>2611</td>\n",
       "      <td>False</td>\n",
       "    </tr>\n",
       "    <tr>\n",
       "      <th>3</th>\n",
       "      <td>96</td>\n",
       "      <td>It is crucial that the United States plays a r...</td>\n",
       "      <td>NaN</td>\n",
       "      <td>NaN</td>\n",
       "      <td>NaN</td>\n",
       "      <td>False</td>\n",
       "      <td>{Worldaffairs}</td>\n",
       "      <td>2020-09-03 02:34:07.312+00</td>\n",
       "      <td>2020-09-04 13:08:51.133+00</td>\n",
       "      <td>2593</td>\n",
       "      <td>False</td>\n",
       "    </tr>\n",
       "    <tr>\n",
       "      <th>4</th>\n",
       "      <td>97</td>\n",
       "      <td>Strongly disapprove of a two percent annual ta...</td>\n",
       "      <td>NaN</td>\n",
       "      <td>NaN</td>\n",
       "      <td>NaN</td>\n",
       "      <td>False</td>\n",
       "      <td>{WealthTax}</td>\n",
       "      <td>2020-09-03 02:36:27.825+00</td>\n",
       "      <td>2020-09-04 13:08:51.133+00</td>\n",
       "      <td>2593</td>\n",
       "      <td>False</td>\n",
       "    </tr>\n",
       "  </tbody>\n",
       "</table>\n",
       "</div>"
      ],
      "text/plain": [
       "   id                                               text picture_url  \\\n",
       "0  93  I think that we should move away from nuclear ...         NaN   \n",
       "1  94  Given the security put in place since 911, it ...         NaN   \n",
       "2  95                                                NaN         NaN   \n",
       "3  96  It is crucial that the United States plays a r...         NaN   \n",
       "4  97  Strongly disapprove of a two percent annual ta...         NaN   \n",
       "\n",
       "   parent_id  root_id  is_marked                         tags  \\\n",
       "0        NaN      NaN      False  {nuclear,energy,enviroment}   \n",
       "1        NaN      NaN      False            {TerroristAttack}   \n",
       "2        NaN      NaN       True                         {\"\"}   \n",
       "3        NaN      NaN      False               {Worldaffairs}   \n",
       "4        NaN      NaN      False                  {WealthTax}   \n",
       "\n",
       "                    createdAt                   updatedAt  AuthorId  \\\n",
       "0  2020-09-03 01:59:10.051+00  2020-09-04 13:08:51.133+00      2580   \n",
       "1  2020-09-03 02:28:29.002+00  2020-09-04 13:08:51.133+00      2593   \n",
       "2  2020-09-03 02:31:10.028+00  2020-09-03 02:34:29.992+00      2611   \n",
       "3  2020-09-03 02:34:07.312+00  2020-09-04 13:08:51.133+00      2593   \n",
       "4  2020-09-03 02:36:27.825+00  2020-09-04 13:08:51.133+00      2593   \n",
       "\n",
       "   is_trending  \n",
       "0        False  \n",
       "1        False  \n",
       "2        False  \n",
       "3        False  \n",
       "4        False  "
      ]
     },
     "metadata": {},
     "output_type": "display_data"
    },
    {
     "data": {
      "text/html": [
       "<div>\n",
       "<style scoped>\n",
       "    .dataframe tbody tr th:only-of-type {\n",
       "        vertical-align: middle;\n",
       "    }\n",
       "\n",
       "    .dataframe tbody tr th {\n",
       "        vertical-align: top;\n",
       "    }\n",
       "\n",
       "    .dataframe thead th {\n",
       "        text-align: right;\n",
       "    }\n",
       "</style>\n",
       "<table border=\"1\" class=\"dataframe\">\n",
       "  <thead>\n",
       "    <tr style=\"text-align: right;\">\n",
       "      <th></th>\n",
       "      <th>id</th>\n",
       "      <th>text</th>\n",
       "      <th>createdAt</th>\n",
       "      <th>updatedAt</th>\n",
       "      <th>PostId</th>\n",
       "      <th>CommenterId</th>\n",
       "    </tr>\n",
       "  </thead>\n",
       "  <tbody>\n",
       "    <tr>\n",
       "      <th>0</th>\n",
       "      <td>68</td>\n",
       "      <td>California is leading the way: https://www.for...</td>\n",
       "      <td>2020-09-03 02:52:38.45+00</td>\n",
       "      <td>2020-09-03 02:52:38.459+00</td>\n",
       "      <td>97</td>\n",
       "      <td>2593</td>\n",
       "    </tr>\n",
       "    <tr>\n",
       "      <th>1</th>\n",
       "      <td>69</td>\n",
       "      <td>Not sure we are fully secure here. Technology ...</td>\n",
       "      <td>2020-09-03 02:54:01.828+00</td>\n",
       "      <td>2020-09-03 02:54:01.84+00</td>\n",
       "      <td>94</td>\n",
       "      <td>2719</td>\n",
       "    </tr>\n",
       "    <tr>\n",
       "      <th>2</th>\n",
       "      <td>79</td>\n",
       "      <td>It makes sense, nature will still be around on...</td>\n",
       "      <td>2020-09-03 03:04:48.007+00</td>\n",
       "      <td>2020-09-03 03:04:48.02+00</td>\n",
       "      <td>105</td>\n",
       "      <td>2679</td>\n",
       "    </tr>\n",
       "    <tr>\n",
       "      <th>3</th>\n",
       "      <td>70</td>\n",
       "      <td>I feel like we are moving away from nuclear en...</td>\n",
       "      <td>2020-09-03 02:54:27.349+00</td>\n",
       "      <td>2020-09-03 02:54:27.362+00</td>\n",
       "      <td>93</td>\n",
       "      <td>2679</td>\n",
       "    </tr>\n",
       "    <tr>\n",
       "      <th>4</th>\n",
       "      <td>51</td>\n",
       "      <td>Nuclear energy, with proper safety in place, i...</td>\n",
       "      <td>2020-09-03 02:19:56.218+00</td>\n",
       "      <td>2020-09-03 02:19:56.226+00</td>\n",
       "      <td>93</td>\n",
       "      <td>2593</td>\n",
       "    </tr>\n",
       "  </tbody>\n",
       "</table>\n",
       "</div>"
      ],
      "text/plain": [
       "   id                                               text  \\\n",
       "0  68  California is leading the way: https://www.for...   \n",
       "1  69  Not sure we are fully secure here. Technology ...   \n",
       "2  79  It makes sense, nature will still be around on...   \n",
       "3  70  I feel like we are moving away from nuclear en...   \n",
       "4  51  Nuclear energy, with proper safety in place, i...   \n",
       "\n",
       "                    createdAt                   updatedAt  PostId  CommenterId  \n",
       "0   2020-09-03 02:52:38.45+00  2020-09-03 02:52:38.459+00      97         2593  \n",
       "1  2020-09-03 02:54:01.828+00   2020-09-03 02:54:01.84+00      94         2719  \n",
       "2  2020-09-03 03:04:48.007+00   2020-09-03 03:04:48.02+00     105         2679  \n",
       "3  2020-09-03 02:54:27.349+00  2020-09-03 02:54:27.362+00      93         2679  \n",
       "4  2020-09-03 02:19:56.218+00  2020-09-03 02:19:56.226+00      93         2593  "
      ]
     },
     "metadata": {},
     "output_type": "display_data"
    }
   ],
   "source": [
    "df_posts = pd.read_csv(\"./data/posts_processed.csv\").dropna(subset=[\"AuthorId\"])\n",
    "df_comments = pd.read_csv(\"./data/comments\", delimiter=\"\\t\").dropna()\n",
    "\n",
    "df_posts[\"AuthorId\"] = df_posts[\"AuthorId\"].astype(int)\n",
    "df_comments[\"CommenterId\"] = df_comments[\"CommenterId\"].astype(int)\n",
    "df_comments[\"PostId\"] = df_comments[\"PostId\"].astype(int)\n",
    "\n",
    "display(df_posts.head())\n",
    "display(df_comments.head())"
   ]
  },
  {
   "cell_type": "markdown",
   "metadata": {},
   "source": [
    "## Active users"
   ]
  },
  {
   "cell_type": "code",
   "execution_count": 6,
   "metadata": {},
   "outputs": [
    {
     "data": {
      "text/html": [
       "<div>\n",
       "<style scoped>\n",
       "    .dataframe tbody tr th:only-of-type {\n",
       "        vertical-align: middle;\n",
       "    }\n",
       "\n",
       "    .dataframe tbody tr th {\n",
       "        vertical-align: top;\n",
       "    }\n",
       "\n",
       "    .dataframe thead th {\n",
       "        text-align: right;\n",
       "    }\n",
       "</style>\n",
       "<table border=\"1\" class=\"dataframe\">\n",
       "  <thead>\n",
       "    <tr style=\"text-align: right;\">\n",
       "      <th></th>\n",
       "      <th>id</th>\n",
       "      <th>active_range</th>\n",
       "      <th>active_flag</th>\n",
       "    </tr>\n",
       "  </thead>\n",
       "  <tbody>\n",
       "    <tr>\n",
       "      <th>0</th>\n",
       "      <td>1976</td>\n",
       "      <td>0 days 00:00:00</td>\n",
       "      <td>False</td>\n",
       "    </tr>\n",
       "    <tr>\n",
       "      <th>1</th>\n",
       "      <td>2387</td>\n",
       "      <td>4 days 03:53:45.811000</td>\n",
       "      <td>True</td>\n",
       "    </tr>\n",
       "    <tr>\n",
       "      <th>2</th>\n",
       "      <td>2388</td>\n",
       "      <td>4 days 05:29:10.248000</td>\n",
       "      <td>True</td>\n",
       "    </tr>\n",
       "    <tr>\n",
       "      <th>3</th>\n",
       "      <td>2389</td>\n",
       "      <td>3 days 19:50:41.707000</td>\n",
       "      <td>True</td>\n",
       "    </tr>\n",
       "    <tr>\n",
       "      <th>4</th>\n",
       "      <td>2390</td>\n",
       "      <td>3 days 20:42:14.461000</td>\n",
       "      <td>True</td>\n",
       "    </tr>\n",
       "    <tr>\n",
       "      <th>...</th>\n",
       "      <td>...</td>\n",
       "      <td>...</td>\n",
       "      <td>...</td>\n",
       "    </tr>\n",
       "    <tr>\n",
       "      <th>98</th>\n",
       "      <td>2719</td>\n",
       "      <td>5 days 00:18:09.558000</td>\n",
       "      <td>True</td>\n",
       "    </tr>\n",
       "    <tr>\n",
       "      <th>99</th>\n",
       "      <td>2722</td>\n",
       "      <td>3 days 12:06:17.112000</td>\n",
       "      <td>True</td>\n",
       "    </tr>\n",
       "    <tr>\n",
       "      <th>100</th>\n",
       "      <td>2723</td>\n",
       "      <td>0 days 00:00:33.543000</td>\n",
       "      <td>False</td>\n",
       "    </tr>\n",
       "    <tr>\n",
       "      <th>101</th>\n",
       "      <td>2734</td>\n",
       "      <td>2 days 19:04:04.981000</td>\n",
       "      <td>True</td>\n",
       "    </tr>\n",
       "    <tr>\n",
       "      <th>102</th>\n",
       "      <td>2750</td>\n",
       "      <td>4 days 05:46:30.145000</td>\n",
       "      <td>True</td>\n",
       "    </tr>\n",
       "  </tbody>\n",
       "</table>\n",
       "<p>103 rows × 3 columns</p>\n",
       "</div>"
      ],
      "text/plain": [
       "       id           active_range  active_flag\n",
       "0    1976        0 days 00:00:00        False\n",
       "1    2387 4 days 03:53:45.811000         True\n",
       "2    2388 4 days 05:29:10.248000         True\n",
       "3    2389 3 days 19:50:41.707000         True\n",
       "4    2390 3 days 20:42:14.461000         True\n",
       "..    ...                    ...          ...\n",
       "98   2719 5 days 00:18:09.558000         True\n",
       "99   2722 3 days 12:06:17.112000         True\n",
       "100  2723 0 days 00:00:33.543000        False\n",
       "101  2734 2 days 19:04:04.981000         True\n",
       "102  2750 4 days 05:46:30.145000         True\n",
       "\n",
       "[103 rows x 3 columns]"
      ]
     },
     "execution_count": 6,
     "metadata": {},
     "output_type": "execute_result"
    }
   ],
   "source": [
    "df_coments_rename = df_comments[[\"CommenterId\", \"createdAt\"]]\n",
    "df_coments_rename.columns = [\"id\", \"time\"]\n",
    "df_posts_rename = df_posts[[\"AuthorId\", \"createdAt\"]]\n",
    "df_posts_rename.columns = [\"id\", \"time\"]\n",
    "\n",
    "df_active_users = pd.concat([df_coments_rename, df_posts_rename], axis=0, ignore_index=True)\n",
    "\n",
    "df_active_users[\"time\"] = pd.to_datetime(df_active_users[\"time\"])\n",
    "df_active_agg = df_active_users.groupby(\"id\").agg(np.ptp).rename(columns={\"time\": \"active_range\"})\n",
    "df_active_agg[\"active_flag\"] = df_active_agg[\"active_range\"] > pd.Timedelta(\"1 day\")\n",
    "\n",
    "df_active_agg.reset_index()"
   ]
  },
  {
   "cell_type": "code",
   "execution_count": 7,
   "metadata": {},
   "outputs": [],
   "source": [
    "df_users_active = pd.merge(df_users, df_active_agg, how=\"left\", left_on=\"id\", right_on=\"id\")\n",
    "\n",
    "df_users_active[\"active_range\"].fillna(pd.Timedelta(\"0 day\"), inplace=True)\n",
    "df_users_active[\"active_flag\"].fillna(False, inplace=True)\n",
    "\n",
    "df_users_final = df_users_active"
   ]
  },
  {
   "cell_type": "code",
   "execution_count": 8,
   "metadata": {},
   "outputs": [
    {
     "name": "stdout",
     "output_type": "stream",
     "text": [
      "46 478\n"
     ]
    },
    {
     "data": {
      "text/html": [
       "<div>\n",
       "<style scoped>\n",
       "    .dataframe tbody tr th:only-of-type {\n",
       "        vertical-align: middle;\n",
       "    }\n",
       "\n",
       "    .dataframe tbody tr th {\n",
       "        vertical-align: top;\n",
       "    }\n",
       "\n",
       "    .dataframe thead th {\n",
       "        text-align: right;\n",
       "    }\n",
       "</style>\n",
       "<table border=\"1\" class=\"dataframe\">\n",
       "  <thead>\n",
       "    <tr style=\"text-align: right;\">\n",
       "      <th></th>\n",
       "      <th>id</th>\n",
       "      <th>report</th>\n",
       "      <th>createdAt</th>\n",
       "      <th>updatedAt</th>\n",
       "      <th>ReporterId</th>\n",
       "      <th>SuspectId</th>\n",
       "    </tr>\n",
       "  </thead>\n",
       "  <tbody>\n",
       "    <tr>\n",
       "      <th>0</th>\n",
       "      <td>14</td>\n",
       "      <td>They do not go into enough detail and do not d...</td>\n",
       "      <td>2020-09-03 03:24:23.636+00</td>\n",
       "      <td>2020-09-03 03:24:23.636+00</td>\n",
       "      <td>2638</td>\n",
       "      <td>2604</td>\n",
       "    </tr>\n",
       "    <tr>\n",
       "      <th>1</th>\n",
       "      <td>15</td>\n",
       "      <td>His comment, “thank you China,” is inappropria...</td>\n",
       "      <td>2020-09-03 19:38:37.22+00</td>\n",
       "      <td>2020-09-03 19:38:37.22+00</td>\n",
       "      <td>2593</td>\n",
       "      <td>2560</td>\n",
       "    </tr>\n",
       "    <tr>\n",
       "      <th>2</th>\n",
       "      <td>16</td>\n",
       "      <td>I think it is a bot account</td>\n",
       "      <td>2020-09-03 20:21:50.501+00</td>\n",
       "      <td>2020-09-03 20:21:50.501+00</td>\n",
       "      <td>2588</td>\n",
       "      <td>2604</td>\n",
       "    </tr>\n",
       "    <tr>\n",
       "      <th>3</th>\n",
       "      <td>17</td>\n",
       "      <td>Possible bot</td>\n",
       "      <td>2020-09-03 20:40:12.567+00</td>\n",
       "      <td>2020-09-03 20:40:12.567+00</td>\n",
       "      <td>2588</td>\n",
       "      <td>2638</td>\n",
       "    </tr>\n",
       "    <tr>\n",
       "      <th>4</th>\n",
       "      <td>18</td>\n",
       "      <td>Bot?</td>\n",
       "      <td>2020-09-04 13:31:00.079+00</td>\n",
       "      <td>2020-09-04 13:31:00.079+00</td>\n",
       "      <td>2588</td>\n",
       "      <td>2658</td>\n",
       "    </tr>\n",
       "  </tbody>\n",
       "</table>\n",
       "</div>"
      ],
      "text/plain": [
       "   id                                             report  \\\n",
       "0  14  They do not go into enough detail and do not d...   \n",
       "1  15  His comment, “thank you China,” is inappropria...   \n",
       "2  16                        I think it is a bot account   \n",
       "3  17                                       Possible bot   \n",
       "4  18                                               Bot?   \n",
       "\n",
       "                    createdAt                   updatedAt  ReporterId  \\\n",
       "0  2020-09-03 03:24:23.636+00  2020-09-03 03:24:23.636+00        2638   \n",
       "1   2020-09-03 19:38:37.22+00   2020-09-03 19:38:37.22+00        2593   \n",
       "2  2020-09-03 20:21:50.501+00  2020-09-03 20:21:50.501+00        2588   \n",
       "3  2020-09-03 20:40:12.567+00  2020-09-03 20:40:12.567+00        2588   \n",
       "4  2020-09-04 13:31:00.079+00  2020-09-04 13:31:00.079+00        2588   \n",
       "\n",
       "   SuspectId  \n",
       "0       2604  \n",
       "1       2560  \n",
       "2       2604  \n",
       "3       2638  \n",
       "4       2658  "
      ]
     },
     "metadata": {},
     "output_type": "display_data"
    },
    {
     "data": {
      "text/html": [
       "<div>\n",
       "<style scoped>\n",
       "    .dataframe tbody tr th:only-of-type {\n",
       "        vertical-align: middle;\n",
       "    }\n",
       "\n",
       "    .dataframe tbody tr th {\n",
       "        vertical-align: top;\n",
       "    }\n",
       "\n",
       "    .dataframe thead th {\n",
       "        text-align: right;\n",
       "    }\n",
       "</style>\n",
       "<table border=\"1\" class=\"dataframe\">\n",
       "  <thead>\n",
       "    <tr style=\"text-align: right;\">\n",
       "      <th></th>\n",
       "      <th>id</th>\n",
       "      <th>email</th>\n",
       "      <th>username</th>\n",
       "      <th>password_x</th>\n",
       "      <th>firstName</th>\n",
       "      <th>lastName</th>\n",
       "      <th>fullName</th>\n",
       "      <th>profilePic</th>\n",
       "      <th>isMod</th>\n",
       "      <th>isObserver</th>\n",
       "      <th>...</th>\n",
       "      <th>pos_0</th>\n",
       "      <th>topic_1</th>\n",
       "      <th>pos_1</th>\n",
       "      <th>topic_2</th>\n",
       "      <th>pos_2</th>\n",
       "      <th>strategy</th>\n",
       "      <th>turk_ids</th>\n",
       "      <th>isPart</th>\n",
       "      <th>active_range</th>\n",
       "      <th>active_flag</th>\n",
       "    </tr>\n",
       "  </thead>\n",
       "  <tbody>\n",
       "    <tr>\n",
       "      <th>0</th>\n",
       "      <td>2291</td>\n",
       "      <td>Molly_5327@observer.com</td>\n",
       "      <td>Molly_5327</td>\n",
       "      <td>$2a$10$QTEDCQ/MN/c.0S6snISLoOVxElZZd4rrumatMIA...</td>\n",
       "      <td>NaN</td>\n",
       "      <td>NaN</td>\n",
       "      <td>NaN</td>\n",
       "      <td>https://dartmouth-socialplatform.s3.us-east-2....</td>\n",
       "      <td>False</td>\n",
       "      <td>True</td>\n",
       "      <td>...</td>\n",
       "      <td>NaN</td>\n",
       "      <td>NaN</td>\n",
       "      <td>NaN</td>\n",
       "      <td>NaN</td>\n",
       "      <td>NaN</td>\n",
       "      <td>NaN</td>\n",
       "      <td>A3GKAXHBZFZRXU</td>\n",
       "      <td>False</td>\n",
       "      <td>0 days</td>\n",
       "      <td>False</td>\n",
       "    </tr>\n",
       "    <tr>\n",
       "      <th>1</th>\n",
       "      <td>1976</td>\n",
       "      <td>miho@dartpost.com</td>\n",
       "      <td>miho</td>\n",
       "      <td>$2a$10$9NrDj7dEYDHgK4vL0kTCbOmY07dM/ptcF2dVD8J...</td>\n",
       "      <td>NaN</td>\n",
       "      <td>NaN</td>\n",
       "      <td>NaN</td>\n",
       "      <td>https://dartmouth-socialplatform.s3.us-east-2....</td>\n",
       "      <td>True</td>\n",
       "      <td>False</td>\n",
       "      <td>...</td>\n",
       "      <td>NaN</td>\n",
       "      <td>NaN</td>\n",
       "      <td>NaN</td>\n",
       "      <td>NaN</td>\n",
       "      <td>NaN</td>\n",
       "      <td>NaN</td>\n",
       "      <td>NaN</td>\n",
       "      <td>False</td>\n",
       "      <td>0 days</td>\n",
       "      <td>False</td>\n",
       "    </tr>\n",
       "  </tbody>\n",
       "</table>\n",
       "<p>2 rows × 29 columns</p>\n",
       "</div>"
      ],
      "text/plain": [
       "     id                    email    username  \\\n",
       "0  2291  Molly_5327@observer.com  Molly_5327   \n",
       "1  1976        miho@dartpost.com        miho   \n",
       "\n",
       "                                          password_x firstName lastName  \\\n",
       "0  $2a$10$QTEDCQ/MN/c.0S6snISLoOVxElZZd4rrumatMIA...       NaN      NaN   \n",
       "1  $2a$10$9NrDj7dEYDHgK4vL0kTCbOmY07dM/ptcF2dVD8J...       NaN      NaN   \n",
       "\n",
       "   fullName                                         profilePic  isMod  \\\n",
       "0       NaN  https://dartmouth-socialplatform.s3.us-east-2....  False   \n",
       "1       NaN  https://dartmouth-socialplatform.s3.us-east-2....   True   \n",
       "\n",
       "   isObserver  ... pos_0 topic_1 pos_1  topic_2 pos_2 strategy  \\\n",
       "0        True  ...   NaN     NaN   NaN      NaN   NaN      NaN   \n",
       "1       False  ...   NaN     NaN   NaN      NaN   NaN      NaN   \n",
       "\n",
       "         turk_ids  isPart active_range active_flag  \n",
       "0  A3GKAXHBZFZRXU   False       0 days       False  \n",
       "1             NaN   False       0 days       False  \n",
       "\n",
       "[2 rows x 29 columns]"
      ]
     },
     "metadata": {},
     "output_type": "display_data"
    }
   ],
   "source": [
    "print(f\"{df_report.shape[0]} {df_users_final.shape[0]}\")\n",
    "display(df_report.head())\n",
    "display(df_users_final.head(2))"
   ]
  },
  {
   "cell_type": "code",
   "execution_count": 9,
   "metadata": {},
   "outputs": [],
   "source": [
    "stop_time = pd.to_datetime(\"2020-09-08 23:59:59+00\")\n",
    "day_timedelta = pd.Timedelta(1, \"day\")\n",
    "total_timedelta = pd.Timedelta(1, \"day\")"
   ]
  },
  {
   "cell_type": "markdown",
   "metadata": {},
   "source": [
    "### Activity"
   ]
  },
  {
   "cell_type": "code",
   "execution_count": 10,
   "metadata": {},
   "outputs": [],
   "source": [
    "act_post = df_posts.groupby(\"AuthorId\").size()\n",
    "act_comment = df_comments.groupby(\"CommenterId\").size()"
   ]
  },
  {
   "cell_type": "code",
   "execution_count": 11,
   "metadata": {},
   "outputs": [
    {
     "name": "stdout",
     "output_type": "stream",
     "text": [
      "(103, 3)\n"
     ]
    },
    {
     "data": {
      "text/html": [
       "<div>\n",
       "<style scoped>\n",
       "    .dataframe tbody tr th:only-of-type {\n",
       "        vertical-align: middle;\n",
       "    }\n",
       "\n",
       "    .dataframe tbody tr th {\n",
       "        vertical-align: top;\n",
       "    }\n",
       "\n",
       "    .dataframe thead th {\n",
       "        text-align: right;\n",
       "    }\n",
       "</style>\n",
       "<table border=\"1\" class=\"dataframe\">\n",
       "  <thead>\n",
       "    <tr style=\"text-align: right;\">\n",
       "      <th></th>\n",
       "      <th>PostNum</th>\n",
       "      <th>ComNum</th>\n",
       "      <th>TotalAct</th>\n",
       "    </tr>\n",
       "  </thead>\n",
       "  <tbody>\n",
       "    <tr>\n",
       "      <th>1976</th>\n",
       "      <td>1.0</td>\n",
       "      <td>0.0</td>\n",
       "      <td>1.0</td>\n",
       "    </tr>\n",
       "    <tr>\n",
       "      <th>2387</th>\n",
       "      <td>19.0</td>\n",
       "      <td>19.0</td>\n",
       "      <td>38.0</td>\n",
       "    </tr>\n",
       "    <tr>\n",
       "      <th>2388</th>\n",
       "      <td>15.0</td>\n",
       "      <td>14.0</td>\n",
       "      <td>29.0</td>\n",
       "    </tr>\n",
       "    <tr>\n",
       "      <th>2389</th>\n",
       "      <td>15.0</td>\n",
       "      <td>16.0</td>\n",
       "      <td>31.0</td>\n",
       "    </tr>\n",
       "    <tr>\n",
       "      <th>2390</th>\n",
       "      <td>7.0</td>\n",
       "      <td>45.0</td>\n",
       "      <td>52.0</td>\n",
       "    </tr>\n",
       "  </tbody>\n",
       "</table>\n",
       "</div>"
      ],
      "text/plain": [
       "      PostNum  ComNum  TotalAct\n",
       "1976      1.0     0.0       1.0\n",
       "2387     19.0    19.0      38.0\n",
       "2388     15.0    14.0      29.0\n",
       "2389     15.0    16.0      31.0\n",
       "2390      7.0    45.0      52.0"
      ]
     },
     "metadata": {},
     "output_type": "display_data"
    }
   ],
   "source": [
    "df_act = pd.concat([act_post, act_comment], keys=[\"PostNum\", \"ComNum\"], axis=1, join=\"outer\").fillna(0)\n",
    "df_act[\"TotalAct\"] = df_act[\"PostNum\"] + df_act[\"ComNum\"]\n",
    "print(df_act.shape)\n",
    "display(df_act.head())"
   ]
  },
  {
   "cell_type": "code",
   "execution_count": 12,
   "metadata": {},
   "outputs": [
    {
     "data": {
      "text/html": [
       "<div>\n",
       "<style scoped>\n",
       "    .dataframe tbody tr th:only-of-type {\n",
       "        vertical-align: middle;\n",
       "    }\n",
       "\n",
       "    .dataframe tbody tr th {\n",
       "        vertical-align: top;\n",
       "    }\n",
       "\n",
       "    .dataframe thead th {\n",
       "        text-align: right;\n",
       "    }\n",
       "</style>\n",
       "<table border=\"1\" class=\"dataframe\">\n",
       "  <thead>\n",
       "    <tr style=\"text-align: right;\">\n",
       "      <th></th>\n",
       "      <th>id</th>\n",
       "      <th>email</th>\n",
       "      <th>username</th>\n",
       "      <th>password_x</th>\n",
       "      <th>firstName</th>\n",
       "      <th>lastName</th>\n",
       "      <th>fullName</th>\n",
       "      <th>profilePic</th>\n",
       "      <th>isMod</th>\n",
       "      <th>isObserver</th>\n",
       "      <th>...</th>\n",
       "      <th>topic_2</th>\n",
       "      <th>pos_2</th>\n",
       "      <th>strategy</th>\n",
       "      <th>turk_ids</th>\n",
       "      <th>isPart</th>\n",
       "      <th>active_range</th>\n",
       "      <th>active_flag</th>\n",
       "      <th>PostNum</th>\n",
       "      <th>ComNum</th>\n",
       "      <th>TotalAct</th>\n",
       "    </tr>\n",
       "  </thead>\n",
       "  <tbody>\n",
       "    <tr>\n",
       "      <th>0</th>\n",
       "      <td>2291</td>\n",
       "      <td>Molly_5327@observer.com</td>\n",
       "      <td>Molly_5327</td>\n",
       "      <td>$2a$10$QTEDCQ/MN/c.0S6snISLoOVxElZZd4rrumatMIA...</td>\n",
       "      <td>NaN</td>\n",
       "      <td>NaN</td>\n",
       "      <td>NaN</td>\n",
       "      <td>https://dartmouth-socialplatform.s3.us-east-2....</td>\n",
       "      <td>False</td>\n",
       "      <td>True</td>\n",
       "      <td>...</td>\n",
       "      <td>NaN</td>\n",
       "      <td>NaN</td>\n",
       "      <td>NaN</td>\n",
       "      <td>A3GKAXHBZFZRXU</td>\n",
       "      <td>False</td>\n",
       "      <td>0 days</td>\n",
       "      <td>False</td>\n",
       "      <td>NaN</td>\n",
       "      <td>NaN</td>\n",
       "      <td>NaN</td>\n",
       "    </tr>\n",
       "    <tr>\n",
       "      <th>1</th>\n",
       "      <td>1976</td>\n",
       "      <td>miho@dartpost.com</td>\n",
       "      <td>miho</td>\n",
       "      <td>$2a$10$9NrDj7dEYDHgK4vL0kTCbOmY07dM/ptcF2dVD8J...</td>\n",
       "      <td>NaN</td>\n",
       "      <td>NaN</td>\n",
       "      <td>NaN</td>\n",
       "      <td>https://dartmouth-socialplatform.s3.us-east-2....</td>\n",
       "      <td>True</td>\n",
       "      <td>False</td>\n",
       "      <td>...</td>\n",
       "      <td>NaN</td>\n",
       "      <td>NaN</td>\n",
       "      <td>NaN</td>\n",
       "      <td>NaN</td>\n",
       "      <td>False</td>\n",
       "      <td>0 days</td>\n",
       "      <td>False</td>\n",
       "      <td>1.0</td>\n",
       "      <td>0.0</td>\n",
       "      <td>1.0</td>\n",
       "    </tr>\n",
       "    <tr>\n",
       "      <th>2</th>\n",
       "      <td>1977</td>\n",
       "      <td>ModBessler@dartpost.org</td>\n",
       "      <td>ModB</td>\n",
       "      <td>$2a$10$iyHu9zlIoZ5JW7ErGgfCvueRa3tMGPfx6GlkE//...</td>\n",
       "      <td>NaN</td>\n",
       "      <td>NaN</td>\n",
       "      <td>NaN</td>\n",
       "      <td>https://dartmouth-socialplatform.s3.us-east-2....</td>\n",
       "      <td>True</td>\n",
       "      <td>False</td>\n",
       "      <td>...</td>\n",
       "      <td>NaN</td>\n",
       "      <td>NaN</td>\n",
       "      <td>NaN</td>\n",
       "      <td>NaN</td>\n",
       "      <td>False</td>\n",
       "      <td>0 days</td>\n",
       "      <td>False</td>\n",
       "      <td>NaN</td>\n",
       "      <td>NaN</td>\n",
       "      <td>NaN</td>\n",
       "    </tr>\n",
       "    <tr>\n",
       "      <th>3</th>\n",
       "      <td>2292</td>\n",
       "      <td>Luke_6520@observer.com</td>\n",
       "      <td>Luke_6520</td>\n",
       "      <td>$2a$10$FpS2QW9J/S4aMJcTiQygGuyMwT7y57XEz/0MW33...</td>\n",
       "      <td>NaN</td>\n",
       "      <td>NaN</td>\n",
       "      <td>NaN</td>\n",
       "      <td>https://dartmouth-socialplatform.s3.us-east-2....</td>\n",
       "      <td>False</td>\n",
       "      <td>True</td>\n",
       "      <td>...</td>\n",
       "      <td>NaN</td>\n",
       "      <td>NaN</td>\n",
       "      <td>NaN</td>\n",
       "      <td>A2NHFSO7GMM8QR</td>\n",
       "      <td>False</td>\n",
       "      <td>0 days</td>\n",
       "      <td>False</td>\n",
       "      <td>NaN</td>\n",
       "      <td>NaN</td>\n",
       "      <td>NaN</td>\n",
       "    </tr>\n",
       "    <tr>\n",
       "      <th>4</th>\n",
       "      <td>1980</td>\n",
       "      <td>dapang@dartpost.com</td>\n",
       "      <td>RuiboLiu</td>\n",
       "      <td>$2a$10$dxRTsGeeutRAWhpYOGTwwek2x2CgGxvKeEfKmqQ...</td>\n",
       "      <td>NaN</td>\n",
       "      <td>NaN</td>\n",
       "      <td>NaN</td>\n",
       "      <td>https://dartmouth-socialplatform.s3.us-east-2....</td>\n",
       "      <td>True</td>\n",
       "      <td>False</td>\n",
       "      <td>...</td>\n",
       "      <td>NaN</td>\n",
       "      <td>NaN</td>\n",
       "      <td>NaN</td>\n",
       "      <td>NaN</td>\n",
       "      <td>False</td>\n",
       "      <td>0 days</td>\n",
       "      <td>False</td>\n",
       "      <td>NaN</td>\n",
       "      <td>NaN</td>\n",
       "      <td>NaN</td>\n",
       "    </tr>\n",
       "  </tbody>\n",
       "</table>\n",
       "<p>5 rows × 32 columns</p>\n",
       "</div>"
      ],
      "text/plain": [
       "     id                    email    username  \\\n",
       "0  2291  Molly_5327@observer.com  Molly_5327   \n",
       "1  1976        miho@dartpost.com        miho   \n",
       "2  1977  ModBessler@dartpost.org        ModB   \n",
       "3  2292   Luke_6520@observer.com   Luke_6520   \n",
       "4  1980      dapang@dartpost.com    RuiboLiu   \n",
       "\n",
       "                                          password_x firstName lastName  \\\n",
       "0  $2a$10$QTEDCQ/MN/c.0S6snISLoOVxElZZd4rrumatMIA...       NaN      NaN   \n",
       "1  $2a$10$9NrDj7dEYDHgK4vL0kTCbOmY07dM/ptcF2dVD8J...       NaN      NaN   \n",
       "2  $2a$10$iyHu9zlIoZ5JW7ErGgfCvueRa3tMGPfx6GlkE//...       NaN      NaN   \n",
       "3  $2a$10$FpS2QW9J/S4aMJcTiQygGuyMwT7y57XEz/0MW33...       NaN      NaN   \n",
       "4  $2a$10$dxRTsGeeutRAWhpYOGTwwek2x2CgGxvKeEfKmqQ...       NaN      NaN   \n",
       "\n",
       "   fullName                                         profilePic  isMod  \\\n",
       "0       NaN  https://dartmouth-socialplatform.s3.us-east-2....  False   \n",
       "1       NaN  https://dartmouth-socialplatform.s3.us-east-2....   True   \n",
       "2       NaN  https://dartmouth-socialplatform.s3.us-east-2....   True   \n",
       "3       NaN  https://dartmouth-socialplatform.s3.us-east-2....  False   \n",
       "4       NaN  https://dartmouth-socialplatform.s3.us-east-2....   True   \n",
       "\n",
       "   isObserver  ... topic_2 pos_2 strategy        turk_ids isPart active_range  \\\n",
       "0        True  ...     NaN   NaN      NaN  A3GKAXHBZFZRXU  False       0 days   \n",
       "1       False  ...     NaN   NaN      NaN             NaN  False       0 days   \n",
       "2       False  ...     NaN   NaN      NaN             NaN  False       0 days   \n",
       "3        True  ...     NaN   NaN      NaN  A2NHFSO7GMM8QR  False       0 days   \n",
       "4       False  ...     NaN   NaN      NaN             NaN  False       0 days   \n",
       "\n",
       "  active_flag  PostNum ComNum TotalAct  \n",
       "0       False      NaN    NaN      NaN  \n",
       "1       False      1.0    0.0      1.0  \n",
       "2       False      NaN    NaN      NaN  \n",
       "3       False      NaN    NaN      NaN  \n",
       "4       False      NaN    NaN      NaN  \n",
       "\n",
       "[5 rows x 32 columns]"
      ]
     },
     "metadata": {},
     "output_type": "display_data"
    }
   ],
   "source": [
    "df_users_final = pd.merge(df_users_final, df_act, left_on=[\"id\"], right_index=True, how=\"left\")\n",
    "display(df_users_final.head())"
   ]
  },
  {
   "cell_type": "code",
   "execution_count": 13,
   "metadata": {},
   "outputs": [
    {
     "data": {
      "text/html": [
       "<div>\n",
       "<style scoped>\n",
       "    .dataframe tbody tr th:only-of-type {\n",
       "        vertical-align: middle;\n",
       "    }\n",
       "\n",
       "    .dataframe tbody tr th {\n",
       "        vertical-align: top;\n",
       "    }\n",
       "\n",
       "    .dataframe thead th {\n",
       "        text-align: right;\n",
       "    }\n",
       "</style>\n",
       "<table border=\"1\" class=\"dataframe\">\n",
       "  <thead>\n",
       "    <tr style=\"text-align: right;\">\n",
       "      <th></th>\n",
       "      <th>id</th>\n",
       "      <th>isPart</th>\n",
       "      <th>isPuppet</th>\n",
       "      <th>strategy</th>\n",
       "      <th>active_flag</th>\n",
       "      <th>PostNum</th>\n",
       "      <th>ComNum</th>\n",
       "      <th>TotalAct</th>\n",
       "    </tr>\n",
       "  </thead>\n",
       "  <tbody>\n",
       "    <tr>\n",
       "      <th>0</th>\n",
       "      <td>2291</td>\n",
       "      <td>False</td>\n",
       "      <td>False</td>\n",
       "      <td>NaN</td>\n",
       "      <td>False</td>\n",
       "      <td>NaN</td>\n",
       "      <td>NaN</td>\n",
       "      <td>NaN</td>\n",
       "    </tr>\n",
       "    <tr>\n",
       "      <th>1</th>\n",
       "      <td>1976</td>\n",
       "      <td>False</td>\n",
       "      <td>False</td>\n",
       "      <td>NaN</td>\n",
       "      <td>False</td>\n",
       "      <td>1.0</td>\n",
       "      <td>0.0</td>\n",
       "      <td>1.0</td>\n",
       "    </tr>\n",
       "    <tr>\n",
       "      <th>2</th>\n",
       "      <td>1977</td>\n",
       "      <td>False</td>\n",
       "      <td>False</td>\n",
       "      <td>NaN</td>\n",
       "      <td>False</td>\n",
       "      <td>NaN</td>\n",
       "      <td>NaN</td>\n",
       "      <td>NaN</td>\n",
       "    </tr>\n",
       "    <tr>\n",
       "      <th>3</th>\n",
       "      <td>2292</td>\n",
       "      <td>False</td>\n",
       "      <td>False</td>\n",
       "      <td>NaN</td>\n",
       "      <td>False</td>\n",
       "      <td>NaN</td>\n",
       "      <td>NaN</td>\n",
       "      <td>NaN</td>\n",
       "    </tr>\n",
       "    <tr>\n",
       "      <th>4</th>\n",
       "      <td>1980</td>\n",
       "      <td>False</td>\n",
       "      <td>False</td>\n",
       "      <td>NaN</td>\n",
       "      <td>False</td>\n",
       "      <td>NaN</td>\n",
       "      <td>NaN</td>\n",
       "      <td>NaN</td>\n",
       "    </tr>\n",
       "    <tr>\n",
       "      <th>...</th>\n",
       "      <td>...</td>\n",
       "      <td>...</td>\n",
       "      <td>...</td>\n",
       "      <td>...</td>\n",
       "      <td>...</td>\n",
       "      <td>...</td>\n",
       "      <td>...</td>\n",
       "      <td>...</td>\n",
       "    </tr>\n",
       "    <tr>\n",
       "      <th>473</th>\n",
       "      <td>2407</td>\n",
       "      <td>False</td>\n",
       "      <td>True</td>\n",
       "      <td>COVERT</td>\n",
       "      <td>False</td>\n",
       "      <td>2.0</td>\n",
       "      <td>0.0</td>\n",
       "      <td>2.0</td>\n",
       "    </tr>\n",
       "    <tr>\n",
       "      <th>474</th>\n",
       "      <td>2704</td>\n",
       "      <td>True</td>\n",
       "      <td>False</td>\n",
       "      <td>NaN</td>\n",
       "      <td>True</td>\n",
       "      <td>26.0</td>\n",
       "      <td>27.0</td>\n",
       "      <td>53.0</td>\n",
       "    </tr>\n",
       "    <tr>\n",
       "      <th>475</th>\n",
       "      <td>2575</td>\n",
       "      <td>True</td>\n",
       "      <td>False</td>\n",
       "      <td>NaN</td>\n",
       "      <td>True</td>\n",
       "      <td>20.0</td>\n",
       "      <td>39.0</td>\n",
       "      <td>59.0</td>\n",
       "    </tr>\n",
       "    <tr>\n",
       "      <th>476</th>\n",
       "      <td>2540</td>\n",
       "      <td>False</td>\n",
       "      <td>True</td>\n",
       "      <td>COVERT</td>\n",
       "      <td>True</td>\n",
       "      <td>8.0</td>\n",
       "      <td>12.0</td>\n",
       "      <td>20.0</td>\n",
       "    </tr>\n",
       "    <tr>\n",
       "      <th>477</th>\n",
       "      <td>2455</td>\n",
       "      <td>False</td>\n",
       "      <td>True</td>\n",
       "      <td>COVERT</td>\n",
       "      <td>True</td>\n",
       "      <td>4.0</td>\n",
       "      <td>28.0</td>\n",
       "      <td>32.0</td>\n",
       "    </tr>\n",
       "  </tbody>\n",
       "</table>\n",
       "<p>478 rows × 8 columns</p>\n",
       "</div>"
      ],
      "text/plain": [
       "       id  isPart  isPuppet strategy  active_flag  PostNum  ComNum  TotalAct\n",
       "0    2291   False     False      NaN        False      NaN     NaN       NaN\n",
       "1    1976   False     False      NaN        False      1.0     0.0       1.0\n",
       "2    1977   False     False      NaN        False      NaN     NaN       NaN\n",
       "3    2292   False     False      NaN        False      NaN     NaN       NaN\n",
       "4    1980   False     False      NaN        False      NaN     NaN       NaN\n",
       "..    ...     ...       ...      ...          ...      ...     ...       ...\n",
       "473  2407   False      True   COVERT        False      2.0     0.0       2.0\n",
       "474  2704    True     False      NaN         True     26.0    27.0      53.0\n",
       "475  2575    True     False      NaN         True     20.0    39.0      59.0\n",
       "476  2540   False      True   COVERT         True      8.0    12.0      20.0\n",
       "477  2455   False      True   COVERT         True      4.0    28.0      32.0\n",
       "\n",
       "[478 rows x 8 columns]"
      ]
     },
     "metadata": {},
     "output_type": "display_data"
    }
   ],
   "source": [
    "df_users_act = df_users_final[[\"id\", \"isPart\", \"isPuppet\", \"strategy\", \"active_flag\", \"PostNum\", \"ComNum\", \"TotalAct\"]]\n",
    "\n",
    "display(df_users_act)"
   ]
  },
  {
   "cell_type": "code",
   "execution_count": 14,
   "metadata": {},
   "outputs": [],
   "source": [
    "df_all_index = df_users_act[\"isPart\"] | df_users_act[\"isPuppet\"]\n",
    "\n",
    "df_active_index = df_all_index & df_users_act[\"active_flag\"]"
   ]
  },
  {
   "cell_type": "code",
   "execution_count": 15,
   "metadata": {},
   "outputs": [
    {
     "data": {
      "text/html": [
       "<div>\n",
       "<style scoped>\n",
       "    .dataframe tbody tr th:only-of-type {\n",
       "        vertical-align: middle;\n",
       "    }\n",
       "\n",
       "    .dataframe tbody tr th {\n",
       "        vertical-align: top;\n",
       "    }\n",
       "\n",
       "    .dataframe thead th {\n",
       "        text-align: right;\n",
       "    }\n",
       "</style>\n",
       "<table border=\"1\" class=\"dataframe\">\n",
       "  <thead>\n",
       "    <tr style=\"text-align: right;\">\n",
       "      <th></th>\n",
       "      <th>id</th>\n",
       "      <th>isPart</th>\n",
       "      <th>isPuppet</th>\n",
       "      <th>PostNum</th>\n",
       "      <th>ComNum</th>\n",
       "      <th>TotalAct</th>\n",
       "    </tr>\n",
       "    <tr>\n",
       "      <th>active_flag</th>\n",
       "      <th></th>\n",
       "      <th></th>\n",
       "      <th></th>\n",
       "      <th></th>\n",
       "      <th></th>\n",
       "      <th></th>\n",
       "    </tr>\n",
       "  </thead>\n",
       "  <tbody>\n",
       "    <tr>\n",
       "      <th>False</th>\n",
       "      <td>1022953</td>\n",
       "      <td>119</td>\n",
       "      <td>184</td>\n",
       "      <td>162.0</td>\n",
       "      <td>50.0</td>\n",
       "      <td>212.0</td>\n",
       "    </tr>\n",
       "    <tr>\n",
       "      <th>True</th>\n",
       "      <td>173238</td>\n",
       "      <td>41</td>\n",
       "      <td>26</td>\n",
       "      <td>908.0</td>\n",
       "      <td>1563.0</td>\n",
       "      <td>2471.0</td>\n",
       "    </tr>\n",
       "  </tbody>\n",
       "</table>\n",
       "</div>"
      ],
      "text/plain": [
       "                  id  isPart  isPuppet  PostNum  ComNum  TotalAct\n",
       "active_flag                                                      \n",
       "False        1022953     119       184    162.0    50.0     212.0\n",
       "True          173238      41        26    908.0  1563.0    2471.0"
      ]
     },
     "execution_count": 15,
     "metadata": {},
     "output_type": "execute_result"
    }
   ],
   "source": [
    "df_users_act.groupby(\"active_flag\").sum()"
   ]
  },
  {
   "cell_type": "code",
   "execution_count": 16,
   "metadata": {},
   "outputs": [
    {
     "data": {
      "text/plain": [
       "active_flag\n",
       "False    303\n",
       "True      67\n",
       "dtype: int64"
      ]
     },
     "metadata": {},
     "output_type": "display_data"
    }
   ],
   "source": [
    "display(df_users_act[df_all_index].groupby(\"active_flag\").size())\n",
    "# df_users_act[df_all_index].groupby(\"active_flag\").size().rename(index={True: \"Yes\", False: \"No\"}).plot(kind=\"bar\", rot=0, xlabel=\"Active or not\")"
   ]
  },
  {
   "cell_type": "code",
   "execution_count": 17,
   "metadata": {},
   "outputs": [
    {
     "data": {
      "image/png": "[encoded data removed]",
      "text/plain": [
       "<Figure size 432x288 with 1 Axes>"
      ]
     },
     "metadata": {
      "needs_background": "light"
     },
     "output_type": "display_data"
    }
   ],
   "source": [
    "ax = df_users_act[df_all_index][[\"isPuppet\", \"PostNum\", \"ComNum\", \"TotalAct\"]].groupby(\"isPuppet\").mean().rename(index={True: \"Yes\", False: \"No\"}).plot(kind=\"bar\", rot=0, xlabel=\"Is account a sockpuppet?\", ylabel=\"Number of activities\", stacked=False)\n",
    "\n",
    "for p in ax.patches:\n",
    "    ax.annotate(f\"{p.get_height():.2f}\", (p.get_x() * 1.005, p.get_height() * 1.005))"
   ]
  },
  {
   "cell_type": "code",
   "execution_count": 18,
   "metadata": {},
   "outputs": [
    {
     "data": {
      "image/png": "[encoded data removed]",
      "text/plain": [
       "<Figure size 432x288 with 1 Axes>"
      ]
     },
     "metadata": {
      "needs_background": "light"
     },
     "output_type": "display_data"
    }
   ],
   "source": [
    "ax = df_users_act[df_active_index][[\"isPuppet\", \"PostNum\", \"ComNum\", \"TotalAct\"]].groupby(\"isPuppet\").mean().rename(index={True: \"Yes\", False: \"No\"}).plot(kind=\"bar\", rot=0, xlabel=\"Is account a sockpuppet?\", ylabel=\"Number of activities\", stacked=False)\n",
    "\n",
    "for p in ax.patches:\n",
    "    ax.annotate(f\"{p.get_height():.2f}\", (p.get_x() * 1.005, p.get_height() * 1.005))"
   ]
  },
  {
   "cell_type": "code",
   "execution_count": 19,
   "metadata": {},
   "outputs": [
    {
     "data": {
      "image/png": "[encoded data removed]",
      "text/plain": [
       "<Figure size 432x288 with 1 Axes>"
      ]
     },
     "metadata": {
      "needs_background": "light"
     },
     "output_type": "display_data"
    }
   ],
   "source": [
    "ax = df_users_act[df_all_index][[\"strategy\", \"PostNum\", \"ComNum\", \"TotalAct\"]].groupby(\"strategy\").mean().plot(kind=\"bar\", rot=0, xlabel=\"Strategies for sockpuppets\", ylabel=\"Number of activities\")\n",
    "\n",
    "for p in ax.patches:\n",
    "    ax.annotate(f\"{p.get_height():.2f}\", (p.get_x() * 1.005, p.get_height() * 1.005))"
   ]
  },
  {
   "cell_type": "code",
   "execution_count": 20,
   "metadata": {},
   "outputs": [
    {
     "data": {
      "image/png": "[encoded data removed]",
      "text/plain": [
       "<Figure size 432x288 with 1 Axes>"
      ]
     },
     "metadata": {
      "needs_background": "light"
     },
     "output_type": "display_data"
    }
   ],
   "source": [
    "ax = df_users_act[df_active_index][[\"strategy\", \"PostNum\", \"ComNum\", \"TotalAct\"]].groupby(\"strategy\").mean().plot(kind=\"bar\", rot=0, xlabel=\"Strategies for sockpuppets\", ylabel=\"Number of activities\")\n",
    "\n",
    "for p in ax.patches:\n",
    "    ax.annotate(f\"{p.get_height():.2f}\", (p.get_x() * 1.005, p.get_height() * 1.005))"
   ]
  },
  {
   "cell_type": "code",
   "execution_count": 21,
   "metadata": {},
   "outputs": [
    {
     "data": {
      "text/plain": [
       "strategy\n",
       "COVERT          56\n",
       "OVERT           80\n",
       "UNRESTRICTED    73\n",
       "dtype: int64"
      ]
     },
     "execution_count": 21,
     "metadata": {},
     "output_type": "execute_result"
    }
   ],
   "source": [
    "df_users_act[df_all_index][[\"strategy\", \"active_flag\"]].groupby(\"strategy\").size()"
   ]
  },
  {
   "cell_type": "code",
   "execution_count": 22,
   "metadata": {},
   "outputs": [
    {
     "data": {
      "text/html": [
       "<div>\n",
       "<style scoped>\n",
       "    .dataframe tbody tr th:only-of-type {\n",
       "        vertical-align: middle;\n",
       "    }\n",
       "\n",
       "    .dataframe tbody tr th {\n",
       "        vertical-align: top;\n",
       "    }\n",
       "\n",
       "    .dataframe thead th {\n",
       "        text-align: right;\n",
       "    }\n",
       "</style>\n",
       "<table border=\"1\" class=\"dataframe\">\n",
       "  <thead>\n",
       "    <tr style=\"text-align: right;\">\n",
       "      <th></th>\n",
       "      <th>active_flag</th>\n",
       "    </tr>\n",
       "    <tr>\n",
       "      <th>strategy</th>\n",
       "      <th></th>\n",
       "    </tr>\n",
       "  </thead>\n",
       "  <tbody>\n",
       "    <tr>\n",
       "      <th>COVERT</th>\n",
       "      <td>21</td>\n",
       "    </tr>\n",
       "    <tr>\n",
       "      <th>OVERT</th>\n",
       "      <td>1</td>\n",
       "    </tr>\n",
       "    <tr>\n",
       "      <th>UNRESTRICTED</th>\n",
       "      <td>4</td>\n",
       "    </tr>\n",
       "  </tbody>\n",
       "</table>\n",
       "</div>"
      ],
      "text/plain": [
       "              active_flag\n",
       "strategy                 \n",
       "COVERT                 21\n",
       "OVERT                   1\n",
       "UNRESTRICTED            4"
      ]
     },
     "execution_count": 22,
     "metadata": {},
     "output_type": "execute_result"
    }
   ],
   "source": [
    "df_users_act[df_all_index][[\"strategy\", \"active_flag\"]].groupby(\"strategy\").sum()"
   ]
  },
  {
   "cell_type": "markdown",
   "metadata": {},
   "source": [
    "## influence"
   ]
  },
  {
   "cell_type": "code",
   "execution_count": 23,
   "metadata": {},
   "outputs": [
    {
     "name": "stdout",
     "output_type": "stream",
     "text": [
      "{nan: {nan}, 'How likely is it that the Dow Jones will end the year 2020 down at least 20% from its peak in February 2020?': {'No', 'Yes'}, 'How strongly would you approve or disapprove of a two percent annual tax on households whose net worth (including income, real estate, stocks and other investments) is more than 50 million?': {'Strongly approve', 'Strongly disapprove'}, 'How strongly do you favor or oppose the use of nuclear energy as one of the ways to provide electricity for the United States?': {'Strongly oppose', 'Strongly favor'}, 'How likely is it that the United States experience a terrorist attack in the next ten years that will kill more than 1000 American civilians?': {'Very unlikely', 'Very likely'}, 'How should the United States balance protection of the environment and economy growth?,Protection of the environment should be given priority': {'Economic growth should be given priority, even if the environment suffers to some extent.', ' even at the risk of curbing economic growth.\"'}, 'How active of a role should the United States play in world affairs?': {'We should pay less attention to problems overseas and concentrate on problems here at home.', 'It is best for the future of our country to be active in world affairs.'}, 'How strongly would you approve or disapprove of keeping the current health care system but allowing all adults the option of buying into Medicare if they choose?': {'Strongly approve', 'Strongly disapprove'}, 'Do you think that foods with genetically modified ingredients are generally good or bad for your health?': {'Generally bad', 'Generally good'}, 'Do you think that the actions the U.S. government has taken in response to the Coronavirus pandemic have been too strong or not strong enough?': {'Not strong enough', 'Too strong'}}\n"
     ]
    }
   ],
   "source": [
    "topic_polarity = {}\n",
    "\n",
    "for t, p in zip(df_users_final[\"topic_1\"], df_users_final[\"pos_1\"]):\n",
    "    if t not in topic_polarity:\n",
    "        topic_polarity[t] = set([p])\n",
    "    else:\n",
    "        topic_polarity[t] |= set([p])\n",
    "\n",
    "for t, p in zip(df_users_final[\"topic_2\"], df_users_final[\"pos_2\"]):\n",
    "    if t not in topic_polarity:\n",
    "        topic_polarity[t] = set([p])\n",
    "    else:\n",
    "        topic_polarity[t] |= set([p])\n",
    "\n",
    "print(topic_polarity)"
   ]
  },
  {
   "cell_type": "code",
   "execution_count": 24,
   "metadata": {},
   "outputs": [],
   "source": [
    "dict_followby = {}\n",
    "for u1, u2 in zip(df_follow[\"FollowerId\"], df_follow[\"FollowingId\"]):\n",
    "    if u2 not in dict_followby:\n",
    "        dict_followby[u2] = set()\n",
    "    dict_followby[u2] |= set([u1])"
   ]
  },
  {
   "cell_type": "code",
   "execution_count": 25,
   "metadata": {},
   "outputs": [
    {
     "data": {
      "text/html": [
       "<div>\n",
       "<style scoped>\n",
       "    .dataframe tbody tr th:only-of-type {\n",
       "        vertical-align: middle;\n",
       "    }\n",
       "\n",
       "    .dataframe tbody tr th {\n",
       "        vertical-align: top;\n",
       "    }\n",
       "\n",
       "    .dataframe thead th {\n",
       "        text-align: right;\n",
       "    }\n",
       "</style>\n",
       "<table border=\"1\" class=\"dataframe\">\n",
       "  <thead>\n",
       "    <tr style=\"text-align: right;\">\n",
       "      <th></th>\n",
       "      <th>id</th>\n",
       "      <th>isPuppet</th>\n",
       "      <th>isPart</th>\n",
       "      <th>strategy</th>\n",
       "      <th>PostNum</th>\n",
       "      <th>ComNum</th>\n",
       "      <th>TotalAct</th>\n",
       "    </tr>\n",
       "  </thead>\n",
       "  <tbody>\n",
       "    <tr>\n",
       "      <th>0</th>\n",
       "      <td>2291</td>\n",
       "      <td>False</td>\n",
       "      <td>False</td>\n",
       "      <td>NaN</td>\n",
       "      <td>NaN</td>\n",
       "      <td>NaN</td>\n",
       "      <td>NaN</td>\n",
       "    </tr>\n",
       "    <tr>\n",
       "      <th>1</th>\n",
       "      <td>1976</td>\n",
       "      <td>False</td>\n",
       "      <td>False</td>\n",
       "      <td>NaN</td>\n",
       "      <td>1.0</td>\n",
       "      <td>0.0</td>\n",
       "      <td>1.0</td>\n",
       "    </tr>\n",
       "    <tr>\n",
       "      <th>2</th>\n",
       "      <td>1977</td>\n",
       "      <td>False</td>\n",
       "      <td>False</td>\n",
       "      <td>NaN</td>\n",
       "      <td>NaN</td>\n",
       "      <td>NaN</td>\n",
       "      <td>NaN</td>\n",
       "    </tr>\n",
       "    <tr>\n",
       "      <th>3</th>\n",
       "      <td>2292</td>\n",
       "      <td>False</td>\n",
       "      <td>False</td>\n",
       "      <td>NaN</td>\n",
       "      <td>NaN</td>\n",
       "      <td>NaN</td>\n",
       "      <td>NaN</td>\n",
       "    </tr>\n",
       "    <tr>\n",
       "      <th>4</th>\n",
       "      <td>1980</td>\n",
       "      <td>False</td>\n",
       "      <td>False</td>\n",
       "      <td>NaN</td>\n",
       "      <td>NaN</td>\n",
       "      <td>NaN</td>\n",
       "      <td>NaN</td>\n",
       "    </tr>\n",
       "    <tr>\n",
       "      <th>...</th>\n",
       "      <td>...</td>\n",
       "      <td>...</td>\n",
       "      <td>...</td>\n",
       "      <td>...</td>\n",
       "      <td>...</td>\n",
       "      <td>...</td>\n",
       "      <td>...</td>\n",
       "    </tr>\n",
       "    <tr>\n",
       "      <th>473</th>\n",
       "      <td>2407</td>\n",
       "      <td>True</td>\n",
       "      <td>False</td>\n",
       "      <td>COVERT</td>\n",
       "      <td>2.0</td>\n",
       "      <td>0.0</td>\n",
       "      <td>2.0</td>\n",
       "    </tr>\n",
       "    <tr>\n",
       "      <th>474</th>\n",
       "      <td>2704</td>\n",
       "      <td>False</td>\n",
       "      <td>True</td>\n",
       "      <td>NaN</td>\n",
       "      <td>26.0</td>\n",
       "      <td>27.0</td>\n",
       "      <td>53.0</td>\n",
       "    </tr>\n",
       "    <tr>\n",
       "      <th>475</th>\n",
       "      <td>2575</td>\n",
       "      <td>False</td>\n",
       "      <td>True</td>\n",
       "      <td>NaN</td>\n",
       "      <td>20.0</td>\n",
       "      <td>39.0</td>\n",
       "      <td>59.0</td>\n",
       "    </tr>\n",
       "    <tr>\n",
       "      <th>476</th>\n",
       "      <td>2540</td>\n",
       "      <td>True</td>\n",
       "      <td>False</td>\n",
       "      <td>COVERT</td>\n",
       "      <td>8.0</td>\n",
       "      <td>12.0</td>\n",
       "      <td>20.0</td>\n",
       "    </tr>\n",
       "    <tr>\n",
       "      <th>477</th>\n",
       "      <td>2455</td>\n",
       "      <td>True</td>\n",
       "      <td>False</td>\n",
       "      <td>COVERT</td>\n",
       "      <td>4.0</td>\n",
       "      <td>28.0</td>\n",
       "      <td>32.0</td>\n",
       "    </tr>\n",
       "  </tbody>\n",
       "</table>\n",
       "<p>478 rows × 7 columns</p>\n",
       "</div>"
      ],
      "text/plain": [
       "       id  isPuppet  isPart strategy  PostNum  ComNum  TotalAct\n",
       "0    2291     False   False      NaN      NaN     NaN       NaN\n",
       "1    1976     False   False      NaN      1.0     0.0       1.0\n",
       "2    1977     False   False      NaN      NaN     NaN       NaN\n",
       "3    2292     False   False      NaN      NaN     NaN       NaN\n",
       "4    1980     False   False      NaN      NaN     NaN       NaN\n",
       "..    ...       ...     ...      ...      ...     ...       ...\n",
       "473  2407      True   False   COVERT      2.0     0.0       2.0\n",
       "474  2704     False    True      NaN     26.0    27.0      53.0\n",
       "475  2575     False    True      NaN     20.0    39.0      59.0\n",
       "476  2540      True   False   COVERT      8.0    12.0      20.0\n",
       "477  2455      True   False   COVERT      4.0    28.0      32.0\n",
       "\n",
       "[478 rows x 7 columns]"
      ]
     },
     "metadata": {},
     "output_type": "display_data"
    }
   ],
   "source": [
    "df_users_inf = df_users_final[[\"id\", \"isPuppet\", \"isPart\", \"strategy\", \"PostNum\", \"ComNum\", \"TotalAct\"]]\n",
    "\n",
    "display(df_users_inf)"
   ]
  },
  {
   "cell_type": "code",
   "execution_count": 26,
   "metadata": {},
   "outputs": [],
   "source": [
    "dict_u_act = dict(zip(df_users_inf[\"id\"], df_users_inf[\"TotalAct\"].fillna(0)))\n",
    "\n",
    "dict_u_inf_on = {u: {\"inf\": sum([dict_u_act[u2] for u2 in dict_followby[u]]) if u in dict_followby else 0} for u in dict_u_act}\n",
    "\n",
    "df_users_inf = df_users_inf.merge(pd.DataFrame.from_dict(dict_u_inf_on, orient=\"index\"), left_on=\"id\", right_index=True)"
   ]
  },
  {
   "cell_type": "code",
   "execution_count": 27,
   "metadata": {},
   "outputs": [
    {
     "data": {
      "text/html": [
       "<div>\n",
       "<style scoped>\n",
       "    .dataframe tbody tr th:only-of-type {\n",
       "        vertical-align: middle;\n",
       "    }\n",
       "\n",
       "    .dataframe tbody tr th {\n",
       "        vertical-align: top;\n",
       "    }\n",
       "\n",
       "    .dataframe thead th {\n",
       "        text-align: right;\n",
       "    }\n",
       "</style>\n",
       "<table border=\"1\" class=\"dataframe\">\n",
       "  <thead>\n",
       "    <tr style=\"text-align: right;\">\n",
       "      <th></th>\n",
       "      <th>id</th>\n",
       "      <th>isPuppet</th>\n",
       "      <th>isPart</th>\n",
       "      <th>strategy</th>\n",
       "      <th>PostNum</th>\n",
       "      <th>ComNum</th>\n",
       "      <th>TotalAct</th>\n",
       "      <th>inf</th>\n",
       "      <th>AdjInf</th>\n",
       "    </tr>\n",
       "  </thead>\n",
       "  <tbody>\n",
       "    <tr>\n",
       "      <th>0</th>\n",
       "      <td>2291</td>\n",
       "      <td>False</td>\n",
       "      <td>False</td>\n",
       "      <td>NaN</td>\n",
       "      <td>NaN</td>\n",
       "      <td>NaN</td>\n",
       "      <td>NaN</td>\n",
       "      <td>0.0</td>\n",
       "      <td>0.000000</td>\n",
       "    </tr>\n",
       "    <tr>\n",
       "      <th>1</th>\n",
       "      <td>1976</td>\n",
       "      <td>False</td>\n",
       "      <td>False</td>\n",
       "      <td>NaN</td>\n",
       "      <td>1.0</td>\n",
       "      <td>0.0</td>\n",
       "      <td>1.0</td>\n",
       "      <td>0.0</td>\n",
       "      <td>1.000000</td>\n",
       "    </tr>\n",
       "    <tr>\n",
       "      <th>2</th>\n",
       "      <td>1977</td>\n",
       "      <td>False</td>\n",
       "      <td>False</td>\n",
       "      <td>NaN</td>\n",
       "      <td>NaN</td>\n",
       "      <td>NaN</td>\n",
       "      <td>NaN</td>\n",
       "      <td>0.0</td>\n",
       "      <td>0.000000</td>\n",
       "    </tr>\n",
       "    <tr>\n",
       "      <th>3</th>\n",
       "      <td>2292</td>\n",
       "      <td>False</td>\n",
       "      <td>False</td>\n",
       "      <td>NaN</td>\n",
       "      <td>NaN</td>\n",
       "      <td>NaN</td>\n",
       "      <td>NaN</td>\n",
       "      <td>0.0</td>\n",
       "      <td>0.000000</td>\n",
       "    </tr>\n",
       "    <tr>\n",
       "      <th>4</th>\n",
       "      <td>1980</td>\n",
       "      <td>False</td>\n",
       "      <td>False</td>\n",
       "      <td>NaN</td>\n",
       "      <td>NaN</td>\n",
       "      <td>NaN</td>\n",
       "      <td>NaN</td>\n",
       "      <td>158.0</td>\n",
       "      <td>0.000000</td>\n",
       "    </tr>\n",
       "    <tr>\n",
       "      <th>...</th>\n",
       "      <td>...</td>\n",
       "      <td>...</td>\n",
       "      <td>...</td>\n",
       "      <td>...</td>\n",
       "      <td>...</td>\n",
       "      <td>...</td>\n",
       "      <td>...</td>\n",
       "      <td>...</td>\n",
       "      <td>...</td>\n",
       "    </tr>\n",
       "    <tr>\n",
       "      <th>473</th>\n",
       "      <td>2407</td>\n",
       "      <td>True</td>\n",
       "      <td>False</td>\n",
       "      <td>COVERT</td>\n",
       "      <td>2.0</td>\n",
       "      <td>0.0</td>\n",
       "      <td>2.0</td>\n",
       "      <td>0.0</td>\n",
       "      <td>1.000000</td>\n",
       "    </tr>\n",
       "    <tr>\n",
       "      <th>474</th>\n",
       "      <td>2704</td>\n",
       "      <td>False</td>\n",
       "      <td>True</td>\n",
       "      <td>NaN</td>\n",
       "      <td>26.0</td>\n",
       "      <td>27.0</td>\n",
       "      <td>53.0</td>\n",
       "      <td>89.0</td>\n",
       "      <td>0.595506</td>\n",
       "    </tr>\n",
       "    <tr>\n",
       "      <th>475</th>\n",
       "      <td>2575</td>\n",
       "      <td>False</td>\n",
       "      <td>True</td>\n",
       "      <td>NaN</td>\n",
       "      <td>20.0</td>\n",
       "      <td>39.0</td>\n",
       "      <td>59.0</td>\n",
       "      <td>155.0</td>\n",
       "      <td>0.380645</td>\n",
       "    </tr>\n",
       "    <tr>\n",
       "      <th>476</th>\n",
       "      <td>2540</td>\n",
       "      <td>True</td>\n",
       "      <td>False</td>\n",
       "      <td>COVERT</td>\n",
       "      <td>8.0</td>\n",
       "      <td>12.0</td>\n",
       "      <td>20.0</td>\n",
       "      <td>105.0</td>\n",
       "      <td>0.190476</td>\n",
       "    </tr>\n",
       "    <tr>\n",
       "      <th>477</th>\n",
       "      <td>2455</td>\n",
       "      <td>True</td>\n",
       "      <td>False</td>\n",
       "      <td>COVERT</td>\n",
       "      <td>4.0</td>\n",
       "      <td>28.0</td>\n",
       "      <td>32.0</td>\n",
       "      <td>0.0</td>\n",
       "      <td>1.000000</td>\n",
       "    </tr>\n",
       "  </tbody>\n",
       "</table>\n",
       "<p>478 rows × 9 columns</p>\n",
       "</div>"
      ],
      "text/plain": [
       "       id  isPuppet  isPart strategy  PostNum  ComNum  TotalAct    inf  \\\n",
       "0    2291     False   False      NaN      NaN     NaN       NaN    0.0   \n",
       "1    1976     False   False      NaN      1.0     0.0       1.0    0.0   \n",
       "2    1977     False   False      NaN      NaN     NaN       NaN    0.0   \n",
       "3    2292     False   False      NaN      NaN     NaN       NaN    0.0   \n",
       "4    1980     False   False      NaN      NaN     NaN       NaN  158.0   \n",
       "..    ...       ...     ...      ...      ...     ...       ...    ...   \n",
       "473  2407      True   False   COVERT      2.0     0.0       2.0    0.0   \n",
       "474  2704     False    True      NaN     26.0    27.0      53.0   89.0   \n",
       "475  2575     False    True      NaN     20.0    39.0      59.0  155.0   \n",
       "476  2540      True   False   COVERT      8.0    12.0      20.0  105.0   \n",
       "477  2455      True   False   COVERT      4.0    28.0      32.0    0.0   \n",
       "\n",
       "       AdjInf  \n",
       "0    0.000000  \n",
       "1    1.000000  \n",
       "2    0.000000  \n",
       "3    0.000000  \n",
       "4    0.000000  \n",
       "..        ...  \n",
       "473  1.000000  \n",
       "474  0.595506  \n",
       "475  0.380645  \n",
       "476  0.190476  \n",
       "477  1.000000  \n",
       "\n",
       "[478 rows x 9 columns]"
      ]
     },
     "execution_count": 27,
     "metadata": {},
     "output_type": "execute_result"
    }
   ],
   "source": [
    "df_users_inf[\"AdjInf\"] = (df_users_inf[\"TotalAct\"] / df_users_inf[\"inf\"]).replace(np.inf, 1).replace(np.nan, 0)\n",
    "\n",
    "df_users_inf"
   ]
  },
  {
   "cell_type": "code",
   "execution_count": 28,
   "metadata": {},
   "outputs": [
    {
     "data": {
      "image/png": "[encoded data removed]",
      "text/plain": [
       "<Figure size 432x288 with 1 Axes>"
      ]
     },
     "metadata": {
      "needs_background": "light"
     },
     "output_type": "display_data"
    },
    {
     "data": {
      "image/png": "[encoded data removed]",
      "text/plain": [
       "<Figure size 432x288 with 1 Axes>"
      ]
     },
     "metadata": {
      "needs_background": "light"
     },
     "output_type": "display_data"
    }
   ],
   "source": [
    "ax = df_users_inf[df_all_index][[\"isPuppet\", \"inf\"]].groupby(\"isPuppet\").mean().rename(index={True: \"Yes\", False: \"No\"}).plot(kind=\"bar\", rot=0, xlabel=\"Is account a sockpuppet?\", ylabel=\"Follower activities\", legend=False)\n",
    "\n",
    "for p in ax.patches:\n",
    "    ax.annotate(f\"{p.get_height():.2f}\", (p.get_x() + 0.15, p.get_height() * 1.005))\n",
    "\n",
    "ax = df_users_inf[df_active_index][[\"isPuppet\", \"inf\"]].groupby(\"isPuppet\").mean().rename(index={True: \"Yes\", False: \"No\"}).plot(kind=\"bar\", rot=0, xlabel=\"Is account a sockpuppet?\", ylabel=\"Follower activities\", legend=False)\n",
    "\n",
    "for p in ax.patches:\n",
    "    ax.annotate(f\"{p.get_height():.2f}\", (p.get_x() + 0.15, p.get_height() * 1.005))"
   ]
  },
  {
   "cell_type": "code",
   "execution_count": 29,
   "metadata": {},
   "outputs": [
    {
     "data": {
      "image/png": "[encoded data removed]",
      "text/plain": [
       "<Figure size 432x288 with 1 Axes>"
      ]
     },
     "metadata": {
      "needs_background": "light"
     },
     "output_type": "display_data"
    },
    {
     "data": {
      "image/png": "[encoded data removed]",
      "text/plain": [
       "<Figure size 432x288 with 1 Axes>"
      ]
     },
     "metadata": {
      "needs_background": "light"
     },
     "output_type": "display_data"
    }
   ],
   "source": [
    "ax = df_users_inf[df_all_index][[\"strategy\", \"inf\"]].groupby(\"strategy\").mean().plot(kind=\"bar\", rot=0, xlabel=\"Strategy for sockpuppet\", ylabel=\"Follower activities\", legend=False)\n",
    "\n",
    "for p in ax.patches:\n",
    "    ax.annotate(f\"{p.get_height():.2f}\", (p.get_x() + 0.15, p.get_height() * 1.005))\n",
    "\n",
    "ax = df_users_inf[df_active_index][[\"strategy\", \"inf\"]].groupby(\"strategy\").mean().plot(kind=\"bar\", rot=0, xlabel=\"Strategy for sockpuppet\", ylabel=\"Follower activities\", legend=False)\n",
    "\n",
    "for p in ax.patches:\n",
    "    ax.annotate(f\"{p.get_height():.2f}\", (p.get_x() + 0.15, p.get_height() * 1.005))"
   ]
  },
  {
   "cell_type": "code",
   "execution_count": 30,
   "metadata": {},
   "outputs": [
    {
     "data": {
      "image/png": "[encoded data removed]",
      "text/plain": [
       "<Figure size 432x288 with 1 Axes>"
      ]
     },
     "metadata": {
      "needs_background": "light"
     },
     "output_type": "display_data"
    },
    {
     "data": {
      "image/png": "[encoded data removed]",
      "text/plain": [
       "<Figure size 432x288 with 1 Axes>"
      ]
     },
     "metadata": {
      "needs_background": "light"
     },
     "output_type": "display_data"
    }
   ],
   "source": [
    "ax = df_users_inf[df_all_index].replace(np.inf, np.nan)[[\"isPuppet\", \"AdjInf\"]].groupby(\"isPuppet\").mean().rename(index={True: \"Yes\", False: \"No\"}).plot(kind=\"bar\", rot=0, xlabel=\"Is account a sockpuppet?\", ylabel=\"Direct Influence\", legend=False)\n",
    "\n",
    "for p in ax.patches:\n",
    "    ax.annotate(f\"{p.get_height():.2f}\", (p.get_x() + 0.15, p.get_height() * 1.005))\n",
    "\n",
    "ax = df_users_inf[df_active_index].replace(np.inf, np.nan)[[\"isPuppet\", \"AdjInf\"]].groupby(\"isPuppet\").mean().rename(index={True: \"Yes\", False: \"No\"}).plot(kind=\"bar\", rot=0, xlabel=\"Is account a sockpuppet?\", ylabel=\"Direct Influence\", legend=False)\n",
    "\n",
    "for p in ax.patches:\n",
    "    ax.annotate(f\"{p.get_height():.2f}\", (p.get_x() + 0.15, p.get_height() * 1.005))"
   ]
  },
  {
   "cell_type": "code",
   "execution_count": 31,
   "metadata": {},
   "outputs": [
    {
     "data": {
      "image/png": "[encoded data removed]",
      "text/plain": [
       "<Figure size 432x288 with 1 Axes>"
      ]
     },
     "metadata": {
      "needs_background": "light"
     },
     "output_type": "display_data"
    },
    {
     "data": {
      "image/png": "[encoded data removed]",
      "text/plain": [
       "<Figure size 432x288 with 1 Axes>"
      ]
     },
     "metadata": {
      "needs_background": "light"
     },
     "output_type": "display_data"
    }
   ],
   "source": [
    "ax = df_users_inf[df_all_index].replace(np.inf, 1)[[\"strategy\", \"AdjInf\"]].groupby(\"strategy\").mean().plot(kind=\"bar\", rot=0, xlabel=\"Strategy for sockpuppet\", ylabel=\"Direct Influence\", legend=False)\n",
    "\n",
    "for p in ax.patches:\n",
    "    ax.annotate(f\"{p.get_height():.2f}\", (p.get_x() + 0.15, p.get_height() * 1.005))\n",
    "\n",
    "ax = df_users_inf[df_active_index].replace(np.inf, 1)[[\"strategy\", \"AdjInf\"]].groupby(\"strategy\").mean().plot(kind=\"bar\", rot=0, xlabel=\"Strategy for sockpuppet\", ylabel=\"Direct Influence\", legend=False)\n",
    "\n",
    "for p in ax.patches:\n",
    "    ax.annotate(f\"{p.get_height():.2f}\", (p.get_x() + 0.15, p.get_height() * 1.005))"
   ]
  },
  {
   "cell_type": "markdown",
   "metadata": {},
   "source": [
    "### process reports"
   ]
  },
  {
   "cell_type": "code",
   "execution_count": 32,
   "metadata": {},
   "outputs": [],
   "source": [
    "report_clean = df_report[[\"SuspectId\", \"createdAt\"]].groupby(\"SuspectId\").min().reset_index()\n",
    "report_clean[\"ReportToLast\"] = (pd.to_datetime(report_clean[\"createdAt\"]) - stop_time) / day_timedelta\n",
    "report_clean = report_clean[[\"SuspectId\", \"ReportToLast\"]]"
   ]
  },
  {
   "cell_type": "code",
   "execution_count": 33,
   "metadata": {},
   "outputs": [
    {
     "name": "stdout",
     "output_type": "stream",
     "text": [
      "(210, 33)\n"
     ]
    },
    {
     "data": {
      "text/html": [
       "<div>\n",
       "<style scoped>\n",
       "    .dataframe tbody tr th:only-of-type {\n",
       "        vertical-align: middle;\n",
       "    }\n",
       "\n",
       "    .dataframe tbody tr th {\n",
       "        vertical-align: top;\n",
       "    }\n",
       "\n",
       "    .dataframe thead th {\n",
       "        text-align: right;\n",
       "    }\n",
       "</style>\n",
       "<table border=\"1\" class=\"dataframe\">\n",
       "  <thead>\n",
       "    <tr style=\"text-align: right;\">\n",
       "      <th></th>\n",
       "      <th>id</th>\n",
       "      <th>email</th>\n",
       "      <th>username</th>\n",
       "      <th>password_x</th>\n",
       "      <th>firstName</th>\n",
       "      <th>lastName</th>\n",
       "      <th>fullName</th>\n",
       "      <th>profilePic</th>\n",
       "      <th>isMod</th>\n",
       "      <th>isObserver</th>\n",
       "      <th>...</th>\n",
       "      <th>pos_2</th>\n",
       "      <th>strategy</th>\n",
       "      <th>turk_ids</th>\n",
       "      <th>isPart</th>\n",
       "      <th>active_range</th>\n",
       "      <th>active_flag</th>\n",
       "      <th>PostNum</th>\n",
       "      <th>ComNum</th>\n",
       "      <th>TotalAct</th>\n",
       "      <th>ReportToLast</th>\n",
       "    </tr>\n",
       "  </thead>\n",
       "  <tbody>\n",
       "    <tr>\n",
       "      <th>0</th>\n",
       "      <td>2361</td>\n",
       "      <td>Connor_6191@sockpuppet.com</td>\n",
       "      <td>Connor_6191</td>\n",
       "      <td>$2a$10$bYgxFkelOI/Dh7FT3VueauwjLduc7NuLBCYMwAt...</td>\n",
       "      <td>NaN</td>\n",
       "      <td>NaN</td>\n",
       "      <td>NaN</td>\n",
       "      <td>https://dartmouth-socialplatform.s3.us-east-2....</td>\n",
       "      <td>False</td>\n",
       "      <td>False</td>\n",
       "      <td>...</td>\n",
       "      <td>Strongly disapprove</td>\n",
       "      <td>UNRESTRICTED</td>\n",
       "      <td>AVMBUHD8M055F</td>\n",
       "      <td>False</td>\n",
       "      <td>0 days</td>\n",
       "      <td>False</td>\n",
       "      <td>NaN</td>\n",
       "      <td>NaN</td>\n",
       "      <td>NaN</td>\n",
       "      <td>NaN</td>\n",
       "    </tr>\n",
       "  </tbody>\n",
       "</table>\n",
       "<p>1 rows × 33 columns</p>\n",
       "</div>"
      ],
      "text/plain": [
       "     id                       email     username  \\\n",
       "0  2361  Connor_6191@sockpuppet.com  Connor_6191   \n",
       "\n",
       "                                          password_x firstName lastName  \\\n",
       "0  $2a$10$bYgxFkelOI/Dh7FT3VueauwjLduc7NuLBCYMwAt...       NaN      NaN   \n",
       "\n",
       "   fullName                                         profilePic  isMod  \\\n",
       "0       NaN  https://dartmouth-socialplatform.s3.us-east-2....  False   \n",
       "\n",
       "   isObserver  ...                pos_2      strategy       turk_ids  isPart  \\\n",
       "0       False  ...  Strongly disapprove  UNRESTRICTED  AVMBUHD8M055F   False   \n",
       "\n",
       "  active_range active_flag PostNum  ComNum TotalAct ReportToLast  \n",
       "0       0 days       False     NaN     NaN      NaN          NaN  \n",
       "\n",
       "[1 rows x 33 columns]"
      ]
     },
     "metadata": {},
     "output_type": "display_data"
    }
   ],
   "source": [
    "df_puppet = df_users_final[df_users_final[\"isPuppet\"]]\n",
    "\n",
    "df_puppet = pd.merge(df_puppet, report_clean, left_on=\"id\", right_on=\"SuspectId\", how=\"left\").drop(\"SuspectId\", axis=1)\n",
    "\n",
    "print(df_puppet.shape)\n",
    "display(df_puppet.head(1))"
   ]
  },
  {
   "cell_type": "markdown",
   "metadata": {},
   "source": [
    "### study who is reporting"
   ]
  },
  {
   "cell_type": "code",
   "execution_count": 34,
   "metadata": {},
   "outputs": [
    {
     "data": {
      "image/png": "[encoded data removed]",
      "text/plain": [
       "<Figure size 432x288 with 1 Axes>"
      ]
     },
     "metadata": {
      "needs_background": "light"
     },
     "output_type": "display_data"
    }
   ],
   "source": [
    "df_reporter = df_users_final.set_index(\"id\").loc[df_report[\"ReporterId\"].values.tolist()]\n",
    "\n",
    "ax = df_reporter[[\"isPart\", \"isPuppet\"]].sum().rename(index={\"isPart\": \"Normal\", \"isPuppet\": \"Sockpuppet\"}).plot(kind=\"bar\", rot=0, xlabel=\"Account kind\", ylabel=\"Number of reports\")\n",
    "\n",
    "# df_reporter[[\"active_flag\"]].groupby(\"active_flag\").size().plot(kind=\"bar\", xlabel=\"Active or not\")\n",
    "\n",
    "for p in ax.patches:\n",
    "    ax.annotate(f\"{p.get_height():.2f}\", (p.get_x() + 0.15, p.get_height() * 1.005))"
   ]
  },
  {
   "cell_type": "code",
   "execution_count": 35,
   "metadata": {},
   "outputs": [],
   "source": [
    "def find_topic_relation(x, y):\n",
    "    r1 = df_users_final.set_index(\"id\").loc[x]\n",
    "    r2 = df_users_final.set_index(\"id\").loc[y]\n",
    "\n",
    "    t1 = r1[[\"topic_0\", \"topic_1\", \"topic_2\"]].tolist()\n",
    "    a1 = r1[[\"pos_0\", \"pos_1\", \"pos_2\"]].tolist()\n",
    "\n",
    "    t2 = r2[[\"topic_0\", \"topic_1\", \"topic_2\"]].tolist()\n",
    "    a2 = r2[[\"pos_0\", \"pos_1\", \"pos_2\"]].tolist()\n",
    "\n",
    "    ta1 = zip(t1, a1)\n",
    "    ta2 = zip(t2, a2)\n",
    "\n",
    "    topic_cnt = 0\n",
    "    pos_cnt = 0\n",
    "    opp_cnt = 0\n",
    "\n",
    "    for t1, a1 in ta1:\n",
    "        for t2, a2 in ta2:\n",
    "            if t1 == t2:\n",
    "                topic_cnt += 1\n",
    "                if a1 == a2:\n",
    "                    pos_cnt += 1\n",
    "                else:\n",
    "                    opp_cnt += 1\n",
    "    ret_dict = {\n",
    "#         \"Topic\": topic_cnt,\n",
    "        \"Friend\": pos_cnt,\n",
    "        \"Rival\": opp_cnt,\n",
    "        \"Neutral\": not topic_cnt,\n",
    "    }\n",
    "    return ret_dict"
   ]
  },
  {
   "cell_type": "code",
   "execution_count": 36,
   "metadata": {},
   "outputs": [
    {
     "data": {
      "application/vnd.jupyter.widget-view+json": {
       "model_id": "c936a114e386449288495100578855bf",
       "version_major": 2,
       "version_minor": 0
      },
      "text/plain": [
       "HBox(children=(FloatProgress(value=0.0, max=67.0), HTML(value='')))"
      ]
     },
     "metadata": {},
     "output_type": "display_data"
    },
    {
     "name": "stdout",
     "output_type": "stream",
     "text": [
      "\n"
     ]
    }
   ],
   "source": [
    "relation_comb = {x: {} for x in df_users_act[df_active_index][\"id\"].values}\n",
    "\n",
    "for x in tqdm(df_users_act[df_active_index][\"id\"].values):\n",
    "    for y in df_users_act[df_active_index][\"id\"].values:\n",
    "        relation_comb[x][y] = find_topic_relation(x, y)"
   ]
  },
  {
   "cell_type": "code",
   "execution_count": 45,
   "metadata": {},
   "outputs": [
    {
     "name": "stdout",
     "output_type": "stream",
     "text": [
      "874, 756, 2859\n"
     ]
    }
   ],
   "source": [
    "f_cnt = pd.DataFrame.from_dict({x: {y: relation_comb[x][y][\"Friend\"] for y in relation_comb[x]} for x in relation_comb}, orient=\"index\").sum().sum()\n",
    "\n",
    "r_cnt = pd.DataFrame.from_dict({x: {y: relation_comb[x][y][\"Rival\"] for y in relation_comb[x]} for x in relation_comb}, orient=\"index\").sum().sum()\n",
    "\n",
    "n_cnt = pd.DataFrame.from_dict({x: {y: relation_comb[x][y][\"Neutral\"] for y in relation_comb[x]} for x in relation_comb}, orient=\"index\").sum().sum()\n",
    "\n",
    "print(f\"{f_cnt}, {r_cnt}, {n_cnt}\")"
   ]
  },
  {
   "cell_type": "code",
   "execution_count": 61,
   "metadata": {},
   "outputs": [
    {
     "data": {
      "text/html": [
       "<div>\n",
       "<style scoped>\n",
       "    .dataframe tbody tr th:only-of-type {\n",
       "        vertical-align: middle;\n",
       "    }\n",
       "\n",
       "    .dataframe tbody tr th {\n",
       "        vertical-align: top;\n",
       "    }\n",
       "\n",
       "    .dataframe thead th {\n",
       "        text-align: right;\n",
       "    }\n",
       "</style>\n",
       "<table border=\"1\" class=\"dataframe\">\n",
       "  <thead>\n",
       "    <tr style=\"text-align: right;\">\n",
       "      <th></th>\n",
       "      <th>0</th>\n",
       "      <th>1</th>\n",
       "      <th>2</th>\n",
       "    </tr>\n",
       "  </thead>\n",
       "  <tbody>\n",
       "    <tr>\n",
       "      <th>Friend</th>\n",
       "      <td>7</td>\n",
       "      <td>874</td>\n",
       "      <td>0.008009</td>\n",
       "    </tr>\n",
       "    <tr>\n",
       "      <th>Rival</th>\n",
       "      <td>9</td>\n",
       "      <td>756</td>\n",
       "      <td>0.011905</td>\n",
       "    </tr>\n",
       "    <tr>\n",
       "      <th>Neutral</th>\n",
       "      <td>30</td>\n",
       "      <td>2859</td>\n",
       "      <td>0.010493</td>\n",
       "    </tr>\n",
       "  </tbody>\n",
       "</table>\n",
       "</div>"
      ],
      "text/plain": [
       "          0     1         2\n",
       "Friend    7   874  0.008009\n",
       "Rival     9   756  0.011905\n",
       "Neutral  30  2859  0.010493"
      ]
     },
     "execution_count": 61,
     "metadata": {},
     "output_type": "execute_result"
    }
   ],
   "source": [
    "df_rival2 = df_rival.sum().to_frame()\n",
    "\n",
    "df_rival2[1] = [874, 756, 2859]\n",
    "\n",
    "df_rival2[2] = df_rival2[0] / df_rival2[1]\n",
    "\n",
    "df_rival2"
   ]
  },
  {
   "cell_type": "code",
   "execution_count": 83,
   "metadata": {},
   "outputs": [
    {
     "data": {
      "text/plain": [
       "(1.0, 0.4980392156862745, 0.054901960784313725)"
      ]
     },
     "execution_count": 83,
     "metadata": {},
     "output_type": "execute_result"
    }
   ],
   "source": [
    "sns.color_palette()[1]"
   ]
  },
  {
   "cell_type": "code",
   "execution_count": 110,
   "metadata": {},
   "outputs": [
    {
     "data": {
      "text/plain": [
       "[<BarContainer object of 3 artists>]"
      ]
     },
     "execution_count": 110,
     "metadata": {},
     "output_type": "execute_result"
    }
   ],
   "source": [
    "ax2.get_legend_handles_labels()[0]"
   ]
  },
  {
   "cell_type": "code",
   "execution_count": 115,
   "metadata": {},
   "outputs": [
    {
     "data": {
      "image/png": "[encoded data removed]",
      "text/plain": [
       "<Figure size 432x288 with 2 Axes>"
      ]
     },
     "metadata": {
      "needs_background": "light"
     },
     "output_type": "display_data"
    }
   ],
   "source": [
    "df_rival = pd.DataFrame([find_topic_relation(x, y) for x, y in df_report[[\"ReporterId\", \"SuspectId\"]].values])\n",
    "df_rival = (df_rival > 0)\n",
    "df_rival2 = df_rival.sum().to_frame()\n",
    "df_rival2[1] = [874, 756, 2859]\n",
    "df_rival2[2] = df_rival2[0] / df_rival2[1]\n",
    "\n",
    "ax = plt.subplot()\n",
    "ax2 = ax.twinx()\n",
    "\n",
    "df_rival2[0].plot(kind=\"bar\", ax=ax, rot=0, xlabel=\"Relationship\", ylabel=\"Number of reports\", width=0.3, position=1)\n",
    "df_rival2[2].plot(kind=\"bar\", ax=ax2, xlabel=\"Relationship\", ylabel=\"Number of reports to total instance\", width=0.3, position=0, color=sns.color_palette()[1])\n",
    "\n",
    "for p in ax.patches:\n",
    "    ax.annotate(f\"{p.get_height():d}\", (p.get_x()+0.08, p.get_height() * 1.005))\n",
    "\n",
    "for p in ax2.patches:\n",
    "    ax2.annotate(f\"{p.get_height():.5f}\", (p.get_x(), p.get_height() * 1.005))\n",
    "    \n",
    "# plt.legend((ax.get_legend_handles_labels()[0], ax2.get_legend_handles_labels()[0]), [\"# reports\", \"# reports to total\"])"
   ]
  },
  {
   "cell_type": "code",
   "execution_count": 116,
   "metadata": {},
   "outputs": [
    {
     "data": {
      "text/html": [
       "<div>\n",
       "<style scoped>\n",
       "    .dataframe tbody tr th:only-of-type {\n",
       "        vertical-align: middle;\n",
       "    }\n",
       "\n",
       "    .dataframe tbody tr th {\n",
       "        vertical-align: top;\n",
       "    }\n",
       "\n",
       "    .dataframe thead th {\n",
       "        text-align: right;\n",
       "    }\n",
       "</style>\n",
       "<table border=\"1\" class=\"dataframe\">\n",
       "  <thead>\n",
       "    <tr style=\"text-align: right;\">\n",
       "      <th></th>\n",
       "      <th>id</th>\n",
       "      <th>report</th>\n",
       "      <th>createdAt</th>\n",
       "      <th>updatedAt</th>\n",
       "      <th>ReporterId</th>\n",
       "      <th>SuspectId</th>\n",
       "      <th>Friend</th>\n",
       "      <th>Rival</th>\n",
       "      <th>Neutral</th>\n",
       "    </tr>\n",
       "  </thead>\n",
       "  <tbody>\n",
       "    <tr>\n",
       "      <th>0</th>\n",
       "      <td>14</td>\n",
       "      <td>They do not go into enough detail and do not d...</td>\n",
       "      <td>2020-09-03 03:24:23.636+00</td>\n",
       "      <td>2020-09-03 03:24:23.636+00</td>\n",
       "      <td>2638</td>\n",
       "      <td>2604</td>\n",
       "      <td>False</td>\n",
       "      <td>False</td>\n",
       "      <td>True</td>\n",
       "    </tr>\n",
       "    <tr>\n",
       "      <th>1</th>\n",
       "      <td>15</td>\n",
       "      <td>His comment, “thank you China,” is inappropria...</td>\n",
       "      <td>2020-09-03 19:38:37.22+00</td>\n",
       "      <td>2020-09-03 19:38:37.22+00</td>\n",
       "      <td>2593</td>\n",
       "      <td>2560</td>\n",
       "      <td>False</td>\n",
       "      <td>False</td>\n",
       "      <td>True</td>\n",
       "    </tr>\n",
       "  </tbody>\n",
       "</table>\n",
       "</div>"
      ],
      "text/plain": [
       "   id                                             report  \\\n",
       "0  14  They do not go into enough detail and do not d...   \n",
       "1  15  His comment, “thank you China,” is inappropria...   \n",
       "\n",
       "                    createdAt                   updatedAt  ReporterId  \\\n",
       "0  2020-09-03 03:24:23.636+00  2020-09-03 03:24:23.636+00        2638   \n",
       "1   2020-09-03 19:38:37.22+00   2020-09-03 19:38:37.22+00        2593   \n",
       "\n",
       "   SuspectId  Friend  Rival  Neutral  \n",
       "0       2604   False  False     True  \n",
       "1       2560   False  False     True  "
      ]
     },
     "metadata": {},
     "output_type": "display_data"
    }
   ],
   "source": [
    "df_report_final = pd.concat([df_report, df_rival], axis=1)\n",
    "\n",
    "display(df_report_final.head(2))"
   ]
  },
  {
   "cell_type": "code",
   "execution_count": 117,
   "metadata": {},
   "outputs": [
    {
     "data": {
      "image/png": "[encoded data removed]",
      "text/plain": [
       "<Figure size 432x288 with 1 Axes>"
      ]
     },
     "metadata": {
      "needs_background": "light"
     },
     "output_type": "display_data"
    }
   ],
   "source": [
    "df_suspect = df_users_final.set_index(\"id\").loc[df_report[\"SuspectId\"].values.tolist()]\n",
    "\n",
    "ax = df_suspect[[\"isPart\", \"isPuppet\"]].sum().rename(index={\"isPart\": \"Normal\", \"isPuppet\": \"Sockpuppet\"}).plot(kind=\"bar\", rot=0, xlabel=\"Account kind\", ylabel=\"Number of reports\")\n",
    "\n",
    "for p in ax.patches:\n",
    "    ax.annotate(f\"{p.get_height():.2f}\", (p.get_x() + 0.15, p.get_height() * 1.005))"
   ]
  },
  {
   "cell_type": "code",
   "execution_count": 118,
   "metadata": {},
   "outputs": [
    {
     "data": {
      "image/png": "[encoded data removed]",
      "text/plain": [
       "<Figure size 432x288 with 1 Axes>"
      ]
     },
     "metadata": {
      "needs_background": "light"
     },
     "output_type": "display_data"
    }
   ],
   "source": [
    "ax = df_suspect[[\"active_flag\"]].groupby(\"active_flag\").size().rename(index={True: \"Yes\", False: \"No\"}).plot(kind=\"bar\", xlabel=\"Active or not\", rot=0, ylabel=\"Number of reports\")\n",
    "\n",
    "for p in ax.patches:\n",
    "    ax.annotate(f\"{p.get_height():.2f}\", (p.get_x() + 0.15, p.get_height() * 1.005))"
   ]
  },
  {
   "cell_type": "code",
   "execution_count": 119,
   "metadata": {},
   "outputs": [],
   "source": [
    "df_suspect_final = pd.concat([df_suspect.reset_index(), df_report_final], axis=1)"
   ]
  },
  {
   "cell_type": "code",
   "execution_count": 121,
   "metadata": {},
   "outputs": [
    {
     "data": {
      "image/png": "[encoded data removed]",
      "text/plain": [
       "<Figure size 432x288 with 2 Axes>"
      ]
     },
     "metadata": {
      "needs_background": "light"
     },
     "output_type": "display_data"
    }
   ],
   "source": [
    "df_rival = df_suspect_final[~df_suspect_final[\"isPuppet\"]][[\"Friend\", \"Rival\", \"Neutral\"]]\n",
    "df_rival2 = df_rival.sum().to_frame()\n",
    "df_rival2[1] = [874, 756, 2859]\n",
    "df_rival2[2] = df_rival2[0] / df_rival2[1]\n",
    "\n",
    "ax = plt.subplot()\n",
    "ax2 = ax.twinx()\n",
    "\n",
    "df_rival2[0].plot(kind=\"bar\", ax=ax, rot=0, xlabel=\"Relationship\", ylabel=\"Number of reports\", width=0.3, position=1)\n",
    "df_rival2[2].plot(kind=\"bar\", ax=ax2, xlabel=\"Relationship\", ylabel=\"Number of reports to total instance\", width=0.3, position=0, color=sns.color_palette()[1])\n",
    "\n",
    "for p in ax.patches:\n",
    "    ax.annotate(f\"{p.get_height():d}\", (p.get_x()+0.08, p.get_height() * 1.005))\n",
    "\n",
    "for p in ax2.patches:\n",
    "    ax2.annotate(f\"{p.get_height():.5f}\", (p.get_x(), p.get_height() * 1.005))"
   ]
  },
  {
   "cell_type": "code",
   "execution_count": 122,
   "metadata": {},
   "outputs": [
    {
     "data": {
      "image/png": "[encoded data removed]",
      "text/plain": [
       "<Figure size 432x288 with 2 Axes>"
      ]
     },
     "metadata": {
      "needs_background": "light"
     },
     "output_type": "display_data"
    }
   ],
   "source": [
    "df_rival = df_suspect_final[df_suspect_final[\"isPuppet\"]][[\"Friend\", \"Rival\", \"Neutral\"]]\n",
    "df_rival2 = df_rival.sum().to_frame()\n",
    "df_rival2[1] = [874, 756, 2859]\n",
    "df_rival2[2] = df_rival2[0] / df_rival2[1]\n",
    "\n",
    "ax = plt.subplot()\n",
    "ax2 = ax.twinx()\n",
    "\n",
    "df_rival2[0].plot(kind=\"bar\", ax=ax, rot=0, xlabel=\"Relationship\", ylabel=\"Number of reports\", width=0.3, position=1)\n",
    "df_rival2[2].plot(kind=\"bar\", ax=ax2, xlabel=\"Relationship\", ylabel=\"Number of reports to total instance\", width=0.3, position=0, color=sns.color_palette()[1])\n",
    "\n",
    "for p in ax.patches:\n",
    "    ax.annotate(f\"{p.get_height():d}\", (p.get_x()+0.08, p.get_height() * 1.005))\n",
    "\n",
    "for p in ax2.patches:\n",
    "    ax2.annotate(f\"{p.get_height():.5f}\", (p.get_x(), p.get_height() * 1.005))"
   ]
  },
  {
   "cell_type": "code",
   "execution_count": null,
   "metadata": {},
   "outputs": [],
   "source": []
  },
  {
   "cell_type": "code",
   "execution_count": null,
   "metadata": {},
   "outputs": [],
   "source": []
  },
  {
   "cell_type": "code",
   "execution_count": null,
   "metadata": {},
   "outputs": [],
   "source": []
  },
  {
   "cell_type": "code",
   "execution_count": null,
   "metadata": {},
   "outputs": [],
   "source": [
    "df_posts[\"root_id\"][~df_posts[\"root_id\"].isna()].astype(int)"
   ]
  },
  {
   "cell_type": "code",
   "execution_count": null,
   "metadata": {},
   "outputs": [],
   "source": [
    "df_posts.tail()"
   ]
  },
  {
   "cell_type": "code",
   "execution_count": null,
   "metadata": {},
   "outputs": [],
   "source": [
    "df_posts_puppet = df_posts[df_posts[\"AuthorId\"].isin(df_puppet[\"id\"].tolist())]\n",
    "display(df_posts_puppet.head())"
   ]
  },
  {
   "cell_type": "code",
   "execution_count": null,
   "metadata": {},
   "outputs": [],
   "source": [
    "print(df_comments.shape)\n",
    "df_comments[df_comments[\"PostId\"].isin(df_posts_puppet[\"id\"].tolist())]"
   ]
  },
  {
   "cell_type": "markdown",
   "metadata": {},
   "source": [
    "### Graph 1\n",
    "\n",
    "+ x-axis: time t = 1,..,6\n",
    "+ y-axis: f(t)=% of socks created by strategy S that were detected within t units of creation. \n",
    "\n",
    "\n",
    "4 curves using S = the 3 strategies provided to sock operators plus ALL (all socks, regardless of strategy)"
   ]
  },
  {
   "cell_type": "code",
   "execution_count": null,
   "metadata": {},
   "outputs": [],
   "source": [
    "(df_puppet[~df_puppet[\"ReportToLast\"].isna()].groupby(\"strategy\").size()).plot(kind=\"bar\", rot=0, ylabel=\"Number of discovered\")"
   ]
  },
  {
   "cell_type": "code",
   "execution_count": null,
   "metadata": {},
   "outputs": [],
   "source": [
    "(df_puppet.groupby(\"strategy\").mean()[\"ReportToLast\"] + 6).plot(kind=\"bar\", rot=0, ylabel=\"Average days to discover\")"
   ]
  },
  {
   "cell_type": "code",
   "execution_count": null,
   "metadata": {},
   "outputs": [],
   "source": [
    "x = (df_puppet[\"ReportToLast\"] + 6).sort_values().tolist()\n",
    "y = np.arange(1, len(x) + 1)/210\n",
    "\n",
    "x1 = (df_puppet[df_puppet[\"strategy\"] == \"COVERT\"][\"ReportToLast\"] + 6).sort_values().tolist()\n",
    "y1 = np.arange(1, len(x1) + 1)/210\n",
    "\n",
    "x2 = (df_puppet[df_puppet[\"strategy\"] == \"OVERT\"][\"ReportToLast\"] + 6).sort_values().tolist()\n",
    "y2 = np.arange(1, len(x2) + 1)/210\n",
    "\n",
    "x3 = (df_puppet[df_puppet[\"strategy\"] == \"UNRESTRICTED\"][\"ReportToLast\"] + 6).sort_values().tolist()\n",
    "y3 = np.arange(1, len(x3) + 1)/210\n",
    "\n",
    "# y2 = np.arange(1, len(x) + 1)\n",
    "\n",
    "fig_1 = plt.figure()\n",
    "ax = fig_1.subplots()\n",
    "# ax2 = ax.twinx()\n",
    "\n",
    "l1, = ax.plot(x1, y1, marker=\"x\", label=\"COVERT\")\n",
    "l2, = ax.plot(x2, y2, marker=\"x\", label=\"OVERT\")\n",
    "l2, = ax.plot(x3, y3, marker=\"x\", label=\"UNRESTRICTED\")\n",
    "l4, = ax.plot(x, y, marker = \"x\", label=\"ALL\")\n",
    "# ax2.plot(x,)\n",
    "\n",
    "ax.set_xticks(np.arange(0, 6))\n",
    "ax.set_xlabel(\"days\")\n",
    "ax.set_ylabel(\"Discovered Rate\")\n",
    "# ax2.set_ylabel(\"Discovered Number\")\n",
    "ax.legend()\n",
    "\n",
    "fig_1.tight_layout()"
   ]
  },
  {
   "cell_type": "markdown",
   "metadata": {},
   "source": [
    "### Graph 2\n",
    "\n",
    "+ x-axis: time t = 1,..,6\n",
    "+ y-axis:\n",
    "    - f(t)=% of retweets of all sock posts upto time t,regardless of whether the socks where discovered or not.\n",
    "    - f(t)=% of retweets of all sock posts upto time t which were not discovered by time t\n",
    "    - f(t)=% of retweets of all sock posts upto time t there were never discovered.\n",
    "\n",
    "3 curves in all"
   ]
  },
  {
   "cell_type": "markdown",
   "metadata": {},
   "source": [
    "**This is not possible**"
   ]
  }
 ],
 "metadata": {
  "kernelspec": {
   "display_name": "p37",
   "language": "python",
   "name": "p37"
  },
  "language_info": {
   "codemirror_mode": {
    "name": "ipython",
    "version": 3
   },
   "file_extension": ".py",
   "mimetype": "text/x-python",
   "name": "python",
   "nbconvert_exporter": "python",
   "pygments_lexer": "ipython3",
   "version": "3.7.9"
  }
 },
 "nbformat": 4,
 "nbformat_minor": 4
}
